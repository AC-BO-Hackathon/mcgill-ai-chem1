{
 "cells": [
  {
   "cell_type": "code",
   "execution_count": 5,
   "metadata": {
    "colab": {
     "base_uri": "https://localhost:8080/"
    },
    "id": "LsCpZGmQ4r8M",
    "outputId": "c3bf614c-e601-4417-c617-3853a3594309",
    "tags": []
   },
   "outputs": [],
   "source": [
    "ignorepip = \"\"\"!pip install 'transformers[torch]'\n",
    "#!pip install datasets\n",
    "#!pip install mdanalysis\n",
    "#!pip install ax-platform\n",
    "#!pip install -q git+https://github.com/ORNL/affinity_pred.git\"\"\"\n",
    "\n",
    "#INSTALL THESE IF YOU DO NOT HAVE THEM PRE-INSTALLED"
   ]
  },
  {
   "cell_type": "code",
   "execution_count": 12,
   "metadata": {
    "id": "Xban_9Qo8bYP",
    "tags": []
   },
   "outputs": [],
   "source": [
    "import random\n",
    "import numpy as np\n",
    "import pandas as pd\n",
    "np.object = object\n",
    "np.bool = bool\n",
    "np.int = int\n",
    "import matplotlib.pyplot as plt\n",
    "import torch\n",
    "#from torch.utils.data import Dataset\n",
    "from datasets import load_dataset, Dataset\n",
    "import datasets\n",
    "from transformers import AutoTokenizer, Trainer\n",
    "from transformers import EvalPrediction\n",
    "from transformers import TrainingArguments\n",
    "\n",
    "from huggingface_hub import hf_hub_download\n",
    "\n",
    "map_location=torch.device('cpu')\n",
    "from sklearn.metrics import mean_squared_error, mean_absolute_error\n",
    "from scipy.stats import spearmanr\n",
    "\n",
    "import pandas as pd\n",
    "import numpy as np\n",
    "import re\n",
    "\n",
    "\n",
    "# the transformer model\n",
    "from affinity_pred.model import EnsembleSequenceRegressor\n",
    "\n",
    "# the Bayesian optimization package\n",
    "from ax import optimize, ChoiceParameter, RangeParameter\n",
    "from ax.service.ax_client import AxClient, ObjectiveProperties\n",
    "\n",
    "# Code that identifies binding residues on protein\n",
    "from get_close_resids import binding_resids\n",
    "\n",
    "import warnings\n",
    "# Filter out the specific FutureWarning related to the `device` argument in transformers\n",
    "warnings.filterwarnings(\"ignore\", message=\"The `device` argument is deprecated and will be removed in v5 of Transformers.\", category=FutureWarning, module=\"transformers.modeling_utils\")\n",
    "\n"
   ]
  },
  {
   "cell_type": "code",
   "execution_count": 10,
   "metadata": {
    "colab": {
     "base_uri": "https://localhost:8080/"
    },
    "id": "is5hJV9G4k99",
    "outputId": "5bdb54e7-eb77-4c24-b0b1-e91a79d211b3",
    "tags": []
   },
   "outputs": [
    {
     "name": "stderr",
     "output_type": "stream",
     "text": [
      "Some weights of BertModel were not initialized from the model checkpoint at mossaic-candle/regex-gb-2021 and are newly initialized: ['bert.pooler.dense.bias', 'bert.pooler.dense.weight']\n",
      "You should probably TRAIN this model on a down-stream task to be able to use it for predictions and inference.\n"
     ]
    }
   ],
   "source": [
    "class predictor():\n",
    "    seq_model_name = \"Rostlab/prot_bert_bfd\"\n",
    "    seq_tokenizer = AutoTokenizer.from_pretrained(seq_model_name, do_lower_case=False)\n",
    "    smiles_model_name = 'mossaic-candle/regex-gb-2021'\n",
    "    smiles_tokenizer =  AutoTokenizer.from_pretrained(smiles_model_name)\n",
    "    # the maximum length of a protein seqeuence (for inference)\n",
    "    max_seq_length=512\n",
    "    # the maximum length of a SMILES sequence\n",
    "    max_smiles_length=256\n",
    "    trainer = \"\"\n",
    "    mod = \"\"\n",
    "    def compute_metrics(p: EvalPrediction):\n",
    "        preds_list, out_label_list = p.predictions, p.label_ids\n",
    "\n",
    "        return {\n",
    "            \"mse\": mean_squared_error(out_label_list, preds_list),\n",
    "            \"mae\": mean_absolute_error(out_label_list, preds_list),\n",
    "            \"spearman_rho\": spearmanr(out_label_list, preds_list).correlation,\n",
    "        }\n",
    "\n",
    "    def __init__(self):\n",
    "        #self.testseq = testseq\n",
    "        self.trainer = Trainer(\n",
    "            model_init=self.model_init,                  # the instantiated Transformers model to be trained\n",
    "            compute_metrics = self.compute_metrics,        # evaluation metric\n",
    "            args=TrainingArguments(per_device_eval_batch_size=1, # reduce if running out of memory\n",
    "                                   output_dir='results'),\n",
    "                                   )\n",
    "    def expand_seqs(self,seqs):\n",
    "        \"\"\"expand a FASTA sequence, fixing by removing U,Z,O,B with X\"\"\"\n",
    "        input_fixed = [\"\".join(seq.split()) for seq in seqs]\n",
    "        input_fixed = [re.sub(r\"[UZOB]\", \"X\", seq) for seq in input_fixed]\n",
    "        return [list(seq) for seq in input_fixed]\n",
    "\n",
    "    def encode(self,item,tolist=False):\n",
    "        \"\"\"encodes a {seq:\"\",smiles/smiles_can:\"\"}\n",
    "        for use in the model\n",
    "        \"\"\"\n",
    "        seq_encodings = self.seq_tokenizer(self.expand_seqs(item['seq'])[0],\n",
    "                                      truncation=True,\n",
    "                                      padding='max_length',\n",
    "                                      max_length=self.max_seq_length,\n",
    "                                      is_split_into_words=True)\n",
    "\n",
    "        # use RDkit canonical SMILES\n",
    "        if 'smiles_can' in item:\n",
    "            smiles = item['smiles_can'][0]\n",
    "        else:\n",
    "            smiles = item['smiles'][0]\n",
    "\n",
    "        smiles_encodings = self.smiles_tokenizer(smiles,\n",
    "                                            padding='max_length',\n",
    "                                            truncation=True,\n",
    "                                            max_length=self.max_smiles_length)\n",
    "\n",
    "        # concatenate the two different inputs\n",
    "        if tolist:\n",
    "            item['input_ids'] = [torch.cat([torch.tensor(seq_encodings['input_ids']),\n",
    "                                        torch.tensor(smiles_encodings['input_ids'])]).tolist()]\n",
    "            item['attention_mask'] = [torch.cat([torch.tensor(seq_encodings['attention_mask']),\n",
    "                                        torch.tensor(smiles_encodings['attention_mask'])]).tolist()]\n",
    "        else:\n",
    "            item['input_ids'] = [torch.cat([torch.tensor(seq_encodings['input_ids']),\n",
    "                                            torch.tensor(smiles_encodings['input_ids'])])]\n",
    "            item['attention_mask'] = [torch.cat([torch.tensor(seq_encodings['attention_mask']),\n",
    "                                        torch.tensor(smiles_encodings['attention_mask'])])]\n",
    "        return item\n",
    "\n",
    "    def model_init(self):\n",
    "        \"\"\"\n",
    "        loads the model out from huggingface\n",
    "        \"\"\"\n",
    "        model = EnsembleSequenceRegressor(self.seq_model_name, self.smiles_model_name, max_seq_length=self.max_seq_length)\n",
    "\n",
    "        # select one of the following ensemble members\n",
    "        model_name = 'regex_1'\n",
    "        #model_name = 'regex_2'\n",
    "        #model_name = 'regex_3'\n",
    "        #model_name = 'regex_4'\n",
    "        #model_name = 'regex_5'\n",
    "\n",
    "        # download the weights\n",
    "        fn = hf_hub_download(repo_id=\"jglaser/affinity_pred_{}\".format(model_name), filename='pytorch_model.bin')\n",
    "\n",
    "        checkpoint = torch.load(fn,map_location=torch.device('cpu'))\n",
    "        #get rid of the following keys: seq_model.embeddings.position_ids and smiles_model.embeddings.position_ids\n",
    "        # as they are not supported in transformers>4.30.2 (the author trained on older version of transformers)\n",
    "        rchck = {}\n",
    "        for key in checkpoint.keys():\n",
    "            if key in ['seq_model.embeddings.position_ids','smiles_model.embeddings.position_ids']:\n",
    "                pass\n",
    "            else:\n",
    "                rchck.update({key:checkpoint[key]})\n",
    "        model.load_state_dict(rchck)\n",
    "        return model\n",
    "\n",
    "    class AffinityDataset(Dataset):\n",
    "        def __init__(self, dataset):\n",
    "            self.dataset = dataset\n",
    "\n",
    "        def __getitem__(self, idx):\n",
    "            item = self.dataset[idx]\n",
    "\n",
    "            #affinity = item['neg_log10_affinity_M']\n",
    "            affinity = item['affinity']\n",
    "            item['labels'] = float(affinity)\n",
    "\n",
    "            # drop the non-encoded input\n",
    "            item.pop('smiles')\n",
    "            item.pop('smiles_can')\n",
    "            item.pop('seq')\n",
    "            item.pop('neg_log10_affinity_M')\n",
    "            item.pop('affinity_uM')\n",
    "            item.pop('affinity')\n",
    "            return item\n",
    "\n",
    "        def __len__(self):\n",
    "            return len(self.dataset)\n",
    "\n",
    "\n",
    "\n",
    "\n",
    "    def preloaded_to_oneoff(item):\n",
    "        rdict = {'seq':item['seq'],\"smiles\":item['smiles'],'affinity_uM':0,'neg_log10_affinity_M':0,'affinity':0}\n",
    "        return Dataset.from_pandas(pd.DataFrame.from_dict(encode(rdict,tolist=True)))\n",
    "    def predict(self,testseq):\n",
    "        item = self.encode(testseq,tolist=True)\n",
    "        pdf = pd.DataFrame.from_dict(item)\n",
    "        myds = Dataset.from_pandas(pdf)\n",
    "        return self.trainer.predict(myds)\n",
    "\n",
    "#FINISH SETUP THINGS\n",
    "\n",
    "#loading the initial model will take some time, so keep it in memory until job is done\n",
    "predictor = predictor()\n",
    "\n",
    "#FEED THE y.predictions (from the docs are -log_10(muaffinity)) to the BO. INPUT INTO PREDICTOR.predict is a dict of {'seq':\"FASTA(?) SEQ\", \"smiles\":\"SMILES OF A SMALL LIGAND\"}\n"
   ]
  },
  {
   "cell_type": "markdown",
   "metadata": {
    "id": "mUrIUOL05QgK"
   },
   "source": [
    "Define protein, target ligand, and BO parameters"
   ]
  },
  {
   "cell_type": "code",
   "execution_count": 15,
   "metadata": {
    "colab": {
     "base_uri": "https://localhost:8080/"
    },
    "id": "_wIpkdaG5PWc",
    "outputId": "7b87edc3-1467-495e-c3ce-70ef7b5835f4",
    "tags": []
   },
   "outputs": [],
   "source": [
    "# Define starting protein, ligand, and the residues that bind to the ligand\n",
    "fasta_str_f = 'MSTDYWLNFTDGGGIVNAVNGSGGNYSVNWSNTGSFVVGKGWTTGSPFRTINYNAGVWAPNGWGALALVGWTRSPLIAYYVVDSWGTARWTGTYKGTVKSDGGTYDIYTTTRYNAPSIDGDRTTFTQYWSVRQSKRPTGSNATITFSNHVNAWKSHGMNLGSNWAYQVMATAGYQSSGSSNVTVW'\n",
    "smiles_fentanyl = \"CCC(=O)N(C1CCN(CC1)CCC2=CC=CC=C2)C3=CC=CC=C3\"\n",
    "\n",
    "pdb_file = '5tzo.pdb'\n",
    "ligand_resname = '7V7'\n",
    "rcut = 5.0 #angstroms\n",
    "\n",
    "binding_residues = binding_resids(pdb_file,ligand_resname,rcut)\n",
    "#binding residues below were obtained by visual inspection\n",
    "#binding_residues = [x - 55 + 17 for x in [7,9,35,36,37,63,64,65,67,69,71,80,82,89,90,91,92,108,110,111,112,116,117,118,120,125,127,129,131,166,172,173,174]]\n",
    "#print(binding_residues)\n",
    "\n",
    "axbo_params=[\n",
    "    {\n",
    "        \"name\": \"position\",\n",
    "        \"type\": \"choice\",\n",
    "        \"values\": list(binding_residues),\n",
    "        \"value_type\": \"int\"\n",
    "    },\n",
    "    {\n",
    "        \"name\": \"mutation\",\n",
    "        \"type\": \"choice\",\n",
    "        \"values\": [\"A\", \"R\", \"N\", \"D\", \"C\", \"Q\", \"E\", \"G\", \"H\", \"I\", \"L\", \"K\", \"M\", \"F\", \"P\", \"S\", \"T\", \"W\", \"Y\", \"V\"],\n",
    "    }\n",
    "]"
   ]
  },
  {
   "cell_type": "markdown",
   "metadata": {
    "id": "PsVepPcE5W77"
   },
   "source": [
    "Do 'memoryless' BO (i.e. keep the best **single** mutation)"
   ]
  },
  {
   "cell_type": "code",
   "execution_count": 36,
   "metadata": {
    "colab": {
     "base_uri": "https://localhost:8080/",
     "height": 1000
    },
    "collapsed": true,
    "id": "ANuolwSQXYDY",
    "jupyter": {
     "outputs_hidden": true
    },
    "outputId": "4aad1a5e-a1cb-4abc-a631-3267b82f645c",
    "tags": []
   },
   "outputs": [
    {
     "name": "stderr",
     "output_type": "stream",
     "text": [
      "/nfs/ai/chemical-diffuser/venv/lib/python3.8/site-packages/ax/core/parameter.py:517: UserWarning: `is_ordered` is not specified for `ChoiceParameter` \"position\". Defaulting to `True` for parameters of `ParameterType` INT. To override this behavior (or avoid this warning), specify `is_ordered` during `ChoiceParameter` construction.\n",
      "  warn(\n",
      "/nfs/ai/chemical-diffuser/venv/lib/python3.8/site-packages/ax/core/parameter.py:517: UserWarning: `sort_values` is not specified for `ChoiceParameter` \"position\". Defaulting to `True` for parameters of `ParameterType` INT. To override this behavior (or avoid this warning), specify `sort_values` during `ChoiceParameter` construction.\n",
      "  warn(\n",
      "[INFO 03-28 23:55:49] ax.service.utils.instantiation: Inferred value type of ParameterType.STRING for parameter mutation. If that is not the expected value type, you can explicity specify 'value_type' ('int', 'float', 'bool' or 'str') in parameter dict.\n",
      "/nfs/ai/chemical-diffuser/venv/lib/python3.8/site-packages/ax/core/parameter.py:517: UserWarning: `is_ordered` is not specified for `ChoiceParameter` \"mutation\". Defaulting to `False` for parameters of `ParameterType` STRING. To override this behavior (or avoid this warning), specify `is_ordered` during `ChoiceParameter` construction.\n",
      "  warn(\n",
      "/nfs/ai/chemical-diffuser/venv/lib/python3.8/site-packages/ax/core/parameter.py:517: UserWarning: `sort_values` is not specified for `ChoiceParameter` \"mutation\". Defaulting to `False` for parameters of `ParameterType` STRING. To override this behavior (or avoid this warning), specify `sort_values` during `ChoiceParameter` construction.\n",
      "  warn(\n",
      "[INFO 03-28 23:55:49] ax.service.utils.instantiation: Created search space: SearchSpace(parameters=[ChoiceParameter(name='position', parameter_type=INT, values=[7, 9, 35, 36, 37, 63, 64, 65, 67, 69, 71, 80, 82, 89, 90, 91, 92, 108, 110, 111, 112, 116, 117, 118, 120, 125, 127, 129, 131, 166, 172, 173, 174], is_ordered=True, sort_values=True), ChoiceParameter(name='mutation', parameter_type=STRING, values=['A', 'R', 'N', 'D', 'C', 'Q', 'E', 'G', 'H', 'I', 'L', 'K', 'M', 'F', 'P', 'S', 'T', 'W', 'Y', 'V'], is_ordered=False, sort_values=False)], parameter_constraints=[]).\n",
      "[INFO 03-28 23:55:49] ax.modelbridge.dispatch_utils: Using Bayesian optimization with a categorical kernel for improved performance with a large number of unordered categorical parameters.\n",
      "[INFO 03-28 23:55:49] ax.modelbridge.dispatch_utils: Calculating the number of remaining initialization trials based on num_initialization_trials=None max_initialization_trials=None num_tunable_parameters=2 num_trials=None use_batch_trials=False\n",
      "[INFO 03-28 23:55:49] ax.modelbridge.dispatch_utils: calculated num_initialization_trials=5\n",
      "[INFO 03-28 23:55:49] ax.modelbridge.dispatch_utils: num_completed_initialization_trials=0 num_remaining_initialization_trials=5\n",
      "[INFO 03-28 23:55:49] ax.modelbridge.dispatch_utils: Using Bayesian Optimization generation strategy: GenerationStrategy(name='Sobol+BO_MIXED', steps=[Sobol for 5 trials, BO_MIXED for subsequent trials]). Iterations after 5 will take longer to generate due to model-fitting.\n",
      "[INFO 03-28 23:55:49] ax.service.managed_loop: Started full optimization with 50 steps.\n",
      "[INFO 03-28 23:55:49] ax.service.managed_loop: Running optimization trial 1...\n"
     ]
    },
    {
     "name": "stdout",
     "output_type": "stream",
     "text": [
      "\u001b[95m\u001b[1m\u001b[1m ----- /\\ ----/ Starting Bayesian Protein Optimization \\---- /\\ ----- \u001b[0m\n",
      "MSTDYWLNFTDGGGIVNAVNGSGGNYSVNWSNTGSFVVGKGWTTGSPFRTINYNAGVWAPNGWGALALVGWTRSPLIAYYVVDSWGTARWTGTYKGTVKSDGGTYDIYTTTRYNAPSIDGDRTTFTQYWSVRQSKRPTGSNATITFSNHVNAWKSHGMNLGSNWAYQVMATAGYQSSGSSNVTVW\n",
      "Orginal KD (uM):  1.7678596712321373\n"
     ]
    },
    {
     "data": {
      "text/html": [],
      "text/plain": [
       "<IPython.core.display.HTML object>"
      ]
     },
     "metadata": {},
     "output_type": "display_data"
    },
    {
     "name": "stderr",
     "output_type": "stream",
     "text": [
      "[INFO 03-28 23:55:50] ax.service.managed_loop: Running optimization trial 2...\n"
     ]
    },
    {
     "name": "stdout",
     "output_type": "stream",
     "text": [
      "Mutated: D 67 KD (uM): 2.0393045941919623 Predictions: 0.3094820976257324 Mutated Sequence: MSTDYWLNFTDGGGIVNAVNGSGGNYSVNWSNTGSFVVGKGWTTGSPFRTINYNAGVWAPNGWGALADVGWTRSPLIAYYVVDSWGTARWTGTYKGTVKSDGGTYDIYTTTRYNAPSIDGDRTTFTQYWSVRQSKRPTGSNATITFSNHVNAWKSHGMNLGSNWAYQVMATAGYQSSGSSNVTVW\n"
     ]
    },
    {
     "data": {
      "text/html": [],
      "text/plain": [
       "<IPython.core.display.HTML object>"
      ]
     },
     "metadata": {},
     "output_type": "display_data"
    },
    {
     "name": "stderr",
     "output_type": "stream",
     "text": [
      "[INFO 03-28 23:55:50] ax.service.managed_loop: Running optimization trial 3...\n"
     ]
    },
    {
     "name": "stdout",
     "output_type": "stream",
     "text": [
      "Mutated: W 120 KD (uM): 0.7484311260354936 Predictions: -0.12584815919399261 Mutated Sequence: MSTDYWLNFTDGGGIVNAVNGSGGNYSVNWSNTGSFVVGKGWTTGSPFRTINYNAGVWAPNGWGALALVGWTRSPLIAYYVVDSWGTARWTGTYKGTVKSDGGTYDIYTTTRYNAPSIDGWRTTFTQYWSVRQSKRPTGSNATITFSNHVNAWKSHGMNLGSNWAYQVMATAGYQSSGSSNVTVW\n"
     ]
    },
    {
     "data": {
      "text/html": [],
      "text/plain": [
       "<IPython.core.display.HTML object>"
      ]
     },
     "metadata": {},
     "output_type": "display_data"
    },
    {
     "name": "stderr",
     "output_type": "stream",
     "text": [
      "[INFO 03-28 23:55:50] ax.service.managed_loop: Running optimization trial 4...\n"
     ]
    },
    {
     "name": "stdout",
     "output_type": "stream",
     "text": [
      "Mutated: N 92 KD (uM): 1.7166640671695816 Predictions: 0.23468531668186188 Mutated Sequence: MSTDYWLNFTDGGGIVNAVNGSGGNYSVNWSNTGSFVVGKGWTTGSPFRTINYNAGVWAPNGWGALALVGWTRSPLIAYYVVDSWGTARWTGNYKGTVKSDGGTYDIYTTTRYNAPSIDGDRTTFTQYWSVRQSKRPTGSNATITFSNHVNAWKSHGMNLGSNWAYQVMATAGYQSSGSSNVTVW\n"
     ]
    },
    {
     "data": {
      "text/html": [],
      "text/plain": [
       "<IPython.core.display.HTML object>"
      ]
     },
     "metadata": {},
     "output_type": "display_data"
    },
    {
     "name": "stderr",
     "output_type": "stream",
     "text": [
      "[INFO 03-28 23:55:50] ax.service.managed_loop: Running optimization trial 5...\n"
     ]
    },
    {
     "name": "stdout",
     "output_type": "stream",
     "text": [
      "Mutated: I 71 KD (uM): 0.7330114690386282 Predictions: -0.13488923013210297 Mutated Sequence: MSTDYWLNFTDGGGIVNAVNGSGGNYSVNWSNTGSFVVGKGWTTGSPFRTINYNAGVWAPNGWGALALVGWIRSPLIAYYVVDSWGTARWTGTYKGTVKSDGGTYDIYTTTRYNAPSIDGDRTTFTQYWSVRQSKRPTGSNATITFSNHVNAWKSHGMNLGSNWAYQVMATAGYQSSGSSNVTVW\n"
     ]
    },
    {
     "data": {
      "text/html": [],
      "text/plain": [
       "<IPython.core.display.HTML object>"
      ]
     },
     "metadata": {},
     "output_type": "display_data"
    },
    {
     "name": "stderr",
     "output_type": "stream",
     "text": [
      "[INFO 03-28 23:55:51] ax.service.managed_loop: Running optimization trial 6...\n"
     ]
    },
    {
     "name": "stdout",
     "output_type": "stream",
     "text": [
      "Mutated: H 174 KD (uM): 1.5117931363936772 Predictions: 0.17949236929416656 Mutated Sequence: MSTDYWLNFTDGGGIVNAVNGSGGNYSVNWSNTGSFVVGKGWTTGSPFRTINYNAGVWAPNGWGALALVGWTRSPLIAYYVVDSWGTARWTGTYKGTVKSDGGTYDIYTTTRYNAPSIDGDRTTFTQYWSVRQSKRPTGSNATITFSNHVNAWKSHGMNLGSNWAYQVMATAGYHSSGSSNVTVW\n"
     ]
    },
    {
     "data": {
      "text/html": [],
      "text/plain": [
       "<IPython.core.display.HTML object>"
      ]
     },
     "metadata": {},
     "output_type": "display_data"
    },
    {
     "name": "stderr",
     "output_type": "stream",
     "text": [
      "[INFO 03-28 23:55:51] ax.service.managed_loop: Running optimization trial 7...\n"
     ]
    },
    {
     "name": "stdout",
     "output_type": "stream",
     "text": [
      "Mutated: D 174 KD (uM): 1.572826054525452 Predictions: 0.1966806948184967 Mutated Sequence: MSTDYWLNFTDGGGIVNAVNGSGGNYSVNWSNTGSFVVGKGWTTGSPFRTINYNAGVWAPNGWGALALVGWTRSPLIAYYVVDSWGTARWTGTYKGTVKSDGGTYDIYTTTRYNAPSIDGDRTTFTQYWSVRQSKRPTGSNATITFSNHVNAWKSHGMNLGSNWAYQVMATAGYDSSGSSNVTVW\n"
     ]
    },
    {
     "data": {
      "text/html": [],
      "text/plain": [
       "<IPython.core.display.HTML object>"
      ]
     },
     "metadata": {},
     "output_type": "display_data"
    },
    {
     "name": "stderr",
     "output_type": "stream",
     "text": [
      "[INFO 03-28 23:55:52] ax.service.managed_loop: Running optimization trial 8...\n"
     ]
    },
    {
     "name": "stdout",
     "output_type": "stream",
     "text": [
      "Mutated: D 7 KD (uM): 1.3377070394024047 Predictions: 0.12636101245880127 Mutated Sequence: MSTDYWLDFTDGGGIVNAVNGSGGNYSVNWSNTGSFVVGKGWTTGSPFRTINYNAGVWAPNGWGALALVGWTRSPLIAYYVVDSWGTARWTGTYKGTVKSDGGTYDIYTTTRYNAPSIDGDRTTFTQYWSVRQSKRPTGSNATITFSNHVNAWKSHGMNLGSNWAYQVMATAGYQSSGSSNVTVW\n"
     ]
    },
    {
     "data": {
      "text/html": [],
      "text/plain": [
       "<IPython.core.display.HTML object>"
      ]
     },
     "metadata": {},
     "output_type": "display_data"
    },
    {
     "name": "stderr",
     "output_type": "stream",
     "text": [
      "[INFO 03-28 23:55:53] ax.service.managed_loop: Running optimization trial 9...\n"
     ]
    },
    {
     "name": "stdout",
     "output_type": "stream",
     "text": [
      "Mutated: D 173 KD (uM): 1.6679809849373703 Predictions: 0.22219109535217285 Mutated Sequence: MSTDYWLNFTDGGGIVNAVNGSGGNYSVNWSNTGSFVVGKGWTTGSPFRTINYNAGVWAPNGWGALALVGWTRSPLIAYYVVDSWGTARWTGTYKGTVKSDGGTYDIYTTTRYNAPSIDGDRTTFTQYWSVRQSKRPTGSNATITFSNHVNAWKSHGMNLGSNWAYQVMATAGDQSSGSSNVTVW\n"
     ]
    },
    {
     "data": {
      "text/html": [],
      "text/plain": [
       "<IPython.core.display.HTML object>"
      ]
     },
     "metadata": {},
     "output_type": "display_data"
    },
    {
     "name": "stderr",
     "output_type": "stream",
     "text": [
      "[INFO 03-28 23:55:53] ax.service.managed_loop: Running optimization trial 10...\n"
     ]
    },
    {
     "name": "stdout",
     "output_type": "stream",
     "text": [
      "Mutated: D 108 KD (uM): 1.8269792773342433 Predictions: 0.26173362135887146 Mutated Sequence: MSTDYWLNFTDGGGIVNAVNGSGGNYSVNWSNTGSFVVGKGWTTGSPFRTINYNAGVWAPNGWGALALVGWTRSPLIAYYVVDSWGTARWTGTYKGTVKSDGGTYDIYDTTRYNAPSIDGDRTTFTQYWSVRQSKRPTGSNATITFSNHVNAWKSHGMNLGSNWAYQVMATAGYQSSGSSNVTVW\n"
     ]
    },
    {
     "data": {
      "text/html": [],
      "text/plain": [
       "<IPython.core.display.HTML object>"
      ]
     },
     "metadata": {},
     "output_type": "display_data"
    },
    {
     "name": "stderr",
     "output_type": "stream",
     "text": [
      "[INFO 03-28 23:55:54] ax.service.managed_loop: Running optimization trial 11...\n"
     ]
    },
    {
     "name": "stdout",
     "output_type": "stream",
     "text": [
      "Mutated: D 80 KD (uM): 1.7099127987149352 Predictions: 0.23297396302223206 Mutated Sequence: MSTDYWLNFTDGGGIVNAVNGSGGNYSVNWSNTGSFVVGKGWTTGSPFRTINYNAGVWAPNGWGALALVGWTRSPLIAYYDVDSWGTARWTGTYKGTVKSDGGTYDIYTTTRYNAPSIDGDRTTFTQYWSVRQSKRPTGSNATITFSNHVNAWKSHGMNLGSNWAYQVMATAGYQSSGSSNVTVW\n"
     ]
    },
    {
     "data": {
      "text/html": [],
      "text/plain": [
       "<IPython.core.display.HTML object>"
      ]
     },
     "metadata": {},
     "output_type": "display_data"
    },
    {
     "name": "stderr",
     "output_type": "stream",
     "text": [
      "[INFO 03-28 23:55:55] ax.service.managed_loop: Running optimization trial 12...\n"
     ]
    },
    {
     "name": "stdout",
     "output_type": "stream",
     "text": [
      "Mutated: N 166 KD (uM): 1.602733109704195 Predictions: 0.20486120879650116 Mutated Sequence: MSTDYWLNFTDGGGIVNAVNGSGGNYSVNWSNTGSFVVGKGWTTGSPFRTINYNAGVWAPNGWGALALVGWTRSPLIAYYVVDSWGTARWTGTYKGTVKSDGGTYDIYTTTRYNAPSIDGDRTTFTQYWSVRQSKRPTGSNATITFSNHVNAWKSHGMNLGSNWAYNVMATAGYQSSGSSNVTVW\n"
     ]
    },
    {
     "data": {
      "text/html": [],
      "text/plain": [
       "<IPython.core.display.HTML object>"
      ]
     },
     "metadata": {},
     "output_type": "display_data"
    },
    {
     "name": "stderr",
     "output_type": "stream",
     "text": [
      "[INFO 03-28 23:55:56] ax.service.managed_loop: Running optimization trial 13...\n"
     ]
    },
    {
     "name": "stdout",
     "output_type": "stream",
     "text": [
      "Mutated: N 7 KD (uM): 1.7678596712321373 Predictions: 0.24744778871536255 Mutated Sequence: MSTDYWLNFTDGGGIVNAVNGSGGNYSVNWSNTGSFVVGKGWTTGSPFRTINYNAGVWAPNGWGALALVGWTRSPLIAYYVVDSWGTARWTGTYKGTVKSDGGTYDIYTTTRYNAPSIDGDRTTFTQYWSVRQSKRPTGSNATITFSNHVNAWKSHGMNLGSNWAYQVMATAGYQSSGSSNVTVW\n"
     ]
    },
    {
     "data": {
      "text/html": [],
      "text/plain": [
       "<IPython.core.display.HTML object>"
      ]
     },
     "metadata": {},
     "output_type": "display_data"
    },
    {
     "name": "stderr",
     "output_type": "stream",
     "text": [
      "[INFO 03-28 23:55:57] ax.service.managed_loop: Running optimization trial 14...\n"
     ]
    },
    {
     "name": "stdout",
     "output_type": "stream",
     "text": [
      "Mutated: H 7 KD (uM): 1.4940536437444372 Predictions: 0.17436619102954865 Mutated Sequence: MSTDYWLHFTDGGGIVNAVNGSGGNYSVNWSNTGSFVVGKGWTTGSPFRTINYNAGVWAPNGWGALALVGWTRSPLIAYYVVDSWGTARWTGTYKGTVKSDGGTYDIYTTTRYNAPSIDGDRTTFTQYWSVRQSKRPTGSNATITFSNHVNAWKSHGMNLGSNWAYQVMATAGYQSSGSSNVTVW\n"
     ]
    },
    {
     "ename": "KeyboardInterrupt",
     "evalue": "",
     "output_type": "error",
     "traceback": [
      "\u001b[0;31m---------------------------------------------------------------------------\u001b[0m",
      "\u001b[0;31mKeyboardInterrupt\u001b[0m                         Traceback (most recent call last)",
      "Cell \u001b[0;32mIn[36], line 41\u001b[0m\n\u001b[1;32m     38\u001b[0m \u001b[38;5;28mprint\u001b[39m(fasta_str_f)\n\u001b[1;32m     39\u001b[0m \u001b[38;5;28mprint\u001b[39m(\u001b[38;5;124m'\u001b[39m\u001b[38;5;124mOrginal KD (uM): \u001b[39m\u001b[38;5;124m'\u001b[39m, score)\n\u001b[0;32m---> 41\u001b[0m best_parameters, values, experiment, model \u001b[38;5;241m=\u001b[39m \u001b[43moptimize\u001b[49m\u001b[43m(\u001b[49m\n\u001b[1;32m     42\u001b[0m \u001b[43m    \u001b[49m\u001b[43mparameters\u001b[49m\u001b[38;5;241;43m=\u001b[39;49m\u001b[43maxbo_params\u001b[49m\u001b[43m,\u001b[49m\n\u001b[1;32m     43\u001b[0m \u001b[43m    \u001b[49m\u001b[43mevaluation_function\u001b[49m\u001b[38;5;241;43m=\u001b[39;49m\u001b[43mevaluate_for_opt\u001b[49m\u001b[43m,\u001b[49m\n\u001b[1;32m     44\u001b[0m \u001b[43m    \u001b[49m\u001b[43mobjective_name\u001b[49m\u001b[38;5;241;43m=\u001b[39;49m\u001b[38;5;124;43m'\u001b[39;49m\u001b[38;5;124;43mDecrease KD\u001b[39;49m\u001b[38;5;124;43m'\u001b[39;49m\u001b[43m,\u001b[49m\n\u001b[1;32m     45\u001b[0m \u001b[43m    \u001b[49m\u001b[43mminimize\u001b[49m\u001b[38;5;241;43m=\u001b[39;49m\u001b[38;5;28;43;01mFalse\u001b[39;49;00m\u001b[43m,\u001b[49m\n\u001b[1;32m     46\u001b[0m \u001b[43m    \u001b[49m\u001b[43mtotal_trials\u001b[49m\u001b[38;5;241;43m=\u001b[39;49m\u001b[38;5;241;43m50\u001b[39;49m\n\u001b[1;32m     47\u001b[0m \u001b[43m)\u001b[49m\n\u001b[1;32m     49\u001b[0m \u001b[38;5;28mprint\u001b[39m(\u001b[38;5;124mf\u001b[39m\u001b[38;5;124m\"\u001b[39m\u001b[38;5;124mBest parameters: \u001b[39m\u001b[38;5;132;01m{\u001b[39;00mbest_parameters\u001b[38;5;132;01m}\u001b[39;00m\u001b[38;5;124m\"\u001b[39m)\n\u001b[1;32m     50\u001b[0m \u001b[38;5;66;03m#print(f\"Best objective value: {values[0]['objective']}\")\u001b[39;00m\n",
      "File \u001b[0;32m/nfs/ai/chemical-diffuser/venv/lib/python3.8/site-packages/ax/service/managed_loop.py:297\u001b[0m, in \u001b[0;36moptimize\u001b[0;34m(parameters, evaluation_function, experiment_name, objective_name, minimize, parameter_constraints, outcome_constraints, total_trials, arms_per_trial, random_seed, generation_strategy)\u001b[0m\n\u001b[1;32m    283\u001b[0m \u001b[38;5;250m\u001b[39m\u001b[38;5;124;03m\"\"\"Construct and run a full optimization loop.\"\"\"\u001b[39;00m\n\u001b[1;32m    284\u001b[0m loop \u001b[38;5;241m=\u001b[39m OptimizationLoop\u001b[38;5;241m.\u001b[39mwith_evaluation_function(\n\u001b[1;32m    285\u001b[0m     parameters\u001b[38;5;241m=\u001b[39mparameters,\n\u001b[1;32m    286\u001b[0m     objective_name\u001b[38;5;241m=\u001b[39mobjective_name,\n\u001b[0;32m   (...)\u001b[0m\n\u001b[1;32m    295\u001b[0m     generation_strategy\u001b[38;5;241m=\u001b[39mgeneration_strategy,\n\u001b[1;32m    296\u001b[0m )\n\u001b[0;32m--> 297\u001b[0m \u001b[43mloop\u001b[49m\u001b[38;5;241;43m.\u001b[39;49m\u001b[43mfull_run\u001b[49m\u001b[43m(\u001b[49m\u001b[43m)\u001b[49m\n\u001b[1;32m    298\u001b[0m parameterization, values \u001b[38;5;241m=\u001b[39m loop\u001b[38;5;241m.\u001b[39mget_best_point()\n\u001b[1;32m    299\u001b[0m \u001b[38;5;28;01mreturn\u001b[39;00m parameterization, values, loop\u001b[38;5;241m.\u001b[39mexperiment, loop\u001b[38;5;241m.\u001b[39mget_current_model()\n",
      "File \u001b[0;32m/nfs/ai/chemical-diffuser/venv/lib/python3.8/site-packages/ax/service/managed_loop.py:228\u001b[0m, in \u001b[0;36mOptimizationLoop.full_run\u001b[0;34m(self)\u001b[0m\n\u001b[1;32m    226\u001b[0m \u001b[38;5;28;01mfor\u001b[39;00m _ \u001b[38;5;129;01min\u001b[39;00m \u001b[38;5;28mrange\u001b[39m(num_steps):\n\u001b[1;32m    227\u001b[0m     \u001b[38;5;28;01mtry\u001b[39;00m:\n\u001b[0;32m--> 228\u001b[0m         \u001b[38;5;28;43mself\u001b[39;49m\u001b[38;5;241;43m.\u001b[39;49m\u001b[43mrun_trial\u001b[49m\u001b[43m(\u001b[49m\u001b[43m)\u001b[49m\n\u001b[1;32m    229\u001b[0m     \u001b[38;5;28;01mexcept\u001b[39;00m SearchSpaceExhausted \u001b[38;5;28;01mas\u001b[39;00m err:\n\u001b[1;32m    230\u001b[0m         logger\u001b[38;5;241m.\u001b[39minfo(\n\u001b[1;32m    231\u001b[0m             \u001b[38;5;124mf\u001b[39m\u001b[38;5;124m\"\u001b[39m\u001b[38;5;124mStopped optimization as the search space is exhaused. Message \u001b[39m\u001b[38;5;124m\"\u001b[39m\n\u001b[1;32m    232\u001b[0m             \u001b[38;5;124mf\u001b[39m\u001b[38;5;124m\"\u001b[39m\u001b[38;5;124mfrom generation strategy: \u001b[39m\u001b[38;5;132;01m{\u001b[39;00merr\u001b[38;5;132;01m}\u001b[39;00m\u001b[38;5;124m.\u001b[39m\u001b[38;5;124m\"\u001b[39m\n\u001b[1;32m    233\u001b[0m         )\n",
      "File \u001b[0;32m/nfs/ai/chemical-diffuser/venv/lib/python3.8/site-packages/ax/utils/common/executils.py:161\u001b[0m, in \u001b[0;36mretry_on_exception.<locals>.func_wrapper.<locals>.actual_wrapper\u001b[0;34m(*args, **kwargs)\u001b[0m\n\u001b[1;32m    157\u001b[0m             wait_interval \u001b[38;5;241m=\u001b[39m \u001b[38;5;28mmin\u001b[39m(\n\u001b[1;32m    158\u001b[0m                 MAX_WAIT_SECONDS, initial_wait_seconds \u001b[38;5;241m*\u001b[39m \u001b[38;5;241m2\u001b[39m \u001b[38;5;241m*\u001b[39m\u001b[38;5;241m*\u001b[39m (i \u001b[38;5;241m-\u001b[39m \u001b[38;5;241m1\u001b[39m)\n\u001b[1;32m    159\u001b[0m             )\n\u001b[1;32m    160\u001b[0m             time\u001b[38;5;241m.\u001b[39msleep(wait_interval)\n\u001b[0;32m--> 161\u001b[0m         \u001b[38;5;28;01mreturn\u001b[39;00m \u001b[43mfunc\u001b[49m\u001b[43m(\u001b[49m\u001b[38;5;241;43m*\u001b[39;49m\u001b[43margs\u001b[49m\u001b[43m,\u001b[49m\u001b[43m \u001b[49m\u001b[38;5;241;43m*\u001b[39;49m\u001b[38;5;241;43m*\u001b[39;49m\u001b[43mkwargs\u001b[49m\u001b[43m)\u001b[49m\n\u001b[1;32m    163\u001b[0m \u001b[38;5;66;03m# If we are here, it means the retries were finished but\u001b[39;00m\n\u001b[1;32m    164\u001b[0m \u001b[38;5;66;03m# The error was suppressed. Hence return the default value provided.\u001b[39;00m\n\u001b[1;32m    165\u001b[0m \u001b[38;5;28;01mreturn\u001b[39;00m default_return_on_suppression\n",
      "File \u001b[0;32m/nfs/ai/chemical-diffuser/venv/lib/python3.8/site-packages/ax/service/managed_loop.py:202\u001b[0m, in \u001b[0;36mOptimizationLoop.run_trial\u001b[0;34m(self)\u001b[0m\n\u001b[1;32m    199\u001b[0m     \u001b[38;5;28;01mraise\u001b[39;00m \u001b[38;5;167;01mValueError\u001b[39;00m(\u001b[38;5;124m\"\u001b[39m\u001b[38;5;124mOptimization is complete, cannot run another trial.\u001b[39m\u001b[38;5;124m\"\u001b[39m)\n\u001b[1;32m    200\u001b[0m logger\u001b[38;5;241m.\u001b[39minfo(\u001b[38;5;124mf\u001b[39m\u001b[38;5;124m\"\u001b[39m\u001b[38;5;124mRunning optimization trial \u001b[39m\u001b[38;5;132;01m{\u001b[39;00m\u001b[38;5;28mself\u001b[39m\u001b[38;5;241m.\u001b[39mcurrent_trial\u001b[38;5;250m \u001b[39m\u001b[38;5;241m+\u001b[39m\u001b[38;5;250m \u001b[39m\u001b[38;5;241m1\u001b[39m\u001b[38;5;132;01m}\u001b[39;00m\u001b[38;5;124m...\u001b[39m\u001b[38;5;124m\"\u001b[39m)\n\u001b[0;32m--> 202\u001b[0m trial \u001b[38;5;241m=\u001b[39m \u001b[38;5;28;43mself\u001b[39;49m\u001b[38;5;241;43m.\u001b[39;49m\u001b[43m_get_new_trial\u001b[49m\u001b[43m(\u001b[49m\u001b[43m)\u001b[49m\n\u001b[1;32m    204\u001b[0m trial\u001b[38;5;241m.\u001b[39mmark_running(no_runner_required\u001b[38;5;241m=\u001b[39m\u001b[38;5;28;01mTrue\u001b[39;00m)\n\u001b[1;32m    205\u001b[0m _, data \u001b[38;5;241m=\u001b[39m data_and_evaluations_from_raw_data(\n\u001b[1;32m    206\u001b[0m     raw_data\u001b[38;5;241m=\u001b[39m{\n\u001b[1;32m    207\u001b[0m         arm\u001b[38;5;241m.\u001b[39mname: \u001b[38;5;28mself\u001b[39m\u001b[38;5;241m.\u001b[39m_call_evaluation_function(arm\u001b[38;5;241m.\u001b[39mparameters, weight)\n\u001b[0;32m   (...)\u001b[0m\n\u001b[1;32m    214\u001b[0m     )\u001b[38;5;241m.\u001b[39mobjective\u001b[38;5;241m.\u001b[39mmetric_names,\n\u001b[1;32m    215\u001b[0m )\n",
      "File \u001b[0;32m/nfs/ai/chemical-diffuser/venv/lib/python3.8/site-packages/ax/service/managed_loop.py:160\u001b[0m, in \u001b[0;36mOptimizationLoop._get_new_trial\u001b[0;34m(self)\u001b[0m\n\u001b[1;32m    157\u001b[0m \u001b[38;5;28;01mdef\u001b[39;00m \u001b[38;5;21m_get_new_trial\u001b[39m(\u001b[38;5;28mself\u001b[39m) \u001b[38;5;241m-\u001b[39m\u001b[38;5;241m>\u001b[39m BaseTrial:\n\u001b[1;32m    158\u001b[0m     \u001b[38;5;28;01mif\u001b[39;00m \u001b[38;5;28mself\u001b[39m\u001b[38;5;241m.\u001b[39marms_per_trial \u001b[38;5;241m==\u001b[39m \u001b[38;5;241m1\u001b[39m:\n\u001b[1;32m    159\u001b[0m         \u001b[38;5;28;01mreturn\u001b[39;00m \u001b[38;5;28mself\u001b[39m\u001b[38;5;241m.\u001b[39mexperiment\u001b[38;5;241m.\u001b[39mnew_trial(\n\u001b[0;32m--> 160\u001b[0m             generator_run\u001b[38;5;241m=\u001b[39m\u001b[38;5;28;43mself\u001b[39;49m\u001b[38;5;241;43m.\u001b[39;49m\u001b[43mgeneration_strategy\u001b[49m\u001b[38;5;241;43m.\u001b[39;49m\u001b[43mgen\u001b[49m\u001b[43m(\u001b[49m\n\u001b[1;32m    161\u001b[0m \u001b[43m                \u001b[49m\u001b[43mexperiment\u001b[49m\u001b[38;5;241;43m=\u001b[39;49m\u001b[38;5;28;43mself\u001b[39;49m\u001b[38;5;241;43m.\u001b[39;49m\u001b[43mexperiment\u001b[49m\u001b[43m,\u001b[49m\n\u001b[1;32m    162\u001b[0m \u001b[43m                \u001b[49m\u001b[43mpending_observations\u001b[49m\u001b[38;5;241;43m=\u001b[39;49m\u001b[43mget_pending_observation_features\u001b[49m\u001b[43m(\u001b[49m\n\u001b[1;32m    163\u001b[0m \u001b[43m                    \u001b[49m\u001b[43mexperiment\u001b[49m\u001b[38;5;241;43m=\u001b[39;49m\u001b[38;5;28;43mself\u001b[39;49m\u001b[38;5;241;43m.\u001b[39;49m\u001b[43mexperiment\u001b[49m\n\u001b[1;32m    164\u001b[0m \u001b[43m                \u001b[49m\u001b[43m)\u001b[49m\u001b[43m,\u001b[49m\n\u001b[1;32m    165\u001b[0m \u001b[43m            \u001b[49m\u001b[43m)\u001b[49m\n\u001b[1;32m    166\u001b[0m         )\n\u001b[1;32m    167\u001b[0m     \u001b[38;5;28;01melif\u001b[39;00m \u001b[38;5;28mself\u001b[39m\u001b[38;5;241m.\u001b[39marms_per_trial \u001b[38;5;241m>\u001b[39m \u001b[38;5;241m1\u001b[39m:\n\u001b[1;32m    168\u001b[0m         \u001b[38;5;28;01mreturn\u001b[39;00m \u001b[38;5;28mself\u001b[39m\u001b[38;5;241m.\u001b[39mexperiment\u001b[38;5;241m.\u001b[39mnew_batch_trial(\n\u001b[1;32m    169\u001b[0m             generator_run\u001b[38;5;241m=\u001b[39m\u001b[38;5;28mself\u001b[39m\u001b[38;5;241m.\u001b[39mgeneration_strategy\u001b[38;5;241m.\u001b[39mgen(\n\u001b[1;32m    170\u001b[0m                 experiment\u001b[38;5;241m=\u001b[39m\u001b[38;5;28mself\u001b[39m\u001b[38;5;241m.\u001b[39mexperiment, n\u001b[38;5;241m=\u001b[39m\u001b[38;5;28mself\u001b[39m\u001b[38;5;241m.\u001b[39marms_per_trial\n\u001b[1;32m    171\u001b[0m             )\n\u001b[1;32m    172\u001b[0m         )\n",
      "File \u001b[0;32m/nfs/ai/chemical-diffuser/venv/lib/python3.8/site-packages/ax/modelbridge/generation_strategy.py:334\u001b[0m, in \u001b[0;36mGenerationStrategy.gen\u001b[0;34m(self, experiment, data, n, pending_observations, **kwargs)\u001b[0m\n\u001b[1;32m    297\u001b[0m \u001b[38;5;28;01mdef\u001b[39;00m \u001b[38;5;21mgen\u001b[39m(\n\u001b[1;32m    298\u001b[0m     \u001b[38;5;28mself\u001b[39m,\n\u001b[1;32m    299\u001b[0m     experiment: Experiment,\n\u001b[0;32m   (...)\u001b[0m\n\u001b[1;32m    303\u001b[0m     \u001b[38;5;241m*\u001b[39m\u001b[38;5;241m*\u001b[39mkwargs: Any,\n\u001b[1;32m    304\u001b[0m ) \u001b[38;5;241m-\u001b[39m\u001b[38;5;241m>\u001b[39m GeneratorRun:\n\u001b[1;32m    305\u001b[0m \u001b[38;5;250m    \u001b[39m\u001b[38;5;124;03m\"\"\"Produce the next points in the experiment. Additional kwargs passed to\u001b[39;00m\n\u001b[1;32m    306\u001b[0m \u001b[38;5;124;03m    this method are propagated directly to the underlying model's `gen`, along\u001b[39;00m\n\u001b[1;32m    307\u001b[0m \u001b[38;5;124;03m    with the `model_gen_kwargs` set on the current generation step.\u001b[39;00m\n\u001b[0;32m   (...)\u001b[0m\n\u001b[1;32m    332\u001b[0m \u001b[38;5;124;03m            resuggesting points that are currently being evaluated.\u001b[39;00m\n\u001b[1;32m    333\u001b[0m \u001b[38;5;124;03m    \"\"\"\u001b[39;00m\n\u001b[0;32m--> 334\u001b[0m     \u001b[38;5;28;01mreturn\u001b[39;00m \u001b[38;5;28;43mself\u001b[39;49m\u001b[38;5;241;43m.\u001b[39;49m\u001b[43m_gen_multiple\u001b[49m\u001b[43m(\u001b[49m\n\u001b[1;32m    335\u001b[0m \u001b[43m        \u001b[49m\u001b[43mexperiment\u001b[49m\u001b[38;5;241;43m=\u001b[39;49m\u001b[43mexperiment\u001b[49m\u001b[43m,\u001b[49m\n\u001b[1;32m    336\u001b[0m \u001b[43m        \u001b[49m\u001b[43mnum_generator_runs\u001b[49m\u001b[38;5;241;43m=\u001b[39;49m\u001b[38;5;241;43m1\u001b[39;49m\u001b[43m,\u001b[49m\n\u001b[1;32m    337\u001b[0m \u001b[43m        \u001b[49m\u001b[43mdata\u001b[49m\u001b[38;5;241;43m=\u001b[39;49m\u001b[43mdata\u001b[49m\u001b[43m,\u001b[49m\n\u001b[1;32m    338\u001b[0m \u001b[43m        \u001b[49m\u001b[43mn\u001b[49m\u001b[38;5;241;43m=\u001b[39;49m\u001b[43mn\u001b[49m\u001b[43m,\u001b[49m\n\u001b[1;32m    339\u001b[0m \u001b[43m        \u001b[49m\u001b[43mpending_observations\u001b[49m\u001b[38;5;241;43m=\u001b[39;49m\u001b[43mpending_observations\u001b[49m\u001b[43m,\u001b[49m\n\u001b[1;32m    340\u001b[0m \u001b[43m        \u001b[49m\u001b[38;5;241;43m*\u001b[39;49m\u001b[38;5;241;43m*\u001b[39;49m\u001b[43mkwargs\u001b[49m\u001b[43m,\u001b[49m\n\u001b[1;32m    341\u001b[0m \u001b[43m    \u001b[49m\u001b[43m)\u001b[49m[\u001b[38;5;241m0\u001b[39m]\n",
      "File \u001b[0;32m/nfs/ai/chemical-diffuser/venv/lib/python3.8/site-packages/ax/modelbridge/generation_strategy.py:479\u001b[0m, in \u001b[0;36mGenerationStrategy._gen_multiple\u001b[0;34m(self, experiment, num_generator_runs, data, n, pending_observations, **model_gen_kwargs)\u001b[0m\n\u001b[1;32m    477\u001b[0m \u001b[38;5;28;01mfor\u001b[39;00m _ \u001b[38;5;129;01min\u001b[39;00m \u001b[38;5;28mrange\u001b[39m(num_generator_runs):\n\u001b[1;32m    478\u001b[0m     \u001b[38;5;28;01mtry\u001b[39;00m:\n\u001b[0;32m--> 479\u001b[0m         generator_run \u001b[38;5;241m=\u001b[39m \u001b[38;5;28;43mself\u001b[39;49m\u001b[38;5;241;43m.\u001b[39;49m\u001b[43m_curr\u001b[49m\u001b[38;5;241;43m.\u001b[39;49m\u001b[43mgen\u001b[49m\u001b[43m(\u001b[49m\n\u001b[1;32m    480\u001b[0m \u001b[43m            \u001b[49m\u001b[43mn\u001b[49m\u001b[38;5;241;43m=\u001b[39;49m\u001b[43mn\u001b[49m\u001b[43m,\u001b[49m\n\u001b[1;32m    481\u001b[0m \u001b[43m            \u001b[49m\u001b[43mpending_observations\u001b[49m\u001b[38;5;241;43m=\u001b[39;49m\u001b[43mpending_observations\u001b[49m\u001b[43m,\u001b[49m\n\u001b[1;32m    482\u001b[0m \u001b[43m            \u001b[49m\u001b[43marms_by_signature_for_deduplication\u001b[49m\u001b[38;5;241;43m=\u001b[39;49m\u001b[43mexperiment\u001b[49m\u001b[38;5;241;43m.\u001b[39;49m\u001b[43marms_by_signature\u001b[49m\u001b[43m,\u001b[49m\n\u001b[1;32m    483\u001b[0m \u001b[43m            \u001b[49m\u001b[38;5;241;43m*\u001b[39;49m\u001b[38;5;241;43m*\u001b[39;49m\u001b[43mmodel_gen_kwargs\u001b[49m\u001b[43m,\u001b[49m\n\u001b[1;32m    484\u001b[0m \u001b[43m        \u001b[49m\u001b[43m)\u001b[49m\n\u001b[1;32m    486\u001b[0m     \u001b[38;5;28;01mexcept\u001b[39;00m DataRequiredError \u001b[38;5;28;01mas\u001b[39;00m err:\n\u001b[1;32m    487\u001b[0m         \u001b[38;5;66;03m# Model needs more data, so we log the error and return\u001b[39;00m\n\u001b[1;32m    488\u001b[0m         \u001b[38;5;66;03m# as many generator runs as we were able to produce, unless\u001b[39;00m\n\u001b[1;32m    489\u001b[0m         \u001b[38;5;66;03m# no trials were produced at all (in which case its safe to raise).\u001b[39;00m\n\u001b[1;32m    490\u001b[0m         \u001b[38;5;28;01mif\u001b[39;00m \u001b[38;5;28mlen\u001b[39m(generator_runs) \u001b[38;5;241m==\u001b[39m \u001b[38;5;241m0\u001b[39m:  \u001b[38;5;66;03m# pragma: no cover\u001b[39;00m\n",
      "File \u001b[0;32m/nfs/ai/chemical-diffuser/venv/lib/python3.8/site-packages/ax/modelbridge/generation_node.py:400\u001b[0m, in \u001b[0;36mGenerationStep.gen\u001b[0;34m(self, n, pending_observations, max_gen_draws_for_deduplication, arms_by_signature_for_deduplication, **model_gen_kwargs)\u001b[0m\n\u001b[1;32m    392\u001b[0m \u001b[38;5;28;01mdef\u001b[39;00m \u001b[38;5;21mgen\u001b[39m(\n\u001b[1;32m    393\u001b[0m     \u001b[38;5;28mself\u001b[39m,\n\u001b[1;32m    394\u001b[0m     n: Optional[\u001b[38;5;28mint\u001b[39m] \u001b[38;5;241m=\u001b[39m \u001b[38;5;28;01mNone\u001b[39;00m,\n\u001b[0;32m   (...)\u001b[0m\n\u001b[1;32m    398\u001b[0m     \u001b[38;5;241m*\u001b[39m\u001b[38;5;241m*\u001b[39mmodel_gen_kwargs: Any,\n\u001b[1;32m    399\u001b[0m ) \u001b[38;5;241m-\u001b[39m\u001b[38;5;241m>\u001b[39m GeneratorRun:\n\u001b[0;32m--> 400\u001b[0m     gr \u001b[38;5;241m=\u001b[39m \u001b[38;5;28;43msuper\u001b[39;49m\u001b[43m(\u001b[49m\u001b[43m)\u001b[49m\u001b[38;5;241;43m.\u001b[39;49m\u001b[43mgen\u001b[49m\u001b[43m(\u001b[49m\n\u001b[1;32m    401\u001b[0m \u001b[43m        \u001b[49m\u001b[43mn\u001b[49m\u001b[38;5;241;43m=\u001b[39;49m\u001b[43mn\u001b[49m\u001b[43m,\u001b[49m\n\u001b[1;32m    402\u001b[0m \u001b[43m        \u001b[49m\u001b[43mpending_observations\u001b[49m\u001b[38;5;241;43m=\u001b[39;49m\u001b[43mpending_observations\u001b[49m\u001b[43m,\u001b[49m\n\u001b[1;32m    403\u001b[0m \u001b[43m        \u001b[49m\u001b[43mmax_gen_draws_for_deduplication\u001b[49m\u001b[38;5;241;43m=\u001b[39;49m\u001b[43mmax_gen_draws_for_deduplication\u001b[49m\u001b[43m,\u001b[49m\n\u001b[1;32m    404\u001b[0m \u001b[43m        \u001b[49m\u001b[43marms_by_signature_for_deduplication\u001b[49m\u001b[38;5;241;43m=\u001b[39;49m\u001b[43marms_by_signature_for_deduplication\u001b[49m\u001b[43m,\u001b[49m\n\u001b[1;32m    405\u001b[0m \u001b[43m    \u001b[49m\u001b[43m)\u001b[49m\n\u001b[1;32m    406\u001b[0m     gr\u001b[38;5;241m.\u001b[39m_generation_step_index \u001b[38;5;241m=\u001b[39m \u001b[38;5;28mself\u001b[39m\u001b[38;5;241m.\u001b[39mindex\n\u001b[1;32m    407\u001b[0m     \u001b[38;5;28;01mreturn\u001b[39;00m gr\n",
      "File \u001b[0;32m/nfs/ai/chemical-diffuser/venv/lib/python3.8/site-packages/ax/modelbridge/generation_node.py:193\u001b[0m, in \u001b[0;36mGenerationNode.gen\u001b[0;34m(self, n, pending_observations, max_gen_draws_for_deduplication, arms_by_signature_for_deduplication, **model_gen_kwargs)\u001b[0m\n\u001b[1;32m    190\u001b[0m \u001b[38;5;66;03m# Keep generating until each of `generator_run.arms` is not a duplicate\u001b[39;00m\n\u001b[1;32m    191\u001b[0m \u001b[38;5;66;03m# of a previous arm, if `should_deduplicate is True`\u001b[39;00m\n\u001b[1;32m    192\u001b[0m \u001b[38;5;28;01mwhile\u001b[39;00m should_generate_run:\n\u001b[0;32m--> 193\u001b[0m     generator_run \u001b[38;5;241m=\u001b[39m \u001b[43mmodel_spec\u001b[49m\u001b[38;5;241;43m.\u001b[39;49m\u001b[43mgen\u001b[49m\u001b[43m(\u001b[49m\n\u001b[1;32m    194\u001b[0m \u001b[43m        \u001b[49m\u001b[38;5;66;43;03m# If `n` is not specified, ensure that the `None` value does not\u001b[39;49;00m\n\u001b[1;32m    195\u001b[0m \u001b[43m        \u001b[49m\u001b[38;5;66;43;03m# override the one set in `model_spec.model_gen_kwargs`.\u001b[39;49;00m\n\u001b[1;32m    196\u001b[0m \u001b[43m        \u001b[49m\u001b[43mn\u001b[49m\u001b[38;5;241;43m=\u001b[39;49m\u001b[43mmodel_spec\u001b[49m\u001b[38;5;241;43m.\u001b[39;49m\u001b[43mmodel_gen_kwargs\u001b[49m\u001b[38;5;241;43m.\u001b[39;49m\u001b[43mget\u001b[49m\u001b[43m(\u001b[49m\u001b[38;5;124;43m\"\u001b[39;49m\u001b[38;5;124;43mn\u001b[39;49m\u001b[38;5;124;43m\"\u001b[39;49m\u001b[43m)\u001b[49m\n\u001b[1;32m    197\u001b[0m \u001b[43m        \u001b[49m\u001b[38;5;28;43;01mif\u001b[39;49;00m\u001b[43m \u001b[49m\u001b[43mn\u001b[49m\u001b[43m \u001b[49m\u001b[38;5;129;43;01mis\u001b[39;49;00m\u001b[43m \u001b[49m\u001b[38;5;28;43;01mNone\u001b[39;49;00m\u001b[43m \u001b[49m\u001b[38;5;129;43;01mand\u001b[39;49;00m\u001b[43m \u001b[49m\u001b[43mmodel_spec\u001b[49m\u001b[38;5;241;43m.\u001b[39;49m\u001b[43mmodel_gen_kwargs\u001b[49m\n\u001b[1;32m    198\u001b[0m \u001b[43m        \u001b[49m\u001b[38;5;28;43;01melse\u001b[39;49;00m\u001b[43m \u001b[49m\u001b[43mn\u001b[49m\u001b[43m,\u001b[49m\n\u001b[1;32m    199\u001b[0m \u001b[43m        \u001b[49m\u001b[38;5;66;43;03m# For `pending_observations`, prefer the input to this function, as\u001b[39;49;00m\n\u001b[1;32m    200\u001b[0m \u001b[43m        \u001b[49m\u001b[38;5;66;43;03m# `pending_observations` are dynamic throughout the experiment and thus\u001b[39;49;00m\n\u001b[1;32m    201\u001b[0m \u001b[43m        \u001b[49m\u001b[38;5;66;43;03m# unlikely to be specified in `model_spec.model_gen_kwargs`.\u001b[39;49;00m\n\u001b[1;32m    202\u001b[0m \u001b[43m        \u001b[49m\u001b[43mpending_observations\u001b[49m\u001b[38;5;241;43m=\u001b[39;49m\u001b[43mpending_observations\u001b[49m\u001b[43m,\u001b[49m\n\u001b[1;32m    203\u001b[0m \u001b[43m        \u001b[49m\u001b[38;5;241;43m*\u001b[39;49m\u001b[38;5;241;43m*\u001b[39;49m\u001b[43mmodel_gen_kwargs\u001b[49m\u001b[43m,\u001b[49m\n\u001b[1;32m    204\u001b[0m \u001b[43m    \u001b[49m\u001b[43m)\u001b[49m\n\u001b[1;32m    206\u001b[0m     should_generate_run \u001b[38;5;241m=\u001b[39m (\n\u001b[1;32m    207\u001b[0m         \u001b[38;5;28mself\u001b[39m\u001b[38;5;241m.\u001b[39mshould_deduplicate\n\u001b[1;32m    208\u001b[0m         \u001b[38;5;129;01mand\u001b[39;00m arms_by_signature_for_deduplication\n\u001b[0;32m   (...)\u001b[0m\n\u001b[1;32m    212\u001b[0m         )\n\u001b[1;32m    213\u001b[0m     )\n\u001b[1;32m    214\u001b[0m     n_gen_draws \u001b[38;5;241m+\u001b[39m\u001b[38;5;241m=\u001b[39m \u001b[38;5;241m1\u001b[39m\n",
      "File \u001b[0;32m/nfs/ai/chemical-diffuser/venv/lib/python3.8/site-packages/ax/modelbridge/model_spec.py:225\u001b[0m, in \u001b[0;36mModelSpec.gen\u001b[0;34m(self, **model_gen_kwargs)\u001b[0m\n\u001b[1;32m    217\u001b[0m fitted_model \u001b[38;5;241m=\u001b[39m \u001b[38;5;28mself\u001b[39m\u001b[38;5;241m.\u001b[39mfitted_model\n\u001b[1;32m    218\u001b[0m model_gen_kwargs \u001b[38;5;241m=\u001b[39m consolidate_kwargs(\n\u001b[1;32m    219\u001b[0m     kwargs_iterable\u001b[38;5;241m=\u001b[39m[\n\u001b[1;32m    220\u001b[0m         \u001b[38;5;28mself\u001b[39m\u001b[38;5;241m.\u001b[39mmodel_gen_kwargs,\n\u001b[0;32m   (...)\u001b[0m\n\u001b[1;32m    223\u001b[0m     keywords\u001b[38;5;241m=\u001b[39mget_function_argument_names(fitted_model\u001b[38;5;241m.\u001b[39mgen),\n\u001b[1;32m    224\u001b[0m )\n\u001b[0;32m--> 225\u001b[0m \u001b[38;5;28;01mreturn\u001b[39;00m \u001b[43mfitted_model\u001b[49m\u001b[38;5;241;43m.\u001b[39;49m\u001b[43mgen\u001b[49m\u001b[43m(\u001b[49m\u001b[38;5;241;43m*\u001b[39;49m\u001b[38;5;241;43m*\u001b[39;49m\u001b[43mmodel_gen_kwargs\u001b[49m\u001b[43m)\u001b[49m\n",
      "File \u001b[0;32m/nfs/ai/chemical-diffuser/venv/lib/python3.8/site-packages/ax/modelbridge/base.py:777\u001b[0m, in \u001b[0;36mModelBridge.gen\u001b[0;34m(self, n, search_space, optimization_config, pending_observations, fixed_features, model_gen_options)\u001b[0m\n\u001b[1;32m    769\u001b[0m base_gen_args \u001b[38;5;241m=\u001b[39m \u001b[38;5;28mself\u001b[39m\u001b[38;5;241m.\u001b[39m_get_transformed_gen_args(\n\u001b[1;32m    770\u001b[0m     search_space\u001b[38;5;241m=\u001b[39msearch_space,\n\u001b[1;32m    771\u001b[0m     optimization_config\u001b[38;5;241m=\u001b[39moptimization_config,\n\u001b[1;32m    772\u001b[0m     pending_observations\u001b[38;5;241m=\u001b[39mpending_observations,\n\u001b[1;32m    773\u001b[0m     fixed_features\u001b[38;5;241m=\u001b[39mfixed_features,\n\u001b[1;32m    774\u001b[0m )\n\u001b[1;32m    776\u001b[0m \u001b[38;5;66;03m# Apply terminal transform and gen\u001b[39;00m\n\u001b[0;32m--> 777\u001b[0m gen_results \u001b[38;5;241m=\u001b[39m \u001b[38;5;28;43mself\u001b[39;49m\u001b[38;5;241;43m.\u001b[39;49m\u001b[43m_gen\u001b[49m\u001b[43m(\u001b[49m\n\u001b[1;32m    778\u001b[0m \u001b[43m    \u001b[49m\u001b[43mn\u001b[49m\u001b[38;5;241;43m=\u001b[39;49m\u001b[43mn\u001b[49m\u001b[43m,\u001b[49m\n\u001b[1;32m    779\u001b[0m \u001b[43m    \u001b[49m\u001b[43msearch_space\u001b[49m\u001b[38;5;241;43m=\u001b[39;49m\u001b[43mbase_gen_args\u001b[49m\u001b[38;5;241;43m.\u001b[39;49m\u001b[43msearch_space\u001b[49m\u001b[43m,\u001b[49m\n\u001b[1;32m    780\u001b[0m \u001b[43m    \u001b[49m\u001b[43moptimization_config\u001b[49m\u001b[38;5;241;43m=\u001b[39;49m\u001b[43mbase_gen_args\u001b[49m\u001b[38;5;241;43m.\u001b[39;49m\u001b[43moptimization_config\u001b[49m\u001b[43m,\u001b[49m\n\u001b[1;32m    781\u001b[0m \u001b[43m    \u001b[49m\u001b[43mpending_observations\u001b[49m\u001b[38;5;241;43m=\u001b[39;49m\u001b[43mbase_gen_args\u001b[49m\u001b[38;5;241;43m.\u001b[39;49m\u001b[43mpending_observations\u001b[49m\u001b[43m,\u001b[49m\n\u001b[1;32m    782\u001b[0m \u001b[43m    \u001b[49m\u001b[43mfixed_features\u001b[49m\u001b[38;5;241;43m=\u001b[39;49m\u001b[43mbase_gen_args\u001b[49m\u001b[38;5;241;43m.\u001b[39;49m\u001b[43mfixed_features\u001b[49m\u001b[43m,\u001b[49m\n\u001b[1;32m    783\u001b[0m \u001b[43m    \u001b[49m\u001b[43mmodel_gen_options\u001b[49m\u001b[38;5;241;43m=\u001b[39;49m\u001b[43mmodel_gen_options\u001b[49m\u001b[43m,\u001b[49m\n\u001b[1;32m    784\u001b[0m \u001b[43m\u001b[49m\u001b[43m)\u001b[49m\n\u001b[1;32m    786\u001b[0m observation_features \u001b[38;5;241m=\u001b[39m gen_results\u001b[38;5;241m.\u001b[39mobservation_features\n\u001b[1;32m    787\u001b[0m best_obsf \u001b[38;5;241m=\u001b[39m gen_results\u001b[38;5;241m.\u001b[39mbest_observation_features\n",
      "File \u001b[0;32m/nfs/ai/chemical-diffuser/venv/lib/python3.8/site-packages/ax/modelbridge/torch.py:608\u001b[0m, in \u001b[0;36mTorchModelBridge._gen\u001b[0;34m(self, n, search_space, pending_observations, fixed_features, model_gen_options, optimization_config)\u001b[0m\n\u001b[1;32m    601\u001b[0m \u001b[38;5;66;03m# Generate the candidates\u001b[39;00m\n\u001b[1;32m    602\u001b[0m \u001b[38;5;66;03m# TODO(ehotaj): For some reason, we're getting models which do not support MOO\u001b[39;00m\n\u001b[1;32m    603\u001b[0m \u001b[38;5;66;03m# even when optimization_config has multiple objectives, so we can't use\u001b[39;00m\n\u001b[1;32m    604\u001b[0m \u001b[38;5;66;03m# self.is_moo_problem here.\u001b[39;00m\n\u001b[1;32m    605\u001b[0m is_moo_problem \u001b[38;5;241m=\u001b[39m \u001b[38;5;28mself\u001b[39m\u001b[38;5;241m.\u001b[39mis_moo_problem \u001b[38;5;129;01mand\u001b[39;00m \u001b[38;5;28misinstance\u001b[39m(\n\u001b[1;32m    606\u001b[0m     \u001b[38;5;28mself\u001b[39m\u001b[38;5;241m.\u001b[39mmodel, (BoTorchModel, MultiObjectiveBotorchModel)\n\u001b[1;32m    607\u001b[0m )\n\u001b[0;32m--> 608\u001b[0m gen_results \u001b[38;5;241m=\u001b[39m \u001b[43mnot_none\u001b[49m\u001b[43m(\u001b[49m\u001b[38;5;28;43mself\u001b[39;49m\u001b[38;5;241;43m.\u001b[39;49m\u001b[43mmodel\u001b[49m\u001b[43m)\u001b[49m\u001b[38;5;241;43m.\u001b[39;49m\u001b[43mgen\u001b[49m\u001b[43m(\u001b[49m\n\u001b[1;32m    609\u001b[0m \u001b[43m    \u001b[49m\u001b[43mn\u001b[49m\u001b[38;5;241;43m=\u001b[39;49m\u001b[43mn\u001b[49m\u001b[43m,\u001b[49m\n\u001b[1;32m    610\u001b[0m \u001b[43m    \u001b[49m\u001b[43msearch_space_digest\u001b[49m\u001b[38;5;241;43m=\u001b[39;49m\u001b[43msearch_space_digest\u001b[49m\u001b[43m,\u001b[49m\n\u001b[1;32m    611\u001b[0m \u001b[43m    \u001b[49m\u001b[43mtorch_opt_config\u001b[49m\u001b[38;5;241;43m=\u001b[39;49m\u001b[43mtorch_opt_config\u001b[49m\u001b[43m,\u001b[49m\n\u001b[1;32m    612\u001b[0m \u001b[43m\u001b[49m\u001b[43m)\u001b[49m\n\u001b[1;32m    614\u001b[0m gen_metadata \u001b[38;5;241m=\u001b[39m gen_results\u001b[38;5;241m.\u001b[39mgen_metadata\n\u001b[1;32m    615\u001b[0m \u001b[38;5;28;01mif\u001b[39;00m is_moo_problem:\n\u001b[1;32m    616\u001b[0m     \u001b[38;5;66;03m# If objective_thresholds are supplied by the user, then the transformed\u001b[39;00m\n\u001b[1;32m    617\u001b[0m     \u001b[38;5;66;03m# user-specified objective thresholds are in gen_metadata. Otherwise,\u001b[39;00m\n\u001b[1;32m    618\u001b[0m     \u001b[38;5;66;03m# inferred objective thresholds are in gen_metadata.\u001b[39;00m\n",
      "File \u001b[0;32m/nfs/ai/chemical-diffuser/venv/lib/python3.8/site-packages/ax/models/torch/botorch_modular/model.py:457\u001b[0m, in \u001b[0;36mBoTorchModel.gen\u001b[0;34m(self, n, search_space_digest, torch_opt_config)\u001b[0m\n\u001b[1;32m    451\u001b[0m acqf \u001b[38;5;241m=\u001b[39m \u001b[38;5;28mself\u001b[39m\u001b[38;5;241m.\u001b[39m_instantiate_acquisition(\n\u001b[1;32m    452\u001b[0m     search_space_digest\u001b[38;5;241m=\u001b[39msearch_space_digest,\n\u001b[1;32m    453\u001b[0m     torch_opt_config\u001b[38;5;241m=\u001b[39mtorch_opt_config,\n\u001b[1;32m    454\u001b[0m     acq_options\u001b[38;5;241m=\u001b[39macq_options,\n\u001b[1;32m    455\u001b[0m )\n\u001b[1;32m    456\u001b[0m botorch_rounding_func \u001b[38;5;241m=\u001b[39m get_rounding_func(torch_opt_config\u001b[38;5;241m.\u001b[39mrounding_func)\n\u001b[0;32m--> 457\u001b[0m candidates, expected_acquisition_value \u001b[38;5;241m=\u001b[39m \u001b[43macqf\u001b[49m\u001b[38;5;241;43m.\u001b[39;49m\u001b[43moptimize\u001b[49m\u001b[43m(\u001b[49m\n\u001b[1;32m    458\u001b[0m \u001b[43m    \u001b[49m\u001b[43mn\u001b[49m\u001b[38;5;241;43m=\u001b[39;49m\u001b[43mn\u001b[49m\u001b[43m,\u001b[49m\n\u001b[1;32m    459\u001b[0m \u001b[43m    \u001b[49m\u001b[43msearch_space_digest\u001b[49m\u001b[38;5;241;43m=\u001b[39;49m\u001b[43msearch_space_digest\u001b[49m\u001b[43m,\u001b[49m\n\u001b[1;32m    460\u001b[0m \u001b[43m    \u001b[49m\u001b[43minequality_constraints\u001b[49m\u001b[38;5;241;43m=\u001b[39;49m\u001b[43m_to_inequality_constraints\u001b[49m\u001b[43m(\u001b[49m\n\u001b[1;32m    461\u001b[0m \u001b[43m        \u001b[49m\u001b[43mlinear_constraints\u001b[49m\u001b[38;5;241;43m=\u001b[39;49m\u001b[43mtorch_opt_config\u001b[49m\u001b[38;5;241;43m.\u001b[39;49m\u001b[43mlinear_constraints\u001b[49m\n\u001b[1;32m    462\u001b[0m \u001b[43m    \u001b[49m\u001b[43m)\u001b[49m\u001b[43m,\u001b[49m\n\u001b[1;32m    463\u001b[0m \u001b[43m    \u001b[49m\u001b[43mfixed_features\u001b[49m\u001b[38;5;241;43m=\u001b[39;49m\u001b[43mtorch_opt_config\u001b[49m\u001b[38;5;241;43m.\u001b[39;49m\u001b[43mfixed_features\u001b[49m\u001b[43m,\u001b[49m\n\u001b[1;32m    464\u001b[0m \u001b[43m    \u001b[49m\u001b[43mrounding_func\u001b[49m\u001b[38;5;241;43m=\u001b[39;49m\u001b[43mbotorch_rounding_func\u001b[49m\u001b[43m,\u001b[49m\n\u001b[1;32m    465\u001b[0m \u001b[43m    \u001b[49m\u001b[43moptimizer_options\u001b[49m\u001b[38;5;241;43m=\u001b[39;49m\u001b[43mchecked_cast\u001b[49m\u001b[43m(\u001b[49m\u001b[38;5;28;43mdict\u001b[39;49m\u001b[43m,\u001b[49m\u001b[43m \u001b[49m\u001b[43mopt_options\u001b[49m\u001b[43m)\u001b[49m\u001b[43m,\u001b[49m\n\u001b[1;32m    466\u001b[0m \u001b[43m\u001b[49m\u001b[43m)\u001b[49m\n\u001b[1;32m    467\u001b[0m gen_metadata \u001b[38;5;241m=\u001b[39m \u001b[38;5;28mself\u001b[39m\u001b[38;5;241m.\u001b[39m_get_gen_metadata_from_acqf(\n\u001b[1;32m    468\u001b[0m     acqf\u001b[38;5;241m=\u001b[39macqf,\n\u001b[1;32m    469\u001b[0m     torch_opt_config\u001b[38;5;241m=\u001b[39mtorch_opt_config,\n\u001b[1;32m    470\u001b[0m     expected_acquisition_value\u001b[38;5;241m=\u001b[39mexpected_acquisition_value,\n\u001b[1;32m    471\u001b[0m )\n\u001b[1;32m    472\u001b[0m \u001b[38;5;28;01mreturn\u001b[39;00m TorchGenResults(\n\u001b[1;32m    473\u001b[0m     points\u001b[38;5;241m=\u001b[39mcandidates\u001b[38;5;241m.\u001b[39mdetach()\u001b[38;5;241m.\u001b[39mcpu(),\n\u001b[1;32m    474\u001b[0m     weights\u001b[38;5;241m=\u001b[39mtorch\u001b[38;5;241m.\u001b[39mones(n, dtype\u001b[38;5;241m=\u001b[39m\u001b[38;5;28mself\u001b[39m\u001b[38;5;241m.\u001b[39mdtype),\n\u001b[1;32m    475\u001b[0m     gen_metadata\u001b[38;5;241m=\u001b[39mgen_metadata,\n\u001b[1;32m    476\u001b[0m )\n",
      "File \u001b[0;32m/nfs/ai/chemical-diffuser/venv/lib/python3.8/site-packages/ax/models/torch/botorch_modular/acquisition.py:511\u001b[0m, in \u001b[0;36mAcquisition.optimize\u001b[0;34m(self, n, search_space_digest, inequality_constraints, fixed_features, rounding_func, optimizer_options)\u001b[0m\n\u001b[1;32m    502\u001b[0m         n \u001b[38;5;241m=\u001b[39m num_choices\n\u001b[1;32m    504\u001b[0m     discrete_opt_options \u001b[38;5;241m=\u001b[39m optimizer_argparse(\n\u001b[1;32m    505\u001b[0m         \u001b[38;5;28mself\u001b[39m\u001b[38;5;241m.\u001b[39macqf,\n\u001b[1;32m    506\u001b[0m         bounds\u001b[38;5;241m=\u001b[39mbounds,\n\u001b[0;32m   (...)\u001b[0m\n\u001b[1;32m    509\u001b[0m         optimizer_is_discrete\u001b[38;5;241m=\u001b[39m\u001b[38;5;28;01mTrue\u001b[39;00m,\n\u001b[1;32m    510\u001b[0m     )\n\u001b[0;32m--> 511\u001b[0m     \u001b[38;5;28;01mreturn\u001b[39;00m \u001b[43moptimize_acqf_discrete\u001b[49m\u001b[43m(\u001b[49m\n\u001b[1;32m    512\u001b[0m \u001b[43m        \u001b[49m\u001b[43macq_function\u001b[49m\u001b[38;5;241;43m=\u001b[39;49m\u001b[38;5;28;43mself\u001b[39;49m\u001b[38;5;241;43m.\u001b[39;49m\u001b[43macqf\u001b[49m\u001b[43m,\u001b[49m\u001b[43m \u001b[49m\u001b[43mq\u001b[49m\u001b[38;5;241;43m=\u001b[39;49m\u001b[43mn\u001b[49m\u001b[43m,\u001b[49m\u001b[43m \u001b[49m\u001b[43mchoices\u001b[49m\u001b[38;5;241;43m=\u001b[39;49m\u001b[43mall_choices\u001b[49m\u001b[43m,\u001b[49m\u001b[43m \u001b[49m\u001b[38;5;241;43m*\u001b[39;49m\u001b[38;5;241;43m*\u001b[39;49m\u001b[43mdiscrete_opt_options\u001b[49m\n\u001b[1;32m    513\u001b[0m \u001b[43m    \u001b[49m\u001b[43m)\u001b[49m\n\u001b[1;32m    515\u001b[0m \u001b[38;5;66;03m# 2b. Handle mixed search spaces that have discrete and continuous features.\u001b[39;00m\n\u001b[1;32m    516\u001b[0m \u001b[38;5;28;01mreturn\u001b[39;00m optimize_acqf_mixed(\n\u001b[1;32m    517\u001b[0m     acq_function\u001b[38;5;241m=\u001b[39m\u001b[38;5;28mself\u001b[39m\u001b[38;5;241m.\u001b[39macqf,\n\u001b[1;32m    518\u001b[0m     bounds\u001b[38;5;241m=\u001b[39mbounds,\n\u001b[0;32m   (...)\u001b[0m\n\u001b[1;32m    528\u001b[0m     \u001b[38;5;241m*\u001b[39m\u001b[38;5;241m*\u001b[39moptimizer_options_with_defaults,\n\u001b[1;32m    529\u001b[0m )\n",
      "File \u001b[0;32m/nfs/ai/chemical-diffuser/venv/lib/python3.8/site-packages/botorch/optim/optimize.py:1064\u001b[0m, in \u001b[0;36moptimize_acqf_discrete\u001b[0;34m(acq_function, q, choices, max_batch_size, unique, **kwargs)\u001b[0m\n\u001b[1;32m   1061\u001b[0m     \u001b[38;5;28;01mreturn\u001b[39;00m candidates, torch\u001b[38;5;241m.\u001b[39mstack(acq_value_list)\n\u001b[1;32m   1063\u001b[0m \u001b[38;5;28;01mwith\u001b[39;00m torch\u001b[38;5;241m.\u001b[39mno_grad():\n\u001b[0;32m-> 1064\u001b[0m     acq_values \u001b[38;5;241m=\u001b[39m \u001b[43m_split_batch_eval_acqf\u001b[49m\u001b[43m(\u001b[49m\n\u001b[1;32m   1065\u001b[0m \u001b[43m        \u001b[49m\u001b[43macq_function\u001b[49m\u001b[38;5;241;43m=\u001b[39;49m\u001b[43macq_function\u001b[49m\u001b[43m,\u001b[49m\u001b[43m \u001b[49m\u001b[43mX\u001b[49m\u001b[38;5;241;43m=\u001b[39;49m\u001b[43mchoices_batched\u001b[49m\u001b[43m,\u001b[49m\u001b[43m \u001b[49m\u001b[43mmax_batch_size\u001b[49m\u001b[38;5;241;43m=\u001b[39;49m\u001b[43mmax_batch_size\u001b[49m\n\u001b[1;32m   1066\u001b[0m \u001b[43m    \u001b[49m\u001b[43m)\u001b[49m\n\u001b[1;32m   1067\u001b[0m best_idx \u001b[38;5;241m=\u001b[39m torch\u001b[38;5;241m.\u001b[39margmax(acq_values)\n\u001b[1;32m   1068\u001b[0m \u001b[38;5;28;01mreturn\u001b[39;00m choices_batched[best_idx], acq_values[best_idx]\n",
      "File \u001b[0;32m/nfs/ai/chemical-diffuser/venv/lib/python3.8/site-packages/botorch/optim/optimize.py:1074\u001b[0m, in \u001b[0;36m_split_batch_eval_acqf\u001b[0;34m(acq_function, X, max_batch_size)\u001b[0m\n\u001b[1;32m   1071\u001b[0m \u001b[38;5;28;01mdef\u001b[39;00m \u001b[38;5;21m_split_batch_eval_acqf\u001b[39m(\n\u001b[1;32m   1072\u001b[0m     acq_function: AcquisitionFunction, X: Tensor, max_batch_size: \u001b[38;5;28mint\u001b[39m\n\u001b[1;32m   1073\u001b[0m ) \u001b[38;5;241m-\u001b[39m\u001b[38;5;241m>\u001b[39m Tensor:\n\u001b[0;32m-> 1074\u001b[0m     \u001b[38;5;28;01mreturn\u001b[39;00m torch\u001b[38;5;241m.\u001b[39mcat([acq_function(X_) \u001b[38;5;28;01mfor\u001b[39;00m X_ \u001b[38;5;129;01min\u001b[39;00m X\u001b[38;5;241m.\u001b[39msplit(max_batch_size)])\n",
      "File \u001b[0;32m/nfs/ai/chemical-diffuser/venv/lib/python3.8/site-packages/botorch/optim/optimize.py:1074\u001b[0m, in \u001b[0;36m<listcomp>\u001b[0;34m(.0)\u001b[0m\n\u001b[1;32m   1071\u001b[0m \u001b[38;5;28;01mdef\u001b[39;00m \u001b[38;5;21m_split_batch_eval_acqf\u001b[39m(\n\u001b[1;32m   1072\u001b[0m     acq_function: AcquisitionFunction, X: Tensor, max_batch_size: \u001b[38;5;28mint\u001b[39m\n\u001b[1;32m   1073\u001b[0m ) \u001b[38;5;241m-\u001b[39m\u001b[38;5;241m>\u001b[39m Tensor:\n\u001b[0;32m-> 1074\u001b[0m     \u001b[38;5;28;01mreturn\u001b[39;00m torch\u001b[38;5;241m.\u001b[39mcat([\u001b[43macq_function\u001b[49m\u001b[43m(\u001b[49m\u001b[43mX_\u001b[49m\u001b[43m)\u001b[49m \u001b[38;5;28;01mfor\u001b[39;00m X_ \u001b[38;5;129;01min\u001b[39;00m X\u001b[38;5;241m.\u001b[39msplit(max_batch_size)])\n",
      "File \u001b[0;32m/nfs/ai/chemical-diffuser/venv/lib/python3.8/site-packages/torch/nn/modules/module.py:1501\u001b[0m, in \u001b[0;36mModule._call_impl\u001b[0;34m(self, *args, **kwargs)\u001b[0m\n\u001b[1;32m   1496\u001b[0m \u001b[38;5;66;03m# If we don't have any hooks, we want to skip the rest of the logic in\u001b[39;00m\n\u001b[1;32m   1497\u001b[0m \u001b[38;5;66;03m# this function, and just call forward.\u001b[39;00m\n\u001b[1;32m   1498\u001b[0m \u001b[38;5;28;01mif\u001b[39;00m \u001b[38;5;129;01mnot\u001b[39;00m (\u001b[38;5;28mself\u001b[39m\u001b[38;5;241m.\u001b[39m_backward_hooks \u001b[38;5;129;01mor\u001b[39;00m \u001b[38;5;28mself\u001b[39m\u001b[38;5;241m.\u001b[39m_backward_pre_hooks \u001b[38;5;129;01mor\u001b[39;00m \u001b[38;5;28mself\u001b[39m\u001b[38;5;241m.\u001b[39m_forward_hooks \u001b[38;5;129;01mor\u001b[39;00m \u001b[38;5;28mself\u001b[39m\u001b[38;5;241m.\u001b[39m_forward_pre_hooks\n\u001b[1;32m   1499\u001b[0m         \u001b[38;5;129;01mor\u001b[39;00m _global_backward_pre_hooks \u001b[38;5;129;01mor\u001b[39;00m _global_backward_hooks\n\u001b[1;32m   1500\u001b[0m         \u001b[38;5;129;01mor\u001b[39;00m _global_forward_hooks \u001b[38;5;129;01mor\u001b[39;00m _global_forward_pre_hooks):\n\u001b[0;32m-> 1501\u001b[0m     \u001b[38;5;28;01mreturn\u001b[39;00m \u001b[43mforward_call\u001b[49m\u001b[43m(\u001b[49m\u001b[38;5;241;43m*\u001b[39;49m\u001b[43margs\u001b[49m\u001b[43m,\u001b[49m\u001b[43m \u001b[49m\u001b[38;5;241;43m*\u001b[39;49m\u001b[38;5;241;43m*\u001b[39;49m\u001b[43mkwargs\u001b[49m\u001b[43m)\u001b[49m\n\u001b[1;32m   1502\u001b[0m \u001b[38;5;66;03m# Do not call functions when jit is used\u001b[39;00m\n\u001b[1;32m   1503\u001b[0m full_backward_hooks, non_full_backward_hooks \u001b[38;5;241m=\u001b[39m [], []\n",
      "File \u001b[0;32m/nfs/ai/chemical-diffuser/venv/lib/python3.8/site-packages/botorch/utils/transforms.py:330\u001b[0m, in \u001b[0;36mconcatenate_pending_points.<locals>.decorated\u001b[0;34m(cls, X, **kwargs)\u001b[0m\n\u001b[1;32m    328\u001b[0m \u001b[38;5;28;01mif\u001b[39;00m \u001b[38;5;28mcls\u001b[39m\u001b[38;5;241m.\u001b[39mX_pending \u001b[38;5;129;01mis\u001b[39;00m \u001b[38;5;129;01mnot\u001b[39;00m \u001b[38;5;28;01mNone\u001b[39;00m:\n\u001b[1;32m    329\u001b[0m     X \u001b[38;5;241m=\u001b[39m torch\u001b[38;5;241m.\u001b[39mcat([X, match_batch_shape(\u001b[38;5;28mcls\u001b[39m\u001b[38;5;241m.\u001b[39mX_pending, X)], dim\u001b[38;5;241m=\u001b[39m\u001b[38;5;241m-\u001b[39m\u001b[38;5;241m2\u001b[39m)\n\u001b[0;32m--> 330\u001b[0m \u001b[38;5;28;01mreturn\u001b[39;00m \u001b[43mmethod\u001b[49m\u001b[43m(\u001b[49m\u001b[38;5;28;43mcls\u001b[39;49m\u001b[43m,\u001b[49m\u001b[43m \u001b[49m\u001b[43mX\u001b[49m\u001b[43m,\u001b[49m\u001b[43m \u001b[49m\u001b[38;5;241;43m*\u001b[39;49m\u001b[38;5;241;43m*\u001b[39;49m\u001b[43mkwargs\u001b[49m\u001b[43m)\u001b[49m\n",
      "File \u001b[0;32m/nfs/ai/chemical-diffuser/venv/lib/python3.8/site-packages/botorch/utils/transforms.py:287\u001b[0m, in \u001b[0;36mt_batch_mode_transform.<locals>.decorator.<locals>.decorated\u001b[0;34m(acqf, X, *args, **kwargs)\u001b[0m\n\u001b[1;32m    285\u001b[0m \u001b[38;5;66;03m# add t-batch dim\u001b[39;00m\n\u001b[1;32m    286\u001b[0m X \u001b[38;5;241m=\u001b[39m X \u001b[38;5;28;01mif\u001b[39;00m X\u001b[38;5;241m.\u001b[39mdim() \u001b[38;5;241m>\u001b[39m \u001b[38;5;241m2\u001b[39m \u001b[38;5;28;01melse\u001b[39;00m X\u001b[38;5;241m.\u001b[39munsqueeze(\u001b[38;5;241m0\u001b[39m)\n\u001b[0;32m--> 287\u001b[0m output \u001b[38;5;241m=\u001b[39m \u001b[43mmethod\u001b[49m\u001b[43m(\u001b[49m\u001b[43macqf\u001b[49m\u001b[43m,\u001b[49m\u001b[43m \u001b[49m\u001b[43mX\u001b[49m\u001b[43m,\u001b[49m\u001b[43m \u001b[49m\u001b[38;5;241;43m*\u001b[39;49m\u001b[43margs\u001b[49m\u001b[43m,\u001b[49m\u001b[43m \u001b[49m\u001b[38;5;241;43m*\u001b[39;49m\u001b[38;5;241;43m*\u001b[39;49m\u001b[43mkwargs\u001b[49m\u001b[43m)\u001b[49m\n\u001b[1;32m    288\u001b[0m \u001b[38;5;28;01mif\u001b[39;00m \u001b[38;5;28mhasattr\u001b[39m(acqf, \u001b[38;5;124m\"\u001b[39m\u001b[38;5;124mmodel\u001b[39m\u001b[38;5;124m\"\u001b[39m) \u001b[38;5;129;01mand\u001b[39;00m is_fully_bayesian(acqf\u001b[38;5;241m.\u001b[39mmodel):\n\u001b[1;32m    289\u001b[0m     output \u001b[38;5;241m=\u001b[39m output\u001b[38;5;241m.\u001b[39mmean(dim\u001b[38;5;241m=\u001b[39m\u001b[38;5;241m-\u001b[39m\u001b[38;5;241m1\u001b[39m)\n",
      "File \u001b[0;32m/nfs/ai/chemical-diffuser/venv/lib/python3.8/site-packages/botorch/acquisition/monte_carlo.py:343\u001b[0m, in \u001b[0;36mqNoisyExpectedImprovement.forward\u001b[0;34m(self, X)\u001b[0m\n\u001b[1;32m    340\u001b[0m X_full \u001b[38;5;241m=\u001b[39m torch\u001b[38;5;241m.\u001b[39mcat([match_batch_shape(\u001b[38;5;28mself\u001b[39m\u001b[38;5;241m.\u001b[39mX_baseline, X), X], dim\u001b[38;5;241m=\u001b[39m\u001b[38;5;241m-\u001b[39m\u001b[38;5;241m2\u001b[39m)\n\u001b[1;32m    341\u001b[0m \u001b[38;5;66;03m# TODO: Implement more efficient way to compute posterior over both training and\u001b[39;00m\n\u001b[1;32m    342\u001b[0m \u001b[38;5;66;03m# test points in GPyTorch (https://github.com/cornellius-gp/gpytorch/issues/567)\u001b[39;00m\n\u001b[0;32m--> 343\u001b[0m posterior \u001b[38;5;241m=\u001b[39m \u001b[38;5;28;43mself\u001b[39;49m\u001b[38;5;241;43m.\u001b[39;49m\u001b[43mmodel\u001b[49m\u001b[38;5;241;43m.\u001b[39;49m\u001b[43mposterior\u001b[49m\u001b[43m(\u001b[49m\n\u001b[1;32m    344\u001b[0m \u001b[43m    \u001b[49m\u001b[43mX_full\u001b[49m\u001b[43m,\u001b[49m\u001b[43m \u001b[49m\u001b[43mposterior_transform\u001b[49m\u001b[38;5;241;43m=\u001b[39;49m\u001b[38;5;28;43mself\u001b[39;49m\u001b[38;5;241;43m.\u001b[39;49m\u001b[43mposterior_transform\u001b[49m\n\u001b[1;32m    345\u001b[0m \u001b[43m\u001b[49m\u001b[43m)\u001b[49m\n\u001b[1;32m    346\u001b[0m \u001b[38;5;28;01mif\u001b[39;00m \u001b[38;5;28mself\u001b[39m\u001b[38;5;241m.\u001b[39m_cache_root:\n\u001b[1;32m    347\u001b[0m     diffs \u001b[38;5;241m=\u001b[39m \u001b[38;5;28mself\u001b[39m\u001b[38;5;241m.\u001b[39m_forward_cached(posterior\u001b[38;5;241m=\u001b[39mposterior, X_full\u001b[38;5;241m=\u001b[39mX_full, q\u001b[38;5;241m=\u001b[39mq)\n",
      "File \u001b[0;32m/nfs/ai/chemical-diffuser/venv/lib/python3.8/site-packages/botorch/models/gpytorch.py:379\u001b[0m, in \u001b[0;36mBatchedMultiOutputGPyTorchModel.posterior\u001b[0;34m(self, X, output_indices, observation_noise, posterior_transform, **kwargs)\u001b[0m\n\u001b[1;32m    375\u001b[0m \u001b[38;5;28;01mif\u001b[39;00m \u001b[38;5;28mself\u001b[39m\u001b[38;5;241m.\u001b[39m_num_outputs \u001b[38;5;241m>\u001b[39m \u001b[38;5;241m1\u001b[39m:\n\u001b[1;32m    376\u001b[0m     X, output_dim_idx \u001b[38;5;241m=\u001b[39m add_output_dim(\n\u001b[1;32m    377\u001b[0m         X\u001b[38;5;241m=\u001b[39mX, original_batch_shape\u001b[38;5;241m=\u001b[39m\u001b[38;5;28mself\u001b[39m\u001b[38;5;241m.\u001b[39m_input_batch_shape\n\u001b[1;32m    378\u001b[0m     )\n\u001b[0;32m--> 379\u001b[0m mvn \u001b[38;5;241m=\u001b[39m \u001b[38;5;28;43mself\u001b[39;49m\u001b[43m(\u001b[49m\u001b[43mX\u001b[49m\u001b[43m)\u001b[49m\n\u001b[1;32m    380\u001b[0m \u001b[38;5;28;01mif\u001b[39;00m observation_noise \u001b[38;5;129;01mis\u001b[39;00m \u001b[38;5;129;01mnot\u001b[39;00m \u001b[38;5;28;01mFalse\u001b[39;00m:\n\u001b[1;32m    381\u001b[0m     \u001b[38;5;28;01mif\u001b[39;00m torch\u001b[38;5;241m.\u001b[39mis_tensor(observation_noise):\n\u001b[1;32m    382\u001b[0m         \u001b[38;5;66;03m# TODO: Validate noise shape\u001b[39;00m\n\u001b[1;32m    383\u001b[0m         \u001b[38;5;66;03m# make observation_noise `batch_shape x q x n`\u001b[39;00m\n",
      "File \u001b[0;32m/nfs/ai/chemical-diffuser/venv/lib/python3.8/site-packages/gpytorch/models/exact_gp.py:315\u001b[0m, in \u001b[0;36mExactGP.__call__\u001b[0;34m(self, *args, **kwargs)\u001b[0m\n\u001b[1;32m    312\u001b[0m     full_inputs\u001b[38;5;241m.\u001b[39mappend(torch\u001b[38;5;241m.\u001b[39mcat([train_input, \u001b[38;5;28minput\u001b[39m], dim\u001b[38;5;241m=\u001b[39m\u001b[38;5;241m-\u001b[39m\u001b[38;5;241m2\u001b[39m))\n\u001b[1;32m    314\u001b[0m \u001b[38;5;66;03m# Get the joint distribution for training/test data\u001b[39;00m\n\u001b[0;32m--> 315\u001b[0m full_output \u001b[38;5;241m=\u001b[39m \u001b[38;5;28;43msuper\u001b[39;49m\u001b[43m(\u001b[49m\u001b[43mExactGP\u001b[49m\u001b[43m,\u001b[49m\u001b[43m \u001b[49m\u001b[38;5;28;43mself\u001b[39;49m\u001b[43m)\u001b[49m\u001b[38;5;241;43m.\u001b[39;49m\u001b[38;5;21;43m__call__\u001b[39;49m\u001b[43m(\u001b[49m\u001b[38;5;241;43m*\u001b[39;49m\u001b[43mfull_inputs\u001b[49m\u001b[43m,\u001b[49m\u001b[43m \u001b[49m\u001b[38;5;241;43m*\u001b[39;49m\u001b[38;5;241;43m*\u001b[39;49m\u001b[43mkwargs\u001b[49m\u001b[43m)\u001b[49m\n\u001b[1;32m    316\u001b[0m \u001b[38;5;28;01mif\u001b[39;00m settings\u001b[38;5;241m.\u001b[39mdebug()\u001b[38;5;241m.\u001b[39mon():\n\u001b[1;32m    317\u001b[0m     \u001b[38;5;28;01mif\u001b[39;00m \u001b[38;5;129;01mnot\u001b[39;00m \u001b[38;5;28misinstance\u001b[39m(full_output, MultivariateNormal):\n",
      "File \u001b[0;32m/nfs/ai/chemical-diffuser/venv/lib/python3.8/site-packages/gpytorch/module.py:31\u001b[0m, in \u001b[0;36mModule.__call__\u001b[0;34m(self, *inputs, **kwargs)\u001b[0m\n\u001b[1;32m     30\u001b[0m \u001b[38;5;28;01mdef\u001b[39;00m \u001b[38;5;21m__call__\u001b[39m(\u001b[38;5;28mself\u001b[39m, \u001b[38;5;241m*\u001b[39minputs, \u001b[38;5;241m*\u001b[39m\u001b[38;5;241m*\u001b[39mkwargs) \u001b[38;5;241m-\u001b[39m\u001b[38;5;241m>\u001b[39m Union[Tensor, Distribution, LinearOperator]:\n\u001b[0;32m---> 31\u001b[0m     outputs \u001b[38;5;241m=\u001b[39m \u001b[38;5;28;43mself\u001b[39;49m\u001b[38;5;241;43m.\u001b[39;49m\u001b[43mforward\u001b[49m\u001b[43m(\u001b[49m\u001b[38;5;241;43m*\u001b[39;49m\u001b[43minputs\u001b[49m\u001b[43m,\u001b[49m\u001b[43m \u001b[49m\u001b[38;5;241;43m*\u001b[39;49m\u001b[38;5;241;43m*\u001b[39;49m\u001b[43mkwargs\u001b[49m\u001b[43m)\u001b[49m\n\u001b[1;32m     32\u001b[0m     \u001b[38;5;28;01mif\u001b[39;00m \u001b[38;5;28misinstance\u001b[39m(outputs, \u001b[38;5;28mlist\u001b[39m):\n\u001b[1;32m     33\u001b[0m         \u001b[38;5;28;01mreturn\u001b[39;00m [_validate_module_outputs(output) \u001b[38;5;28;01mfor\u001b[39;00m output \u001b[38;5;129;01min\u001b[39;00m outputs]\n",
      "File \u001b[0;32m/nfs/ai/chemical-diffuser/venv/lib/python3.8/site-packages/botorch/models/gp_regression.py:179\u001b[0m, in \u001b[0;36mSingleTaskGP.forward\u001b[0;34m(self, x)\u001b[0m\n\u001b[1;32m    177\u001b[0m mean_x \u001b[38;5;241m=\u001b[39m \u001b[38;5;28mself\u001b[39m\u001b[38;5;241m.\u001b[39mmean_module(x)\n\u001b[1;32m    178\u001b[0m covar_x \u001b[38;5;241m=\u001b[39m \u001b[38;5;28mself\u001b[39m\u001b[38;5;241m.\u001b[39mcovar_module(x)\n\u001b[0;32m--> 179\u001b[0m \u001b[38;5;28;01mreturn\u001b[39;00m \u001b[43mMultivariateNormal\u001b[49m\u001b[43m(\u001b[49m\u001b[43mmean_x\u001b[49m\u001b[43m,\u001b[49m\u001b[43m \u001b[49m\u001b[43mcovar_x\u001b[49m\u001b[43m)\u001b[49m\n",
      "File \u001b[0;32m/nfs/ai/chemical-diffuser/venv/lib/python3.8/site-packages/pyro/distributions/distribution.py:26\u001b[0m, in \u001b[0;36mDistributionMeta.__call__\u001b[0;34m(cls, *args, **kwargs)\u001b[0m\n\u001b[1;32m     24\u001b[0m     \u001b[38;5;28;01mif\u001b[39;00m result \u001b[38;5;129;01mis\u001b[39;00m \u001b[38;5;129;01mnot\u001b[39;00m \u001b[38;5;28;01mNone\u001b[39;00m:\n\u001b[1;32m     25\u001b[0m         \u001b[38;5;28;01mreturn\u001b[39;00m result\n\u001b[0;32m---> 26\u001b[0m \u001b[38;5;28;01mreturn\u001b[39;00m \u001b[38;5;28;43msuper\u001b[39;49m\u001b[43m(\u001b[49m\u001b[43m)\u001b[49m\u001b[38;5;241;43m.\u001b[39;49m\u001b[38;5;21;43m__call__\u001b[39;49m\u001b[43m(\u001b[49m\u001b[38;5;241;43m*\u001b[39;49m\u001b[43margs\u001b[49m\u001b[43m,\u001b[49m\u001b[43m \u001b[49m\u001b[38;5;241;43m*\u001b[39;49m\u001b[38;5;241;43m*\u001b[39;49m\u001b[43mkwargs\u001b[49m\u001b[43m)\u001b[49m\n",
      "File \u001b[0;32m/nfs/ai/chemical-diffuser/venv/lib/python3.8/site-packages/gpytorch/distributions/multivariate_normal.py:58\u001b[0m, in \u001b[0;36mMultivariateNormal.__init__\u001b[0;34m(self, mean, covariance_matrix, validate_args)\u001b[0m\n\u001b[1;32m     56\u001b[0m \u001b[38;5;28mself\u001b[39m\u001b[38;5;241m.\u001b[39m__unbroadcasted_scale_tril \u001b[38;5;241m=\u001b[39m \u001b[38;5;28;01mNone\u001b[39;00m\n\u001b[1;32m     57\u001b[0m \u001b[38;5;28mself\u001b[39m\u001b[38;5;241m.\u001b[39m_validate_args \u001b[38;5;241m=\u001b[39m validate_args\n\u001b[0;32m---> 58\u001b[0m batch_shape \u001b[38;5;241m=\u001b[39m torch\u001b[38;5;241m.\u001b[39mbroadcast_shapes(\u001b[38;5;28mself\u001b[39m\u001b[38;5;241m.\u001b[39mloc\u001b[38;5;241m.\u001b[39mshape[:\u001b[38;5;241m-\u001b[39m\u001b[38;5;241m1\u001b[39m], \u001b[43mcovariance_matrix\u001b[49m\u001b[38;5;241;43m.\u001b[39;49m\u001b[43mshape\u001b[49m[:\u001b[38;5;241m-\u001b[39m\u001b[38;5;241m2\u001b[39m])\n\u001b[1;32m     60\u001b[0m event_shape \u001b[38;5;241m=\u001b[39m \u001b[38;5;28mself\u001b[39m\u001b[38;5;241m.\u001b[39mloc\u001b[38;5;241m.\u001b[39mshape[\u001b[38;5;241m-\u001b[39m\u001b[38;5;241m1\u001b[39m:]\n\u001b[1;32m     62\u001b[0m \u001b[38;5;66;03m# TODO: Integrate argument validation for LinearOperators into torch.distribution validation logic\u001b[39;00m\n",
      "File \u001b[0;32m/nfs/ai/chemical-diffuser/venv/lib/python3.8/site-packages/linear_operator/operators/_linear_operator.py:2181\u001b[0m, in \u001b[0;36mLinearOperator.shape\u001b[0;34m(self)\u001b[0m\n\u001b[1;32m   2179\u001b[0m \u001b[38;5;129m@property\u001b[39m\n\u001b[1;32m   2180\u001b[0m \u001b[38;5;28;01mdef\u001b[39;00m \u001b[38;5;21mshape\u001b[39m(\u001b[38;5;28mself\u001b[39m):\n\u001b[0;32m-> 2181\u001b[0m     \u001b[38;5;28;01mreturn\u001b[39;00m \u001b[38;5;28;43mself\u001b[39;49m\u001b[38;5;241;43m.\u001b[39;49m\u001b[43msize\u001b[49m\u001b[43m(\u001b[49m\u001b[43m)\u001b[49m\n",
      "File \u001b[0;32m/nfs/ai/chemical-diffuser/venv/lib/python3.8/site-packages/linear_operator/operators/_linear_operator.py:2174\u001b[0m, in \u001b[0;36mLinearOperator.size\u001b[0;34m(self, dim)\u001b[0m\n\u001b[1;32m   2168\u001b[0m \u001b[38;5;28;01mdef\u001b[39;00m \u001b[38;5;21msize\u001b[39m(\u001b[38;5;28mself\u001b[39m, dim: Optional[\u001b[38;5;28mint\u001b[39m] \u001b[38;5;241m=\u001b[39m \u001b[38;5;28;01mNone\u001b[39;00m) \u001b[38;5;241m-\u001b[39m\u001b[38;5;241m>\u001b[39m Union[torch\u001b[38;5;241m.\u001b[39mSize, \u001b[38;5;28mint\u001b[39m]:\n\u001b[1;32m   2169\u001b[0m \u001b[38;5;250m    \u001b[39m\u001b[38;5;124;03m\"\"\"\u001b[39;00m\n\u001b[1;32m   2170\u001b[0m \u001b[38;5;124;03m    Returns he size of the LinearOperator (or the specified dimension).\u001b[39;00m\n\u001b[1;32m   2171\u001b[0m \n\u001b[1;32m   2172\u001b[0m \u001b[38;5;124;03m    :param dim: A specific dimension.\u001b[39;00m\n\u001b[1;32m   2173\u001b[0m \u001b[38;5;124;03m    \"\"\"\u001b[39;00m\n\u001b[0;32m-> 2174\u001b[0m     size \u001b[38;5;241m=\u001b[39m \u001b[38;5;28;43mself\u001b[39;49m\u001b[38;5;241;43m.\u001b[39;49m\u001b[43m_size\u001b[49m\u001b[43m(\u001b[49m\u001b[43m)\u001b[49m\n\u001b[1;32m   2175\u001b[0m     \u001b[38;5;28;01mif\u001b[39;00m dim \u001b[38;5;129;01mis\u001b[39;00m \u001b[38;5;129;01mnot\u001b[39;00m \u001b[38;5;28;01mNone\u001b[39;00m:\n\u001b[1;32m   2176\u001b[0m         \u001b[38;5;28;01mreturn\u001b[39;00m size[dim]\n",
      "File \u001b[0;32m/nfs/ai/chemical-diffuser/venv/lib/python3.8/site-packages/gpytorch/utils/memoize.py:59\u001b[0m, in \u001b[0;36m_cached.<locals>.g\u001b[0;34m(self, *args, **kwargs)\u001b[0m\n\u001b[1;32m     57\u001b[0m kwargs_pkl \u001b[38;5;241m=\u001b[39m pickle\u001b[38;5;241m.\u001b[39mdumps(kwargs)\n\u001b[1;32m     58\u001b[0m \u001b[38;5;28;01mif\u001b[39;00m \u001b[38;5;129;01mnot\u001b[39;00m _is_in_cache(\u001b[38;5;28mself\u001b[39m, cache_name, \u001b[38;5;241m*\u001b[39margs, kwargs_pkl\u001b[38;5;241m=\u001b[39mkwargs_pkl):\n\u001b[0;32m---> 59\u001b[0m     \u001b[38;5;28;01mreturn\u001b[39;00m _add_to_cache(\u001b[38;5;28mself\u001b[39m, cache_name, \u001b[43mmethod\u001b[49m\u001b[43m(\u001b[49m\u001b[38;5;28;43mself\u001b[39;49m\u001b[43m,\u001b[49m\u001b[43m \u001b[49m\u001b[38;5;241;43m*\u001b[39;49m\u001b[43margs\u001b[49m\u001b[43m,\u001b[49m\u001b[43m \u001b[49m\u001b[38;5;241;43m*\u001b[39;49m\u001b[38;5;241;43m*\u001b[39;49m\u001b[43mkwargs\u001b[49m\u001b[43m)\u001b[49m, \u001b[38;5;241m*\u001b[39margs, kwargs_pkl\u001b[38;5;241m=\u001b[39mkwargs_pkl)\n\u001b[1;32m     60\u001b[0m \u001b[38;5;28;01mreturn\u001b[39;00m _get_from_cache(\u001b[38;5;28mself\u001b[39m, cache_name, \u001b[38;5;241m*\u001b[39margs, kwargs_pkl\u001b[38;5;241m=\u001b[39mkwargs_pkl)\n",
      "File \u001b[0;32m/nfs/ai/chemical-diffuser/venv/lib/python3.8/site-packages/gpytorch/lazy/lazy_evaluated_kernel_tensor.py:306\u001b[0m, in \u001b[0;36mLazyEvaluatedKernelTensor._size\u001b[0;34m(self)\u001b[0m\n\u001b[1;32m    302\u001b[0m     \u001b[38;5;28;01mif\u001b[39;00m x1\u001b[38;5;241m.\u001b[39msize(\u001b[38;5;241m-\u001b[39m\u001b[38;5;241m1\u001b[39m) \u001b[38;5;241m!=\u001b[39m x2\u001b[38;5;241m.\u001b[39msize(\u001b[38;5;241m-\u001b[39m\u001b[38;5;241m1\u001b[39m):\n\u001b[1;32m    303\u001b[0m         \u001b[38;5;28;01mraise\u001b[39;00m \u001b[38;5;167;01mRuntimeError\u001b[39;00m\n\u001b[1;32m    305\u001b[0m     expected_size \u001b[38;5;241m=\u001b[39m torch\u001b[38;5;241m.\u001b[39mbroadcast_shapes(\n\u001b[0;32m--> 306\u001b[0m         x1\u001b[38;5;241m.\u001b[39mshape[:\u001b[38;5;241m-\u001b[39m\u001b[38;5;241m2\u001b[39m], x2\u001b[38;5;241m.\u001b[39mshape[:\u001b[38;5;241m-\u001b[39m\u001b[38;5;241m2\u001b[39m], \u001b[38;5;28;43mself\u001b[39;49m\u001b[38;5;241;43m.\u001b[39;49m\u001b[43mkernel\u001b[49m\u001b[38;5;241;43m.\u001b[39;49m\u001b[43mbatch_shape\u001b[49m\n\u001b[1;32m    307\u001b[0m     ) \u001b[38;5;241m+\u001b[39m torch\u001b[38;5;241m.\u001b[39mSize([num_rows, num_cols])\n\u001b[1;32m    309\u001b[0m \u001b[38;5;28;01mexcept\u001b[39;00m \u001b[38;5;167;01mRuntimeError\u001b[39;00m:\n\u001b[1;32m    310\u001b[0m     \u001b[38;5;28;01mraise\u001b[39;00m \u001b[38;5;167;01mRuntimeError\u001b[39;00m(\n\u001b[1;32m    311\u001b[0m         \u001b[38;5;124mf\u001b[39m\u001b[38;5;124m\"\u001b[39m\u001b[38;5;124mx1 and x2 were not broadcastable with kernel of batch_shape \u001b[39m\u001b[38;5;132;01m{\u001b[39;00m\u001b[38;5;28mself\u001b[39m\u001b[38;5;241m.\u001b[39mkernel\u001b[38;5;241m.\u001b[39mbatch_shape\u001b[38;5;132;01m}\u001b[39;00m\u001b[38;5;124m. \u001b[39m\u001b[38;5;124m\"\u001b[39m\n\u001b[1;32m    312\u001b[0m         \u001b[38;5;124mf\u001b[39m\u001b[38;5;124m\"\u001b[39m\u001b[38;5;124mGot x1.shape = \u001b[39m\u001b[38;5;132;01m{\u001b[39;00mx1\u001b[38;5;241m.\u001b[39mshape\u001b[38;5;132;01m}\u001b[39;00m\u001b[38;5;124m and x2.shape = \u001b[39m\u001b[38;5;132;01m{\u001b[39;00mx2\u001b[38;5;241m.\u001b[39mshape\u001b[38;5;132;01m}\u001b[39;00m\u001b[38;5;124m\"\u001b[39m\n\u001b[1;32m    313\u001b[0m     )\n",
      "File \u001b[0;32m/nfs/ai/chemical-diffuser/venv/lib/python3.8/site-packages/gpytorch/kernels/kernel.py:256\u001b[0m, in \u001b[0;36mKernel.batch_shape\u001b[0;34m(self)\u001b[0m\n\u001b[1;32m    254\u001b[0m kernels \u001b[38;5;241m=\u001b[39m \u001b[38;5;28mlist\u001b[39m(\u001b[38;5;28mself\u001b[39m\u001b[38;5;241m.\u001b[39msub_kernels())\n\u001b[1;32m    255\u001b[0m \u001b[38;5;28;01mif\u001b[39;00m \u001b[38;5;28mlen\u001b[39m(kernels):\n\u001b[0;32m--> 256\u001b[0m     \u001b[38;5;28;01mreturn\u001b[39;00m torch\u001b[38;5;241m.\u001b[39mbroadcast_shapes(\u001b[38;5;28mself\u001b[39m\u001b[38;5;241m.\u001b[39m_batch_shape, \u001b[38;5;241m*\u001b[39m[k\u001b[38;5;241m.\u001b[39mbatch_shape \u001b[38;5;28;01mfor\u001b[39;00m k \u001b[38;5;129;01min\u001b[39;00m kernels])\n\u001b[1;32m    257\u001b[0m \u001b[38;5;28;01melse\u001b[39;00m:\n\u001b[1;32m    258\u001b[0m     \u001b[38;5;28;01mreturn\u001b[39;00m \u001b[38;5;28mself\u001b[39m\u001b[38;5;241m.\u001b[39m_batch_shape\n",
      "File \u001b[0;32m/nfs/ai/chemical-diffuser/venv/lib/python3.8/site-packages/gpytorch/kernels/kernel.py:256\u001b[0m, in \u001b[0;36m<listcomp>\u001b[0;34m(.0)\u001b[0m\n\u001b[1;32m    254\u001b[0m kernels \u001b[38;5;241m=\u001b[39m \u001b[38;5;28mlist\u001b[39m(\u001b[38;5;28mself\u001b[39m\u001b[38;5;241m.\u001b[39msub_kernels())\n\u001b[1;32m    255\u001b[0m \u001b[38;5;28;01mif\u001b[39;00m \u001b[38;5;28mlen\u001b[39m(kernels):\n\u001b[0;32m--> 256\u001b[0m     \u001b[38;5;28;01mreturn\u001b[39;00m torch\u001b[38;5;241m.\u001b[39mbroadcast_shapes(\u001b[38;5;28mself\u001b[39m\u001b[38;5;241m.\u001b[39m_batch_shape, \u001b[38;5;241m*\u001b[39m[\u001b[43mk\u001b[49m\u001b[38;5;241;43m.\u001b[39;49m\u001b[43mbatch_shape\u001b[49m \u001b[38;5;28;01mfor\u001b[39;00m k \u001b[38;5;129;01min\u001b[39;00m kernels])\n\u001b[1;32m    257\u001b[0m \u001b[38;5;28;01melse\u001b[39;00m:\n\u001b[1;32m    258\u001b[0m     \u001b[38;5;28;01mreturn\u001b[39;00m \u001b[38;5;28mself\u001b[39m\u001b[38;5;241m.\u001b[39m_batch_shape\n",
      "File \u001b[0;32m/nfs/ai/chemical-diffuser/venv/lib/python3.8/site-packages/gpytorch/kernels/kernel.py:256\u001b[0m, in \u001b[0;36mKernel.batch_shape\u001b[0;34m(self)\u001b[0m\n\u001b[1;32m    254\u001b[0m kernels \u001b[38;5;241m=\u001b[39m \u001b[38;5;28mlist\u001b[39m(\u001b[38;5;28mself\u001b[39m\u001b[38;5;241m.\u001b[39msub_kernels())\n\u001b[1;32m    255\u001b[0m \u001b[38;5;28;01mif\u001b[39;00m \u001b[38;5;28mlen\u001b[39m(kernels):\n\u001b[0;32m--> 256\u001b[0m     \u001b[38;5;28;01mreturn\u001b[39;00m torch\u001b[38;5;241m.\u001b[39mbroadcast_shapes(\u001b[38;5;28mself\u001b[39m\u001b[38;5;241m.\u001b[39m_batch_shape, \u001b[38;5;241m*\u001b[39m[k\u001b[38;5;241m.\u001b[39mbatch_shape \u001b[38;5;28;01mfor\u001b[39;00m k \u001b[38;5;129;01min\u001b[39;00m kernels])\n\u001b[1;32m    257\u001b[0m \u001b[38;5;28;01melse\u001b[39;00m:\n\u001b[1;32m    258\u001b[0m     \u001b[38;5;28;01mreturn\u001b[39;00m \u001b[38;5;28mself\u001b[39m\u001b[38;5;241m.\u001b[39m_batch_shape\n",
      "File \u001b[0;32m/nfs/ai/chemical-diffuser/venv/lib/python3.8/site-packages/gpytorch/kernels/kernel.py:256\u001b[0m, in \u001b[0;36m<listcomp>\u001b[0;34m(.0)\u001b[0m\n\u001b[1;32m    254\u001b[0m kernels \u001b[38;5;241m=\u001b[39m \u001b[38;5;28mlist\u001b[39m(\u001b[38;5;28mself\u001b[39m\u001b[38;5;241m.\u001b[39msub_kernels())\n\u001b[1;32m    255\u001b[0m \u001b[38;5;28;01mif\u001b[39;00m \u001b[38;5;28mlen\u001b[39m(kernels):\n\u001b[0;32m--> 256\u001b[0m     \u001b[38;5;28;01mreturn\u001b[39;00m torch\u001b[38;5;241m.\u001b[39mbroadcast_shapes(\u001b[38;5;28mself\u001b[39m\u001b[38;5;241m.\u001b[39m_batch_shape, \u001b[38;5;241m*\u001b[39m[\u001b[43mk\u001b[49m\u001b[38;5;241;43m.\u001b[39;49m\u001b[43mbatch_shape\u001b[49m \u001b[38;5;28;01mfor\u001b[39;00m k \u001b[38;5;129;01min\u001b[39;00m kernels])\n\u001b[1;32m    257\u001b[0m \u001b[38;5;28;01melse\u001b[39;00m:\n\u001b[1;32m    258\u001b[0m     \u001b[38;5;28;01mreturn\u001b[39;00m \u001b[38;5;28mself\u001b[39m\u001b[38;5;241m.\u001b[39m_batch_shape\n",
      "File \u001b[0;32m/nfs/ai/chemical-diffuser/venv/lib/python3.8/site-packages/gpytorch/kernels/kernel.py:254\u001b[0m, in \u001b[0;36mKernel.batch_shape\u001b[0;34m(self)\u001b[0m\n\u001b[1;32m    252\u001b[0m \u001b[38;5;129m@property\u001b[39m\n\u001b[1;32m    253\u001b[0m \u001b[38;5;28;01mdef\u001b[39;00m \u001b[38;5;21mbatch_shape\u001b[39m(\u001b[38;5;28mself\u001b[39m) \u001b[38;5;241m-\u001b[39m\u001b[38;5;241m>\u001b[39m torch\u001b[38;5;241m.\u001b[39mSize:\n\u001b[0;32m--> 254\u001b[0m     kernels \u001b[38;5;241m=\u001b[39m \u001b[38;5;28;43mlist\u001b[39;49m\u001b[43m(\u001b[49m\u001b[38;5;28;43mself\u001b[39;49m\u001b[38;5;241;43m.\u001b[39;49m\u001b[43msub_kernels\u001b[49m\u001b[43m(\u001b[49m\u001b[43m)\u001b[49m\u001b[43m)\u001b[49m\n\u001b[1;32m    255\u001b[0m     \u001b[38;5;28;01mif\u001b[39;00m \u001b[38;5;28mlen\u001b[39m(kernels):\n\u001b[1;32m    256\u001b[0m         \u001b[38;5;28;01mreturn\u001b[39;00m torch\u001b[38;5;241m.\u001b[39mbroadcast_shapes(\u001b[38;5;28mself\u001b[39m\u001b[38;5;241m.\u001b[39m_batch_shape, \u001b[38;5;241m*\u001b[39m[k\u001b[38;5;241m.\u001b[39mbatch_shape \u001b[38;5;28;01mfor\u001b[39;00m k \u001b[38;5;129;01min\u001b[39;00m kernels])\n",
      "File \u001b[0;32m/nfs/ai/chemical-diffuser/venv/lib/python3.8/site-packages/gpytorch/kernels/kernel.py:450\u001b[0m, in \u001b[0;36mKernel.sub_kernels\u001b[0;34m(self)\u001b[0m\n\u001b[1;32m    443\u001b[0m \u001b[38;5;28;01mdef\u001b[39;00m \u001b[38;5;21msub_kernels\u001b[39m(\u001b[38;5;28mself\u001b[39m) \u001b[38;5;241m-\u001b[39m\u001b[38;5;241m>\u001b[39m Iterable[Kernel]:\n\u001b[1;32m    444\u001b[0m \u001b[38;5;250m    \u001b[39m\u001b[38;5;124;03m\"\"\"\u001b[39;00m\n\u001b[1;32m    445\u001b[0m \u001b[38;5;124;03m    For compositional Kernel classes (e.g. :class:`~gpytorch.kernels.AdditiveKernel`\u001b[39;00m\n\u001b[1;32m    446\u001b[0m \u001b[38;5;124;03m    or :class:`~gpytorch.kernels.ProductKernel`).\u001b[39;00m\n\u001b[1;32m    447\u001b[0m \n\u001b[1;32m    448\u001b[0m \u001b[38;5;124;03m    :return: An iterator over the component kernel objects.\u001b[39;00m\n\u001b[1;32m    449\u001b[0m \u001b[38;5;124;03m    \"\"\"\u001b[39;00m\n\u001b[0;32m--> 450\u001b[0m     \u001b[38;5;28;01mfor\u001b[39;00m _, kernel \u001b[38;5;129;01min\u001b[39;00m \u001b[38;5;28mself\u001b[39m\u001b[38;5;241m.\u001b[39mnamed_sub_kernels():\n\u001b[1;32m    451\u001b[0m         \u001b[38;5;28;01myield\u001b[39;00m kernel\n",
      "File \u001b[0;32m/nfs/ai/chemical-diffuser/venv/lib/python3.8/site-packages/gpytorch/kernels/kernel.py:413\u001b[0m, in \u001b[0;36mKernel.named_sub_kernels\u001b[0;34m(self)\u001b[0m\n\u001b[1;32m    405\u001b[0m \u001b[38;5;28;01mdef\u001b[39;00m \u001b[38;5;21mnamed_sub_kernels\u001b[39m(\u001b[38;5;28mself\u001b[39m) \u001b[38;5;241m-\u001b[39m\u001b[38;5;241m>\u001b[39m Iterable[Tuple[\u001b[38;5;28mstr\u001b[39m, Kernel]]:\n\u001b[1;32m    406\u001b[0m \u001b[38;5;250m    \u001b[39m\u001b[38;5;124;03m\"\"\"\u001b[39;00m\n\u001b[1;32m    407\u001b[0m \u001b[38;5;124;03m    For compositional Kernel classes (e.g. :class:`~gpytorch.kernels.AdditiveKernel`\u001b[39;00m\n\u001b[1;32m    408\u001b[0m \u001b[38;5;124;03m    or :class:`~gpytorch.kernels.ProductKernel`).\u001b[39;00m\n\u001b[0;32m   (...)\u001b[0m\n\u001b[1;32m    411\u001b[0m \u001b[38;5;124;03m        along with the name of each component kernel.\u001b[39;00m\n\u001b[1;32m    412\u001b[0m \u001b[38;5;124;03m    \"\"\"\u001b[39;00m\n\u001b[0;32m--> 413\u001b[0m     \u001b[38;5;28;01mfor\u001b[39;00m name, module \u001b[38;5;129;01min\u001b[39;00m \u001b[38;5;28mself\u001b[39m\u001b[38;5;241m.\u001b[39mnamed_modules():\n\u001b[1;32m    414\u001b[0m         \u001b[38;5;28;01mif\u001b[39;00m module \u001b[38;5;129;01mis\u001b[39;00m \u001b[38;5;129;01mnot\u001b[39;00m \u001b[38;5;28mself\u001b[39m \u001b[38;5;129;01mand\u001b[39;00m \u001b[38;5;28misinstance\u001b[39m(module, Kernel):\n\u001b[1;32m    415\u001b[0m             \u001b[38;5;28;01myield\u001b[39;00m name, module\n",
      "File \u001b[0;32m/nfs/ai/chemical-diffuser/venv/lib/python3.8/site-packages/torch/nn/modules/module.py:2266\u001b[0m, in \u001b[0;36mModule.named_modules\u001b[0;34m(self, memo, prefix, remove_duplicate)\u001b[0m\n\u001b[1;32m   2264\u001b[0m     \u001b[38;5;28;01mcontinue\u001b[39;00m\n\u001b[1;32m   2265\u001b[0m submodule_prefix \u001b[38;5;241m=\u001b[39m prefix \u001b[38;5;241m+\u001b[39m (\u001b[38;5;124m'\u001b[39m\u001b[38;5;124m.\u001b[39m\u001b[38;5;124m'\u001b[39m \u001b[38;5;28;01mif\u001b[39;00m prefix \u001b[38;5;28;01melse\u001b[39;00m \u001b[38;5;124m'\u001b[39m\u001b[38;5;124m'\u001b[39m) \u001b[38;5;241m+\u001b[39m name\n\u001b[0;32m-> 2266\u001b[0m \u001b[38;5;28;01mfor\u001b[39;00m m \u001b[38;5;129;01min\u001b[39;00m module\u001b[38;5;241m.\u001b[39mnamed_modules(memo, submodule_prefix, remove_duplicate):\n\u001b[1;32m   2267\u001b[0m     \u001b[38;5;28;01myield\u001b[39;00m m\n",
      "File \u001b[0;32m/nfs/ai/chemical-diffuser/venv/lib/python3.8/site-packages/torch/nn/modules/module.py:2266\u001b[0m, in \u001b[0;36mModule.named_modules\u001b[0;34m(self, memo, prefix, remove_duplicate)\u001b[0m\n\u001b[1;32m   2264\u001b[0m     \u001b[38;5;28;01mcontinue\u001b[39;00m\n\u001b[1;32m   2265\u001b[0m submodule_prefix \u001b[38;5;241m=\u001b[39m prefix \u001b[38;5;241m+\u001b[39m (\u001b[38;5;124m'\u001b[39m\u001b[38;5;124m.\u001b[39m\u001b[38;5;124m'\u001b[39m \u001b[38;5;28;01mif\u001b[39;00m prefix \u001b[38;5;28;01melse\u001b[39;00m \u001b[38;5;124m'\u001b[39m\u001b[38;5;124m'\u001b[39m) \u001b[38;5;241m+\u001b[39m name\n\u001b[0;32m-> 2266\u001b[0m \u001b[38;5;28;01mfor\u001b[39;00m m \u001b[38;5;129;01min\u001b[39;00m \u001b[43mmodule\u001b[49m\u001b[38;5;241;43m.\u001b[39;49m\u001b[43mnamed_modules\u001b[49m(memo, submodule_prefix, remove_duplicate):\n\u001b[1;32m   2267\u001b[0m     \u001b[38;5;28;01myield\u001b[39;00m m\n",
      "\u001b[0;31mKeyboardInterrupt\u001b[0m: "
     ]
    }
   ],
   "source": [
    "def evaluate_protein_BA(fasta_seq, target_smiles, predictor_obj):\n",
    "    testseq = {'seq': [fasta_seq], 'smiles': [target_smiles]}\n",
    "    # Get predictions from the predictor\n",
    "    prediction_result = predictor_obj.predict(testseq)\n",
    "    #print(\"Prediction Result:\", prediction_result)\n",
    "    score_bo = prediction_result.predictions * -1\n",
    "\n",
    "    return score_bo\n",
    "\n",
    "def evaluate_mutation_BA(parameters, fasta,  target_smiles, predictor_obj):\n",
    "    position = int(parameters[\"position\"])\n",
    "    mutation = parameters[\"mutation\"]\n",
    "\n",
    "    new_fasta = list(fasta[:])\n",
    "\n",
    "    # Perform single-point mutation\n",
    "    new_fasta[position] = mutation\n",
    "\n",
    "    # Convert list to string to form the sequence\n",
    "    mutated_sequence = ''.join(new_fasta)\n",
    "    score_bo = evaluate_protein_BA(mutated_sequence, target_smiles, predictor_obj)\n",
    "    print('Mutated:', mutation, position, \"KD (uM):\", 10 ** (score_bo), \"Predictions:\", score_bo, \"Mutated Sequence:\", mutated_sequence)\n",
    "    return score_bo\n",
    "\n",
    "\n",
    "# evaluate_for_opt = partial(evaluate_mutation_BA, fasta = fasta_str_f, target_smiles = smiles_fentanyl, predictor_obj = predictor)\n",
    "def evaluate_for_opt(parameters):\n",
    "  return evaluate_mutation_BA(parameters, fasta_str_f, smiles_fentanyl, predictor)\n",
    "\n",
    "print('\\033[95m\\033[1m\\033[1m ----- /\\ ----/ Starting Bayesian Protein Optimization \\---- /\\ ----- \\033[0m')\n",
    "\n",
    "#Get the original BA\n",
    "testseq = {'seq': [fasta_str_f],  'smiles': [smiles_fentanyl]}  # Example SMILES, adjust as needed\n",
    "# Get predictions from the predictor\n",
    "#prediction_result = predictor.predict(testseq)\n",
    "##print(\"Prediction Result:\", prediction_result)\n",
    "#score = 10 ** (prediction_result.predictions * -1)\n",
    "print(fasta_str_f)\n",
    "print('Orginal KD (uM): ', score)\n",
    "\n",
    "best_parameters, values, experiment, model = optimize(\n",
    "    parameters=axbo_params,\n",
    "    evaluation_function=evaluate_for_opt,\n",
    "    objective_name='Decrease KD',\n",
    "    minimize=False,\n",
    "    total_trials=50\n",
    ")\n",
    "\n",
    "print(f\"Best parameters: {best_parameters}\")\n",
    "#print(f\"Best objective value: {values[0]['objective']}\")\n"
   ]
  },
  {
   "cell_type": "markdown",
   "metadata": {},
   "source": [
    "Compare to random mutations/rudimentary genetic algorithm and plot scoring function over iterations."
   ]
  },
  {
   "cell_type": "code",
   "execution_count": 39,
   "metadata": {
    "tags": []
   },
   "outputs": [
    {
     "name": "stdout",
     "output_type": "stream",
     "text": [
      "-0.09802576899528503\n"
     ]
    },
    {
     "data": {
      "text/html": [],
      "text/plain": [
       "<IPython.core.display.HTML object>"
      ]
     },
     "metadata": {},
     "output_type": "display_data"
    },
    {
     "name": "stdout",
     "output_type": "stream",
     "text": [
      "0.09214495122432709\n"
     ]
    },
    {
     "data": {
      "text/html": [],
      "text/plain": [
       "<IPython.core.display.HTML object>"
      ]
     },
     "metadata": {},
     "output_type": "display_data"
    },
    {
     "name": "stdout",
     "output_type": "stream",
     "text": [
      "0.21262018382549286\n"
     ]
    },
    {
     "data": {
      "text/html": [],
      "text/plain": [
       "<IPython.core.display.HTML object>"
      ]
     },
     "metadata": {},
     "output_type": "display_data"
    },
    {
     "name": "stdout",
     "output_type": "stream",
     "text": [
      "0.21732273697853088\n"
     ]
    },
    {
     "data": {
      "text/html": [],
      "text/plain": [
       "<IPython.core.display.HTML object>"
      ]
     },
     "metadata": {},
     "output_type": "display_data"
    },
    {
     "name": "stdout",
     "output_type": "stream",
     "text": [
      "0.2526121735572815\n"
     ]
    },
    {
     "data": {
      "text/html": [],
      "text/plain": [
       "<IPython.core.display.HTML object>"
      ]
     },
     "metadata": {},
     "output_type": "display_data"
    },
    {
     "name": "stdout",
     "output_type": "stream",
     "text": [
      "0.26281630992889404\n"
     ]
    },
    {
     "data": {
      "text/html": [],
      "text/plain": [
       "<IPython.core.display.HTML object>"
      ]
     },
     "metadata": {},
     "output_type": "display_data"
    },
    {
     "name": "stdout",
     "output_type": "stream",
     "text": [
      "0.13657549023628235\n"
     ]
    },
    {
     "data": {
      "text/html": [],
      "text/plain": [
       "<IPython.core.display.HTML object>"
      ]
     },
     "metadata": {},
     "output_type": "display_data"
    },
    {
     "name": "stdout",
     "output_type": "stream",
     "text": [
      "0.1435823142528534\n"
     ]
    },
    {
     "data": {
      "text/html": [],
      "text/plain": [
       "<IPython.core.display.HTML object>"
      ]
     },
     "metadata": {},
     "output_type": "display_data"
    },
    {
     "name": "stdout",
     "output_type": "stream",
     "text": [
      "0.21356983482837677\n"
     ]
    },
    {
     "data": {
      "text/html": [],
      "text/plain": [
       "<IPython.core.display.HTML object>"
      ]
     },
     "metadata": {},
     "output_type": "display_data"
    },
    {
     "name": "stdout",
     "output_type": "stream",
     "text": [
      "0.274383008480072\n"
     ]
    },
    {
     "data": {
      "text/html": [],
      "text/plain": [
       "<IPython.core.display.HTML object>"
      ]
     },
     "metadata": {},
     "output_type": "display_data"
    },
    {
     "name": "stdout",
     "output_type": "stream",
     "text": [
      "0.15367504954338074\n"
     ]
    },
    {
     "data": {
      "text/html": [],
      "text/plain": [
       "<IPython.core.display.HTML object>"
      ]
     },
     "metadata": {},
     "output_type": "display_data"
    },
    {
     "name": "stdout",
     "output_type": "stream",
     "text": [
      "0.24454189836978912\n"
     ]
    },
    {
     "data": {
      "text/html": [],
      "text/plain": [
       "<IPython.core.display.HTML object>"
      ]
     },
     "metadata": {},
     "output_type": "display_data"
    },
    {
     "name": "stdout",
     "output_type": "stream",
     "text": [
      "0.22621896862983704\n"
     ]
    },
    {
     "data": {
      "text/html": [],
      "text/plain": [
       "<IPython.core.display.HTML object>"
      ]
     },
     "metadata": {},
     "output_type": "display_data"
    },
    {
     "name": "stdout",
     "output_type": "stream",
     "text": [
      "0.1582115888595581\n"
     ]
    },
    {
     "data": {
      "text/html": [],
      "text/plain": [
       "<IPython.core.display.HTML object>"
      ]
     },
     "metadata": {},
     "output_type": "display_data"
    },
    {
     "name": "stdout",
     "output_type": "stream",
     "text": [
      "-0.09802576899528503\n"
     ]
    },
    {
     "data": {
      "text/html": [],
      "text/plain": [
       "<IPython.core.display.HTML object>"
      ]
     },
     "metadata": {},
     "output_type": "display_data"
    },
    {
     "name": "stdout",
     "output_type": "stream",
     "text": [
      "0.22905996441841125\n"
     ]
    },
    {
     "data": {
      "text/html": [],
      "text/plain": [
       "<IPython.core.display.HTML object>"
      ]
     },
     "metadata": {},
     "output_type": "display_data"
    },
    {
     "name": "stdout",
     "output_type": "stream",
     "text": [
      "-0.24627652764320374\n"
     ]
    },
    {
     "data": {
      "text/html": [],
      "text/plain": [
       "<IPython.core.display.HTML object>"
      ]
     },
     "metadata": {},
     "output_type": "display_data"
    },
    {
     "name": "stdout",
     "output_type": "stream",
     "text": [
      "0.2578401565551758\n"
     ]
    },
    {
     "data": {
      "text/html": [],
      "text/plain": [
       "<IPython.core.display.HTML object>"
      ]
     },
     "metadata": {},
     "output_type": "display_data"
    },
    {
     "name": "stdout",
     "output_type": "stream",
     "text": [
      "-0.0704164206981659\n"
     ]
    },
    {
     "data": {
      "text/html": [],
      "text/plain": [
       "<IPython.core.display.HTML object>"
      ]
     },
     "metadata": {},
     "output_type": "display_data"
    },
    {
     "name": "stdout",
     "output_type": "stream",
     "text": [
      "0.04823090136051178\n"
     ]
    },
    {
     "data": {
      "text/html": [],
      "text/plain": [
       "<IPython.core.display.HTML object>"
      ]
     },
     "metadata": {},
     "output_type": "display_data"
    },
    {
     "name": "stdout",
     "output_type": "stream",
     "text": [
      "0.20674920082092285\n"
     ]
    },
    {
     "data": {
      "text/html": [],
      "text/plain": [
       "<IPython.core.display.HTML object>"
      ]
     },
     "metadata": {},
     "output_type": "display_data"
    },
    {
     "name": "stdout",
     "output_type": "stream",
     "text": [
      "0.13958565890789032\n"
     ]
    },
    {
     "data": {
      "text/html": [],
      "text/plain": [
       "<IPython.core.display.HTML object>"
      ]
     },
     "metadata": {},
     "output_type": "display_data"
    },
    {
     "name": "stdout",
     "output_type": "stream",
     "text": [
      "0.25770464539527893\n"
     ]
    },
    {
     "data": {
      "text/html": [],
      "text/plain": [
       "<IPython.core.display.HTML object>"
      ]
     },
     "metadata": {},
     "output_type": "display_data"
    },
    {
     "name": "stdout",
     "output_type": "stream",
     "text": [
      "0.26361000537872314\n"
     ]
    },
    {
     "data": {
      "text/html": [],
      "text/plain": [
       "<IPython.core.display.HTML object>"
      ]
     },
     "metadata": {},
     "output_type": "display_data"
    },
    {
     "name": "stdout",
     "output_type": "stream",
     "text": [
      "0.24980250000953674\n"
     ]
    },
    {
     "data": {
      "text/html": [],
      "text/plain": [
       "<IPython.core.display.HTML object>"
      ]
     },
     "metadata": {},
     "output_type": "display_data"
    },
    {
     "name": "stdout",
     "output_type": "stream",
     "text": [
      "0.22574767470359802\n"
     ]
    },
    {
     "data": {
      "text/html": [],
      "text/plain": [
       "<IPython.core.display.HTML object>"
      ]
     },
     "metadata": {},
     "output_type": "display_data"
    },
    {
     "name": "stdout",
     "output_type": "stream",
     "text": [
      "0.3322741389274597\n"
     ]
    },
    {
     "data": {
      "text/html": [],
      "text/plain": [
       "<IPython.core.display.HTML object>"
      ]
     },
     "metadata": {},
     "output_type": "display_data"
    },
    {
     "name": "stdout",
     "output_type": "stream",
     "text": [
      "0.23953795433044434\n"
     ]
    },
    {
     "data": {
      "text/html": [],
      "text/plain": [
       "<IPython.core.display.HTML object>"
      ]
     },
     "metadata": {},
     "output_type": "display_data"
    },
    {
     "name": "stdout",
     "output_type": "stream",
     "text": [
      "0.23718714714050293\n"
     ]
    },
    {
     "data": {
      "text/html": [],
      "text/plain": [
       "<IPython.core.display.HTML object>"
      ]
     },
     "metadata": {},
     "output_type": "display_data"
    },
    {
     "name": "stdout",
     "output_type": "stream",
     "text": [
      "0.24744778871536255\n"
     ]
    },
    {
     "data": {
      "text/html": [],
      "text/plain": [
       "<IPython.core.display.HTML object>"
      ]
     },
     "metadata": {},
     "output_type": "display_data"
    },
    {
     "name": "stdout",
     "output_type": "stream",
     "text": [
      "0.14527985453605652\n"
     ]
    },
    {
     "data": {
      "text/html": [],
      "text/plain": [
       "<IPython.core.display.HTML object>"
      ]
     },
     "metadata": {},
     "output_type": "display_data"
    },
    {
     "name": "stdout",
     "output_type": "stream",
     "text": [
      "0.15177057683467865\n"
     ]
    },
    {
     "data": {
      "text/html": [],
      "text/plain": [
       "<IPython.core.display.HTML object>"
      ]
     },
     "metadata": {},
     "output_type": "display_data"
    },
    {
     "name": "stdout",
     "output_type": "stream",
     "text": [
      "0.2183953821659088\n"
     ]
    },
    {
     "data": {
      "text/html": [],
      "text/plain": [
       "<IPython.core.display.HTML object>"
      ]
     },
     "metadata": {},
     "output_type": "display_data"
    },
    {
     "name": "stdout",
     "output_type": "stream",
     "text": [
      "0.06228563189506531\n"
     ]
    },
    {
     "data": {
      "text/html": [],
      "text/plain": [
       "<IPython.core.display.HTML object>"
      ]
     },
     "metadata": {},
     "output_type": "display_data"
    },
    {
     "name": "stdout",
     "output_type": "stream",
     "text": [
      "0.005122154951095581\n"
     ]
    },
    {
     "data": {
      "text/html": [],
      "text/plain": [
       "<IPython.core.display.HTML object>"
      ]
     },
     "metadata": {},
     "output_type": "display_data"
    },
    {
     "name": "stdout",
     "output_type": "stream",
     "text": [
      "0.28020429611206055\n"
     ]
    },
    {
     "data": {
      "text/html": [],
      "text/plain": [
       "<IPython.core.display.HTML object>"
      ]
     },
     "metadata": {},
     "output_type": "display_data"
    },
    {
     "name": "stdout",
     "output_type": "stream",
     "text": [
      "0.1677219718694687\n"
     ]
    },
    {
     "data": {
      "text/html": [],
      "text/plain": [
       "<IPython.core.display.HTML object>"
      ]
     },
     "metadata": {},
     "output_type": "display_data"
    },
    {
     "name": "stdout",
     "output_type": "stream",
     "text": [
      "0.04507449269294739\n"
     ]
    },
    {
     "data": {
      "text/html": [],
      "text/plain": [
       "<IPython.core.display.HTML object>"
      ]
     },
     "metadata": {},
     "output_type": "display_data"
    },
    {
     "name": "stdout",
     "output_type": "stream",
     "text": [
      "-0.3544921875\n"
     ]
    },
    {
     "data": {
      "text/html": [],
      "text/plain": [
       "<IPython.core.display.HTML object>"
      ]
     },
     "metadata": {},
     "output_type": "display_data"
    },
    {
     "name": "stdout",
     "output_type": "stream",
     "text": [
      "0.06399014592170715\n"
     ]
    },
    {
     "data": {
      "text/html": [],
      "text/plain": [
       "<IPython.core.display.HTML object>"
      ]
     },
     "metadata": {},
     "output_type": "display_data"
    },
    {
     "name": "stdout",
     "output_type": "stream",
     "text": [
      "0.22820182144641876\n"
     ]
    },
    {
     "data": {
      "text/html": [],
      "text/plain": [
       "<IPython.core.display.HTML object>"
      ]
     },
     "metadata": {},
     "output_type": "display_data"
    },
    {
     "name": "stdout",
     "output_type": "stream",
     "text": [
      "-0.06880559027194977\n"
     ]
    },
    {
     "data": {
      "text/html": [],
      "text/plain": [
       "<IPython.core.display.HTML object>"
      ]
     },
     "metadata": {},
     "output_type": "display_data"
    },
    {
     "name": "stdout",
     "output_type": "stream",
     "text": [
      "0.27168309688568115\n"
     ]
    },
    {
     "data": {
      "text/html": [],
      "text/plain": [
       "<IPython.core.display.HTML object>"
      ]
     },
     "metadata": {},
     "output_type": "display_data"
    },
    {
     "name": "stdout",
     "output_type": "stream",
     "text": [
      "0.28565266728401184\n"
     ]
    },
    {
     "data": {
      "text/html": [],
      "text/plain": [
       "<IPython.core.display.HTML object>"
      ]
     },
     "metadata": {},
     "output_type": "display_data"
    },
    {
     "name": "stdout",
     "output_type": "stream",
     "text": [
      "0.2685624361038208\n"
     ]
    },
    {
     "data": {
      "text/html": [],
      "text/plain": [
       "<IPython.core.display.HTML object>"
      ]
     },
     "metadata": {},
     "output_type": "display_data"
    },
    {
     "name": "stdout",
     "output_type": "stream",
     "text": [
      "-0.3578532040119171\n"
     ]
    },
    {
     "data": {
      "text/html": [],
      "text/plain": [
       "<IPython.core.display.HTML object>"
      ]
     },
     "metadata": {},
     "output_type": "display_data"
    },
    {
     "name": "stdout",
     "output_type": "stream",
     "text": [
      "0.24744778871536255\n"
     ]
    },
    {
     "data": {
      "text/html": [],
      "text/plain": [
       "<IPython.core.display.HTML object>"
      ]
     },
     "metadata": {},
     "output_type": "display_data"
    },
    {
     "name": "stdout",
     "output_type": "stream",
     "text": [
      "0.2472122311592102\n"
     ]
    },
    {
     "data": {
      "text/html": [],
      "text/plain": [
       "<IPython.core.display.HTML object>"
      ]
     },
     "metadata": {},
     "output_type": "display_data"
    },
    {
     "name": "stdout",
     "output_type": "stream",
     "text": [
      "0.07309629023075104\n"
     ]
    },
    {
     "data": {
      "text/html": [],
      "text/plain": [
       "<IPython.core.display.HTML object>"
      ]
     },
     "metadata": {},
     "output_type": "display_data"
    },
    {
     "name": "stdout",
     "output_type": "stream",
     "text": [
      "-0.00909695029258728\n"
     ]
    },
    {
     "data": {
      "text/html": [],
      "text/plain": [
       "<IPython.core.display.HTML object>"
      ]
     },
     "metadata": {},
     "output_type": "display_data"
    },
    {
     "name": "stdout",
     "output_type": "stream",
     "text": [
      "0.2057197391986847\n"
     ]
    },
    {
     "data": {
      "text/html": [],
      "text/plain": [
       "<IPython.core.display.HTML object>"
      ]
     },
     "metadata": {},
     "output_type": "display_data"
    },
    {
     "name": "stdout",
     "output_type": "stream",
     "text": [
      "0.23162224888801575\n"
     ]
    },
    {
     "data": {
      "text/html": [],
      "text/plain": [
       "<IPython.core.display.HTML object>"
      ]
     },
     "metadata": {},
     "output_type": "display_data"
    },
    {
     "name": "stdout",
     "output_type": "stream",
     "text": [
      "0.274383008480072\n"
     ]
    },
    {
     "data": {
      "text/html": [],
      "text/plain": [
       "<IPython.core.display.HTML object>"
      ]
     },
     "metadata": {},
     "output_type": "display_data"
    },
    {
     "name": "stdout",
     "output_type": "stream",
     "text": [
      "0.2225569784641266\n"
     ]
    },
    {
     "data": {
      "text/html": [],
      "text/plain": [
       "<IPython.core.display.HTML object>"
      ]
     },
     "metadata": {},
     "output_type": "display_data"
    },
    {
     "name": "stdout",
     "output_type": "stream",
     "text": [
      "0.24744778871536255\n"
     ]
    },
    {
     "data": {
      "text/html": [],
      "text/plain": [
       "<IPython.core.display.HTML object>"
      ]
     },
     "metadata": {},
     "output_type": "display_data"
    },
    {
     "name": "stdout",
     "output_type": "stream",
     "text": [
      "0.13290539383888245\n"
     ]
    },
    {
     "data": {
      "text/html": [],
      "text/plain": [
       "<IPython.core.display.HTML object>"
      ]
     },
     "metadata": {},
     "output_type": "display_data"
    },
    {
     "name": "stdout",
     "output_type": "stream",
     "text": [
      "0.288983017206192\n"
     ]
    },
    {
     "data": {
      "text/html": [],
      "text/plain": [
       "<IPython.core.display.HTML object>"
      ]
     },
     "metadata": {},
     "output_type": "display_data"
    },
    {
     "name": "stdout",
     "output_type": "stream",
     "text": [
      "0.23605038225650787\n"
     ]
    },
    {
     "data": {
      "text/html": [],
      "text/plain": [
       "<IPython.core.display.HTML object>"
      ]
     },
     "metadata": {},
     "output_type": "display_data"
    },
    {
     "name": "stdout",
     "output_type": "stream",
     "text": [
      "0.2510915994644165\n"
     ]
    },
    {
     "data": {
      "text/html": [],
      "text/plain": [
       "<IPython.core.display.HTML object>"
      ]
     },
     "metadata": {},
     "output_type": "display_data"
    },
    {
     "name": "stdout",
     "output_type": "stream",
     "text": [
      "0.24409140646457672\n"
     ]
    },
    {
     "data": {
      "text/html": [],
      "text/plain": [
       "<IPython.core.display.HTML object>"
      ]
     },
     "metadata": {},
     "output_type": "display_data"
    },
    {
     "name": "stdout",
     "output_type": "stream",
     "text": [
      "0.20014309883117676\n"
     ]
    },
    {
     "data": {
      "text/html": [],
      "text/plain": [
       "<IPython.core.display.HTML object>"
      ]
     },
     "metadata": {},
     "output_type": "display_data"
    },
    {
     "name": "stdout",
     "output_type": "stream",
     "text": [
      "0.1878720223903656\n"
     ]
    },
    {
     "data": {
      "text/html": [],
      "text/plain": [
       "<IPython.core.display.HTML object>"
      ]
     },
     "metadata": {},
     "output_type": "display_data"
    },
    {
     "name": "stdout",
     "output_type": "stream",
     "text": [
      "0.22273772954940796\n"
     ]
    },
    {
     "data": {
      "text/html": [],
      "text/plain": [
       "<IPython.core.display.HTML object>"
      ]
     },
     "metadata": {},
     "output_type": "display_data"
    },
    {
     "name": "stdout",
     "output_type": "stream",
     "text": [
      "0.07990372180938721\n"
     ]
    },
    {
     "data": {
      "text/html": [],
      "text/plain": [
       "<IPython.core.display.HTML object>"
      ]
     },
     "metadata": {},
     "output_type": "display_data"
    },
    {
     "name": "stdout",
     "output_type": "stream",
     "text": [
      "0.21576115489006042\n"
     ]
    },
    {
     "data": {
      "text/html": [],
      "text/plain": [
       "<IPython.core.display.HTML object>"
      ]
     },
     "metadata": {},
     "output_type": "display_data"
    },
    {
     "name": "stdout",
     "output_type": "stream",
     "text": [
      "0.22575533390045166\n"
     ]
    },
    {
     "data": {
      "text/html": [],
      "text/plain": [
       "<IPython.core.display.HTML object>"
      ]
     },
     "metadata": {},
     "output_type": "display_data"
    },
    {
     "name": "stdout",
     "output_type": "stream",
     "text": [
      "0.19485409557819366\n"
     ]
    },
    {
     "data": {
      "text/html": [],
      "text/plain": [
       "<IPython.core.display.HTML object>"
      ]
     },
     "metadata": {},
     "output_type": "display_data"
    },
    {
     "name": "stdout",
     "output_type": "stream",
     "text": [
      "0.2050567865371704\n"
     ]
    },
    {
     "data": {
      "text/html": [],
      "text/plain": [
       "<IPython.core.display.HTML object>"
      ]
     },
     "metadata": {},
     "output_type": "display_data"
    },
    {
     "name": "stdout",
     "output_type": "stream",
     "text": [
      "-0.04071526229381561\n"
     ]
    },
    {
     "data": {
      "text/html": [],
      "text/plain": [
       "<IPython.core.display.HTML object>"
      ]
     },
     "metadata": {},
     "output_type": "display_data"
    },
    {
     "name": "stdout",
     "output_type": "stream",
     "text": [
      "0.30405333638191223\n"
     ]
    },
    {
     "data": {
      "text/html": [],
      "text/plain": [
       "<IPython.core.display.HTML object>"
      ]
     },
     "metadata": {},
     "output_type": "display_data"
    },
    {
     "name": "stdout",
     "output_type": "stream",
     "text": [
      "-0.3467831015586853\n"
     ]
    },
    {
     "data": {
      "text/html": [],
      "text/plain": [
       "<IPython.core.display.HTML object>"
      ]
     },
     "metadata": {},
     "output_type": "display_data"
    },
    {
     "name": "stdout",
     "output_type": "stream",
     "text": [
      "-0.04363928735256195\n"
     ]
    },
    {
     "data": {
      "text/html": [],
      "text/plain": [
       "<IPython.core.display.HTML object>"
      ]
     },
     "metadata": {},
     "output_type": "display_data"
    },
    {
     "name": "stdout",
     "output_type": "stream",
     "text": [
      "0.04892371594905853\n"
     ]
    },
    {
     "data": {
      "text/html": [],
      "text/plain": [
       "<IPython.core.display.HTML object>"
      ]
     },
     "metadata": {},
     "output_type": "display_data"
    },
    {
     "name": "stdout",
     "output_type": "stream",
     "text": [
      "0.19305822253227234\n"
     ]
    },
    {
     "data": {
      "text/html": [],
      "text/plain": [
       "<IPython.core.display.HTML object>"
      ]
     },
     "metadata": {},
     "output_type": "display_data"
    },
    {
     "name": "stdout",
     "output_type": "stream",
     "text": [
      "0.08741286396980286\n"
     ]
    },
    {
     "data": {
      "text/html": [],
      "text/plain": [
       "<IPython.core.display.HTML object>"
      ]
     },
     "metadata": {},
     "output_type": "display_data"
    },
    {
     "name": "stdout",
     "output_type": "stream",
     "text": [
      "0.2606697976589203\n"
     ]
    },
    {
     "data": {
      "text/html": [],
      "text/plain": [
       "<IPython.core.display.HTML object>"
      ]
     },
     "metadata": {},
     "output_type": "display_data"
    },
    {
     "name": "stdout",
     "output_type": "stream",
     "text": [
      "0.24613437056541443\n"
     ]
    },
    {
     "data": {
      "text/html": [],
      "text/plain": [
       "<IPython.core.display.HTML object>"
      ]
     },
     "metadata": {},
     "output_type": "display_data"
    },
    {
     "name": "stdout",
     "output_type": "stream",
     "text": [
      "0.20014309883117676\n"
     ]
    },
    {
     "data": {
      "text/html": [],
      "text/plain": [
       "<IPython.core.display.HTML object>"
      ]
     },
     "metadata": {},
     "output_type": "display_data"
    },
    {
     "name": "stdout",
     "output_type": "stream",
     "text": [
      "0.07456758618354797\n"
     ]
    },
    {
     "data": {
      "text/html": [],
      "text/plain": [
       "<IPython.core.display.HTML object>"
      ]
     },
     "metadata": {},
     "output_type": "display_data"
    },
    {
     "name": "stdout",
     "output_type": "stream",
     "text": [
      "0.21133995056152344\n"
     ]
    },
    {
     "data": {
      "text/html": [],
      "text/plain": [
       "<IPython.core.display.HTML object>"
      ]
     },
     "metadata": {},
     "output_type": "display_data"
    },
    {
     "name": "stdout",
     "output_type": "stream",
     "text": [
      "0.10676875710487366\n"
     ]
    },
    {
     "data": {
      "text/html": [],
      "text/plain": [
       "<IPython.core.display.HTML object>"
      ]
     },
     "metadata": {},
     "output_type": "display_data"
    },
    {
     "name": "stdout",
     "output_type": "stream",
     "text": [
      "0.2202855348587036\n"
     ]
    },
    {
     "data": {
      "text/html": [],
      "text/plain": [
       "<IPython.core.display.HTML object>"
      ]
     },
     "metadata": {},
     "output_type": "display_data"
    },
    {
     "name": "stdout",
     "output_type": "stream",
     "text": [
      "0.16653667390346527\n"
     ]
    },
    {
     "data": {
      "text/html": [],
      "text/plain": [
       "<IPython.core.display.HTML object>"
      ]
     },
     "metadata": {},
     "output_type": "display_data"
    },
    {
     "name": "stdout",
     "output_type": "stream",
     "text": [
      "0.22818121314048767\n"
     ]
    },
    {
     "data": {
      "text/html": [],
      "text/plain": [
       "<IPython.core.display.HTML object>"
      ]
     },
     "metadata": {},
     "output_type": "display_data"
    },
    {
     "name": "stdout",
     "output_type": "stream",
     "text": [
      "0.18670019507408142\n"
     ]
    },
    {
     "data": {
      "text/html": [],
      "text/plain": [
       "<IPython.core.display.HTML object>"
      ]
     },
     "metadata": {},
     "output_type": "display_data"
    },
    {
     "name": "stdout",
     "output_type": "stream",
     "text": [
      "-0.2242196649312973\n"
     ]
    },
    {
     "data": {
      "text/html": [],
      "text/plain": [
       "<IPython.core.display.HTML object>"
      ]
     },
     "metadata": {},
     "output_type": "display_data"
    },
    {
     "name": "stdout",
     "output_type": "stream",
     "text": [
      "0.1139879822731018\n"
     ]
    },
    {
     "data": {
      "text/html": [],
      "text/plain": [
       "<IPython.core.display.HTML object>"
      ]
     },
     "metadata": {},
     "output_type": "display_data"
    },
    {
     "name": "stdout",
     "output_type": "stream",
     "text": [
      "0.09214495122432709\n"
     ]
    },
    {
     "data": {
      "text/html": [],
      "text/plain": [
       "<IPython.core.display.HTML object>"
      ]
     },
     "metadata": {},
     "output_type": "display_data"
    },
    {
     "name": "stdout",
     "output_type": "stream",
     "text": [
      "0.16843849420547485\n"
     ]
    },
    {
     "data": {
      "text/html": [],
      "text/plain": [
       "<IPython.core.display.HTML object>"
      ]
     },
     "metadata": {},
     "output_type": "display_data"
    },
    {
     "name": "stdout",
     "output_type": "stream",
     "text": [
      "0.2793005108833313\n"
     ]
    },
    {
     "data": {
      "text/html": [],
      "text/plain": [
       "<IPython.core.display.HTML object>"
      ]
     },
     "metadata": {},
     "output_type": "display_data"
    },
    {
     "name": "stdout",
     "output_type": "stream",
     "text": [
      "0.17994004487991333\n"
     ]
    },
    {
     "data": {
      "text/html": [],
      "text/plain": [
       "<IPython.core.display.HTML object>"
      ]
     },
     "metadata": {},
     "output_type": "display_data"
    },
    {
     "name": "stdout",
     "output_type": "stream",
     "text": [
      "0.28020429611206055\n"
     ]
    },
    {
     "data": {
      "text/html": [],
      "text/plain": [
       "<IPython.core.display.HTML object>"
      ]
     },
     "metadata": {},
     "output_type": "display_data"
    },
    {
     "name": "stdout",
     "output_type": "stream",
     "text": [
      "-0.25470906496047974\n"
     ]
    },
    {
     "data": {
      "text/html": [],
      "text/plain": [
       "<IPython.core.display.HTML object>"
      ]
     },
     "metadata": {},
     "output_type": "display_data"
    },
    {
     "name": "stdout",
     "output_type": "stream",
     "text": [
      "0.21774128079414368\n"
     ]
    },
    {
     "data": {
      "text/html": [],
      "text/plain": [
       "<IPython.core.display.HTML object>"
      ]
     },
     "metadata": {},
     "output_type": "display_data"
    },
    {
     "name": "stdout",
     "output_type": "stream",
     "text": [
      "-0.06880559027194977\n"
     ]
    },
    {
     "data": {
      "text/html": [],
      "text/plain": [
       "<IPython.core.display.HTML object>"
      ]
     },
     "metadata": {},
     "output_type": "display_data"
    },
    {
     "name": "stdout",
     "output_type": "stream",
     "text": [
      "0.2009955644607544\n"
     ]
    },
    {
     "data": {
      "text/html": [],
      "text/plain": [
       "<IPython.core.display.HTML object>"
      ]
     },
     "metadata": {},
     "output_type": "display_data"
    },
    {
     "name": "stdout",
     "output_type": "stream",
     "text": [
      "0.20423759520053864\n"
     ]
    },
    {
     "data": {
      "text/html": [],
      "text/plain": [
       "<IPython.core.display.HTML object>"
      ]
     },
     "metadata": {},
     "output_type": "display_data"
    },
    {
     "name": "stdout",
     "output_type": "stream",
     "text": [
      "-0.04085734486579895\n"
     ]
    },
    {
     "data": {
      "text/html": [],
      "text/plain": [
       "<IPython.core.display.HTML object>"
      ]
     },
     "metadata": {},
     "output_type": "display_data"
    },
    {
     "name": "stdout",
     "output_type": "stream",
     "text": [
      "0.24024698138237\n"
     ]
    },
    {
     "data": {
      "text/html": [],
      "text/plain": [
       "<IPython.core.display.HTML object>"
      ]
     },
     "metadata": {},
     "output_type": "display_data"
    },
    {
     "name": "stdout",
     "output_type": "stream",
     "text": [
      "0.28565266728401184\n"
     ]
    }
   ],
   "source": [
    "best_objectives = np.array(\n",
    "    [[trial.objective_mean for trial in experiment.trials.values()]]\n",
    ")\n",
    "rand_objectives = []\n",
    "def random_mutations(params, inseq,maxloops=100):\n",
    "  valpos = params[0]['values']\n",
    "  valmut = params[1]['values']\n",
    "  newseq = inseq\n",
    "  for round in range(maxloops):\n",
    "    randpos = random.randint(0,len(valpos)-1)\n",
    "    randmut = random.randint(0,len(valmut)-1)\n",
    "    newseq = newseq[:randpos]+valmut[randmut] + newseq[randpos+1:]\n",
    "    ts = {'seq': [newseq], 'smiles': [smiles_fentanyl]} #SMILES of fentanyl\n",
    "    #print(round)\n",
    "    score = (predictor.predict(ts).predictions)*-1\n",
    "    print(score)\n",
    "    rand_objectives.append(score)\n",
    "    #print(rand_objectives)\n",
    "    newseq = inseq #reset to the original inseq to match what the BO is optimizing with\n",
    "random_mutations(axbo_params,fasta_str_f)\n"
   ]
  },
  {
   "cell_type": "code",
   "execution_count": null,
   "metadata": {},
   "outputs": [],
   "source": [
    "gascores = []\n",
    "bestmuts = []\n",
    "from copy import deepcopy\n",
    "def cityga(seq,maxrounds=2,pop=10):\n",
    "  smi = smiles_fentanyl\n",
    "  #smi = \"C[C@H]1CN(CC[C@@]1(C)c2cccc(c2)O)C[C@H](C(C)C)NC(=O)[C@H]3Cc4ccc(cc4CN3)O\"\n",
    "  def mutt(params, inseq):\n",
    "    valpos = params[0]['values']\n",
    "    valmut = params[1]['values']\n",
    "    newseq = inseq\n",
    "    for round in range(maxrounds):\n",
    "      randpos = random.randint(0,len(valpos)-1)\n",
    "      randmut = random.randint(0,len(valmut)-1)\n",
    "      newseq = newseq[:randpos]+valmut[randmut] + newseq[randpos+1:]\n",
    "      return newseq\n",
    "  def breed(seq1,seq2,childn=10):\n",
    "    childs = []\n",
    "    for i in range(childn):\n",
    "      splitpt = random.randint(0,len(seq2))\n",
    "      childs.append(seq1[:splitpt]+seq2[splitpt:])\n",
    "    return childs\n",
    "  initpop = [seq for i in range(pop)]\n",
    "  initmut = [mutt(params,seq) for seq in initpop]\n",
    "  print([initmut[x]==initpop[x] for x in range(len(initmut)) ])\n",
    "  for round in range(maxrounds):\n",
    "    if round%5==0:\n",
    "      print(round)\n",
    "    scores = [predictor.predict({\"seq\":[mut,],\"smiles\":[smi,]}).predictions*-1 for mut in initmut]\n",
    "    sc = deepcopy(scores)\n",
    "    bestid = scores.index(max(sc))\n",
    "    sc.pop(bestid)\n",
    "    nextbestid = scores.index(max(sc))\n",
    "    initmut = breed(initmut[bestid],initmut[nextbestid])\n",
    "    initmut = [mutt(params,seq) for seq in initmut]\n",
    "    gascores.append(scores[bestid])\n",
    "    bestmuts.append(initmut[bestid])\n",
    "\n",
    "cityga(fasta_str_f,maxrounds=50)"
   ]
  },
  {
   "cell_type": "code",
   "execution_count": 40,
   "metadata": {
    "tags": []
   },
   "outputs": [
    {
     "data": {
      "image/png": "[encoded data removed]",
      "text/plain": [
       "<Figure size 640x480 with 1 Axes>"
      ]
     },
     "metadata": {},
     "output_type": "display_data"
    }
   ],
   "source": []
  },
  {
   "cell_type": "markdown",
   "metadata": {
    "id": "VEOI1p1s5zXG"
   },
   "source": [
    "Additive BO: allow model to save mutations that yield proteins with a higher binding affinity as the optimization progresses."
   ]
  },
  {
   "cell_type": "code",
   "execution_count": 49,
   "metadata": {
    "colab": {
     "base_uri": "https://localhost:8080/",
     "height": 810
    },
    "collapsed": true,
    "id": "v5jH8xXz6ENZ",
    "jupyter": {
     "outputs_hidden": true
    },
    "outputId": "9b1e57a4-4cd9-45bf-ee22-1cf80b8e50e1",
    "tags": []
   },
   "outputs": [
    {
     "name": "stderr",
     "output_type": "stream",
     "text": [
      "/nfs/ai/chemical-diffuser/venv/lib/python3.8/site-packages/ax/core/parameter.py:517: UserWarning: `is_ordered` is not specified for `ChoiceParameter` \"position\". Defaulting to `True` for parameters of `ParameterType` INT. To override this behavior (or avoid this warning), specify `is_ordered` during `ChoiceParameter` construction.\n",
      "  warn(\n",
      "/nfs/ai/chemical-diffuser/venv/lib/python3.8/site-packages/ax/core/parameter.py:517: UserWarning: `sort_values` is not specified for `ChoiceParameter` \"position\". Defaulting to `True` for parameters of `ParameterType` INT. To override this behavior (or avoid this warning), specify `sort_values` during `ChoiceParameter` construction.\n",
      "  warn(\n",
      "[INFO 03-29 00:32:55] ax.service.utils.instantiation: Inferred value type of ParameterType.STRING for parameter mutation. If that is not the expected value type, you can explicity specify 'value_type' ('int', 'float', 'bool' or 'str') in parameter dict.\n",
      "/nfs/ai/chemical-diffuser/venv/lib/python3.8/site-packages/ax/core/parameter.py:517: UserWarning: `is_ordered` is not specified for `ChoiceParameter` \"mutation\". Defaulting to `False` for parameters of `ParameterType` STRING. To override this behavior (or avoid this warning), specify `is_ordered` during `ChoiceParameter` construction.\n",
      "  warn(\n",
      "/nfs/ai/chemical-diffuser/venv/lib/python3.8/site-packages/ax/core/parameter.py:517: UserWarning: `sort_values` is not specified for `ChoiceParameter` \"mutation\". Defaulting to `False` for parameters of `ParameterType` STRING. To override this behavior (or avoid this warning), specify `sort_values` during `ChoiceParameter` construction.\n",
      "  warn(\n",
      "[INFO 03-29 00:32:55] ax.service.utils.instantiation: Created search space: SearchSpace(parameters=[ChoiceParameter(name='position', parameter_type=INT, values=[7, 9, 35, 36, 37, 63, 64, 65, 67, 69, 71, 80, 82, 89, 90, 91, 92, 108, 110, 111, 112, 116, 117, 118, 120, 125, 127, 129, 131, 166, 172, 173, 174], is_ordered=True, sort_values=True), ChoiceParameter(name='mutation', parameter_type=STRING, values=['A', 'R', 'N', 'D', 'C', 'Q', 'E', 'G', 'H', 'I', 'L', 'K', 'M', 'F', 'P', 'S', 'T', 'W', 'Y', 'V'], is_ordered=False, sort_values=False)], parameter_constraints=[]).\n",
      "[INFO 03-29 00:32:55] ax.modelbridge.dispatch_utils: Using Bayesian optimization with a categorical kernel for improved performance with a large number of unordered categorical parameters.\n",
      "[INFO 03-29 00:32:55] ax.modelbridge.dispatch_utils: Calculating the number of remaining initialization trials based on num_initialization_trials=None max_initialization_trials=None num_tunable_parameters=2 num_trials=None use_batch_trials=False\n",
      "[INFO 03-29 00:32:55] ax.modelbridge.dispatch_utils: calculated num_initialization_trials=5\n",
      "[INFO 03-29 00:32:55] ax.modelbridge.dispatch_utils: num_completed_initialization_trials=0 num_remaining_initialization_trials=5\n",
      "[INFO 03-29 00:32:55] ax.modelbridge.dispatch_utils: Using Bayesian Optimization generation strategy: GenerationStrategy(name='Sobol+BO_MIXED', steps=[Sobol for 5 trials, BO_MIXED for subsequent trials]). Iterations after 5 will take longer to generate due to model-fitting.\n"
     ]
    },
    {
     "data": {
      "text/html": [],
      "text/plain": [
       "<IPython.core.display.HTML object>"
      ]
     },
     "metadata": {},
     "output_type": "display_data"
    },
    {
     "name": "stdout",
     "output_type": "stream",
     "text": [
      "Initial score =  0.24744778871536255\n",
      "Starting BO loop:\n",
      "~~~~~ Starting BO loop nb 1 ~~~~~\n"
     ]
    },
    {
     "data": {
      "text/html": [],
      "text/plain": [
       "<IPython.core.display.HTML object>"
      ]
     },
     "metadata": {},
     "output_type": "display_data"
    },
    {
     "name": "stdout",
     "output_type": "stream",
     "text": [
      "Mutated: R 172 KD (uM): 0.6386935302840012 Predictions: -0.1947074830532074 Mutated Sequence: MSTDYWLNFTDGGGIVNAVNGSGGNYSVNWSNTGSFVVGKGWTTGSPFRTINYNAGVWAPNGWGALALVGWTRSPLIAYYVVDSWGTARWTGTYKGTVKSDGGTYDIYTTTRYNAPSIDGDRTTFTQYWSVRQSKRPTGSNATITFSNHVNAWKSHGMNLGSNWAYQVMATARYQSSGSSNVTVW\n"
     ]
    },
    {
     "data": {
      "text/html": [],
      "text/plain": [
       "<IPython.core.display.HTML object>"
      ]
     },
     "metadata": {},
     "output_type": "display_data"
    },
    {
     "name": "stdout",
     "output_type": "stream",
     "text": [
      "Mutated: L 92 KD (uM): 0.7219413399169207 Predictions: -0.14149808883666992 Mutated Sequence: MSTDYWLNFTDGGGIVNAVNGSGGNYSVNWSNTGSFVVGKGWTTGSPFRTINYNAGVWAPNGWGALALVGWTRSPLIAYYVVDSWGTARWTGLYKGTVKSDGGTYDIYTTTRYNAPSIDGDRTTFTQYWSVRQSKRPTGSNATITFSNHVNAWKSHGMNLGSNWAYQVMATAGYQSSGSSNVTVW\n"
     ]
    },
    {
     "data": {
      "text/html": [],
      "text/plain": [
       "<IPython.core.display.HTML object>"
      ]
     },
     "metadata": {},
     "output_type": "display_data"
    },
    {
     "name": "stdout",
     "output_type": "stream",
     "text": [
      "Mutated: A 127 KD (uM): 2.044673244140254 Predictions: 0.3106239140033722 Mutated Sequence: MSTDYWLNFTDGGGIVNAVNGSGGNYSVNWSNTGSFVVGKGWTTGSPFRTINYNAGVWAPNGWGALALVGWTRSPLIAYYVVDSWGTARWTGTYKGTVKSDGGTYDIYTTTRYNAPSIDGDRTTFTQAWSVRQSKRPTGSNATITFSNHVNAWKSHGMNLGSNWAYQVMATAGYQSSGSSNVTVW\n"
     ]
    },
    {
     "data": {
      "text/html": [],
      "text/plain": [
       "<IPython.core.display.HTML object>"
      ]
     },
     "metadata": {},
     "output_type": "display_data"
    },
    {
     "name": "stdout",
     "output_type": "stream",
     "text": [
      "Mutated: P 65 KD (uM): 3.9982296492183913 Predictions: 0.6018677353858948 Mutated Sequence: MSTDYWLNFTDGGGIVNAVNGSGGNYSVNWSNTGSFVVGKGWTTGSPFRTINYNAGVWAPNGWGAPALVGWTRSPLIAYYVVDSWGTARWTGTYKGTVKSDGGTYDIYTTTRYNAPSIDGDRTTFTQYWSVRQSKRPTGSNATITFSNHVNAWKSHGMNLGSNWAYQVMATAGYQSSGSSNVTVW\n"
     ]
    },
    {
     "data": {
      "text/html": [],
      "text/plain": [
       "<IPython.core.display.HTML object>"
      ]
     },
     "metadata": {},
     "output_type": "display_data"
    },
    {
     "name": "stdout",
     "output_type": "stream",
     "text": [
      "Mutated: K 166 KD (uM): 1.6675744696130825 Predictions: 0.22208523750305176 Mutated Sequence: MSTDYWLNFTDGGGIVNAVNGSGGNYSVNWSNTGSFVVGKGWTTGSPFRTINYNAGVWAPNGWGALALVGWTRSPLIAYYVVDSWGTARWTGTYKGTVKSDGGTYDIYTTTRYNAPSIDGDRTTFTQYWSVRQSKRPTGSNATITFSNHVNAWKSHGMNLGSNWAYKVMATAGYQSSGSSNVTVW\n"
     ]
    },
    {
     "data": {
      "text/html": [],
      "text/plain": [
       "<IPython.core.display.HTML object>"
      ]
     },
     "metadata": {},
     "output_type": "display_data"
    },
    {
     "name": "stdout",
     "output_type": "stream",
     "text": [
      "Mutated: P 174 KD (uM): 1.1131033554749286 Predictions: 0.046535491943359375 Mutated Sequence: MSTDYWLNFTDGGGIVNAVNGSGGNYSVNWSNTGSFVVGKGWTTGSPFRTINYNAGVWAPNGWGALALVGWTRSPLIAYYVVDSWGTARWTGTYKGTVKSDGGTYDIYTTTRYNAPSIDGDRTTFTQYWSVRQSKRPTGSNATITFSNHVNAWKSHGMNLGSNWAYQVMATAGYPSSGSSNVTVW\n"
     ]
    },
    {
     "data": {
      "text/html": [],
      "text/plain": [
       "<IPython.core.display.HTML object>"
      ]
     },
     "metadata": {},
     "output_type": "display_data"
    },
    {
     "name": "stdout",
     "output_type": "stream",
     "text": [
      "Mutated: P 63 KD (uM): 1.965696871607265 Predictions: 0.2935165464878082 Mutated Sequence: MSTDYWLNFTDGGGIVNAVNGSGGNYSVNWSNTGSFVVGKGWTTGSPFRTINYNAGVWAPNGWPALALVGWTRSPLIAYYVVDSWGTARWTGTYKGTVKSDGGTYDIYTTTRYNAPSIDGDRTTFTQYWSVRQSKRPTGSNATITFSNHVNAWKSHGMNLGSNWAYQVMATAGYQSSGSSNVTVW\n"
     ]
    },
    {
     "data": {
      "text/html": [],
      "text/plain": [
       "<IPython.core.display.HTML object>"
      ]
     },
     "metadata": {},
     "output_type": "display_data"
    },
    {
     "name": "stdout",
     "output_type": "stream",
     "text": [
      "Mutated: P 67 KD (uM): 2.033777394252436 Predictions: 0.3083034157752991 Mutated Sequence: MSTDYWLNFTDGGGIVNAVNGSGGNYSVNWSNTGSFVVGKGWTTGSPFRTINYNAGVWAPNGWGALAPVGWTRSPLIAYYVVDSWGTARWTGTYKGTVKSDGGTYDIYTTTRYNAPSIDGDRTTFTQYWSVRQSKRPTGSNATITFSNHVNAWKSHGMNLGSNWAYQVMATAGYQSSGSSNVTVW\n"
     ]
    },
    {
     "data": {
      "text/html": [],
      "text/plain": [
       "<IPython.core.display.HTML object>"
      ]
     },
     "metadata": {},
     "output_type": "display_data"
    },
    {
     "name": "stdout",
     "output_type": "stream",
     "text": [
      "Mutated: P 64 KD (uM): 1.4493463507706497 Predictions: 0.16117218136787415 Mutated Sequence: MSTDYWLNFTDGGGIVNAVNGSGGNYSVNWSNTGSFVVGKGWTTGSPFRTINYNAGVWAPNGWGPLALVGWTRSPLIAYYVVDSWGTARWTGTYKGTVKSDGGTYDIYTTTRYNAPSIDGDRTTFTQYWSVRQSKRPTGSNATITFSNHVNAWKSHGMNLGSNWAYQVMATAGYQSSGSSNVTVW\n"
     ]
    },
    {
     "data": {
      "text/html": [],
      "text/plain": [
       "<IPython.core.display.HTML object>"
      ]
     },
     "metadata": {},
     "output_type": "display_data"
    },
    {
     "name": "stdout",
     "output_type": "stream",
     "text": [
      "Mutated: P 89 KD (uM): 1.6022335881241483 Predictions: 0.20472583174705505 Mutated Sequence: MSTDYWLNFTDGGGIVNAVNGSGGNYSVNWSNTGSFVVGKGWTTGSPFRTINYNAGVWAPNGWGALALVGWTRSPLIAYYVVDSWGTARPTGTYKGTVKSDGGTYDIYTTTRYNAPSIDGDRTTFTQYWSVRQSKRPTGSNATITFSNHVNAWKSHGMNLGSNWAYQVMATAGYQSSGSSNVTVW\n"
     ]
    },
    {
     "data": {
      "text/html": [],
      "text/plain": [
       "<IPython.core.display.HTML object>"
      ]
     },
     "metadata": {},
     "output_type": "display_data"
    },
    {
     "name": "stdout",
     "output_type": "stream",
     "text": [
      "Mutated: P 35 KD (uM): 0.7153015686763768 Predictions: -0.14551082253456116 Mutated Sequence: MSTDYWLNFTDGGGIVNAVNGSGGNYSVNWSNTGSPVVGKGWTTGSPFRTINYNAGVWAPNGWGALALVGWTRSPLIAYYVVDSWGTARWTGTYKGTVKSDGGTYDIYTTTRYNAPSIDGDRTTFTQYWSVRQSKRPTGSNATITFSNHVNAWKSHGMNLGSNWAYQVMATAGYQSSGSSNVTVW\n"
     ]
    },
    {
     "data": {
      "text/html": [],
      "text/plain": [
       "<IPython.core.display.HTML object>"
      ]
     },
     "metadata": {},
     "output_type": "display_data"
    },
    {
     "name": "stdout",
     "output_type": "stream",
     "text": [
      "Mutated: A 65 KD (uM): 1.320947435528325 Predictions: 0.12088553607463837 Mutated Sequence: MSTDYWLNFTDGGGIVNAVNGSGGNYSVNWSNTGSFVVGKGWTTGSPFRTINYNAGVWAPNGWGAAALVGWTRSPLIAYYVVDSWGTARWTGTYKGTVKSDGGTYDIYTTTRYNAPSIDGDRTTFTQYWSVRQSKRPTGSNATITFSNHVNAWKSHGMNLGSNWAYQVMATAGYQSSGSSNVTVW\n"
     ]
    },
    {
     "data": {
      "text/html": [],
      "text/plain": [
       "<IPython.core.display.HTML object>"
      ]
     },
     "metadata": {},
     "output_type": "display_data"
    },
    {
     "name": "stdout",
     "output_type": "stream",
     "text": [
      "Mutated: P 69 KD (uM): 2.6993686211147074 Predictions: 0.43126219511032104 Mutated Sequence: MSTDYWLNFTDGGGIVNAVNGSGGNYSVNWSNTGSFVVGKGWTTGSPFRTINYNAGVWAPNGWGALALVPWTRSPLIAYYVVDSWGTARWTGTYKGTVKSDGGTYDIYTTTRYNAPSIDGDRTTFTQYWSVRQSKRPTGSNATITFSNHVNAWKSHGMNLGSNWAYQVMATAGYQSSGSSNVTVW\n"
     ]
    },
    {
     "data": {
      "text/html": [],
      "text/plain": [
       "<IPython.core.display.HTML object>"
      ]
     },
     "metadata": {},
     "output_type": "display_data"
    },
    {
     "name": "stdout",
     "output_type": "stream",
     "text": [
      "Mutated: P 71 KD (uM): 2.1810448249426964 Predictions: 0.33866459131240845 Mutated Sequence: MSTDYWLNFTDGGGIVNAVNGSGGNYSVNWSNTGSFVVGKGWTTGSPFRTINYNAGVWAPNGWGALALVGWPRSPLIAYYVVDSWGTARWTGTYKGTVKSDGGTYDIYTTTRYNAPSIDGDRTTFTQYWSVRQSKRPTGSNATITFSNHVNAWKSHGMNLGSNWAYQVMATAGYQSSGSSNVTVW\n"
     ]
    },
    {
     "data": {
      "text/html": [],
      "text/plain": [
       "<IPython.core.display.HTML object>"
      ]
     },
     "metadata": {},
     "output_type": "display_data"
    },
    {
     "name": "stdout",
     "output_type": "stream",
     "text": [
      "Mutated: A 112 KD (uM): 1.8606048760851284 Predictions: 0.26965415477752686 Mutated Sequence: MSTDYWLNFTDGGGIVNAVNGSGGNYSVNWSNTGSFVVGKGWTTGSPFRTINYNAGVWAPNGWGALALVGWTRSPLIAYYVVDSWGTARWTGTYKGTVKSDGGTYDIYTTTRANAPSIDGDRTTFTQYWSVRQSKRPTGSNATITFSNHVNAWKSHGMNLGSNWAYQVMATAGYQSSGSSNVTVW\n"
     ]
    },
    {
     "data": {
      "text/html": [],
      "text/plain": [
       "<IPython.core.display.HTML object>"
      ]
     },
     "metadata": {},
     "output_type": "display_data"
    },
    {
     "name": "stdout",
     "output_type": "stream",
     "text": [
      "Mutated: A 166 KD (uM): 1.682440987584884 Predictions: 0.22593984007835388 Mutated Sequence: MSTDYWLNFTDGGGIVNAVNGSGGNYSVNWSNTGSFVVGKGWTTGSPFRTINYNAGVWAPNGWGALALVGWTRSPLIAYYVVDSWGTARWTGTYKGTVKSDGGTYDIYTTTRYNAPSIDGDRTTFTQYWSVRQSKRPTGSNATITFSNHVNAWKSHGMNLGSNWAYAVMATAGYQSSGSSNVTVW\n"
     ]
    },
    {
     "data": {
      "text/html": [],
      "text/plain": [
       "<IPython.core.display.HTML object>"
      ]
     },
     "metadata": {},
     "output_type": "display_data"
    },
    {
     "name": "stdout",
     "output_type": "stream",
     "text": [
      "Mutated: A 92 KD (uM): 1.8349781480936518 Predictions: 0.2636308968067169 Mutated Sequence: MSTDYWLNFTDGGGIVNAVNGSGGNYSVNWSNTGSFVVGKGWTTGSPFRTINYNAGVWAPNGWGALALVGWTRSPLIAYYVVDSWGTARWTGAYKGTVKSDGGTYDIYTTTRYNAPSIDGDRTTFTQYWSVRQSKRPTGSNATITFSNHVNAWKSHGMNLGSNWAYQVMATAGYQSSGSSNVTVW\n"
     ]
    },
    {
     "data": {
      "text/html": [],
      "text/plain": [
       "<IPython.core.display.HTML object>"
      ]
     },
     "metadata": {},
     "output_type": "display_data"
    },
    {
     "name": "stdout",
     "output_type": "stream",
     "text": [
      "Mutated: K 131 KD (uM): 1.4412566532697688 Predictions: 0.1587413251399994 Mutated Sequence: MSTDYWLNFTDGGGIVNAVNGSGGNYSVNWSNTGSFVVGKGWTTGSPFRTINYNAGVWAPNGWGALALVGWTRSPLIAYYVVDSWGTARWTGTYKGTVKSDGGTYDIYTTTRYNAPSIDGDRTTFTQYWSVKQSKRPTGSNATITFSNHVNAWKSHGMNLGSNWAYQVMATAGYQSSGSSNVTVW\n"
     ]
    },
    {
     "data": {
      "text/html": [],
      "text/plain": [
       "<IPython.core.display.HTML object>"
      ]
     },
     "metadata": {},
     "output_type": "display_data"
    },
    {
     "name": "stdout",
     "output_type": "stream",
     "text": [
      "Mutated: K 89 KD (uM): 0.33807730514928996 Predictions: -0.47098398208618164 Mutated Sequence: MSTDYWLNFTDGGGIVNAVNGSGGNYSVNWSNTGSFVVGKGWTTGSPFRTINYNAGVWAPNGWGALALVGWTRSPLIAYYVVDSWGTARKTGTYKGTVKSDGGTYDIYTTTRYNAPSIDGDRTTFTQYWSVRQSKRPTGSNATITFSNHVNAWKSHGMNLGSNWAYQVMATAGYQSSGSSNVTVW\n"
     ]
    },
    {
     "data": {
      "text/html": [],
      "text/plain": [
       "<IPython.core.display.HTML object>"
      ]
     },
     "metadata": {},
     "output_type": "display_data"
    },
    {
     "name": "stdout",
     "output_type": "stream",
     "text": [
      "Mutated: A 7 KD (uM): 1.1542121240281251 Predictions: 0.06228563189506531 Mutated Sequence: MSTDYWLAFTDGGGIVNAVNGSGGNYSVNWSNTGSFVVGKGWTTGSPFRTINYNAGVWAPNGWGALALVGWTRSPLIAYYVVDSWGTARWTGTYKGTVKSDGGTYDIYTTTRYNAPSIDGDRTTFTQYWSVRQSKRPTGSNATITFSNHVNAWKSHGMNLGSNWAYQVMATAGYQSSGSSNVTVW\n"
     ]
    },
    {
     "data": {
      "text/html": [],
      "text/plain": [
       "<IPython.core.display.HTML object>"
      ]
     },
     "metadata": {},
     "output_type": "display_data"
    },
    {
     "name": "stdout",
     "output_type": "stream",
     "text": [
      "Mutated: N 174 KD (uM): 1.364470882566246 Predictions: 0.13496427237987518 Mutated Sequence: MSTDYWLNFTDGGGIVNAVNGSGGNYSVNWSNTGSFVVGKGWTTGSPFRTINYNAGVWAPNGWGALALVGWTRSPLIAYYVVDSWGTARWTGTYKGTVKSDGGTYDIYTTTRYNAPSIDGDRTTFTQYWSVRQSKRPTGSNATITFSNHVNAWKSHGMNLGSNWAYQVMATAGYNSSGSSNVTVW\n"
     ]
    },
    {
     "data": {
      "text/html": [],
      "text/plain": [
       "<IPython.core.display.HTML object>"
      ]
     },
     "metadata": {},
     "output_type": "display_data"
    },
    {
     "name": "stdout",
     "output_type": "stream",
     "text": [
      "Mutated: N 131 KD (uM): 1.4545248890935547 Predictions: 0.1627211570739746 Mutated Sequence: MSTDYWLNFTDGGGIVNAVNGSGGNYSVNWSNTGSFVVGKGWTTGSPFRTINYNAGVWAPNGWGALALVGWTRSPLIAYYVVDSWGTARWTGTYKGTVKSDGGTYDIYTTTRYNAPSIDGDRTTFTQYWSVNQSKRPTGSNATITFSNHVNAWKSHGMNLGSNWAYQVMATAGYQSSGSSNVTVW\n"
     ]
    },
    {
     "data": {
      "text/html": [],
      "text/plain": [
       "<IPython.core.display.HTML object>"
      ]
     },
     "metadata": {},
     "output_type": "display_data"
    },
    {
     "name": "stdout",
     "output_type": "stream",
     "text": [
      "Mutated: N 92 KD (uM): 1.7166640671695816 Predictions: 0.23468531668186188 Mutated Sequence: MSTDYWLNFTDGGGIVNAVNGSGGNYSVNWSNTGSFVVGKGWTTGSPFRTINYNAGVWAPNGWGALALVGWTRSPLIAYYVVDSWGTARWTGNYKGTVKSDGGTYDIYTTTRYNAPSIDGDRTTFTQYWSVRQSKRPTGSNATITFSNHVNAWKSHGMNLGSNWAYQVMATAGYQSSGSSNVTVW\n"
     ]
    },
    {
     "data": {
      "text/html": [],
      "text/plain": [
       "<IPython.core.display.HTML object>"
      ]
     },
     "metadata": {},
     "output_type": "display_data"
    },
    {
     "name": "stdout",
     "output_type": "stream",
     "text": [
      "Mutated: N 65 KD (uM): 6.376652179252319 Predictions: 0.8045927286148071 Mutated Sequence: MSTDYWLNFTDGGGIVNAVNGSGGNYSVNWSNTGSFVVGKGWTTGSPFRTINYNAGVWAPNGWGANALVGWTRSPLIAYYVVDSWGTARWTGTYKGTVKSDGGTYDIYTTTRYNAPSIDGDRTTFTQYWSVRQSKRPTGSNATITFSNHVNAWKSHGMNLGSNWAYQVMATAGYQSSGSSNVTVW\n"
     ]
    },
    {
     "data": {
      "text/html": [],
      "text/plain": [
       "<IPython.core.display.HTML object>"
      ]
     },
     "metadata": {},
     "output_type": "display_data"
    },
    {
     "name": "stdout",
     "output_type": "stream",
     "text": [
      "Mutated: N 63 KD (uM): 1.385787665594276 Predictions: 0.14169669151306152 Mutated Sequence: MSTDYWLNFTDGGGIVNAVNGSGGNYSVNWSNTGSFVVGKGWTTGSPFRTINYNAGVWAPNGWNALALVGWTRSPLIAYYVVDSWGTARWTGTYKGTVKSDGGTYDIYTTTRYNAPSIDGDRTTFTQYWSVRQSKRPTGSNATITFSNHVNAWKSHGMNLGSNWAYQVMATAGYQSSGSSNVTVW\n"
     ]
    },
    {
     "data": {
      "text/html": [],
      "text/plain": [
       "<IPython.core.display.HTML object>"
      ]
     },
     "metadata": {},
     "output_type": "display_data"
    },
    {
     "name": "stdout",
     "output_type": "stream",
     "text": [
      "Mutated: D 65 KD (uM): 6.443446267829658 Predictions: 0.8091182112693787 Mutated Sequence: MSTDYWLNFTDGGGIVNAVNGSGGNYSVNWSNTGSFVVGKGWTTGSPFRTINYNAGVWAPNGWGADALVGWTRSPLIAYYVVDSWGTARWTGTYKGTVKSDGGTYDIYTTTRYNAPSIDGDRTTFTQYWSVRQSKRPTGSNATITFSNHVNAWKSHGMNLGSNWAYQVMATAGYQSSGSSNVTVW\n"
     ]
    },
    {
     "data": {
      "text/html": [],
      "text/plain": [
       "<IPython.core.display.HTML object>"
      ]
     },
     "metadata": {},
     "output_type": "display_data"
    },
    {
     "name": "stdout",
     "output_type": "stream",
     "text": [
      "Mutated: C 65 KD (uM): 1.45316572259868 Predictions: 0.16231514513492584 Mutated Sequence: MSTDYWLNFTDGGGIVNAVNGSGGNYSVNWSNTGSFVVGKGWTTGSPFRTINYNAGVWAPNGWGACALVGWTRSPLIAYYVVDSWGTARWTGTYKGTVKSDGGTYDIYTTTRYNAPSIDGDRTTFTQYWSVRQSKRPTGSNATITFSNHVNAWKSHGMNLGSNWAYQVMATAGYQSSGSSNVTVW\n"
     ]
    },
    {
     "data": {
      "text/html": [],
      "text/plain": [
       "<IPython.core.display.HTML object>"
      ]
     },
     "metadata": {},
     "output_type": "display_data"
    },
    {
     "name": "stdout",
     "output_type": "stream",
     "text": [
      "Mutated: Q 65 KD (uM): 3.6686017618637385 Predictions: 0.5645005702972412 Mutated Sequence: MSTDYWLNFTDGGGIVNAVNGSGGNYSVNWSNTGSFVVGKGWTTGSPFRTINYNAGVWAPNGWGAQALVGWTRSPLIAYYVVDSWGTARWTGTYKGTVKSDGGTYDIYTTTRYNAPSIDGDRTTFTQYWSVRQSKRPTGSNATITFSNHVNAWKSHGMNLGSNWAYQVMATAGYQSSGSSNVTVW\n"
     ]
    },
    {
     "data": {
      "text/html": [],
      "text/plain": [
       "<IPython.core.display.HTML object>"
      ]
     },
     "metadata": {},
     "output_type": "display_data"
    },
    {
     "name": "stdout",
     "output_type": "stream",
     "text": [
      "Mutated: E 65 KD (uM): 4.447887374513486 Predictions: 0.6481537818908691 Mutated Sequence: MSTDYWLNFTDGGGIVNAVNGSGGNYSVNWSNTGSFVVGKGWTTGSPFRTINYNAGVWAPNGWGAEALVGWTRSPLIAYYVVDSWGTARWTGTYKGTVKSDGGTYDIYTTTRYNAPSIDGDRTTFTQYWSVRQSKRPTGSNATITFSNHVNAWKSHGMNLGSNWAYQVMATAGYQSSGSSNVTVW\n"
     ]
    },
    {
     "data": {
      "text/html": [],
      "text/plain": [
       "<IPython.core.display.HTML object>"
      ]
     },
     "metadata": {},
     "output_type": "display_data"
    },
    {
     "name": "stdout",
     "output_type": "stream",
     "text": [
      "Mutated: G 65 KD (uM): 6.8561952005624756 Predictions: 0.836083173751831 Mutated Sequence: MSTDYWLNFTDGGGIVNAVNGSGGNYSVNWSNTGSFVVGKGWTTGSPFRTINYNAGVWAPNGWGAGALVGWTRSPLIAYYVVDSWGTARWTGTYKGTVKSDGGTYDIYTTTRYNAPSIDGDRTTFTQYWSVRQSKRPTGSNATITFSNHVNAWKSHGMNLGSNWAYQVMATAGYQSSGSSNVTVW\n"
     ]
    },
    {
     "data": {
      "text/html": [],
      "text/plain": [
       "<IPython.core.display.HTML object>"
      ]
     },
     "metadata": {},
     "output_type": "display_data"
    },
    {
     "name": "stdout",
     "output_type": "stream",
     "text": [
      "Mutated: H 65 KD (uM): 2.1419507161634033 Predictions: 0.33080947399139404 Mutated Sequence: MSTDYWLNFTDGGGIVNAVNGSGGNYSVNWSNTGSFVVGKGWTTGSPFRTINYNAGVWAPNGWGAHALVGWTRSPLIAYYVVDSWGTARWTGTYKGTVKSDGGTYDIYTTTRYNAPSIDGDRTTFTQYWSVRQSKRPTGSNATITFSNHVNAWKSHGMNLGSNWAYQVMATAGYQSSGSSNVTVW\n"
     ]
    },
    {
     "data": {
      "text/html": [],
      "text/plain": [
       "<IPython.core.display.HTML object>"
      ]
     },
     "metadata": {},
     "output_type": "display_data"
    },
    {
     "name": "stdout",
     "output_type": "stream",
     "text": [
      "Mutated: I 65 KD (uM): 1.6897737618017363 Predictions: 0.22782856225967407 Mutated Sequence: MSTDYWLNFTDGGGIVNAVNGSGGNYSVNWSNTGSFVVGKGWTTGSPFRTINYNAGVWAPNGWGAIALVGWTRSPLIAYYVVDSWGTARWTGTYKGTVKSDGGTYDIYTTTRYNAPSIDGDRTTFTQYWSVRQSKRPTGSNATITFSNHVNAWKSHGMNLGSNWAYQVMATAGYQSSGSSNVTVW\n"
     ]
    },
    {
     "data": {
      "text/html": [],
      "text/plain": [
       "<IPython.core.display.HTML object>"
      ]
     },
     "metadata": {},
     "output_type": "display_data"
    },
    {
     "name": "stdout",
     "output_type": "stream",
     "text": [
      "Mutated: M 65 KD (uM): 1.8964404080814137 Predictions: 0.27793920040130615 Mutated Sequence: MSTDYWLNFTDGGGIVNAVNGSGGNYSVNWSNTGSFVVGKGWTTGSPFRTINYNAGVWAPNGWGAMALVGWTRSPLIAYYVVDSWGTARWTGTYKGTVKSDGGTYDIYTTTRYNAPSIDGDRTTFTQYWSVRQSKRPTGSNATITFSNHVNAWKSHGMNLGSNWAYQVMATAGYQSSGSSNVTVW\n"
     ]
    },
    {
     "data": {
      "text/html": [],
      "text/plain": [
       "<IPython.core.display.HTML object>"
      ]
     },
     "metadata": {},
     "output_type": "display_data"
    },
    {
     "name": "stdout",
     "output_type": "stream",
     "text": [
      "Mutated: F 65 KD (uM): 1.8045693812513426 Predictions: 0.2563735842704773 Mutated Sequence: MSTDYWLNFTDGGGIVNAVNGSGGNYSVNWSNTGSFVVGKGWTTGSPFRTINYNAGVWAPNGWGAFALVGWTRSPLIAYYVVDSWGTARWTGTYKGTVKSDGGTYDIYTTTRYNAPSIDGDRTTFTQYWSVRQSKRPTGSNATITFSNHVNAWKSHGMNLGSNWAYQVMATAGYQSSGSSNVTVW\n"
     ]
    },
    {
     "data": {
      "text/html": [],
      "text/plain": [
       "<IPython.core.display.HTML object>"
      ]
     },
     "metadata": {},
     "output_type": "display_data"
    },
    {
     "name": "stdout",
     "output_type": "stream",
     "text": [
      "Mutated: S 65 KD (uM): 3.8564252600580073 Predictions: 0.5861849188804626 Mutated Sequence: MSTDYWLNFTDGGGIVNAVNGSGGNYSVNWSNTGSFVVGKGWTTGSPFRTINYNAGVWAPNGWGASALVGWTRSPLIAYYVVDSWGTARWTGTYKGTVKSDGGTYDIYTTTRYNAPSIDGDRTTFTQYWSVRQSKRPTGSNATITFSNHVNAWKSHGMNLGSNWAYQVMATAGYQSSGSSNVTVW\n"
     ]
    },
    {
     "data": {
      "text/html": [],
      "text/plain": [
       "<IPython.core.display.HTML object>"
      ]
     },
     "metadata": {},
     "output_type": "display_data"
    },
    {
     "name": "stdout",
     "output_type": "stream",
     "text": [
      "Mutated: T 65 KD (uM): 1.837582899248184 Predictions: 0.26424694061279297 Mutated Sequence: MSTDYWLNFTDGGGIVNAVNGSGGNYSVNWSNTGSFVVGKGWTTGSPFRTINYNAGVWAPNGWGATALVGWTRSPLIAYYVVDSWGTARWTGTYKGTVKSDGGTYDIYTTTRYNAPSIDGDRTTFTQYWSVRQSKRPTGSNATITFSNHVNAWKSHGMNLGSNWAYQVMATAGYQSSGSSNVTVW\n"
     ]
    },
    {
     "data": {
      "text/html": [],
      "text/plain": [
       "<IPython.core.display.HTML object>"
      ]
     },
     "metadata": {},
     "output_type": "display_data"
    },
    {
     "name": "stdout",
     "output_type": "stream",
     "text": [
      "Mutated: W 65 KD (uM): 0.9755752086576203 Predictions: -0.010739244520664215 Mutated Sequence: MSTDYWLNFTDGGGIVNAVNGSGGNYSVNWSNTGSFVVGKGWTTGSPFRTINYNAGVWAPNGWGAWALVGWTRSPLIAYYVVDSWGTARWTGTYKGTVKSDGGTYDIYTTTRYNAPSIDGDRTTFTQYWSVRQSKRPTGSNATITFSNHVNAWKSHGMNLGSNWAYQVMATAGYQSSGSSNVTVW\n"
     ]
    },
    {
     "data": {
      "text/html": [],
      "text/plain": [
       "<IPython.core.display.HTML object>"
      ]
     },
     "metadata": {},
     "output_type": "display_data"
    },
    {
     "name": "stdout",
     "output_type": "stream",
     "text": [
      "Mutated: Y 65 KD (uM): 0.7937489205177347 Predictions: -0.1003168523311615 Mutated Sequence: MSTDYWLNFTDGGGIVNAVNGSGGNYSVNWSNTGSFVVGKGWTTGSPFRTINYNAGVWAPNGWGAYALVGWTRSPLIAYYVVDSWGTARWTGTYKGTVKSDGGTYDIYTTTRYNAPSIDGDRTTFTQYWSVRQSKRPTGSNATITFSNHVNAWKSHGMNLGSNWAYQVMATAGYQSSGSSNVTVW\n"
     ]
    },
    {
     "data": {
      "text/html": [],
      "text/plain": [
       "<IPython.core.display.HTML object>"
      ]
     },
     "metadata": {},
     "output_type": "display_data"
    },
    {
     "name": "stdout",
     "output_type": "stream",
     "text": [
      "Mutated: G 67 KD (uM): 1.2576009915631463 Predictions: 0.09954287111759186 Mutated Sequence: MSTDYWLNFTDGGGIVNAVNGSGGNYSVNWSNTGSFVVGKGWTTGSPFRTINYNAGVWAPNGWGALAGVGWTRSPLIAYYVVDSWGTARWTGTYKGTVKSDGGTYDIYTTTRYNAPSIDGDRTTFTQYWSVRQSKRPTGSNATITFSNHVNAWKSHGMNLGSNWAYQVMATAGYQSSGSSNVTVW\n"
     ]
    },
    {
     "data": {
      "text/html": [],
      "text/plain": [
       "<IPython.core.display.HTML object>"
      ]
     },
     "metadata": {},
     "output_type": "display_data"
    },
    {
     "name": "stdout",
     "output_type": "stream",
     "text": [
      "Mutated: V 65 KD (uM): 1.3232610372263467 Predictions: 0.12164552509784698 Mutated Sequence: MSTDYWLNFTDGGGIVNAVNGSGGNYSVNWSNTGSFVVGKGWTTGSPFRTINYNAGVWAPNGWGAVALVGWTRSPLIAYYVVDSWGTARWTGTYKGTVKSDGGTYDIYTTTRYNAPSIDGDRTTFTQYWSVRQSKRPTGSNATITFSNHVNAWKSHGMNLGSNWAYQVMATAGYQSSGSSNVTVW\n"
     ]
    },
    {
     "data": {
      "text/html": [],
      "text/plain": [
       "<IPython.core.display.HTML object>"
      ]
     },
     "metadata": {},
     "output_type": "display_data"
    },
    {
     "name": "stdout",
     "output_type": "stream",
     "text": [
      "Mutated: L 65 KD (uM): 1.7678596712321373 Predictions: 0.24744778871536255 Mutated Sequence: MSTDYWLNFTDGGGIVNAVNGSGGNYSVNWSNTGSFVVGKGWTTGSPFRTINYNAGVWAPNGWGALALVGWTRSPLIAYYVVDSWGTARWTGTYKGTVKSDGGTYDIYTTTRYNAPSIDGDRTTFTQYWSVRQSKRPTGSNATITFSNHVNAWKSHGMNLGSNWAYQVMATAGYQSSGSSNVTVW\n"
     ]
    },
    {
     "data": {
      "text/html": [],
      "text/plain": [
       "<IPython.core.display.HTML object>"
      ]
     },
     "metadata": {},
     "output_type": "display_data"
    },
    {
     "name": "stdout",
     "output_type": "stream",
     "text": [
      "Mutated: K 65 KD (uM): 3.7792117029392727 Predictions: 0.5774012207984924 Mutated Sequence: MSTDYWLNFTDGGGIVNAVNGSGGNYSVNWSNTGSFVVGKGWTTGSPFRTINYNAGVWAPNGWGAKALVGWTRSPLIAYYVVDSWGTARWTGTYKGTVKSDGGTYDIYTTTRYNAPSIDGDRTTFTQYWSVRQSKRPTGSNATITFSNHVNAWKSHGMNLGSNWAYQVMATAGYQSSGSSNVTVW\n"
     ]
    },
    {
     "data": {
      "text/html": [],
      "text/plain": [
       "<IPython.core.display.HTML object>"
      ]
     },
     "metadata": {},
     "output_type": "display_data"
    },
    {
     "name": "stdout",
     "output_type": "stream",
     "text": [
      "Mutated: R 65 KD (uM): 4.161730569844946 Predictions: 0.6192739605903625 Mutated Sequence: MSTDYWLNFTDGGGIVNAVNGSGGNYSVNWSNTGSFVVGKGWTTGSPFRTINYNAGVWAPNGWGARALVGWTRSPLIAYYVVDSWGTARWTGTYKGTVKSDGGTYDIYTTTRYNAPSIDGDRTTFTQYWSVRQSKRPTGSNATITFSNHVNAWKSHGMNLGSNWAYQVMATAGYQSSGSSNVTVW\n"
     ]
    },
    {
     "data": {
      "text/html": [],
      "text/plain": [
       "<IPython.core.display.HTML object>"
      ]
     },
     "metadata": {},
     "output_type": "display_data"
    },
    {
     "name": "stdout",
     "output_type": "stream",
     "text": [
      "Mutated: D 69 KD (uM): 6.516455810842995 Predictions: 0.8140114545822144 Mutated Sequence: MSTDYWLNFTDGGGIVNAVNGSGGNYSVNWSNTGSFVVGKGWTTGSPFRTINYNAGVWAPNGWGALALVDWTRSPLIAYYVVDSWGTARWTGTYKGTVKSDGGTYDIYTTTRYNAPSIDGDRTTFTQYWSVRQSKRPTGSNATITFSNHVNAWKSHGMNLGSNWAYQVMATAGYQSSGSSNVTVW\n"
     ]
    },
    {
     "data": {
      "text/html": [],
      "text/plain": [
       "<IPython.core.display.HTML object>"
      ]
     },
     "metadata": {},
     "output_type": "display_data"
    },
    {
     "name": "stdout",
     "output_type": "stream",
     "text": [
      "Mutated: G 69 KD (uM): 1.7678596712321373 Predictions: 0.24744778871536255 Mutated Sequence: MSTDYWLNFTDGGGIVNAVNGSGGNYSVNWSNTGSFVVGKGWTTGSPFRTINYNAGVWAPNGWGALALVGWTRSPLIAYYVVDSWGTARWTGTYKGTVKSDGGTYDIYTTTRYNAPSIDGDRTTFTQYWSVRQSKRPTGSNATITFSNHVNAWKSHGMNLGSNWAYQVMATAGYQSSGSSNVTVW\n"
     ]
    },
    {
     "data": {
      "text/html": [],
      "text/plain": [
       "<IPython.core.display.HTML object>"
      ]
     },
     "metadata": {},
     "output_type": "display_data"
    },
    {
     "name": "stdout",
     "output_type": "stream",
     "text": [
      "Mutated: D 67 KD (uM): 2.0393045941919623 Predictions: 0.3094820976257324 Mutated Sequence: MSTDYWLNFTDGGGIVNAVNGSGGNYSVNWSNTGSFVVGKGWTTGSPFRTINYNAGVWAPNGWGALADVGWTRSPLIAYYVVDSWGTARWTGTYKGTVKSDGGTYDIYTTTRYNAPSIDGDRTTFTQYWSVRQSKRPTGSNATITFSNHVNAWKSHGMNLGSNWAYQVMATAGYQSSGSSNVTVW\n"
     ]
    },
    {
     "data": {
      "text/html": [],
      "text/plain": [
       "<IPython.core.display.HTML object>"
      ]
     },
     "metadata": {},
     "output_type": "display_data"
    },
    {
     "name": "stdout",
     "output_type": "stream",
     "text": [
      "Mutated: N 69 KD (uM): 3.2879807697357966 Predictions: 0.5169292688369751 Mutated Sequence: MSTDYWLNFTDGGGIVNAVNGSGGNYSVNWSNTGSFVVGKGWTTGSPFRTINYNAGVWAPNGWGALALVNWTRSPLIAYYVVDSWGTARWTGTYKGTVKSDGGTYDIYTTTRYNAPSIDGDRTTFTQYWSVRQSKRPTGSNATITFSNHVNAWKSHGMNLGSNWAYQVMATAGYQSSGSSNVTVW\n"
     ]
    },
    {
     "data": {
      "text/html": [],
      "text/plain": [
       "<IPython.core.display.HTML object>"
      ]
     },
     "metadata": {},
     "output_type": "display_data"
    },
    {
     "name": "stdout",
     "output_type": "stream",
     "text": [
      "Mutated: E 69 KD (uM): 2.104889120978559 Predictions: 0.32322922348976135 Mutated Sequence: MSTDYWLNFTDGGGIVNAVNGSGGNYSVNWSNTGSFVVGKGWTTGSPFRTINYNAGVWAPNGWGALALVEWTRSPLIAYYVVDSWGTARWTGTYKGTVKSDGGTYDIYTTTRYNAPSIDGDRTTFTQYWSVRQSKRPTGSNATITFSNHVNAWKSHGMNLGSNWAYQVMATAGYQSSGSSNVTVW\n"
     ]
    },
    {
     "data": {
      "text/html": [],
      "text/plain": [
       "<IPython.core.display.HTML object>"
      ]
     },
     "metadata": {},
     "output_type": "display_data"
    },
    {
     "name": "stdout",
     "output_type": "stream",
     "text": [
      "Mutated: S 69 KD (uM): 1.7729293908866801 Predictions: 0.24869143962860107 Mutated Sequence: MSTDYWLNFTDGGGIVNAVNGSGGNYSVNWSNTGSFVVGKGWTTGSPFRTINYNAGVWAPNGWGALALVSWTRSPLIAYYVVDSWGTARWTGTYKGTVKSDGGTYDIYTTTRYNAPSIDGDRTTFTQYWSVRQSKRPTGSNATITFSNHVNAWKSHGMNLGSNWAYQVMATAGYQSSGSSNVTVW\n"
     ]
    },
    {
     "data": {
      "text/html": [],
      "text/plain": [
       "<IPython.core.display.HTML object>"
      ]
     },
     "metadata": {},
     "output_type": "display_data"
    },
    {
     "name": "stdout",
     "output_type": "stream",
     "text": [
      "Mutated: N 67 KD (uM): 1.37413352274851 Predictions: 0.13802893459796906 Mutated Sequence: MSTDYWLNFTDGGGIVNAVNGSGGNYSVNWSNTGSFVVGKGWTTGSPFRTINYNAGVWAPNGWGALANVGWTRSPLIAYYVVDSWGTARWTGTYKGTVKSDGGTYDIYTTTRYNAPSIDGDRTTFTQYWSVRQSKRPTGSNATITFSNHVNAWKSHGMNLGSNWAYQVMATAGYQSSGSSNVTVW\n"
     ]
    },
    {
     "data": {
      "text/html": [],
      "text/plain": [
       "<IPython.core.display.HTML object>"
      ]
     },
     "metadata": {},
     "output_type": "display_data"
    },
    {
     "name": "stdout",
     "output_type": "stream",
     "text": [
      "Mutated: D 63 KD (uM): 1.7182057214607713 Predictions: 0.23507516086101532 Mutated Sequence: MSTDYWLNFTDGGGIVNAVNGSGGNYSVNWSNTGSFVVGKGWTTGSPFRTINYNAGVWAPNGWDALALVGWTRSPLIAYYVVDSWGTARWTGTYKGTVKSDGGTYDIYTTTRYNAPSIDGDRTTFTQYWSVRQSKRPTGSNATITFSNHVNAWKSHGMNLGSNWAYQVMATAGYQSSGSSNVTVW\n"
     ]
    },
    {
     "data": {
      "text/html": [],
      "text/plain": [
       "<IPython.core.display.HTML object>"
      ]
     },
     "metadata": {},
     "output_type": "display_data"
    },
    {
     "name": "stdout",
     "output_type": "stream",
     "text": [
      "Mutated: Q 69 KD (uM): 1.8446818448284277 Predictions: 0.2659214735031128 Mutated Sequence: MSTDYWLNFTDGGGIVNAVNGSGGNYSVNWSNTGSFVVGKGWTTGSPFRTINYNAGVWAPNGWGALALVQWTRSPLIAYYVVDSWGTARWTGTYKGTVKSDGGTYDIYTTTRYNAPSIDGDRTTFTQYWSVRQSKRPTGSNATITFSNHVNAWKSHGMNLGSNWAYQVMATAGYQSSGSSNVTVW\n"
     ]
    },
    {
     "data": {
      "text/html": [],
      "text/plain": [
       "<IPython.core.display.HTML object>"
      ]
     },
     "metadata": {},
     "output_type": "display_data"
    },
    {
     "name": "stdout",
     "output_type": "stream",
     "text": [
      "Mutated: H 69 KD (uM): 1.8491109707289577 Predictions: 0.2669629752635956 Mutated Sequence: MSTDYWLNFTDGGGIVNAVNGSGGNYSVNWSNTGSFVVGKGWTTGSPFRTINYNAGVWAPNGWGALALVHWTRSPLIAYYVVDSWGTARWTGTYKGTVKSDGGTYDIYTTTRYNAPSIDGDRTTFTQYWSVRQSKRPTGSNATITFSNHVNAWKSHGMNLGSNWAYQVMATAGYQSSGSSNVTVW\n"
     ]
    },
    {
     "data": {
      "text/html": [],
      "text/plain": [
       "<IPython.core.display.HTML object>"
      ]
     },
     "metadata": {},
     "output_type": "display_data"
    },
    {
     "name": "stdout",
     "output_type": "stream",
     "text": [
      "Mutated: R 69 KD (uM): 2.3067508586224372 Predictions: 0.36300069093704224 Mutated Sequence: MSTDYWLNFTDGGGIVNAVNGSGGNYSVNWSNTGSFVVGKGWTTGSPFRTINYNAGVWAPNGWGALALVRWTRSPLIAYYVVDSWGTARWTGTYKGTVKSDGGTYDIYTTTRYNAPSIDGDRTTFTQYWSVRQSKRPTGSNATITFSNHVNAWKSHGMNLGSNWAYQVMATAGYQSSGSSNVTVW\n"
     ]
    },
    {
     "data": {
      "text/html": [],
      "text/plain": [
       "<IPython.core.display.HTML object>"
      ]
     },
     "metadata": {},
     "output_type": "display_data"
    },
    {
     "name": "stdout",
     "output_type": "stream",
     "text": [
      "Mutated: A 69 KD (uM): 2.05931488898746 Predictions: 0.31372275948524475 Mutated Sequence: MSTDYWLNFTDGGGIVNAVNGSGGNYSVNWSNTGSFVVGKGWTTGSPFRTINYNAGVWAPNGWGALALVAWTRSPLIAYYVVDSWGTARWTGTYKGTVKSDGGTYDIYTTTRYNAPSIDGDRTTFTQYWSVRQSKRPTGSNATITFSNHVNAWKSHGMNLGSNWAYQVMATAGYQSSGSSNVTVW\n"
     ]
    },
    {
     "data": {
      "text/html": [],
      "text/plain": [
       "<IPython.core.display.HTML object>"
      ]
     },
     "metadata": {},
     "output_type": "display_data"
    },
    {
     "name": "stdout",
     "output_type": "stream",
     "text": [
      "Mutated: K 69 KD (uM): 1.9586621194953446 Predictions: 0.2919595241546631 Mutated Sequence: MSTDYWLNFTDGGGIVNAVNGSGGNYSVNWSNTGSFVVGKGWTTGSPFRTINYNAGVWAPNGWGALALVKWTRSPLIAYYVVDSWGTARWTGTYKGTVKSDGGTYDIYTTTRYNAPSIDGDRTTFTQYWSVRQSKRPTGSNATITFSNHVNAWKSHGMNLGSNWAYQVMATAGYQSSGSSNVTVW\n"
     ]
    },
    {
     "data": {
      "text/html": [],
      "text/plain": [
       "<IPython.core.display.HTML object>"
      ]
     },
     "metadata": {},
     "output_type": "display_data"
    },
    {
     "name": "stdout",
     "output_type": "stream",
     "text": [
      "Mutated: M 69 KD (uM): 0.3741931202519127 Predictions: -0.42690420150756836 Mutated Sequence: MSTDYWLNFTDGGGIVNAVNGSGGNYSVNWSNTGSFVVGKGWTTGSPFRTINYNAGVWAPNGWGALALVMWTRSPLIAYYVVDSWGTARWTGTYKGTVKSDGGTYDIYTTTRYNAPSIDGDRTTFTQYWSVRQSKRPTGSNATITFSNHVNAWKSHGMNLGSNWAYQVMATAGYQSSGSSNVTVW\n"
     ]
    },
    {
     "data": {
      "text/html": [],
      "text/plain": [
       "<IPython.core.display.HTML object>"
      ]
     },
     "metadata": {},
     "output_type": "display_data"
    },
    {
     "name": "stdout",
     "output_type": "stream",
     "text": [
      "Mutated: T 69 KD (uM): 2.767031467965897 Predictions: 0.44201409816741943 Mutated Sequence: MSTDYWLNFTDGGGIVNAVNGSGGNYSVNWSNTGSFVVGKGWTTGSPFRTINYNAGVWAPNGWGALALVTWTRSPLIAYYVVDSWGTARWTGTYKGTVKSDGGTYDIYTTTRYNAPSIDGDRTTFTQYWSVRQSKRPTGSNATITFSNHVNAWKSHGMNLGSNWAYQVMATAGYQSSGSSNVTVW\n"
     ]
    },
    {
     "data": {
      "text/html": [],
      "text/plain": [
       "<IPython.core.display.HTML object>"
      ]
     },
     "metadata": {},
     "output_type": "display_data"
    },
    {
     "name": "stdout",
     "output_type": "stream",
     "text": [
      "Mutated: F 69 KD (uM): 2.273463223182374 Predictions: 0.3566879332065582 Mutated Sequence: MSTDYWLNFTDGGGIVNAVNGSGGNYSVNWSNTGSFVVGKGWTTGSPFRTINYNAGVWAPNGWGALALVFWTRSPLIAYYVVDSWGTARWTGTYKGTVKSDGGTYDIYTTTRYNAPSIDGDRTTFTQYWSVRQSKRPTGSNATITFSNHVNAWKSHGMNLGSNWAYQVMATAGYQSSGSSNVTVW\n"
     ]
    },
    {
     "data": {
      "text/html": [],
      "text/plain": [
       "<IPython.core.display.HTML object>"
      ]
     },
     "metadata": {},
     "output_type": "display_data"
    },
    {
     "name": "stdout",
     "output_type": "stream",
     "text": [
      "Mutated: I 69 KD (uM): 0.9056505977518824 Predictions: -0.04303932189941406 Mutated Sequence: MSTDYWLNFTDGGGIVNAVNGSGGNYSVNWSNTGSFVVGKGWTTGSPFRTINYNAGVWAPNGWGALALVIWTRSPLIAYYVVDSWGTARWTGTYKGTVKSDGGTYDIYTTTRYNAPSIDGDRTTFTQYWSVRQSKRPTGSNATITFSNHVNAWKSHGMNLGSNWAYQVMATAGYQSSGSSNVTVW\n"
     ]
    },
    {
     "data": {
      "text/html": [],
      "text/plain": [
       "<IPython.core.display.HTML object>"
      ]
     },
     "metadata": {},
     "output_type": "display_data"
    },
    {
     "name": "stdout",
     "output_type": "stream",
     "text": [
      "Mutated: C 69 KD (uM): 1.1050500391547855 Predictions: 0.0433819442987442 Mutated Sequence: MSTDYWLNFTDGGGIVNAVNGSGGNYSVNWSNTGSFVVGKGWTTGSPFRTINYNAGVWAPNGWGALALVCWTRSPLIAYYVVDSWGTARWTGTYKGTVKSDGGTYDIYTTTRYNAPSIDGDRTTFTQYWSVRQSKRPTGSNATITFSNHVNAWKSHGMNLGSNWAYQVMATAGYQSSGSSNVTVW\n"
     ]
    },
    {
     "data": {
      "text/html": [],
      "text/plain": [
       "<IPython.core.display.HTML object>"
      ]
     },
     "metadata": {},
     "output_type": "display_data"
    },
    {
     "name": "stdout",
     "output_type": "stream",
     "text": [
      "Mutated: D 64 KD (uM): 1.4388908226612613 Predictions: 0.15802784264087677 Mutated Sequence: MSTDYWLNFTDGGGIVNAVNGSGGNYSVNWSNTGSFVVGKGWTTGSPFRTINYNAGVWAPNGWGDLALVGWTRSPLIAYYVVDSWGTARWTGTYKGTVKSDGGTYDIYTTTRYNAPSIDGDRTTFTQYWSVRQSKRPTGSNATITFSNHVNAWKSHGMNLGSNWAYQVMATAGYQSSGSSNVTVW\n"
     ]
    },
    {
     "data": {
      "text/html": [],
      "text/plain": [
       "<IPython.core.display.HTML object>"
      ]
     },
     "metadata": {},
     "output_type": "display_data"
    },
    {
     "name": "stdout",
     "output_type": "stream",
     "text": [
      "Mutated: V 69 KD (uM): 2.0785441113252197 Predictions: 0.317759245634079 Mutated Sequence: MSTDYWLNFTDGGGIVNAVNGSGGNYSVNWSNTGSFVVGKGWTTGSPFRTINYNAGVWAPNGWGALALVVWTRSPLIAYYVVDSWGTARWTGTYKGTVKSDGGTYDIYTTTRYNAPSIDGDRTTFTQYWSVRQSKRPTGSNATITFSNHVNAWKSHGMNLGSNWAYQVMATAGYQSSGSSNVTVW\n"
     ]
    },
    {
     "data": {
      "text/html": [],
      "text/plain": [
       "<IPython.core.display.HTML object>"
      ]
     },
     "metadata": {},
     "output_type": "display_data"
    },
    {
     "name": "stdout",
     "output_type": "stream",
     "text": [
      "Mutated: W 69 KD (uM): 1.9833937410566205 Predictions: 0.29740893840789795 Mutated Sequence: MSTDYWLNFTDGGGIVNAVNGSGGNYSVNWSNTGSFVVGKGWTTGSPFRTINYNAGVWAPNGWGALALVWWTRSPLIAYYVVDSWGTARWTGTYKGTVKSDGGTYDIYTTTRYNAPSIDGDRTTFTQYWSVRQSKRPTGSNATITFSNHVNAWKSHGMNLGSNWAYQVMATAGYQSSGSSNVTVW\n"
     ]
    },
    {
     "data": {
      "text/html": [],
      "text/plain": [
       "<IPython.core.display.HTML object>"
      ]
     },
     "metadata": {},
     "output_type": "display_data"
    },
    {
     "name": "stdout",
     "output_type": "stream",
     "text": [
      "Mutated: L 69 KD (uM): 1.6708514971395296 Predictions: 0.22293785214424133 Mutated Sequence: MSTDYWLNFTDGGGIVNAVNGSGGNYSVNWSNTGSFVVGKGWTTGSPFRTINYNAGVWAPNGWGALALVLWTRSPLIAYYVVDSWGTARWTGTYKGTVKSDGGTYDIYTTTRYNAPSIDGDRTTFTQYWSVRQSKRPTGSNATITFSNHVNAWKSHGMNLGSNWAYQVMATAGYQSSGSSNVTVW\n"
     ]
    },
    {
     "data": {
      "text/html": [],
      "text/plain": [
       "<IPython.core.display.HTML object>"
      ]
     },
     "metadata": {},
     "output_type": "display_data"
    },
    {
     "name": "stdout",
     "output_type": "stream",
     "text": [
      "Mutated: Y 69 KD (uM): 3.045996237080337 Predictions: 0.48372936248779297 Mutated Sequence: MSTDYWLNFTDGGGIVNAVNGSGGNYSVNWSNTGSFVVGKGWTTGSPFRTINYNAGVWAPNGWGALALVYWTRSPLIAYYVVDSWGTARWTGTYKGTVKSDGGTYDIYTTTRYNAPSIDGDRTTFTQYWSVRQSKRPTGSNATITFSNHVNAWKSHGMNLGSNWAYQVMATAGYQSSGSSNVTVW\n"
     ]
    },
    {
     "data": {
      "text/html": [],
      "text/plain": [
       "<IPython.core.display.HTML object>"
      ]
     },
     "metadata": {},
     "output_type": "display_data"
    },
    {
     "name": "stdout",
     "output_type": "stream",
     "text": [
      "Mutated: D 71 KD (uM): 4.626348244585608 Predictions: 0.6652383208274841 Mutated Sequence: MSTDYWLNFTDGGGIVNAVNGSGGNYSVNWSNTGSFVVGKGWTTGSPFRTINYNAGVWAPNGWGALALVGWDRSPLIAYYVVDSWGTARWTGTYKGTVKSDGGTYDIYTTTRYNAPSIDGDRTTFTQYWSVRQSKRPTGSNATITFSNHVNAWKSHGMNLGSNWAYQVMATAGYQSSGSSNVTVW\n"
     ]
    },
    {
     "data": {
      "text/html": [],
      "text/plain": [
       "<IPython.core.display.HTML object>"
      ]
     },
     "metadata": {},
     "output_type": "display_data"
    },
    {
     "name": "stdout",
     "output_type": "stream",
     "text": [
      "Mutated: N 71 KD (uM): 1.7335916654333974 Predictions: 0.2389468103647232 Mutated Sequence: MSTDYWLNFTDGGGIVNAVNGSGGNYSVNWSNTGSFVVGKGWTTGSPFRTINYNAGVWAPNGWGALALVGWNRSPLIAYYVVDSWGTARWTGTYKGTVKSDGGTYDIYTTTRYNAPSIDGDRTTFTQYWSVRQSKRPTGSNATITFSNHVNAWKSHGMNLGSNWAYQVMATAGYQSSGSSNVTVW\n"
     ]
    },
    {
     "data": {
      "text/html": [],
      "text/plain": [
       "<IPython.core.display.HTML object>"
      ]
     },
     "metadata": {},
     "output_type": "display_data"
    },
    {
     "name": "stdout",
     "output_type": "stream",
     "text": [
      "Mutated: E 71 KD (uM): 2.966723318928788 Predictions: 0.47227704524993896 Mutated Sequence: MSTDYWLNFTDGGGIVNAVNGSGGNYSVNWSNTGSFVVGKGWTTGSPFRTINYNAGVWAPNGWGALALVGWERSPLIAYYVVDSWGTARWTGTYKGTVKSDGGTYDIYTTTRYNAPSIDGDRTTFTQYWSVRQSKRPTGSNATITFSNHVNAWKSHGMNLGSNWAYQVMATAGYQSSGSSNVTVW\n"
     ]
    },
    {
     "data": {
      "text/html": [],
      "text/plain": [
       "<IPython.core.display.HTML object>"
      ]
     },
     "metadata": {},
     "output_type": "display_data"
    },
    {
     "name": "stdout",
     "output_type": "stream",
     "text": [
      "Mutated: G 71 KD (uM): 1.4197707434189741 Predictions: 0.15221822261810303 Mutated Sequence: MSTDYWLNFTDGGGIVNAVNGSGGNYSVNWSNTGSFVVGKGWTTGSPFRTINYNAGVWAPNGWGALALVGWGRSPLIAYYVVDSWGTARWTGTYKGTVKSDGGTYDIYTTTRYNAPSIDGDRTTFTQYWSVRQSKRPTGSNATITFSNHVNAWKSHGMNLGSNWAYQVMATAGYQSSGSSNVTVW\n"
     ]
    },
    {
     "data": {
      "text/html": [],
      "text/plain": [
       "<IPython.core.display.HTML object>"
      ]
     },
     "metadata": {},
     "output_type": "display_data"
    },
    {
     "name": "stdout",
     "output_type": "stream",
     "text": [
      "Mutated: S 71 KD (uM): 1.7032686115751778 Predictions: 0.23128314316272736 Mutated Sequence: MSTDYWLNFTDGGGIVNAVNGSGGNYSVNWSNTGSFVVGKGWTTGSPFRTINYNAGVWAPNGWGALALVGWSRSPLIAYYVVDSWGTARWTGTYKGTVKSDGGTYDIYTTTRYNAPSIDGDRTTFTQYWSVRQSKRPTGSNATITFSNHVNAWKSHGMNLGSNWAYQVMATAGYQSSGSSNVTVW\n"
     ]
    },
    {
     "data": {
      "text/html": [],
      "text/plain": [
       "<IPython.core.display.HTML object>"
      ]
     },
     "metadata": {},
     "output_type": "display_data"
    },
    {
     "name": "stdout",
     "output_type": "stream",
     "text": [
      "Mutated: Q 71 KD (uM): 1.5767741011961816 Predictions: 0.19776947796344757 Mutated Sequence: MSTDYWLNFTDGGGIVNAVNGSGGNYSVNWSNTGSFVVGKGWTTGSPFRTINYNAGVWAPNGWGALALVGWQRSPLIAYYVVDSWGTARWTGTYKGTVKSDGGTYDIYTTTRYNAPSIDGDRTTFTQYWSVRQSKRPTGSNATITFSNHVNAWKSHGMNLGSNWAYQVMATAGYQSSGSSNVTVW\n"
     ]
    },
    {
     "data": {
      "text/html": [],
      "text/plain": [
       "<IPython.core.display.HTML object>"
      ]
     },
     "metadata": {},
     "output_type": "display_data"
    },
    {
     "name": "stdout",
     "output_type": "stream",
     "text": [
      "Mutated: T 71 KD (uM): 1.7678596712321373 Predictions: 0.24744778871536255 Mutated Sequence: MSTDYWLNFTDGGGIVNAVNGSGGNYSVNWSNTGSFVVGKGWTTGSPFRTINYNAGVWAPNGWGALALVGWTRSPLIAYYVVDSWGTARWTGTYKGTVKSDGGTYDIYTTTRYNAPSIDGDRTTFTQYWSVRQSKRPTGSNATITFSNHVNAWKSHGMNLGSNWAYQVMATAGYQSSGSSNVTVW\n"
     ]
    },
    {
     "data": {
      "text/html": [],
      "text/plain": [
       "<IPython.core.display.HTML object>"
      ]
     },
     "metadata": {},
     "output_type": "display_data"
    },
    {
     "name": "stdout",
     "output_type": "stream",
     "text": [
      "Mutated: R 71 KD (uM): 1.6702995109733918 Predictions: 0.22279435396194458 Mutated Sequence: MSTDYWLNFTDGGGIVNAVNGSGGNYSVNWSNTGSFVVGKGWTTGSPFRTINYNAGVWAPNGWGALALVGWRRSPLIAYYVVDSWGTARWTGTYKGTVKSDGGTYDIYTTTRYNAPSIDGDRTTFTQYWSVRQSKRPTGSNATITFSNHVNAWKSHGMNLGSNWAYQVMATAGYQSSGSSNVTVW\n"
     ]
    },
    {
     "data": {
      "text/html": [],
      "text/plain": [
       "<IPython.core.display.HTML object>"
      ]
     },
     "metadata": {},
     "output_type": "display_data"
    },
    {
     "name": "stdout",
     "output_type": "stream",
     "text": [
      "Mutated: E 64 KD (uM): 1.8161097952566816 Predictions: 0.25914210081100464 Mutated Sequence: MSTDYWLNFTDGGGIVNAVNGSGGNYSVNWSNTGSFVVGKGWTTGSPFRTINYNAGVWAPNGWGELALVGWTRSPLIAYYVVDSWGTARWTGTYKGTVKSDGGTYDIYTTTRYNAPSIDGDRTTFTQYWSVRQSKRPTGSNATITFSNHVNAWKSHGMNLGSNWAYQVMATAGYQSSGSSNVTVW\n"
     ]
    },
    {
     "data": {
      "text/html": [],
      "text/plain": [
       "<IPython.core.display.HTML object>"
      ]
     },
     "metadata": {},
     "output_type": "display_data"
    },
    {
     "name": "stdout",
     "output_type": "stream",
     "text": [
      "Mutated: N 64 KD (uM): 1.7298370356973176 Predictions: 0.23800519108772278 Mutated Sequence: MSTDYWLNFTDGGGIVNAVNGSGGNYSVNWSNTGSFVVGKGWTTGSPFRTINYNAGVWAPNGWGNLALVGWTRSPLIAYYVVDSWGTARWTGTYKGTVKSDGGTYDIYTTTRYNAPSIDGDRTTFTQYWSVRQSKRPTGSNATITFSNHVNAWKSHGMNLGSNWAYQVMATAGYQSSGSSNVTVW\n"
     ]
    },
    {
     "data": {
      "text/html": [],
      "text/plain": [
       "<IPython.core.display.HTML object>"
      ]
     },
     "metadata": {},
     "output_type": "display_data"
    },
    {
     "name": "stdout",
     "output_type": "stream",
     "text": [
      "Mutated: D 127 KD (uM): 2.0120322686180314 Predictions: 0.3036349415779114 Mutated Sequence: MSTDYWLNFTDGGGIVNAVNGSGGNYSVNWSNTGSFVVGKGWTTGSPFRTINYNAGVWAPNGWGALALVGWTRSPLIAYYVVDSWGTARWTGTYKGTVKSDGGTYDIYTTTRYNAPSIDGDRTTFTQDWSVRQSKRPTGSNATITFSNHVNAWKSHGMNLGSNWAYQVMATAGYQSSGSSNVTVW\n"
     ]
    },
    {
     "data": {
      "text/html": [],
      "text/plain": [
       "<IPython.core.display.HTML object>"
      ]
     },
     "metadata": {},
     "output_type": "display_data"
    },
    {
     "name": "stdout",
     "output_type": "stream",
     "text": [
      "Mutated: S 64 KD (uM): 1.8270847179530894 Predictions: 0.2617586851119995 Mutated Sequence: MSTDYWLNFTDGGGIVNAVNGSGGNYSVNWSNTGSFVVGKGWTTGSPFRTINYNAGVWAPNGWGSLALVGWTRSPLIAYYVVDSWGTARWTGTYKGTVKSDGGTYDIYTTTRYNAPSIDGDRTTFTQYWSVRQSKRPTGSNATITFSNHVNAWKSHGMNLGSNWAYQVMATAGYQSSGSSNVTVW\n"
     ]
    },
    {
     "data": {
      "text/html": [],
      "text/plain": [
       "<IPython.core.display.HTML object>"
      ]
     },
     "metadata": {},
     "output_type": "display_data"
    },
    {
     "name": "stdout",
     "output_type": "stream",
     "text": [
      "Mutated: D 112 KD (uM): 1.550023716987427 Predictions: 0.1903383433818817 Mutated Sequence: MSTDYWLNFTDGGGIVNAVNGSGGNYSVNWSNTGSFVVGKGWTTGSPFRTINYNAGVWAPNGWGALALVGWTRSPLIAYYVVDSWGTARWTGTYKGTVKSDGGTYDIYTTTRDNAPSIDGDRTTFTQYWSVRQSKRPTGSNATITFSNHVNAWKSHGMNLGSNWAYQVMATAGYQSSGSSNVTVW\n"
     ]
    },
    {
     "data": {
      "text/html": [],
      "text/plain": [
       "<IPython.core.display.HTML object>"
      ]
     },
     "metadata": {},
     "output_type": "display_data"
    },
    {
     "name": "stdout",
     "output_type": "stream",
     "text": [
      "Mutated: E 67 KD (uM): 2.2350656369302406 Predictions: 0.34929028153419495 Mutated Sequence: MSTDYWLNFTDGGGIVNAVNGSGGNYSVNWSNTGSFVVGKGWTTGSPFRTINYNAGVWAPNGWGALAEVGWTRSPLIAYYVVDSWGTARWTGTYKGTVKSDGGTYDIYTTTRYNAPSIDGDRTTFTQYWSVRQSKRPTGSNATITFSNHVNAWKSHGMNLGSNWAYQVMATAGYQSSGSSNVTVW\n"
     ]
    },
    {
     "data": {
      "text/html": [],
      "text/plain": [
       "<IPython.core.display.HTML object>"
      ]
     },
     "metadata": {},
     "output_type": "display_data"
    },
    {
     "name": "stdout",
     "output_type": "stream",
     "text": [
      "Mutated: Q 67 KD (uM): 1.0586602952482984 Predictions: 0.024756625294685364 Mutated Sequence: MSTDYWLNFTDGGGIVNAVNGSGGNYSVNWSNTGSFVVGKGWTTGSPFRTINYNAGVWAPNGWGALAQVGWTRSPLIAYYVVDSWGTARWTGTYKGTVKSDGGTYDIYTTTRYNAPSIDGDRTTFTQYWSVRQSKRPTGSNATITFSNHVNAWKSHGMNLGSNWAYQVMATAGYQSSGSSNVTVW\n"
     ]
    },
    {
     "data": {
      "text/html": [],
      "text/plain": [
       "<IPython.core.display.HTML object>"
      ]
     },
     "metadata": {},
     "output_type": "display_data"
    },
    {
     "name": "stdout",
     "output_type": "stream",
     "text": [
      "Mutated: D 9 KD (uM): 0.5562767837892941 Predictions: -0.25470906496047974 Mutated Sequence: MSTDYWLNFDDGGGIVNAVNGSGGNYSVNWSNTGSFVVGKGWTTGSPFRTINYNAGVWAPNGWGALALVGWTRSPLIAYYVVDSWGTARWTGTYKGTVKSDGGTYDIYTTTRYNAPSIDGDRTTFTQYWSVRQSKRPTGSNATITFSNHVNAWKSHGMNLGSNWAYQVMATAGYQSSGSSNVTVW\n"
     ]
    },
    {
     "data": {
      "text/html": [],
      "text/plain": [
       "<IPython.core.display.HTML object>"
      ]
     },
     "metadata": {},
     "output_type": "display_data"
    },
    {
     "name": "stdout",
     "output_type": "stream",
     "text": [
      "Mutated: F 71 KD (uM): 1.6735163182923671 Predictions: 0.22362995147705078 Mutated Sequence: MSTDYWLNFTDGGGIVNAVNGSGGNYSVNWSNTGSFVVGKGWTTGSPFRTINYNAGVWAPNGWGALALVGWFRSPLIAYYVVDSWGTARWTGTYKGTVKSDGGTYDIYTTTRYNAPSIDGDRTTFTQYWSVRQSKRPTGSNATITFSNHVNAWKSHGMNLGSNWAYQVMATAGYQSSGSSNVTVW\n"
     ]
    },
    {
     "data": {
      "text/html": [],
      "text/plain": [
       "<IPython.core.display.HTML object>"
      ]
     },
     "metadata": {},
     "output_type": "display_data"
    },
    {
     "name": "stdout",
     "output_type": "stream",
     "text": [
      "Mutated: A 71 KD (uM): 1.8145231301739453 Predictions: 0.25876250863075256 Mutated Sequence: MSTDYWLNFTDGGGIVNAVNGSGGNYSVNWSNTGSFVVGKGWTTGSPFRTINYNAGVWAPNGWGALALVGWARSPLIAYYVVDSWGTARWTGTYKGTVKSDGGTYDIYTTTRYNAPSIDGDRTTFTQYWSVRQSKRPTGSNATITFSNHVNAWKSHGMNLGSNWAYQVMATAGYQSSGSSNVTVW\n"
     ]
    },
    {
     "data": {
      "text/html": [],
      "text/plain": [
       "<IPython.core.display.HTML object>"
      ]
     },
     "metadata": {},
     "output_type": "display_data"
    },
    {
     "name": "stdout",
     "output_type": "stream",
     "text": [
      "Mutated: K 71 KD (uM): 1.9913363692763348 Predictions: 0.2991446256637573 Mutated Sequence: MSTDYWLNFTDGGGIVNAVNGSGGNYSVNWSNTGSFVVGKGWTTGSPFRTINYNAGVWAPNGWGALALVGWKRSPLIAYYVVDSWGTARWTGTYKGTVKSDGGTYDIYTTTRYNAPSIDGDRTTFTQYWSVRQSKRPTGSNATITFSNHVNAWKSHGMNLGSNWAYQVMATAGYQSSGSSNVTVW\n"
     ]
    },
    {
     "data": {
      "text/html": [],
      "text/plain": [
       "<IPython.core.display.HTML object>"
      ]
     },
     "metadata": {},
     "output_type": "display_data"
    },
    {
     "name": "stdout",
     "output_type": "stream",
     "text": [
      "Mutated: G 63 KD (uM): 1.7678596712321373 Predictions: 0.24744778871536255 Mutated Sequence: MSTDYWLNFTDGGGIVNAVNGSGGNYSVNWSNTGSFVVGKGWTTGSPFRTINYNAGVWAPNGWGALALVGWTRSPLIAYYVVDSWGTARWTGTYKGTVKSDGGTYDIYTTTRYNAPSIDGDRTTFTQYWSVRQSKRPTGSNATITFSNHVNAWKSHGMNLGSNWAYQVMATAGYQSSGSSNVTVW\n"
     ]
    },
    {
     "data": {
      "text/html": [],
      "text/plain": [
       "<IPython.core.display.HTML object>"
      ]
     },
     "metadata": {},
     "output_type": "display_data"
    },
    {
     "name": "stdout",
     "output_type": "stream",
     "text": [
      "Mutated: H 71 KD (uM): 1.5643110839027645 Predictions: 0.1943231225013733 Mutated Sequence: MSTDYWLNFTDGGGIVNAVNGSGGNYSVNWSNTGSFVVGKGWTTGSPFRTINYNAGVWAPNGWGALALVGWHRSPLIAYYVVDSWGTARWTGTYKGTVKSDGGTYDIYTTTRYNAPSIDGDRTTFTQYWSVRQSKRPTGSNATITFSNHVNAWKSHGMNLGSNWAYQVMATAGYQSSGSSNVTVW\n"
     ]
    },
    {
     "data": {
      "text/html": [],
      "text/plain": [
       "<IPython.core.display.HTML object>"
      ]
     },
     "metadata": {},
     "output_type": "display_data"
    },
    {
     "name": "stdout",
     "output_type": "stream",
     "text": [
      "Mutated: Y 71 KD (uM): 2.525405625887219 Predictions: 0.40233114361763 Mutated Sequence: MSTDYWLNFTDGGGIVNAVNGSGGNYSVNWSNTGSFVVGKGWTTGSPFRTINYNAGVWAPNGWGALALVGWYRSPLIAYYVVDSWGTARWTGTYKGTVKSDGGTYDIYTTTRYNAPSIDGDRTTFTQYWSVRQSKRPTGSNATITFSNHVNAWKSHGMNLGSNWAYQVMATAGYQSSGSSNVTVW\n"
     ]
    },
    {
     "data": {
      "text/html": [],
      "text/plain": [
       "<IPython.core.display.HTML object>"
      ]
     },
     "metadata": {},
     "output_type": "display_data"
    },
    {
     "name": "stdout",
     "output_type": "stream",
     "text": [
      "Mutated: V 71 KD (uM): 1.6123062178402212 Predictions: 0.20744752883911133 Mutated Sequence: MSTDYWLNFTDGGGIVNAVNGSGGNYSVNWSNTGSFVVGKGWTTGSPFRTINYNAGVWAPNGWGALALVGWVRSPLIAYYVVDSWGTARWTGTYKGTVKSDGGTYDIYTTTRYNAPSIDGDRTTFTQYWSVRQSKRPTGSNATITFSNHVNAWKSHGMNLGSNWAYQVMATAGYQSSGSSNVTVW\n"
     ]
    },
    {
     "data": {
      "text/html": [],
      "text/plain": [
       "<IPython.core.display.HTML object>"
      ]
     },
     "metadata": {},
     "output_type": "display_data"
    },
    {
     "name": "stdout",
     "output_type": "stream",
     "text": [
      "Mutated: W 71 KD (uM): 1.2563306350176102 Predictions: 0.09910394996404648 Mutated Sequence: MSTDYWLNFTDGGGIVNAVNGSGGNYSVNWSNTGSFVVGKGWTTGSPFRTINYNAGVWAPNGWGALALVGWWRSPLIAYYVVDSWGTARWTGTYKGTVKSDGGTYDIYTTTRYNAPSIDGDRTTFTQYWSVRQSKRPTGSNATITFSNHVNAWKSHGMNLGSNWAYQVMATAGYQSSGSSNVTVW\n"
     ]
    },
    {
     "data": {
      "text/html": [],
      "text/plain": [
       "<IPython.core.display.HTML object>"
      ]
     },
     "metadata": {},
     "output_type": "display_data"
    },
    {
     "name": "stdout",
     "output_type": "stream",
     "text": [
      "Mutated: D 80 KD (uM): 1.7099127987149352 Predictions: 0.23297396302223206 Mutated Sequence: MSTDYWLNFTDGGGIVNAVNGSGGNYSVNWSNTGSFVVGKGWTTGSPFRTINYNAGVWAPNGWGALALVGWTRSPLIAYYDVDSWGTARWTGTYKGTVKSDGGTYDIYTTTRYNAPSIDGDRTTFTQYWSVRQSKRPTGSNATITFSNHVNAWKSHGMNLGSNWAYQVMATAGYQSSGSSNVTVW\n"
     ]
    },
    {
     "data": {
      "text/html": [],
      "text/plain": [
       "<IPython.core.display.HTML object>"
      ]
     },
     "metadata": {},
     "output_type": "display_data"
    },
    {
     "name": "stdout",
     "output_type": "stream",
     "text": [
      "Mutated: E 127 KD (uM): 1.9070155379416458 Predictions: 0.28035423159599304 Mutated Sequence: MSTDYWLNFTDGGGIVNAVNGSGGNYSVNWSNTGSFVVGKGWTTGSPFRTINYNAGVWAPNGWGALALVGWTRSPLIAYYVVDSWGTARWTGTYKGTVKSDGGTYDIYTTTRYNAPSIDGDRTTFTQEWSVRQSKRPTGSNATITFSNHVNAWKSHGMNLGSNWAYQVMATAGYQSSGSSNVTVW\n"
     ]
    },
    {
     "data": {
      "text/html": [],
      "text/plain": [
       "<IPython.core.display.HTML object>"
      ]
     },
     "metadata": {},
     "output_type": "display_data"
    },
    {
     "name": "stdout",
     "output_type": "stream",
     "text": [
      "Mutated: D 120 KD (uM): 1.7678596712321373 Predictions: 0.24744778871536255 Mutated Sequence: MSTDYWLNFTDGGGIVNAVNGSGGNYSVNWSNTGSFVVGKGWTTGSPFRTINYNAGVWAPNGWGALALVGWTRSPLIAYYVVDSWGTARWTGTYKGTVKSDGGTYDIYTTTRYNAPSIDGDRTTFTQYWSVRQSKRPTGSNATITFSNHVNAWKSHGMNLGSNWAYQVMATAGYQSSGSSNVTVW\n"
     ]
    },
    {
     "data": {
      "text/html": [],
      "text/plain": [
       "<IPython.core.display.HTML object>"
      ]
     },
     "metadata": {},
     "output_type": "display_data"
    },
    {
     "name": "stdout",
     "output_type": "stream",
     "text": [
      "Mutated: D 82 KD (uM): 1.7678596712321373 Predictions: 0.24744778871536255 Mutated Sequence: MSTDYWLNFTDGGGIVNAVNGSGGNYSVNWSNTGSFVVGKGWTTGSPFRTINYNAGVWAPNGWGALALVGWTRSPLIAYYVVDSWGTARWTGTYKGTVKSDGGTYDIYTTTRYNAPSIDGDRTTFTQYWSVRQSKRPTGSNATITFSNHVNAWKSHGMNLGSNWAYQVMATAGYQSSGSSNVTVW\n"
     ]
    },
    {
     "data": {
      "text/html": [],
      "text/plain": [
       "<IPython.core.display.HTML object>"
      ]
     },
     "metadata": {},
     "output_type": "display_data"
    },
    {
     "name": "stdout",
     "output_type": "stream",
     "text": [
      "Mutated: R 63 KD (uM): 1.8257754791889549 Predictions: 0.26144737005233765 Mutated Sequence: MSTDYWLNFTDGGGIVNAVNGSGGNYSVNWSNTGSFVVGKGWTTGSPFRTINYNAGVWAPNGWRALALVGWTRSPLIAYYVVDSWGTARWTGTYKGTVKSDGGTYDIYTTTRYNAPSIDGDRTTFTQYWSVRQSKRPTGSNATITFSNHVNAWKSHGMNLGSNWAYQVMATAGYQSSGSSNVTVW\n"
     ]
    },
    {
     "data": {
      "text/html": [],
      "text/plain": [
       "<IPython.core.display.HTML object>"
      ]
     },
     "metadata": {},
     "output_type": "display_data"
    },
    {
     "name": "stdout",
     "output_type": "stream",
     "text": [
      "Mutated: K 63 KD (uM): 1.9026577821300703 Predictions: 0.27936068177223206 Mutated Sequence: MSTDYWLNFTDGGGIVNAVNGSGGNYSVNWSNTGSFVVGKGWTTGSPFRTINYNAGVWAPNGWKALALVGWTRSPLIAYYVVDSWGTARWTGTYKGTVKSDGGTYDIYTTTRYNAPSIDGDRTTFTQYWSVRQSKRPTGSNATITFSNHVNAWKSHGMNLGSNWAYQVMATAGYQSSGSSNVTVW\n"
     ]
    },
    {
     "data": {
      "text/html": [],
      "text/plain": [
       "<IPython.core.display.HTML object>"
      ]
     },
     "metadata": {},
     "output_type": "display_data"
    },
    {
     "name": "stdout",
     "output_type": "stream",
     "text": [
      "Mutated: E 63 KD (uM): 1.7187839775403573 Predictions: 0.23522129654884338 Mutated Sequence: MSTDYWLNFTDGGGIVNAVNGSGGNYSVNWSNTGSFVVGKGWTTGSPFRTINYNAGVWAPNGWEALALVGWTRSPLIAYYVVDSWGTARWTGTYKGTVKSDGGTYDIYTTTRYNAPSIDGDRTTFTQYWSVRQSKRPTGSNATITFSNHVNAWKSHGMNLGSNWAYQVMATAGYQSSGSSNVTVW\n"
     ]
    },
    {
     "data": {
      "text/html": [],
      "text/plain": [
       "<IPython.core.display.HTML object>"
      ]
     },
     "metadata": {},
     "output_type": "display_data"
    },
    {
     "name": "stdout",
     "output_type": "stream",
     "text": [
      "Mutated: L 71 KD (uM): 0.6476638544812551 Predictions: -0.18865033984184265 Mutated Sequence: MSTDYWLNFTDGGGIVNAVNGSGGNYSVNWSNTGSFVVGKGWTTGSPFRTINYNAGVWAPNGWGALALVGWLRSPLIAYYVVDSWGTARWTGTYKGTVKSDGGTYDIYTTTRYNAPSIDGDRTTFTQYWSVRQSKRPTGSNATITFSNHVNAWKSHGMNLGSNWAYQVMATAGYQSSGSSNVTVW\n"
     ]
    },
    {
     "data": {
      "text/html": [],
      "text/plain": [
       "<IPython.core.display.HTML object>"
      ]
     },
     "metadata": {},
     "output_type": "display_data"
    },
    {
     "name": "stdout",
     "output_type": "stream",
     "text": [
      "Mutated: D 36 KD (uM): 1.717876909267851 Predictions: 0.23499204218387604 Mutated Sequence: MSTDYWLNFTDGGGIVNAVNGSGGNYSVNWSNTGSFDVGKGWTTGSPFRTINYNAGVWAPNGWGALALVGWTRSPLIAYYVVDSWGTARWTGTYKGTVKSDGGTYDIYTTTRYNAPSIDGDRTTFTQYWSVRQSKRPTGSNATITFSNHVNAWKSHGMNLGSNWAYQVMATAGYQSSGSSNVTVW\n"
     ]
    },
    {
     "data": {
      "text/html": [],
      "text/plain": [
       "<IPython.core.display.HTML object>"
      ]
     },
     "metadata": {},
     "output_type": "display_data"
    },
    {
     "name": "stdout",
     "output_type": "stream",
     "text": [
      "Mutated: D 108 KD (uM): 1.8269792773342433 Predictions: 0.26173362135887146 Mutated Sequence: MSTDYWLNFTDGGGIVNAVNGSGGNYSVNWSNTGSFVVGKGWTTGSPFRTINYNAGVWAPNGWGALALVGWTRSPLIAYYVVDSWGTARWTGTYKGTVKSDGGTYDIYDTTRYNAPSIDGDRTTFTQYWSVRQSKRPTGSNATITFSNHVNAWKSHGMNLGSNWAYQVMATAGYQSSGSSNVTVW\n",
      "******** Mutation accepted! ********\n",
      "Mutate site 65: G\n",
      "~~~~~ Starting BO loop nb 2 ~~~~~\n"
     ]
    },
    {
     "data": {
      "text/html": [],
      "text/plain": [
       "<IPython.core.display.HTML object>"
      ]
     },
     "metadata": {},
     "output_type": "display_data"
    },
    {
     "name": "stdout",
     "output_type": "stream",
     "text": [
      "Mutated: N 127 KD (uM): 7.467804946626986 Predictions: 0.8731929659843445 Mutated Sequence: MSTDYWLNFTDGGGIVNAVNGSGGNYSVNWSNTGSFVVGKGWTTGSPFRTINYNAGVWAPNGWGAGALVGWTRSPLIAYYVVDSWGTARWTGTYKGTVKSDGGTYDIYTTTRYNAPSIDGDRTTFTQNWSVRQSKRPTGSNATITFSNHVNAWKSHGMNLGSNWAYQVMATAGYQSSGSSNVTVW\n"
     ]
    },
    {
     "data": {
      "text/html": [],
      "text/plain": [
       "<IPython.core.display.HTML object>"
      ]
     },
     "metadata": {},
     "output_type": "display_data"
    },
    {
     "name": "stdout",
     "output_type": "stream",
     "text": [
      "Mutated: N 125 KD (uM): 5.415829574152208 Predictions: 0.7336649894714355 Mutated Sequence: MSTDYWLNFTDGGGIVNAVNGSGGNYSVNWSNTGSFVVGKGWTTGSPFRTINYNAGVWAPNGWGAGALVGWTRSPLIAYYVVDSWGTARWTGTYKGTVKSDGGTYDIYTTTRYNAPSIDGDRTTFNQYWSVRQSKRPTGSNATITFSNHVNAWKSHGMNLGSNWAYQVMATAGYQSSGSSNVTVW\n"
     ]
    },
    {
     "data": {
      "text/html": [],
      "text/plain": [
       "<IPython.core.display.HTML object>"
      ]
     },
     "metadata": {},
     "output_type": "display_data"
    },
    {
     "name": "stdout",
     "output_type": "stream",
     "text": [
      "Mutated: N 129 KD (uM): 6.731675183581198 Predictions: 0.828123152256012 Mutated Sequence: MSTDYWLNFTDGGGIVNAVNGSGGNYSVNWSNTGSFVVGKGWTTGSPFRTINYNAGVWAPNGWGAGALVGWTRSPLIAYYVVDSWGTARWTGTYKGTVKSDGGTYDIYTTTRYNAPSIDGDRTTFTQYWNVRQSKRPTGSNATITFSNHVNAWKSHGMNLGSNWAYQVMATAGYQSSGSSNVTVW\n"
     ]
    },
    {
     "data": {
      "text/html": [],
      "text/plain": [
       "<IPython.core.display.HTML object>"
      ]
     },
     "metadata": {},
     "output_type": "display_data"
    },
    {
     "name": "stdout",
     "output_type": "stream",
     "text": [
      "Mutated: D 129 KD (uM): 6.883622934361979 Predictions: 0.8378170728683472 Mutated Sequence: MSTDYWLNFTDGGGIVNAVNGSGGNYSVNWSNTGSFVVGKGWTTGSPFRTINYNAGVWAPNGWGAGALVGWTRSPLIAYYVVDSWGTARWTGTYKGTVKSDGGTYDIYTTTRYNAPSIDGDRTTFTQYWDVRQSKRPTGSNATITFSNHVNAWKSHGMNLGSNWAYQVMATAGYQSSGSSNVTVW\n"
     ]
    },
    {
     "data": {
      "text/html": [],
      "text/plain": [
       "<IPython.core.display.HTML object>"
      ]
     },
     "metadata": {},
     "output_type": "display_data"
    },
    {
     "name": "stdout",
     "output_type": "stream",
     "text": [
      "Mutated: E 129 KD (uM): 5.9780104607814835 Predictions: 0.776556670665741 Mutated Sequence: MSTDYWLNFTDGGGIVNAVNGSGGNYSVNWSNTGSFVVGKGWTTGSPFRTINYNAGVWAPNGWGAGALVGWTRSPLIAYYVVDSWGTARWTGTYKGTVKSDGGTYDIYTTTRYNAPSIDGDRTTFTQYWEVRQSKRPTGSNATITFSNHVNAWKSHGMNLGSNWAYQVMATAGYQSSGSSNVTVW\n"
     ]
    },
    {
     "data": {
      "text/html": [],
      "text/plain": [
       "<IPython.core.display.HTML object>"
      ]
     },
     "metadata": {},
     "output_type": "display_data"
    },
    {
     "name": "stdout",
     "output_type": "stream",
     "text": [
      "Mutated: P 129 KD (uM): 7.130389172561856 Predictions: 0.8531132340431213 Mutated Sequence: MSTDYWLNFTDGGGIVNAVNGSGGNYSVNWSNTGSFVVGKGWTTGSPFRTINYNAGVWAPNGWGAGALVGWTRSPLIAYYVVDSWGTARWTGTYKGTVKSDGGTYDIYTTTRYNAPSIDGDRTTFTQYWPVRQSKRPTGSNATITFSNHVNAWKSHGMNLGSNWAYQVMATAGYQSSGSSNVTVW\n"
     ]
    },
    {
     "data": {
      "text/html": [],
      "text/plain": [
       "<IPython.core.display.HTML object>"
      ]
     },
     "metadata": {},
     "output_type": "display_data"
    },
    {
     "name": "stdout",
     "output_type": "stream",
     "text": [
      "Mutated: G 129 KD (uM): 5.643149909181074 Predictions: 0.7515215873718262 Mutated Sequence: MSTDYWLNFTDGGGIVNAVNGSGGNYSVNWSNTGSFVVGKGWTTGSPFRTINYNAGVWAPNGWGAGALVGWTRSPLIAYYVVDSWGTARWTGTYKGTVKSDGGTYDIYTTTRYNAPSIDGDRTTFTQYWGVRQSKRPTGSNATITFSNHVNAWKSHGMNLGSNWAYQVMATAGYQSSGSSNVTVW\n"
     ]
    },
    {
     "data": {
      "text/html": [],
      "text/plain": [
       "<IPython.core.display.HTML object>"
      ]
     },
     "metadata": {},
     "output_type": "display_data"
    },
    {
     "name": "stdout",
     "output_type": "stream",
     "text": [
      "Mutated: S 129 KD (uM): 6.8561952005624756 Predictions: 0.836083173751831 Mutated Sequence: MSTDYWLNFTDGGGIVNAVNGSGGNYSVNWSNTGSFVVGKGWTTGSPFRTINYNAGVWAPNGWGAGALVGWTRSPLIAYYVVDSWGTARWTGTYKGTVKSDGGTYDIYTTTRYNAPSIDGDRTTFTQYWSVRQSKRPTGSNATITFSNHVNAWKSHGMNLGSNWAYQVMATAGYQSSGSSNVTVW\n"
     ]
    },
    {
     "data": {
      "text/html": [],
      "text/plain": [
       "<IPython.core.display.HTML object>"
      ]
     },
     "metadata": {},
     "output_type": "display_data"
    },
    {
     "name": "stdout",
     "output_type": "stream",
     "text": [
      "Mutated: R 129 KD (uM): 4.7440473021330805 Predictions: 0.6761490106582642 Mutated Sequence: MSTDYWLNFTDGGGIVNAVNGSGGNYSVNWSNTGSFVVGKGWTTGSPFRTINYNAGVWAPNGWGAGALVGWTRSPLIAYYVVDSWGTARWTGTYKGTVKSDGGTYDIYTTTRYNAPSIDGDRTTFTQYWRVRQSKRPTGSNATITFSNHVNAWKSHGMNLGSNWAYQVMATAGYQSSGSSNVTVW\n"
     ]
    },
    {
     "data": {
      "text/html": [],
      "text/plain": [
       "<IPython.core.display.HTML object>"
      ]
     },
     "metadata": {},
     "output_type": "display_data"
    },
    {
     "name": "stdout",
     "output_type": "stream",
     "text": [
      "Mutated: Q 129 KD (uM): 6.781368821057153 Predictions: 0.8313173651695251 Mutated Sequence: MSTDYWLNFTDGGGIVNAVNGSGGNYSVNWSNTGSFVVGKGWTTGSPFRTINYNAGVWAPNGWGAGALVGWTRSPLIAYYVVDSWGTARWTGTYKGTVKSDGGTYDIYTTTRYNAPSIDGDRTTFTQYWQVRQSKRPTGSNATITFSNHVNAWKSHGMNLGSNWAYQVMATAGYQSSGSSNVTVW\n"
     ]
    },
    {
     "data": {
      "text/html": [],
      "text/plain": [
       "<IPython.core.display.HTML object>"
      ]
     },
     "metadata": {},
     "output_type": "display_data"
    },
    {
     "name": "stdout",
     "output_type": "stream",
     "text": [
      "Mutated: K 129 KD (uM): 6.443689462970643 Predictions: 0.8091346025466919 Mutated Sequence: MSTDYWLNFTDGGGIVNAVNGSGGNYSVNWSNTGSFVVGKGWTTGSPFRTINYNAGVWAPNGWGAGALVGWTRSPLIAYYVVDSWGTARWTGTYKGTVKSDGGTYDIYTTTRYNAPSIDGDRTTFTQYWKVRQSKRPTGSNATITFSNHVNAWKSHGMNLGSNWAYQVMATAGYQSSGSSNVTVW\n"
     ]
    },
    {
     "data": {
      "text/html": [],
      "text/plain": [
       "<IPython.core.display.HTML object>"
      ]
     },
     "metadata": {},
     "output_type": "display_data"
    },
    {
     "name": "stdout",
     "output_type": "stream",
     "text": [
      "Mutated: T 129 KD (uM): 6.274951052972693 Predictions: 0.797610342502594 Mutated Sequence: MSTDYWLNFTDGGGIVNAVNGSGGNYSVNWSNTGSFVVGKGWTTGSPFRTINYNAGVWAPNGWGAGALVGWTRSPLIAYYVVDSWGTARWTGTYKGTVKSDGGTYDIYTTTRYNAPSIDGDRTTFTQYWTVRQSKRPTGSNATITFSNHVNAWKSHGMNLGSNWAYQVMATAGYQSSGSSNVTVW\n"
     ]
    },
    {
     "data": {
      "text/html": [],
      "text/plain": [
       "<IPython.core.display.HTML object>"
      ]
     },
     "metadata": {},
     "output_type": "display_data"
    },
    {
     "name": "stdout",
     "output_type": "stream",
     "text": [
      "Mutated: F 129 KD (uM): 3.6964465316431783 Predictions: 0.5677844285964966 Mutated Sequence: MSTDYWLNFTDGGGIVNAVNGSGGNYSVNWSNTGSFVVGKGWTTGSPFRTINYNAGVWAPNGWGAGALVGWTRSPLIAYYVVDSWGTARWTGTYKGTVKSDGGTYDIYTTTRYNAPSIDGDRTTFTQYWFVRQSKRPTGSNATITFSNHVNAWKSHGMNLGSNWAYQVMATAGYQSSGSSNVTVW\n"
     ]
    },
    {
     "data": {
      "text/html": [],
      "text/plain": [
       "<IPython.core.display.HTML object>"
      ]
     },
     "metadata": {},
     "output_type": "display_data"
    },
    {
     "name": "stdout",
     "output_type": "stream",
     "text": [
      "Mutated: H 129 KD (uM): 6.731850724435834 Predictions: 0.8281344771385193 Mutated Sequence: MSTDYWLNFTDGGGIVNAVNGSGGNYSVNWSNTGSFVVGKGWTTGSPFRTINYNAGVWAPNGWGAGALVGWTRSPLIAYYVVDSWGTARWTGTYKGTVKSDGGTYDIYTTTRYNAPSIDGDRTTFTQYWHVRQSKRPTGSNATITFSNHVNAWKSHGMNLGSNWAYQVMATAGYQSSGSSNVTVW\n"
     ]
    },
    {
     "data": {
      "text/html": [],
      "text/plain": [
       "<IPython.core.display.HTML object>"
      ]
     },
     "metadata": {},
     "output_type": "display_data"
    },
    {
     "name": "stdout",
     "output_type": "stream",
     "text": [
      "Mutated: A 129 KD (uM): 6.888195110168505 Predictions: 0.8381054401397705 Mutated Sequence: MSTDYWLNFTDGGGIVNAVNGSGGNYSVNWSNTGSFVVGKGWTTGSPFRTINYNAGVWAPNGWGAGALVGWTRSPLIAYYVVDSWGTARWTGTYKGTVKSDGGTYDIYTTTRYNAPSIDGDRTTFTQYWAVRQSKRPTGSNATITFSNHVNAWKSHGMNLGSNWAYQVMATAGYQSSGSSNVTVW\n"
     ]
    },
    {
     "data": {
      "text/html": [],
      "text/plain": [
       "<IPython.core.display.HTML object>"
      ]
     },
     "metadata": {},
     "output_type": "display_data"
    },
    {
     "name": "stdout",
     "output_type": "stream",
     "text": [
      "Mutated: Y 129 KD (uM): 3.9942779597888713 Predictions: 0.6014382839202881 Mutated Sequence: MSTDYWLNFTDGGGIVNAVNGSGGNYSVNWSNTGSFVVGKGWTTGSPFRTINYNAGVWAPNGWGAGALVGWTRSPLIAYYVVDSWGTARWTGTYKGTVKSDGGTYDIYTTTRYNAPSIDGDRTTFTQYWYVRQSKRPTGSNATITFSNHVNAWKSHGMNLGSNWAYQVMATAGYQSSGSSNVTVW\n"
     ]
    },
    {
     "data": {
      "text/html": [],
      "text/plain": [
       "<IPython.core.display.HTML object>"
      ]
     },
     "metadata": {},
     "output_type": "display_data"
    },
    {
     "name": "stdout",
     "output_type": "stream",
     "text": [
      "Mutated: V 129 KD (uM): 3.3331656009447204 Predictions: 0.5228568911552429 Mutated Sequence: MSTDYWLNFTDGGGIVNAVNGSGGNYSVNWSNTGSFVVGKGWTTGSPFRTINYNAGVWAPNGWGAGALVGWTRSPLIAYYVVDSWGTARWTGTYKGTVKSDGGTYDIYTTTRYNAPSIDGDRTTFTQYWVVRQSKRPTGSNATITFSNHVNAWKSHGMNLGSNWAYQVMATAGYQSSGSSNVTVW\n"
     ]
    },
    {
     "data": {
      "text/html": [],
      "text/plain": [
       "<IPython.core.display.HTML object>"
      ]
     },
     "metadata": {},
     "output_type": "display_data"
    },
    {
     "name": "stdout",
     "output_type": "stream",
     "text": [
      "Mutated: W 129 KD (uM): 4.111217549115202 Predictions: 0.6139704585075378 Mutated Sequence: MSTDYWLNFTDGGGIVNAVNGSGGNYSVNWSNTGSFVVGKGWTTGSPFRTINYNAGVWAPNGWGAGALVGWTRSPLIAYYVVDSWGTARWTGTYKGTVKSDGGTYDIYTTTRYNAPSIDGDRTTFTQYWWVRQSKRPTGSNATITFSNHVNAWKSHGMNLGSNWAYQVMATAGYQSSGSSNVTVW\n"
     ]
    },
    {
     "data": {
      "text/html": [],
      "text/plain": [
       "<IPython.core.display.HTML object>"
      ]
     },
     "metadata": {},
     "output_type": "display_data"
    },
    {
     "name": "stdout",
     "output_type": "stream",
     "text": [
      "Mutated: C 129 KD (uM): 6.677753439117923 Predictions: 0.8246303796768188 Mutated Sequence: MSTDYWLNFTDGGGIVNAVNGSGGNYSVNWSNTGSFVVGKGWTTGSPFRTINYNAGVWAPNGWGAGALVGWTRSPLIAYYVVDSWGTARWTGTYKGTVKSDGGTYDIYTTTRYNAPSIDGDRTTFTQYWCVRQSKRPTGSNATITFSNHVNAWKSHGMNLGSNWAYQVMATAGYQSSGSSNVTVW\n"
     ]
    },
    {
     "data": {
      "text/html": [],
      "text/plain": [
       "<IPython.core.display.HTML object>"
      ]
     },
     "metadata": {},
     "output_type": "display_data"
    },
    {
     "name": "stdout",
     "output_type": "stream",
     "text": [
      "Mutated: I 129 KD (uM): 4.016694874738867 Predictions: 0.603868842124939 Mutated Sequence: MSTDYWLNFTDGGGIVNAVNGSGGNYSVNWSNTGSFVVGKGWTTGSPFRTINYNAGVWAPNGWGAGALVGWTRSPLIAYYVVDSWGTARWTGTYKGTVKSDGGTYDIYTTTRYNAPSIDGDRTTFTQYWIVRQSKRPTGSNATITFSNHVNAWKSHGMNLGSNWAYQVMATAGYQSSGSSNVTVW\n"
     ]
    },
    {
     "data": {
      "text/html": [],
      "text/plain": [
       "<IPython.core.display.HTML object>"
      ]
     },
     "metadata": {},
     "output_type": "display_data"
    },
    {
     "name": "stdout",
     "output_type": "stream",
     "text": [
      "Mutated: L 129 KD (uM): 4.367742241303158 Predictions: 0.6402570009231567 Mutated Sequence: MSTDYWLNFTDGGGIVNAVNGSGGNYSVNWSNTGSFVVGKGWTTGSPFRTINYNAGVWAPNGWGAGALVGWTRSPLIAYYVVDSWGTARWTGTYKGTVKSDGGTYDIYTTTRYNAPSIDGDRTTFTQYWLVRQSKRPTGSNATITFSNHVNAWKSHGMNLGSNWAYQVMATAGYQSSGSSNVTVW\n"
     ]
    },
    {
     "data": {
      "text/html": [],
      "text/plain": [
       "<IPython.core.display.HTML object>"
      ]
     },
     "metadata": {},
     "output_type": "display_data"
    },
    {
     "name": "stdout",
     "output_type": "stream",
     "text": [
      "Mutated: M 129 KD (uM): 5.255752162628287 Predictions: 0.7206348776817322 Mutated Sequence: MSTDYWLNFTDGGGIVNAVNGSGGNYSVNWSNTGSFVVGKGWTTGSPFRTINYNAGVWAPNGWGAGALVGWTRSPLIAYYVVDSWGTARWTGTYKGTVKSDGGTYDIYTTTRYNAPSIDGDRTTFTQYWMVRQSKRPTGSNATITFSNHVNAWKSHGMNLGSNWAYQVMATAGYQSSGSSNVTVW\n"
     ]
    },
    {
     "data": {
      "text/html": [],
      "text/plain": [
       "<IPython.core.display.HTML object>"
      ]
     },
     "metadata": {},
     "output_type": "display_data"
    },
    {
     "name": "stdout",
     "output_type": "stream",
     "text": [
      "Mutated: P 125 KD (uM): 3.3235777988576265 Predictions: 0.5216058492660522 Mutated Sequence: MSTDYWLNFTDGGGIVNAVNGSGGNYSVNWSNTGSFVVGKGWTTGSPFRTINYNAGVWAPNGWGAGALVGWTRSPLIAYYVVDSWGTARWTGTYKGTVKSDGGTYDIYTTTRYNAPSIDGDRTTFPQYWSVRQSKRPTGSNATITFSNHVNAWKSHGMNLGSNWAYQVMATAGYQSSGSSNVTVW\n"
     ]
    },
    {
     "data": {
      "text/html": [],
      "text/plain": [
       "<IPython.core.display.HTML object>"
      ]
     },
     "metadata": {},
     "output_type": "display_data"
    },
    {
     "name": "stdout",
     "output_type": "stream",
     "text": [
      "Mutated: S 125 KD (uM): 6.682116424060983 Predictions: 0.8249140381813049 Mutated Sequence: MSTDYWLNFTDGGGIVNAVNGSGGNYSVNWSNTGSFVVGKGWTTGSPFRTINYNAGVWAPNGWGAGALVGWTRSPLIAYYVVDSWGTARWTGTYKGTVKSDGGTYDIYTTTRYNAPSIDGDRTTFSQYWSVRQSKRPTGSNATITFSNHVNAWKSHGMNLGSNWAYQVMATAGYQSSGSSNVTVW\n"
     ]
    },
    {
     "data": {
      "text/html": [],
      "text/plain": [
       "<IPython.core.display.HTML object>"
      ]
     },
     "metadata": {},
     "output_type": "display_data"
    },
    {
     "name": "stdout",
     "output_type": "stream",
     "text": [
      "Mutated: G 125 KD (uM): 7.547989376337651 Predictions: 0.8778312802314758 Mutated Sequence: MSTDYWLNFTDGGGIVNAVNGSGGNYSVNWSNTGSFVVGKGWTTGSPFRTINYNAGVWAPNGWGAGALVGWTRSPLIAYYVVDSWGTARWTGTYKGTVKSDGGTYDIYTTTRYNAPSIDGDRTTFGQYWSVRQSKRPTGSNATITFSNHVNAWKSHGMNLGSNWAYQVMATAGYQSSGSSNVTVW\n"
     ]
    },
    {
     "data": {
      "text/html": [],
      "text/plain": [
       "<IPython.core.display.HTML object>"
      ]
     },
     "metadata": {},
     "output_type": "display_data"
    },
    {
     "name": "stdout",
     "output_type": "stream",
     "text": [
      "Mutated: Q 125 KD (uM): 3.2450915389471393 Predictions: 0.5112269520759583 Mutated Sequence: MSTDYWLNFTDGGGIVNAVNGSGGNYSVNWSNTGSFVVGKGWTTGSPFRTINYNAGVWAPNGWGAGALVGWTRSPLIAYYVVDSWGTARWTGTYKGTVKSDGGTYDIYTTTRYNAPSIDGDRTTFQQYWSVRQSKRPTGSNATITFSNHVNAWKSHGMNLGSNWAYQVMATAGYQSSGSSNVTVW\n"
     ]
    },
    {
     "data": {
      "text/html": [],
      "text/plain": [
       "<IPython.core.display.HTML object>"
      ]
     },
     "metadata": {},
     "output_type": "display_data"
    },
    {
     "name": "stdout",
     "output_type": "stream",
     "text": [
      "Mutated: D 125 KD (uM): 3.5547799442488457 Predictions: 0.5508127212524414 Mutated Sequence: MSTDYWLNFTDGGGIVNAVNGSGGNYSVNWSNTGSFVVGKGWTTGSPFRTINYNAGVWAPNGWGAGALVGWTRSPLIAYYVVDSWGTARWTGTYKGTVKSDGGTYDIYTTTRYNAPSIDGDRTTFDQYWSVRQSKRPTGSNATITFSNHVNAWKSHGMNLGSNWAYQVMATAGYQSSGSSNVTVW\n"
     ]
    },
    {
     "data": {
      "text/html": [],
      "text/plain": [
       "<IPython.core.display.HTML object>"
      ]
     },
     "metadata": {},
     "output_type": "display_data"
    },
    {
     "name": "stdout",
     "output_type": "stream",
     "text": [
      "Mutated: T 125 KD (uM): 6.8561952005624756 Predictions: 0.836083173751831 Mutated Sequence: MSTDYWLNFTDGGGIVNAVNGSGGNYSVNWSNTGSFVVGKGWTTGSPFRTINYNAGVWAPNGWGAGALVGWTRSPLIAYYVVDSWGTARWTGTYKGTVKSDGGTYDIYTTTRYNAPSIDGDRTTFTQYWSVRQSKRPTGSNATITFSNHVNAWKSHGMNLGSNWAYQVMATAGYQSSGSSNVTVW\n"
     ]
    },
    {
     "data": {
      "text/html": [],
      "text/plain": [
       "<IPython.core.display.HTML object>"
      ]
     },
     "metadata": {},
     "output_type": "display_data"
    },
    {
     "name": "stdout",
     "output_type": "stream",
     "text": [
      "Mutated: R 125 KD (uM): 4.138220803708183 Predictions: 0.6168136596679688 Mutated Sequence: MSTDYWLNFTDGGGIVNAVNGSGGNYSVNWSNTGSFVVGKGWTTGSPFRTINYNAGVWAPNGWGAGALVGWTRSPLIAYYVVDSWGTARWTGTYKGTVKSDGGTYDIYTTTRYNAPSIDGDRTTFRQYWSVRQSKRPTGSNATITFSNHVNAWKSHGMNLGSNWAYQVMATAGYQSSGSSNVTVW\n"
     ]
    },
    {
     "data": {
      "text/html": [],
      "text/plain": [
       "<IPython.core.display.HTML object>"
      ]
     },
     "metadata": {},
     "output_type": "display_data"
    },
    {
     "name": "stdout",
     "output_type": "stream",
     "text": [
      "Mutated: K 125 KD (uM): 3.2625241761581583 Predictions: 0.5135537385940552 Mutated Sequence: MSTDYWLNFTDGGGIVNAVNGSGGNYSVNWSNTGSFVVGKGWTTGSPFRTINYNAGVWAPNGWGAGALVGWTRSPLIAYYVVDSWGTARWTGTYKGTVKSDGGTYDIYTTTRYNAPSIDGDRTTFKQYWSVRQSKRPTGSNATITFSNHVNAWKSHGMNLGSNWAYQVMATAGYQSSGSSNVTVW\n"
     ]
    },
    {
     "data": {
      "text/html": [],
      "text/plain": [
       "<IPython.core.display.HTML object>"
      ]
     },
     "metadata": {},
     "output_type": "display_data"
    },
    {
     "name": "stdout",
     "output_type": "stream",
     "text": [
      "Mutated: H 125 KD (uM): 3.468359119816638 Predictions: 0.5401240587234497 Mutated Sequence: MSTDYWLNFTDGGGIVNAVNGSGGNYSVNWSNTGSFVVGKGWTTGSPFRTINYNAGVWAPNGWGAGALVGWTRSPLIAYYVVDSWGTARWTGTYKGTVKSDGGTYDIYTTTRYNAPSIDGDRTTFHQYWSVRQSKRPTGSNATITFSNHVNAWKSHGMNLGSNWAYQVMATAGYQSSGSSNVTVW\n"
     ]
    },
    {
     "data": {
      "text/html": [],
      "text/plain": [
       "<IPython.core.display.HTML object>"
      ]
     },
     "metadata": {},
     "output_type": "display_data"
    },
    {
     "name": "stdout",
     "output_type": "stream",
     "text": [
      "Mutated: E 125 KD (uM): 3.277958289839289 Predictions: 0.5156034231185913 Mutated Sequence: MSTDYWLNFTDGGGIVNAVNGSGGNYSVNWSNTGSFVVGKGWTTGSPFRTINYNAGVWAPNGWGAGALVGWTRSPLIAYYVVDSWGTARWTGTYKGTVKSDGGTYDIYTTTRYNAPSIDGDRTTFEQYWSVRQSKRPTGSNATITFSNHVNAWKSHGMNLGSNWAYQVMATAGYQSSGSSNVTVW\n"
     ]
    },
    {
     "data": {
      "text/html": [],
      "text/plain": [
       "<IPython.core.display.HTML object>"
      ]
     },
     "metadata": {},
     "output_type": "display_data"
    },
    {
     "name": "stdout",
     "output_type": "stream",
     "text": [
      "Mutated: F 125 KD (uM): 6.217484131714373 Predictions: 0.7936146855354309 Mutated Sequence: MSTDYWLNFTDGGGIVNAVNGSGGNYSVNWSNTGSFVVGKGWTTGSPFRTINYNAGVWAPNGWGAGALVGWTRSPLIAYYVVDSWGTARWTGTYKGTVKSDGGTYDIYTTTRYNAPSIDGDRTTFFQYWSVRQSKRPTGSNATITFSNHVNAWKSHGMNLGSNWAYQVMATAGYQSSGSSNVTVW\n"
     ]
    },
    {
     "data": {
      "text/html": [],
      "text/plain": [
       "<IPython.core.display.HTML object>"
      ]
     },
     "metadata": {},
     "output_type": "display_data"
    },
    {
     "name": "stdout",
     "output_type": "stream",
     "text": [
      "Mutated: C 125 KD (uM): 3.326172900467608 Predictions: 0.5219448208808899 Mutated Sequence: MSTDYWLNFTDGGGIVNAVNGSGGNYSVNWSNTGSFVVGKGWTTGSPFRTINYNAGVWAPNGWGAGALVGWTRSPLIAYYVVDSWGTARWTGTYKGTVKSDGGTYDIYTTTRYNAPSIDGDRTTFCQYWSVRQSKRPTGSNATITFSNHVNAWKSHGMNLGSNWAYQVMATAGYQSSGSSNVTVW\n"
     ]
    },
    {
     "data": {
      "text/html": [],
      "text/plain": [
       "<IPython.core.display.HTML object>"
      ]
     },
     "metadata": {},
     "output_type": "display_data"
    },
    {
     "name": "stdout",
     "output_type": "stream",
     "text": [
      "Mutated: Y 125 KD (uM): 4.083374328594642 Predictions: 0.6110191941261292 Mutated Sequence: MSTDYWLNFTDGGGIVNAVNGSGGNYSVNWSNTGSFVVGKGWTTGSPFRTINYNAGVWAPNGWGAGALVGWTRSPLIAYYVVDSWGTARWTGTYKGTVKSDGGTYDIYTTTRYNAPSIDGDRTTFYQYWSVRQSKRPTGSNATITFSNHVNAWKSHGMNLGSNWAYQVMATAGYQSSGSSNVTVW\n"
     ]
    },
    {
     "data": {
      "text/html": [],
      "text/plain": [
       "<IPython.core.display.HTML object>"
      ]
     },
     "metadata": {},
     "output_type": "display_data"
    },
    {
     "name": "stdout",
     "output_type": "stream",
     "text": [
      "Mutated: A 125 KD (uM): 3.25937656869847 Predictions: 0.5131345391273499 Mutated Sequence: MSTDYWLNFTDGGGIVNAVNGSGGNYSVNWSNTGSFVVGKGWTTGSPFRTINYNAGVWAPNGWGAGALVGWTRSPLIAYYVVDSWGTARWTGTYKGTVKSDGGTYDIYTTTRYNAPSIDGDRTTFAQYWSVRQSKRPTGSNATITFSNHVNAWKSHGMNLGSNWAYQVMATAGYQSSGSSNVTVW\n"
     ]
    },
    {
     "data": {
      "text/html": [],
      "text/plain": [
       "<IPython.core.display.HTML object>"
      ]
     },
     "metadata": {},
     "output_type": "display_data"
    },
    {
     "name": "stdout",
     "output_type": "stream",
     "text": [
      "Mutated: V 125 KD (uM): 6.041203416614912 Predictions: 0.7811234593391418 Mutated Sequence: MSTDYWLNFTDGGGIVNAVNGSGGNYSVNWSNTGSFVVGKGWTTGSPFRTINYNAGVWAPNGWGAGALVGWTRSPLIAYYVVDSWGTARWTGTYKGTVKSDGGTYDIYTTTRYNAPSIDGDRTTFVQYWSVRQSKRPTGSNATITFSNHVNAWKSHGMNLGSNWAYQVMATAGYQSSGSSNVTVW\n"
     ]
    },
    {
     "data": {
      "text/html": [],
      "text/plain": [
       "<IPython.core.display.HTML object>"
      ]
     },
     "metadata": {},
     "output_type": "display_data"
    },
    {
     "name": "stdout",
     "output_type": "stream",
     "text": [
      "Mutated: W 125 KD (uM): 6.72646462967857 Predictions: 0.8277868628501892 Mutated Sequence: MSTDYWLNFTDGGGIVNAVNGSGGNYSVNWSNTGSFVVGKGWTTGSPFRTINYNAGVWAPNGWGAGALVGWTRSPLIAYYVVDSWGTARWTGTYKGTVKSDGGTYDIYTTTRYNAPSIDGDRTTFWQYWSVRQSKRPTGSNATITFSNHVNAWKSHGMNLGSNWAYQVMATAGYQSSGSSNVTVW\n"
     ]
    },
    {
     "data": {
      "text/html": [],
      "text/plain": [
       "<IPython.core.display.HTML object>"
      ]
     },
     "metadata": {},
     "output_type": "display_data"
    },
    {
     "name": "stdout",
     "output_type": "stream",
     "text": [
      "Mutated: I 125 KD (uM): 5.3242809007009635 Predictions: 0.7262609601020813 Mutated Sequence: MSTDYWLNFTDGGGIVNAVNGSGGNYSVNWSNTGSFVVGKGWTTGSPFRTINYNAGVWAPNGWGAGALVGWTRSPLIAYYVVDSWGTARWTGTYKGTVKSDGGTYDIYTTTRYNAPSIDGDRTTFIQYWSVRQSKRPTGSNATITFSNHVNAWKSHGMNLGSNWAYQVMATAGYQSSGSSNVTVW\n"
     ]
    },
    {
     "data": {
      "text/html": [],
      "text/plain": [
       "<IPython.core.display.HTML object>"
      ]
     },
     "metadata": {},
     "output_type": "display_data"
    },
    {
     "name": "stdout",
     "output_type": "stream",
     "text": [
      "Mutated: M 125 KD (uM): 5.805733896482357 Predictions: 0.7638571262359619 Mutated Sequence: MSTDYWLNFTDGGGIVNAVNGSGGNYSVNWSNTGSFVVGKGWTTGSPFRTINYNAGVWAPNGWGAGALVGWTRSPLIAYYVVDSWGTARWTGTYKGTVKSDGGTYDIYTTTRYNAPSIDGDRTTFMQYWSVRQSKRPTGSNATITFSNHVNAWKSHGMNLGSNWAYQVMATAGYQSSGSSNVTVW\n"
     ]
    },
    {
     "data": {
      "text/html": [],
      "text/plain": [
       "<IPython.core.display.HTML object>"
      ]
     },
     "metadata": {},
     "output_type": "display_data"
    },
    {
     "name": "stdout",
     "output_type": "stream",
     "text": [
      "Mutated: L 125 KD (uM): 6.043693787806097 Predictions: 0.7813024520874023 Mutated Sequence: MSTDYWLNFTDGGGIVNAVNGSGGNYSVNWSNTGSFVVGKGWTTGSPFRTINYNAGVWAPNGWGAGALVGWTRSPLIAYYVVDSWGTARWTGTYKGTVKSDGGTYDIYTTTRYNAPSIDGDRTTFLQYWSVRQSKRPTGSNATITFSNHVNAWKSHGMNLGSNWAYQVMATAGYQSSGSSNVTVW\n"
     ]
    },
    {
     "data": {
      "text/html": [],
      "text/plain": [
       "<IPython.core.display.HTML object>"
      ]
     },
     "metadata": {},
     "output_type": "display_data"
    },
    {
     "name": "stdout",
     "output_type": "stream",
     "text": [
      "Mutated: S 127 KD (uM): 7.700090484323832 Predictions: 0.88649582862854 Mutated Sequence: MSTDYWLNFTDGGGIVNAVNGSGGNYSVNWSNTGSFVVGKGWTTGSPFRTINYNAGVWAPNGWGAGALVGWTRSPLIAYYVVDSWGTARWTGTYKGTVKSDGGTYDIYTTTRYNAPSIDGDRTTFTQSWSVRQSKRPTGSNATITFSNHVNAWKSHGMNLGSNWAYQVMATAGYQSSGSSNVTVW\n"
     ]
    },
    {
     "data": {
      "text/html": [],
      "text/plain": [
       "<IPython.core.display.HTML object>"
      ]
     },
     "metadata": {},
     "output_type": "display_data"
    },
    {
     "name": "stdout",
     "output_type": "stream",
     "text": [
      "Mutated: G 127 KD (uM): 7.62490111346823 Predictions: 0.8822342157363892 Mutated Sequence: MSTDYWLNFTDGGGIVNAVNGSGGNYSVNWSNTGSFVVGKGWTTGSPFRTINYNAGVWAPNGWGAGALVGWTRSPLIAYYVVDSWGTARWTGTYKGTVKSDGGTYDIYTTTRYNAPSIDGDRTTFTQGWSVRQSKRPTGSNATITFSNHVNAWKSHGMNLGSNWAYQVMATAGYQSSGSSNVTVW\n"
     ]
    },
    {
     "data": {
      "text/html": [],
      "text/plain": [
       "<IPython.core.display.HTML object>"
      ]
     },
     "metadata": {},
     "output_type": "display_data"
    },
    {
     "name": "stdout",
     "output_type": "stream",
     "text": [
      "Mutated: T 127 KD (uM): 6.866366228968824 Predictions: 0.83672696352005 Mutated Sequence: MSTDYWLNFTDGGGIVNAVNGSGGNYSVNWSNTGSFVVGKGWTTGSPFRTINYNAGVWAPNGWGAGALVGWTRSPLIAYYVVDSWGTARWTGTYKGTVKSDGGTYDIYTTTRYNAPSIDGDRTTFTQTWSVRQSKRPTGSNATITFSNHVNAWKSHGMNLGSNWAYQVMATAGYQSSGSSNVTVW\n"
     ]
    },
    {
     "data": {
      "text/html": [],
      "text/plain": [
       "<IPython.core.display.HTML object>"
      ]
     },
     "metadata": {},
     "output_type": "display_data"
    },
    {
     "name": "stdout",
     "output_type": "stream",
     "text": [
      "Mutated: M 127 KD (uM): 3.6293731270862786 Predictions: 0.5598316192626953 Mutated Sequence: MSTDYWLNFTDGGGIVNAVNGSGGNYSVNWSNTGSFVVGKGWTTGSPFRTINYNAGVWAPNGWGAGALVGWTRSPLIAYYVVDSWGTARWTGTYKGTVKSDGGTYDIYTTTRYNAPSIDGDRTTFTQMWSVRQSKRPTGSNATITFSNHVNAWKSHGMNLGSNWAYQVMATAGYQSSGSSNVTVW\n"
     ]
    },
    {
     "data": {
      "text/html": [],
      "text/plain": [
       "<IPython.core.display.HTML object>"
      ]
     },
     "metadata": {},
     "output_type": "display_data"
    },
    {
     "name": "stdout",
     "output_type": "stream",
     "text": [
      "Mutated: W 127 KD (uM): 6.228724787652533 Predictions: 0.7943991422653198 Mutated Sequence: MSTDYWLNFTDGGGIVNAVNGSGGNYSVNWSNTGSFVVGKGWTTGSPFRTINYNAGVWAPNGWGAGALVGWTRSPLIAYYVVDSWGTARWTGTYKGTVKSDGGTYDIYTTTRYNAPSIDGDRTTFTQWWSVRQSKRPTGSNATITFSNHVNAWKSHGMNLGSNWAYQVMATAGYQSSGSSNVTVW\n"
     ]
    },
    {
     "data": {
      "text/html": [],
      "text/plain": [
       "<IPython.core.display.HTML object>"
      ]
     },
     "metadata": {},
     "output_type": "display_data"
    },
    {
     "name": "stdout",
     "output_type": "stream",
     "text": [
      "Mutated: L 127 KD (uM): 5.385276746994228 Predictions: 0.7312080264091492 Mutated Sequence: MSTDYWLNFTDGGGIVNAVNGSGGNYSVNWSNTGSFVVGKGWTTGSPFRTINYNAGVWAPNGWGAGALVGWTRSPLIAYYVVDSWGTARWTGTYKGTVKSDGGTYDIYTTTRYNAPSIDGDRTTFTQLWSVRQSKRPTGSNATITFSNHVNAWKSHGMNLGSNWAYQVMATAGYQSSGSSNVTVW\n"
     ]
    },
    {
     "data": {
      "text/html": [],
      "text/plain": [
       "<IPython.core.display.HTML object>"
      ]
     },
     "metadata": {},
     "output_type": "display_data"
    },
    {
     "name": "stdout",
     "output_type": "stream",
     "text": [
      "Mutated: P 127 KD (uM): 7.702413674789202 Predictions: 0.8866268396377563 Mutated Sequence: MSTDYWLNFTDGGGIVNAVNGSGGNYSVNWSNTGSFVVGKGWTTGSPFRTINYNAGVWAPNGWGAGALVGWTRSPLIAYYVVDSWGTARWTGTYKGTVKSDGGTYDIYTTTRYNAPSIDGDRTTFTQPWSVRQSKRPTGSNATITFSNHVNAWKSHGMNLGSNWAYQVMATAGYQSSGSSNVTVW\n"
     ]
    },
    {
     "data": {
      "text/html": [],
      "text/plain": [
       "<IPython.core.display.HTML object>"
      ]
     },
     "metadata": {},
     "output_type": "display_data"
    },
    {
     "name": "stdout",
     "output_type": "stream",
     "text": [
      "Mutated: H 127 KD (uM): 7.344267694050768 Predictions: 0.865948498249054 Mutated Sequence: MSTDYWLNFTDGGGIVNAVNGSGGNYSVNWSNTGSFVVGKGWTTGSPFRTINYNAGVWAPNGWGAGALVGWTRSPLIAYYVVDSWGTARWTGTYKGTVKSDGGTYDIYTTTRYNAPSIDGDRTTFTQHWSVRQSKRPTGSNATITFSNHVNAWKSHGMNLGSNWAYQVMATAGYQSSGSSNVTVW\n"
     ]
    },
    {
     "data": {
      "text/html": [],
      "text/plain": [
       "<IPython.core.display.HTML object>"
      ]
     },
     "metadata": {},
     "output_type": "display_data"
    },
    {
     "name": "stdout",
     "output_type": "stream",
     "text": [
      "Mutated: F 127 KD (uM): 6.3641653554699005 Predictions: 0.803741455078125 Mutated Sequence: MSTDYWLNFTDGGGIVNAVNGSGGNYSVNWSNTGSFVVGKGWTTGSPFRTINYNAGVWAPNGWGAGALVGWTRSPLIAYYVVDSWGTARWTGTYKGTVKSDGGTYDIYTTTRYNAPSIDGDRTTFTQFWSVRQSKRPTGSNATITFSNHVNAWKSHGMNLGSNWAYQVMATAGYQSSGSSNVTVW\n"
     ]
    },
    {
     "data": {
      "text/html": [],
      "text/plain": [
       "<IPython.core.display.HTML object>"
      ]
     },
     "metadata": {},
     "output_type": "display_data"
    },
    {
     "name": "stdout",
     "output_type": "stream",
     "text": [
      "Mutated: Q 127 KD (uM): 5.514499474862176 Predictions: 0.7415060997009277 Mutated Sequence: MSTDYWLNFTDGGGIVNAVNGSGGNYSVNWSNTGSFVVGKGWTTGSPFRTINYNAGVWAPNGWGAGALVGWTRSPLIAYYVVDSWGTARWTGTYKGTVKSDGGTYDIYTTTRYNAPSIDGDRTTFTQQWSVRQSKRPTGSNATITFSNHVNAWKSHGMNLGSNWAYQVMATAGYQSSGSSNVTVW\n"
     ]
    },
    {
     "data": {
      "text/html": [],
      "text/plain": [
       "<IPython.core.display.HTML object>"
      ]
     },
     "metadata": {},
     "output_type": "display_data"
    },
    {
     "name": "stdout",
     "output_type": "stream",
     "text": [
      "Mutated: C 127 KD (uM): 6.938886099421018 Predictions: 0.841289758682251 Mutated Sequence: MSTDYWLNFTDGGGIVNAVNGSGGNYSVNWSNTGSFVVGKGWTTGSPFRTINYNAGVWAPNGWGAGALVGWTRSPLIAYYVVDSWGTARWTGTYKGTVKSDGGTYDIYTTTRYNAPSIDGDRTTFTQCWSVRQSKRPTGSNATITFSNHVNAWKSHGMNLGSNWAYQVMATAGYQSSGSSNVTVW\n"
     ]
    },
    {
     "data": {
      "text/html": [],
      "text/plain": [
       "<IPython.core.display.HTML object>"
      ]
     },
     "metadata": {},
     "output_type": "display_data"
    },
    {
     "name": "stdout",
     "output_type": "stream",
     "text": [
      "Mutated: K 127 KD (uM): 4.42917810560293 Predictions: 0.6463231444358826 Mutated Sequence: MSTDYWLNFTDGGGIVNAVNGSGGNYSVNWSNTGSFVVGKGWTTGSPFRTINYNAGVWAPNGWGAGALVGWTRSPLIAYYVVDSWGTARWTGTYKGTVKSDGGTYDIYTTTRYNAPSIDGDRTTFTQKWSVRQSKRPTGSNATITFSNHVNAWKSHGMNLGSNWAYQVMATAGYQSSGSSNVTVW\n"
     ]
    },
    {
     "data": {
      "text/html": [],
      "text/plain": [
       "<IPython.core.display.HTML object>"
      ]
     },
     "metadata": {},
     "output_type": "display_data"
    },
    {
     "name": "stdout",
     "output_type": "stream",
     "text": [
      "Mutated: I 127 KD (uM): 5.02262730163915 Predictions: 0.7009309530258179 Mutated Sequence: MSTDYWLNFTDGGGIVNAVNGSGGNYSVNWSNTGSFVVGKGWTTGSPFRTINYNAGVWAPNGWGAGALVGWTRSPLIAYYVVDSWGTARWTGTYKGTVKSDGGTYDIYTTTRYNAPSIDGDRTTFTQIWSVRQSKRPTGSNATITFSNHVNAWKSHGMNLGSNWAYQVMATAGYQSSGSSNVTVW\n"
     ]
    },
    {
     "data": {
      "text/html": [],
      "text/plain": [
       "<IPython.core.display.HTML object>"
      ]
     },
     "metadata": {},
     "output_type": "display_data"
    },
    {
     "name": "stdout",
     "output_type": "stream",
     "text": [
      "Mutated: V 127 KD (uM): 6.46437334151992 Predictions: 0.810526430606842 Mutated Sequence: MSTDYWLNFTDGGGIVNAVNGSGGNYSVNWSNTGSFVVGKGWTTGSPFRTINYNAGVWAPNGWGAGALVGWTRSPLIAYYVVDSWGTARWTGTYKGTVKSDGGTYDIYTTTRYNAPSIDGDRTTFTQVWSVRQSKRPTGSNATITFSNHVNAWKSHGMNLGSNWAYQVMATAGYQSSGSSNVTVW\n"
     ]
    },
    {
     "data": {
      "text/html": [],
      "text/plain": [
       "<IPython.core.display.HTML object>"
      ]
     },
     "metadata": {},
     "output_type": "display_data"
    },
    {
     "name": "stdout",
     "output_type": "stream",
     "text": [
      "Mutated: R 127 KD (uM): 7.695529642403451 Predictions: 0.8862385153770447 Mutated Sequence: MSTDYWLNFTDGGGIVNAVNGSGGNYSVNWSNTGSFVVGKGWTTGSPFRTINYNAGVWAPNGWGAGALVGWTRSPLIAYYVVDSWGTARWTGTYKGTVKSDGGTYDIYTTTRYNAPSIDGDRTTFTQRWSVRQSKRPTGSNATITFSNHVNAWKSHGMNLGSNWAYQVMATAGYQSSGSSNVTVW\n"
     ]
    },
    {
     "data": {
      "text/html": [],
      "text/plain": [
       "<IPython.core.display.HTML object>"
      ]
     },
     "metadata": {},
     "output_type": "display_data"
    },
    {
     "name": "stdout",
     "output_type": "stream",
     "text": [
      "Mutated: Y 127 KD (uM): 6.8561952005624756 Predictions: 0.836083173751831 Mutated Sequence: MSTDYWLNFTDGGGIVNAVNGSGGNYSVNWSNTGSFVVGKGWTTGSPFRTINYNAGVWAPNGWGAGALVGWTRSPLIAYYVVDSWGTARWTGTYKGTVKSDGGTYDIYTTTRYNAPSIDGDRTTFTQYWSVRQSKRPTGSNATITFSNHVNAWKSHGMNLGSNWAYQVMATAGYQSSGSSNVTVW\n"
     ]
    },
    {
     "data": {
      "text/html": [],
      "text/plain": [
       "<IPython.core.display.HTML object>"
      ]
     },
     "metadata": {},
     "output_type": "display_data"
    },
    {
     "name": "stdout",
     "output_type": "stream",
     "text": [
      "Mutated: A 116 KD (uM): 6.6180298128465065 Predictions: 0.8207287192344666 Mutated Sequence: MSTDYWLNFTDGGGIVNAVNGSGGNYSVNWSNTGSFVVGKGWTTGSPFRTINYNAGVWAPNGWGAGALVGWTRSPLIAYYVVDSWGTARWTGTYKGTVKSDGGTYDIYTTTRYNAPAIDGDRTTFTQYWSVRQSKRPTGSNATITFSNHVNAWKSHGMNLGSNWAYQVMATAGYQSSGSSNVTVW\n"
     ]
    },
    {
     "data": {
      "text/html": [],
      "text/plain": [
       "<IPython.core.display.HTML object>"
      ]
     },
     "metadata": {},
     "output_type": "display_data"
    },
    {
     "name": "stdout",
     "output_type": "stream",
     "text": [
      "Mutated: G 116 KD (uM): 6.656048807615409 Predictions: 0.8232164978981018 Mutated Sequence: MSTDYWLNFTDGGGIVNAVNGSGGNYSVNWSNTGSFVVGKGWTTGSPFRTINYNAGVWAPNGWGAGALVGWTRSPLIAYYVVDSWGTARWTGTYKGTVKSDGGTYDIYTTTRYNAPGIDGDRTTFTQYWSVRQSKRPTGSNATITFSNHVNAWKSHGMNLGSNWAYQVMATAGYQSSGSSNVTVW\n"
     ]
    },
    {
     "data": {
      "text/html": [],
      "text/plain": [
       "<IPython.core.display.HTML object>"
      ]
     },
     "metadata": {},
     "output_type": "display_data"
    },
    {
     "name": "stdout",
     "output_type": "stream",
     "text": [
      "Mutated: N 116 KD (uM): 6.37446989838222 Predictions: 0.8044440746307373 Mutated Sequence: MSTDYWLNFTDGGGIVNAVNGSGGNYSVNWSNTGSFVVGKGWTTGSPFRTINYNAGVWAPNGWGAGALVGWTRSPLIAYYVVDSWGTARWTGTYKGTVKSDGGTYDIYTTTRYNAPNIDGDRTTFTQYWSVRQSKRPTGSNATITFSNHVNAWKSHGMNLGSNWAYQVMATAGYQSSGSSNVTVW\n"
     ]
    },
    {
     "data": {
      "text/html": [],
      "text/plain": [
       "<IPython.core.display.HTML object>"
      ]
     },
     "metadata": {},
     "output_type": "display_data"
    },
    {
     "name": "stdout",
     "output_type": "stream",
     "text": [
      "Mutated: P 116 KD (uM): 6.756909374393409 Predictions: 0.8297480940818787 Mutated Sequence: MSTDYWLNFTDGGGIVNAVNGSGGNYSVNWSNTGSFVVGKGWTTGSPFRTINYNAGVWAPNGWGAGALVGWTRSPLIAYYVVDSWGTARWTGTYKGTVKSDGGTYDIYTTTRYNAPPIDGDRTTFTQYWSVRQSKRPTGSNATITFSNHVNAWKSHGMNLGSNWAYQVMATAGYQSSGSSNVTVW\n"
     ]
    },
    {
     "data": {
      "text/html": [],
      "text/plain": [
       "<IPython.core.display.HTML object>"
      ]
     },
     "metadata": {},
     "output_type": "display_data"
    },
    {
     "name": "stdout",
     "output_type": "stream",
     "text": [
      "Mutated: S 116 KD (uM): 6.8561952005624756 Predictions: 0.836083173751831 Mutated Sequence: MSTDYWLNFTDGGGIVNAVNGSGGNYSVNWSNTGSFVVGKGWTTGSPFRTINYNAGVWAPNGWGAGALVGWTRSPLIAYYVVDSWGTARWTGTYKGTVKSDGGTYDIYTTTRYNAPSIDGDRTTFTQYWSVRQSKRPTGSNATITFSNHVNAWKSHGMNLGSNWAYQVMATAGYQSSGSSNVTVW\n"
     ]
    },
    {
     "data": {
      "text/html": [],
      "text/plain": [
       "<IPython.core.display.HTML object>"
      ]
     },
     "metadata": {},
     "output_type": "display_data"
    },
    {
     "name": "stdout",
     "output_type": "stream",
     "text": [
      "Mutated: D 116 KD (uM): 3.941391180281978 Predictions: 0.5956495404243469 Mutated Sequence: MSTDYWLNFTDGGGIVNAVNGSGGNYSVNWSNTGSFVVGKGWTTGSPFRTINYNAGVWAPNGWGAGALVGWTRSPLIAYYVVDSWGTARWTGTYKGTVKSDGGTYDIYTTTRYNAPDIDGDRTTFTQYWSVRQSKRPTGSNATITFSNHVNAWKSHGMNLGSNWAYQVMATAGYQSSGSSNVTVW\n"
     ]
    },
    {
     "data": {
      "text/html": [],
      "text/plain": [
       "<IPython.core.display.HTML object>"
      ]
     },
     "metadata": {},
     "output_type": "display_data"
    },
    {
     "name": "stdout",
     "output_type": "stream",
     "text": [
      "Mutated: E 116 KD (uM): 7.043281431856813 Predictions: 0.8477750420570374 Mutated Sequence: MSTDYWLNFTDGGGIVNAVNGSGGNYSVNWSNTGSFVVGKGWTTGSPFRTINYNAGVWAPNGWGAGALVGWTRSPLIAYYVVDSWGTARWTGTYKGTVKSDGGTYDIYTTTRYNAPEIDGDRTTFTQYWSVRQSKRPTGSNATITFSNHVNAWKSHGMNLGSNWAYQVMATAGYQSSGSSNVTVW\n"
     ]
    },
    {
     "data": {
      "text/html": [],
      "text/plain": [
       "<IPython.core.display.HTML object>"
      ]
     },
     "metadata": {},
     "output_type": "display_data"
    },
    {
     "name": "stdout",
     "output_type": "stream",
     "text": [
      "Mutated: T 116 KD (uM): 5.736393280382741 Predictions: 0.7586389183998108 Mutated Sequence: MSTDYWLNFTDGGGIVNAVNGSGGNYSVNWSNTGSFVVGKGWTTGSPFRTINYNAGVWAPNGWGAGALVGWTRSPLIAYYVVDSWGTARWTGTYKGTVKSDGGTYDIYTTTRYNAPTIDGDRTTFTQYWSVRQSKRPTGSNATITFSNHVNAWKSHGMNLGSNWAYQVMATAGYQSSGSSNVTVW\n"
     ]
    },
    {
     "data": {
      "text/html": [],
      "text/plain": [
       "<IPython.core.display.HTML object>"
      ]
     },
     "metadata": {},
     "output_type": "display_data"
    },
    {
     "name": "stdout",
     "output_type": "stream",
     "text": [
      "Mutated: R 116 KD (uM): 6.044241259727466 Predictions: 0.7813417911529541 Mutated Sequence: MSTDYWLNFTDGGGIVNAVNGSGGNYSVNWSNTGSFVVGKGWTTGSPFRTINYNAGVWAPNGWGAGALVGWTRSPLIAYYVVDSWGTARWTGTYKGTVKSDGGTYDIYTTTRYNAPRIDGDRTTFTQYWSVRQSKRPTGSNATITFSNHVNAWKSHGMNLGSNWAYQVMATAGYQSSGSSNVTVW\n"
     ]
    },
    {
     "data": {
      "text/html": [],
      "text/plain": [
       "<IPython.core.display.HTML object>"
      ]
     },
     "metadata": {},
     "output_type": "display_data"
    },
    {
     "name": "stdout",
     "output_type": "stream",
     "text": [
      "Mutated: Q 116 KD (uM): 6.851100763247215 Predictions: 0.8357603549957275 Mutated Sequence: MSTDYWLNFTDGGGIVNAVNGSGGNYSVNWSNTGSFVVGKGWTTGSPFRTINYNAGVWAPNGWGAGALVGWTRSPLIAYYVVDSWGTARWTGTYKGTVKSDGGTYDIYTTTRYNAPQIDGDRTTFTQYWSVRQSKRPTGSNATITFSNHVNAWKSHGMNLGSNWAYQVMATAGYQSSGSSNVTVW\n"
     ]
    },
    {
     "data": {
      "text/html": [],
      "text/plain": [
       "<IPython.core.display.HTML object>"
      ]
     },
     "metadata": {},
     "output_type": "display_data"
    },
    {
     "name": "stdout",
     "output_type": "stream",
     "text": [
      "Mutated: H 116 KD (uM): 6.932898554926304 Predictions: 0.8409148454666138 Mutated Sequence: MSTDYWLNFTDGGGIVNAVNGSGGNYSVNWSNTGSFVVGKGWTTGSPFRTINYNAGVWAPNGWGAGALVGWTRSPLIAYYVVDSWGTARWTGTYKGTVKSDGGTYDIYTTTRYNAPHIDGDRTTFTQYWSVRQSKRPTGSNATITFSNHVNAWKSHGMNLGSNWAYQVMATAGYQSSGSSNVTVW\n"
     ]
    },
    {
     "data": {
      "text/html": [],
      "text/plain": [
       "<IPython.core.display.HTML object>"
      ]
     },
     "metadata": {},
     "output_type": "display_data"
    },
    {
     "name": "stdout",
     "output_type": "stream",
     "text": [
      "Mutated: W 116 KD (uM): 3.500338139996719 Predictions: 0.5441100001335144 Mutated Sequence: MSTDYWLNFTDGGGIVNAVNGSGGNYSVNWSNTGSFVVGKGWTTGSPFRTINYNAGVWAPNGWGAGALVGWTRSPLIAYYVVDSWGTARWTGTYKGTVKSDGGTYDIYTTTRYNAPWIDGDRTTFTQYWSVRQSKRPTGSNATITFSNHVNAWKSHGMNLGSNWAYQVMATAGYQSSGSSNVTVW\n"
     ]
    },
    {
     "data": {
      "text/html": [],
      "text/plain": [
       "<IPython.core.display.HTML object>"
      ]
     },
     "metadata": {},
     "output_type": "display_data"
    },
    {
     "name": "stdout",
     "output_type": "stream",
     "text": [
      "Mutated: F 116 KD (uM): 4.927235159188367 Predictions: 0.6926032900810242 Mutated Sequence: MSTDYWLNFTDGGGIVNAVNGSGGNYSVNWSNTGSFVVGKGWTTGSPFRTINYNAGVWAPNGWGAGALVGWTRSPLIAYYVVDSWGTARWTGTYKGTVKSDGGTYDIYTTTRYNAPFIDGDRTTFTQYWSVRQSKRPTGSNATITFSNHVNAWKSHGMNLGSNWAYQVMATAGYQSSGSSNVTVW\n"
     ]
    },
    {
     "data": {
      "text/html": [],
      "text/plain": [
       "<IPython.core.display.HTML object>"
      ]
     },
     "metadata": {},
     "output_type": "display_data"
    },
    {
     "name": "stdout",
     "output_type": "stream",
     "text": [
      "Mutated: K 116 KD (uM): 6.34802792798572 Predictions: 0.802638828754425 Mutated Sequence: MSTDYWLNFTDGGGIVNAVNGSGGNYSVNWSNTGSFVVGKGWTTGSPFRTINYNAGVWAPNGWGAGALVGWTRSPLIAYYVVDSWGTARWTGTYKGTVKSDGGTYDIYTTTRYNAPKIDGDRTTFTQYWSVRQSKRPTGSNATITFSNHVNAWKSHGMNLGSNWAYQVMATAGYQSSGSSNVTVW\n"
     ]
    },
    {
     "data": {
      "text/html": [],
      "text/plain": [
       "<IPython.core.display.HTML object>"
      ]
     },
     "metadata": {},
     "output_type": "display_data"
    },
    {
     "name": "stdout",
     "output_type": "stream",
     "text": [
      "Mutated: V 116 KD (uM): 4.336175940941216 Predictions: 0.6371068954467773 Mutated Sequence: MSTDYWLNFTDGGGIVNAVNGSGGNYSVNWSNTGSFVVGKGWTTGSPFRTINYNAGVWAPNGWGAGALVGWTRSPLIAYYVVDSWGTARWTGTYKGTVKSDGGTYDIYTTTRYNAPVIDGDRTTFTQYWSVRQSKRPTGSNATITFSNHVNAWKSHGMNLGSNWAYQVMATAGYQSSGSSNVTVW\n"
     ]
    },
    {
     "data": {
      "text/html": [],
      "text/plain": [
       "<IPython.core.display.HTML object>"
      ]
     },
     "metadata": {},
     "output_type": "display_data"
    },
    {
     "name": "stdout",
     "output_type": "stream",
     "text": [
      "Mutated: Y 116 KD (uM): 6.383078229937116 Predictions: 0.8050301671028137 Mutated Sequence: MSTDYWLNFTDGGGIVNAVNGSGGNYSVNWSNTGSFVVGKGWTTGSPFRTINYNAGVWAPNGWGAGALVGWTRSPLIAYYVVDSWGTARWTGTYKGTVKSDGGTYDIYTTTRYNAPYIDGDRTTFTQYWSVRQSKRPTGSNATITFSNHVNAWKSHGMNLGSNWAYQVMATAGYQSSGSSNVTVW\n"
     ]
    },
    {
     "data": {
      "text/html": [],
      "text/plain": [
       "<IPython.core.display.HTML object>"
      ]
     },
     "metadata": {},
     "output_type": "display_data"
    },
    {
     "name": "stdout",
     "output_type": "stream",
     "text": [
      "Mutated: C 116 KD (uM): 4.937281423945279 Predictions: 0.6934878826141357 Mutated Sequence: MSTDYWLNFTDGGGIVNAVNGSGGNYSVNWSNTGSFVVGKGWTTGSPFRTINYNAGVWAPNGWGAGALVGWTRSPLIAYYVVDSWGTARWTGTYKGTVKSDGGTYDIYTTTRYNAPCIDGDRTTFTQYWSVRQSKRPTGSNATITFSNHVNAWKSHGMNLGSNWAYQVMATAGYQSSGSSNVTVW\n"
     ]
    },
    {
     "data": {
      "text/html": [],
      "text/plain": [
       "<IPython.core.display.HTML object>"
      ]
     },
     "metadata": {},
     "output_type": "display_data"
    },
    {
     "name": "stdout",
     "output_type": "stream",
     "text": [
      "Mutated: I 116 KD (uM): 4.986853659434089 Predictions: 0.697826623916626 Mutated Sequence: MSTDYWLNFTDGGGIVNAVNGSGGNYSVNWSNTGSFVVGKGWTTGSPFRTINYNAGVWAPNGWGAGALVGWTRSPLIAYYVVDSWGTARWTGTYKGTVKSDGGTYDIYTTTRYNAPIIDGDRTTFTQYWSVRQSKRPTGSNATITFSNHVNAWKSHGMNLGSNWAYQVMATAGYQSSGSSNVTVW\n"
     ]
    },
    {
     "data": {
      "text/html": [],
      "text/plain": [
       "<IPython.core.display.HTML object>"
      ]
     },
     "metadata": {},
     "output_type": "display_data"
    },
    {
     "name": "stdout",
     "output_type": "stream",
     "text": [
      "Mutated: L 116 KD (uM): 4.823337398428808 Predictions: 0.6833476424217224 Mutated Sequence: MSTDYWLNFTDGGGIVNAVNGSGGNYSVNWSNTGSFVVGKGWTTGSPFRTINYNAGVWAPNGWGAGALVGWTRSPLIAYYVVDSWGTARWTGTYKGTVKSDGGTYDIYTTTRYNAPLIDGDRTTFTQYWSVRQSKRPTGSNATITFSNHVNAWKSHGMNLGSNWAYQVMATAGYQSSGSSNVTVW\n"
     ]
    },
    {
     "data": {
      "text/html": [],
      "text/plain": [
       "<IPython.core.display.HTML object>"
      ]
     },
     "metadata": {},
     "output_type": "display_data"
    },
    {
     "name": "stdout",
     "output_type": "stream",
     "text": [
      "Mutated: M 116 KD (uM): 6.574968612091211 Predictions: 0.8178936839103699 Mutated Sequence: MSTDYWLNFTDGGGIVNAVNGSGGNYSVNWSNTGSFVVGKGWTTGSPFRTINYNAGVWAPNGWGAGALVGWTRSPLIAYYVVDSWGTARWTGTYKGTVKSDGGTYDIYTTTRYNAPMIDGDRTTFTQYWSVRQSKRPTGSNATITFSNHVNAWKSHGMNLGSNWAYQVMATAGYQSSGSSNVTVW\n"
     ]
    },
    {
     "data": {
      "text/html": [],
      "text/plain": [
       "<IPython.core.display.HTML object>"
      ]
     },
     "metadata": {},
     "output_type": "display_data"
    },
    {
     "name": "stdout",
     "output_type": "stream",
     "text": [
      "Mutated: E 117 KD (uM): 6.8479694139680705 Predictions: 0.8355618119239807 Mutated Sequence: MSTDYWLNFTDGGGIVNAVNGSGGNYSVNWSNTGSFVVGKGWTTGSPFRTINYNAGVWAPNGWGAGALVGWTRSPLIAYYVVDSWGTARWTGTYKGTVKSDGGTYDIYTTTRYNAPSEDGDRTTFTQYWSVRQSKRPTGSNATITFSNHVNAWKSHGMNLGSNWAYQVMATAGYQSSGSSNVTVW\n"
     ]
    },
    {
     "data": {
      "text/html": [],
      "text/plain": [
       "<IPython.core.display.HTML object>"
      ]
     },
     "metadata": {},
     "output_type": "display_data"
    },
    {
     "name": "stdout",
     "output_type": "stream",
     "text": [
      "Mutated: S 117 KD (uM): 4.2298637871103235 Predictions: 0.6263263821601868 Mutated Sequence: MSTDYWLNFTDGGGIVNAVNGSGGNYSVNWSNTGSFVVGKGWTTGSPFRTINYNAGVWAPNGWGAGALVGWTRSPLIAYYVVDSWGTARWTGTYKGTVKSDGGTYDIYTTTRYNAPSSDGDRTTFTQYWSVRQSKRPTGSNATITFSNHVNAWKSHGMNLGSNWAYQVMATAGYQSSGSSNVTVW\n"
     ]
    },
    {
     "data": {
      "text/html": [],
      "text/plain": [
       "<IPython.core.display.HTML object>"
      ]
     },
     "metadata": {},
     "output_type": "display_data"
    },
    {
     "name": "stdout",
     "output_type": "stream",
     "text": [
      "Mutated: E 118 KD (uM): 5.804348415158879 Predictions: 0.7637534737586975 Mutated Sequence: MSTDYWLNFTDGGGIVNAVNGSGGNYSVNWSNTGSFVVGKGWTTGSPFRTINYNAGVWAPNGWGAGALVGWTRSPLIAYYVVDSWGTARWTGTYKGTVKSDGGTYDIYTTTRYNAPSIEGDRTTFTQYWSVRQSKRPTGSNATITFSNHVNAWKSHGMNLGSNWAYQVMATAGYQSSGSSNVTVW\n"
     ]
    },
    {
     "data": {
      "text/html": [],
      "text/plain": [
       "<IPython.core.display.HTML object>"
      ]
     },
     "metadata": {},
     "output_type": "display_data"
    },
    {
     "name": "stdout",
     "output_type": "stream",
     "text": [
      "Mutated: P 118 KD (uM): 6.47407239861945 Predictions: 0.8111775517463684 Mutated Sequence: MSTDYWLNFTDGGGIVNAVNGSGGNYSVNWSNTGSFVVGKGWTTGSPFRTINYNAGVWAPNGWGAGALVGWTRSPLIAYYVVDSWGTARWTGTYKGTVKSDGGTYDIYTTTRYNAPSIPGDRTTFTQYWSVRQSKRPTGSNATITFSNHVNAWKSHGMNLGSNWAYQVMATAGYQSSGSSNVTVW\n"
     ]
    },
    {
     "data": {
      "text/html": [],
      "text/plain": [
       "<IPython.core.display.HTML object>"
      ]
     },
     "metadata": {},
     "output_type": "display_data"
    },
    {
     "name": "stdout",
     "output_type": "stream",
     "text": [
      "Mutated: G 118 KD (uM): 4.588200968153832 Predictions: 0.6616424322128296 Mutated Sequence: MSTDYWLNFTDGGGIVNAVNGSGGNYSVNWSNTGSFVVGKGWTTGSPFRTINYNAGVWAPNGWGAGALVGWTRSPLIAYYVVDSWGTARWTGTYKGTVKSDGGTYDIYTTTRYNAPSIGGDRTTFTQYWSVRQSKRPTGSNATITFSNHVNAWKSHGMNLGSNWAYQVMATAGYQSSGSSNVTVW\n"
     ]
    },
    {
     "data": {
      "text/html": [],
      "text/plain": [
       "<IPython.core.display.HTML object>"
      ]
     },
     "metadata": {},
     "output_type": "display_data"
    },
    {
     "name": "stdout",
     "output_type": "stream",
     "text": [
      "Mutated: P 117 KD (uM): 6.58914763577514 Predictions: 0.8188292384147644 Mutated Sequence: MSTDYWLNFTDGGGIVNAVNGSGGNYSVNWSNTGSFVVGKGWTTGSPFRTINYNAGVWAPNGWGAGALVGWTRSPLIAYYVVDSWGTARWTGTYKGTVKSDGGTYDIYTTTRYNAPSPDGDRTTFTQYWSVRQSKRPTGSNATITFSNHVNAWKSHGMNLGSNWAYQVMATAGYQSSGSSNVTVW\n"
     ]
    },
    {
     "data": {
      "text/html": [],
      "text/plain": [
       "<IPython.core.display.HTML object>"
      ]
     },
     "metadata": {},
     "output_type": "display_data"
    },
    {
     "name": "stdout",
     "output_type": "stream",
     "text": [
      "Mutated: N 118 KD (uM): 6.569497954371271 Predictions: 0.8175321817398071 Mutated Sequence: MSTDYWLNFTDGGGIVNAVNGSGGNYSVNWSNTGSFVVGKGWTTGSPFRTINYNAGVWAPNGWGAGALVGWTRSPLIAYYVVDSWGTARWTGTYKGTVKSDGGTYDIYTTTRYNAPSINGDRTTFTQYWSVRQSKRPTGSNATITFSNHVNAWKSHGMNLGSNWAYQVMATAGYQSSGSSNVTVW\n"
     ]
    },
    {
     "data": {
      "text/html": [],
      "text/plain": [
       "<IPython.core.display.HTML object>"
      ]
     },
     "metadata": {},
     "output_type": "display_data"
    },
    {
     "name": "stdout",
     "output_type": "stream",
     "text": [
      "Mutated: H 118 KD (uM): 5.273291515321067 Predictions: 0.7220817804336548 Mutated Sequence: MSTDYWLNFTDGGGIVNAVNGSGGNYSVNWSNTGSFVVGKGWTTGSPFRTINYNAGVWAPNGWGAGALVGWTRSPLIAYYVVDSWGTARWTGTYKGTVKSDGGTYDIYTTTRYNAPSIHGDRTTFTQYWSVRQSKRPTGSNATITFSNHVNAWKSHGMNLGSNWAYQVMATAGYQSSGSSNVTVW\n"
     ]
    },
    {
     "data": {
      "text/html": [],
      "text/plain": [
       "<IPython.core.display.HTML object>"
      ]
     },
     "metadata": {},
     "output_type": "display_data"
    },
    {
     "name": "stdout",
     "output_type": "stream",
     "text": [
      "Mutated: Q 118 KD (uM): 4.901394479876232 Predictions: 0.6903196573257446 Mutated Sequence: MSTDYWLNFTDGGGIVNAVNGSGGNYSVNWSNTGSFVVGKGWTTGSPFRTINYNAGVWAPNGWGAGALVGWTRSPLIAYYVVDSWGTARWTGTYKGTVKSDGGTYDIYTTTRYNAPSIQGDRTTFTQYWSVRQSKRPTGSNATITFSNHVNAWKSHGMNLGSNWAYQVMATAGYQSSGSSNVTVW\n"
     ]
    },
    {
     "data": {
      "text/html": [],
      "text/plain": [
       "<IPython.core.display.HTML object>"
      ]
     },
     "metadata": {},
     "output_type": "display_data"
    },
    {
     "name": "stdout",
     "output_type": "stream",
     "text": [
      "Mutated: A 118 KD (uM): 6.258549362114588 Predictions: 0.7964736819267273 Mutated Sequence: MSTDYWLNFTDGGGIVNAVNGSGGNYSVNWSNTGSFVVGKGWTTGSPFRTINYNAGVWAPNGWGAGALVGWTRSPLIAYYVVDSWGTARWTGTYKGTVKSDGGTYDIYTTTRYNAPSIAGDRTTFTQYWSVRQSKRPTGSNATITFSNHVNAWKSHGMNLGSNWAYQVMATAGYQSSGSSNVTVW\n"
     ]
    },
    {
     "data": {
      "text/html": [],
      "text/plain": [
       "<IPython.core.display.HTML object>"
      ]
     },
     "metadata": {},
     "output_type": "display_data"
    },
    {
     "name": "stdout",
     "output_type": "stream",
     "text": [
      "Mutated: K 118 KD (uM): 6.270273874583732 Predictions: 0.7972865104675293 Mutated Sequence: MSTDYWLNFTDGGGIVNAVNGSGGNYSVNWSNTGSFVVGKGWTTGSPFRTINYNAGVWAPNGWGAGALVGWTRSPLIAYYVVDSWGTARWTGTYKGTVKSDGGTYDIYTTTRYNAPSIKGDRTTFTQYWSVRQSKRPTGSNATITFSNHVNAWKSHGMNLGSNWAYQVMATAGYQSSGSSNVTVW\n"
     ]
    },
    {
     "data": {
      "text/html": [],
      "text/plain": [
       "<IPython.core.display.HTML object>"
      ]
     },
     "metadata": {},
     "output_type": "display_data"
    },
    {
     "name": "stdout",
     "output_type": "stream",
     "text": [
      "Mutated: M 118 KD (uM): 6.596703086539637 Predictions: 0.8193269371986389 Mutated Sequence: MSTDYWLNFTDGGGIVNAVNGSGGNYSVNWSNTGSFVVGKGWTTGSPFRTINYNAGVWAPNGWGAGALVGWTRSPLIAYYVVDSWGTARWTGTYKGTVKSDGGTYDIYTTTRYNAPSIMGDRTTFTQYWSVRQSKRPTGSNATITFSNHVNAWKSHGMNLGSNWAYQVMATAGYQSSGSSNVTVW\n"
     ]
    },
    {
     "data": {
      "text/html": [],
      "text/plain": [
       "<IPython.core.display.HTML object>"
      ]
     },
     "metadata": {},
     "output_type": "display_data"
    },
    {
     "name": "stdout",
     "output_type": "stream",
     "text": [
      "Mutated: Y 118 KD (uM): 4.440625909887377 Predictions: 0.6474441885948181 Mutated Sequence: MSTDYWLNFTDGGGIVNAVNGSGGNYSVNWSNTGSFVVGKGWTTGSPFRTINYNAGVWAPNGWGAGALVGWTRSPLIAYYVVDSWGTARWTGTYKGTVKSDGGTYDIYTTTRYNAPSIYGDRTTFTQYWSVRQSKRPTGSNATITFSNHVNAWKSHGMNLGSNWAYQVMATAGYQSSGSSNVTVW\n"
     ]
    },
    {
     "data": {
      "text/html": [],
      "text/plain": [
       "<IPython.core.display.HTML object>"
      ]
     },
     "metadata": {},
     "output_type": "display_data"
    },
    {
     "name": "stdout",
     "output_type": "stream",
     "text": [
      "Mutated: R 118 KD (uM): 4.51256257082035 Predictions: 0.6544232368469238 Mutated Sequence: MSTDYWLNFTDGGGIVNAVNGSGGNYSVNWSNTGSFVVGKGWTTGSPFRTINYNAGVWAPNGWGAGALVGWTRSPLIAYYVVDSWGTARWTGTYKGTVKSDGGTYDIYTTTRYNAPSIRGDRTTFTQYWSVRQSKRPTGSNATITFSNHVNAWKSHGMNLGSNWAYQVMATAGYQSSGSSNVTVW\n"
     ]
    },
    {
     "data": {
      "text/html": [],
      "text/plain": [
       "<IPython.core.display.HTML object>"
      ]
     },
     "metadata": {},
     "output_type": "display_data"
    },
    {
     "name": "stdout",
     "output_type": "stream",
     "text": [
      "Mutated: T 118 KD (uM): 4.331877159360603 Predictions: 0.6366761326789856 Mutated Sequence: MSTDYWLNFTDGGGIVNAVNGSGGNYSVNWSNTGSFVVGKGWTTGSPFRTINYNAGVWAPNGWGAGALVGWTRSPLIAYYVVDSWGTARWTGTYKGTVKSDGGTYDIYTTTRYNAPSITGDRTTFTQYWSVRQSKRPTGSNATITFSNHVNAWKSHGMNLGSNWAYQVMATAGYQSSGSSNVTVW\n"
     ]
    },
    {
     "data": {
      "text/html": [],
      "text/plain": [
       "<IPython.core.display.HTML object>"
      ]
     },
     "metadata": {},
     "output_type": "display_data"
    },
    {
     "name": "stdout",
     "output_type": "stream",
     "text": [
      "Mutated: M 117 KD (uM): 6.2543556406393215 Predictions: 0.7961825728416443 Mutated Sequence: MSTDYWLNFTDGGGIVNAVNGSGGNYSVNWSNTGSFVVGKGWTTGSPFRTINYNAGVWAPNGWGAGALVGWTRSPLIAYYVVDSWGTARWTGTYKGTVKSDGGTYDIYTTTRYNAPSMDGDRTTFTQYWSVRQSKRPTGSNATITFSNHVNAWKSHGMNLGSNWAYQVMATAGYQSSGSSNVTVW\n"
     ]
    },
    {
     "data": {
      "text/html": [],
      "text/plain": [
       "<IPython.core.display.HTML object>"
      ]
     },
     "metadata": {},
     "output_type": "display_data"
    },
    {
     "name": "stdout",
     "output_type": "stream",
     "text": [
      "Mutated: F 118 KD (uM): 4.902306060589574 Predictions: 0.6904004216194153 Mutated Sequence: MSTDYWLNFTDGGGIVNAVNGSGGNYSVNWSNTGSFVVGKGWTTGSPFRTINYNAGVWAPNGWGAGALVGWTRSPLIAYYVVDSWGTARWTGTYKGTVKSDGGTYDIYTTTRYNAPSIFGDRTTFTQYWSVRQSKRPTGSNATITFSNHVNAWKSHGMNLGSNWAYQVMATAGYQSSGSSNVTVW\n"
     ]
    },
    {
     "data": {
      "text/html": [],
      "text/plain": [
       "<IPython.core.display.HTML object>"
      ]
     },
     "metadata": {},
     "output_type": "display_data"
    },
    {
     "name": "stdout",
     "output_type": "stream",
     "text": [
      "Mutated: I 118 KD (uM): 4.696015320041591 Predictions: 0.6717295050621033 Mutated Sequence: MSTDYWLNFTDGGGIVNAVNGSGGNYSVNWSNTGSFVVGKGWTTGSPFRTINYNAGVWAPNGWGAGALVGWTRSPLIAYYVVDSWGTARWTGTYKGTVKSDGGTYDIYTTTRYNAPSIIGDRTTFTQYWSVRQSKRPTGSNATITFSNHVNAWKSHGMNLGSNWAYQVMATAGYQSSGSSNVTVW\n"
     ]
    },
    {
     "data": {
      "text/html": [],
      "text/plain": [
       "<IPython.core.display.HTML object>"
      ]
     },
     "metadata": {},
     "output_type": "display_data"
    },
    {
     "name": "stdout",
     "output_type": "stream",
     "text": [
      "Mutated: C 118 KD (uM): 6.6463708399975046 Predictions: 0.8225845694541931 Mutated Sequence: MSTDYWLNFTDGGGIVNAVNGSGGNYSVNWSNTGSFVVGKGWTTGSPFRTINYNAGVWAPNGWGAGALVGWTRSPLIAYYVVDSWGTARWTGTYKGTVKSDGGTYDIYTTTRYNAPSICGDRTTFTQYWSVRQSKRPTGSNATITFSNHVNAWKSHGMNLGSNWAYQVMATAGYQSSGSSNVTVW\n"
     ]
    },
    {
     "data": {
      "text/html": [],
      "text/plain": [
       "<IPython.core.display.HTML object>"
      ]
     },
     "metadata": {},
     "output_type": "display_data"
    },
    {
     "name": "stdout",
     "output_type": "stream",
     "text": [
      "Mutated: N 117 KD (uM): 6.957333319923579 Predictions: 0.8424428105354309 Mutated Sequence: MSTDYWLNFTDGGGIVNAVNGSGGNYSVNWSNTGSFVVGKGWTTGSPFRTINYNAGVWAPNGWGAGALVGWTRSPLIAYYVVDSWGTARWTGTYKGTVKSDGGTYDIYTTTRYNAPSNDGDRTTFTQYWSVRQSKRPTGSNATITFSNHVNAWKSHGMNLGSNWAYQVMATAGYQSSGSSNVTVW\n"
     ]
    },
    {
     "data": {
      "text/html": [],
      "text/plain": [
       "<IPython.core.display.HTML object>"
      ]
     },
     "metadata": {},
     "output_type": "display_data"
    },
    {
     "name": "stdout",
     "output_type": "stream",
     "text": [
      "Mutated: L 118 KD (uM): 4.764479586055123 Predictions: 0.6780154705047607 Mutated Sequence: MSTDYWLNFTDGGGIVNAVNGSGGNYSVNWSNTGSFVVGKGWTTGSPFRTINYNAGVWAPNGWGAGALVGWTRSPLIAYYVVDSWGTARWTGTYKGTVKSDGGTYDIYTTTRYNAPSILGDRTTFTQYWSVRQSKRPTGSNATITFSNHVNAWKSHGMNLGSNWAYQVMATAGYQSSGSSNVTVW\n"
     ]
    },
    {
     "data": {
      "text/html": [],
      "text/plain": [
       "<IPython.core.display.HTML object>"
      ]
     },
     "metadata": {},
     "output_type": "display_data"
    },
    {
     "name": "stdout",
     "output_type": "stream",
     "text": [
      "Mutated: A 117 KD (uM): 4.724886591736948 Predictions: 0.6743913888931274 Mutated Sequence: MSTDYWLNFTDGGGIVNAVNGSGGNYSVNWSNTGSFVVGKGWTTGSPFRTINYNAGVWAPNGWGAGALVGWTRSPLIAYYVVDSWGTARWTGTYKGTVKSDGGTYDIYTTTRYNAPSADGDRTTFTQYWSVRQSKRPTGSNATITFSNHVNAWKSHGMNLGSNWAYQVMATAGYQSSGSSNVTVW\n"
     ]
    },
    {
     "data": {
      "text/html": [],
      "text/plain": [
       "<IPython.core.display.HTML object>"
      ]
     },
     "metadata": {},
     "output_type": "display_data"
    },
    {
     "name": "stdout",
     "output_type": "stream",
     "text": [
      "Mutated: V 118 KD (uM): 4.406803375704808 Predictions: 0.6441236734390259 Mutated Sequence: MSTDYWLNFTDGGGIVNAVNGSGGNYSVNWSNTGSFVVGKGWTTGSPFRTINYNAGVWAPNGWGAGALVGWTRSPLIAYYVVDSWGTARWTGTYKGTVKSDGGTYDIYTTTRYNAPSIVGDRTTFTQYWSVRQSKRPTGSNATITFSNHVNAWKSHGMNLGSNWAYQVMATAGYQSSGSSNVTVW\n",
      "******** Mutation accepted! ********\n",
      "Mutate site 127: P\n",
      "~~~~~ Starting BO loop nb 3 ~~~~~\n"
     ]
    },
    {
     "data": {
      "text/html": [],
      "text/plain": [
       "<IPython.core.display.HTML object>"
      ]
     },
     "metadata": {},
     "output_type": "display_data"
    },
    {
     "name": "stdout",
     "output_type": "stream",
     "text": [
      "Mutated: W 118 KD (uM): 5.69696728342627 Predictions: 0.7556437253952026 Mutated Sequence: MSTDYWLNFTDGGGIVNAVNGSGGNYSVNWSNTGSFVVGKGWTTGSPFRTINYNAGVWAPNGWGAGALVGWTRSPLIAYYVVDSWGTARWTGTYKGTVKSDGGTYDIYTTTRYNAPSIWGDRTTFTQPWSVRQSKRPTGSNATITFSNHVNAWKSHGMNLGSNWAYQVMATAGYQSSGSSNVTVW\n"
     ]
    },
    {
     "data": {
      "text/html": [],
      "text/plain": [
       "<IPython.core.display.HTML object>"
      ]
     },
     "metadata": {},
     "output_type": "display_data"
    },
    {
     "name": "stdout",
     "output_type": "stream",
     "text": [
      "Mutated: D 118 KD (uM): 7.702413674789202 Predictions: 0.8866268396377563 Mutated Sequence: MSTDYWLNFTDGGGIVNAVNGSGGNYSVNWSNTGSFVVGKGWTTGSPFRTINYNAGVWAPNGWGAGALVGWTRSPLIAYYVVDSWGTARWTGTYKGTVKSDGGTYDIYTTTRYNAPSIDGDRTTFTQPWSVRQSKRPTGSNATITFSNHVNAWKSHGMNLGSNWAYQVMATAGYQSSGSSNVTVW\n"
     ]
    },
    {
     "data": {
      "text/html": [],
      "text/plain": [
       "<IPython.core.display.HTML object>"
      ]
     },
     "metadata": {},
     "output_type": "display_data"
    },
    {
     "name": "stdout",
     "output_type": "stream",
     "text": [
      "Mutated: K 117 KD (uM): 7.581962006211425 Predictions: 0.8797816038131714 Mutated Sequence: MSTDYWLNFTDGGGIVNAVNGSGGNYSVNWSNTGSFVVGKGWTTGSPFRTINYNAGVWAPNGWGAGALVGWTRSPLIAYYVVDSWGTARWTGTYKGTVKSDGGTYDIYTTTRYNAPSKDGDRTTFTQPWSVRQSKRPTGSNATITFSNHVNAWKSHGMNLGSNWAYQVMATAGYQSSGSSNVTVW\n"
     ]
    },
    {
     "data": {
      "text/html": [],
      "text/plain": [
       "<IPython.core.display.HTML object>"
      ]
     },
     "metadata": {},
     "output_type": "display_data"
    },
    {
     "name": "stdout",
     "output_type": "stream",
     "text": [
      "Mutated: H 117 KD (uM): 8.179930024307637 Predictions: 0.9127495884895325 Mutated Sequence: MSTDYWLNFTDGGGIVNAVNGSGGNYSVNWSNTGSFVVGKGWTTGSPFRTINYNAGVWAPNGWGAGALVGWTRSPLIAYYVVDSWGTARWTGTYKGTVKSDGGTYDIYTTTRYNAPSHDGDRTTFTQPWSVRQSKRPTGSNATITFSNHVNAWKSHGMNLGSNWAYQVMATAGYQSSGSSNVTVW\n"
     ]
    },
    {
     "data": {
      "text/html": [],
      "text/plain": [
       "<IPython.core.display.HTML object>"
      ]
     },
     "metadata": {},
     "output_type": "display_data"
    },
    {
     "name": "stdout",
     "output_type": "stream",
     "text": [
      "Mutated: Q 117 KD (uM): 8.112993312878357 Predictions: 0.9091811180114746 Mutated Sequence: MSTDYWLNFTDGGGIVNAVNGSGGNYSVNWSNTGSFVVGKGWTTGSPFRTINYNAGVWAPNGWGAGALVGWTRSPLIAYYVVDSWGTARWTGTYKGTVKSDGGTYDIYTTTRYNAPSQDGDRTTFTQPWSVRQSKRPTGSNATITFSNHVNAWKSHGMNLGSNWAYQVMATAGYQSSGSSNVTVW\n"
     ]
    },
    {
     "data": {
      "text/html": [],
      "text/plain": [
       "<IPython.core.display.HTML object>"
      ]
     },
     "metadata": {},
     "output_type": "display_data"
    },
    {
     "name": "stdout",
     "output_type": "stream",
     "text": [
      "Mutated: C 117 KD (uM): 7.572906008081345 Predictions: 0.8792625665664673 Mutated Sequence: MSTDYWLNFTDGGGIVNAVNGSGGNYSVNWSNTGSFVVGKGWTTGSPFRTINYNAGVWAPNGWGAGALVGWTRSPLIAYYVVDSWGTARWTGTYKGTVKSDGGTYDIYTTTRYNAPSCDGDRTTFTQPWSVRQSKRPTGSNATITFSNHVNAWKSHGMNLGSNWAYQVMATAGYQSSGSSNVTVW\n"
     ]
    },
    {
     "data": {
      "text/html": [],
      "text/plain": [
       "<IPython.core.display.HTML object>"
      ]
     },
     "metadata": {},
     "output_type": "display_data"
    },
    {
     "name": "stdout",
     "output_type": "stream",
     "text": [
      "Mutated: E 110 KD (uM): 6.855138564922525 Predictions: 0.8360162377357483 Mutated Sequence: MSTDYWLNFTDGGGIVNAVNGSGGNYSVNWSNTGSFVVGKGWTTGSPFRTINYNAGVWAPNGWGAGALVGWTRSPLIAYYVVDSWGTARWTGTYKGTVKSDGGTYDIYTTERYNAPSIDGDRTTFTQPWSVRQSKRPTGSNATITFSNHVNAWKSHGMNLGSNWAYQVMATAGYQSSGSSNVTVW\n"
     ]
    },
    {
     "data": {
      "text/html": [],
      "text/plain": [
       "<IPython.core.display.HTML object>"
      ]
     },
     "metadata": {},
     "output_type": "display_data"
    },
    {
     "name": "stdout",
     "output_type": "stream",
     "text": [
      "Mutated: P 110 KD (uM): 3.6286076089677763 Predictions: 0.5597400069236755 Mutated Sequence: MSTDYWLNFTDGGGIVNAVNGSGGNYSVNWSNTGSFVVGKGWTTGSPFRTINYNAGVWAPNGWGAGALVGWTRSPLIAYYVVDSWGTARWTGTYKGTVKSDGGTYDIYTTPRYNAPSIDGDRTTFTQPWSVRQSKRPTGSNATITFSNHVNAWKSHGMNLGSNWAYQVMATAGYQSSGSSNVTVW\n"
     ]
    },
    {
     "data": {
      "text/html": [],
      "text/plain": [
       "<IPython.core.display.HTML object>"
      ]
     },
     "metadata": {},
     "output_type": "display_data"
    },
    {
     "name": "stdout",
     "output_type": "stream",
     "text": [
      "Mutated: N 110 KD (uM): 7.537924858271522 Predictions: 0.8772518038749695 Mutated Sequence: MSTDYWLNFTDGGGIVNAVNGSGGNYSVNWSNTGSFVVGKGWTTGSPFRTINYNAGVWAPNGWGAGALVGWTRSPLIAYYVVDSWGTARWTGTYKGTVKSDGGTYDIYTTNRYNAPSIDGDRTTFTQPWSVRQSKRPTGSNATITFSNHVNAWKSHGMNLGSNWAYQVMATAGYQSSGSSNVTVW\n"
     ]
    },
    {
     "data": {
      "text/html": [],
      "text/plain": [
       "<IPython.core.display.HTML object>"
      ]
     },
     "metadata": {},
     "output_type": "display_data"
    },
    {
     "name": "stdout",
     "output_type": "stream",
     "text": [
      "Mutated: G 110 KD (uM): 7.291213633131299 Predictions: 0.8627998232841492 Mutated Sequence: MSTDYWLNFTDGGGIVNAVNGSGGNYSVNWSNTGSFVVGKGWTTGSPFRTINYNAGVWAPNGWGAGALVGWTRSPLIAYYVVDSWGTARWTGTYKGTVKSDGGTYDIYTTGRYNAPSIDGDRTTFTQPWSVRQSKRPTGSNATITFSNHVNAWKSHGMNLGSNWAYQVMATAGYQSSGSSNVTVW\n"
     ]
    },
    {
     "data": {
      "text/html": [],
      "text/plain": [
       "<IPython.core.display.HTML object>"
      ]
     },
     "metadata": {},
     "output_type": "display_data"
    },
    {
     "name": "stdout",
     "output_type": "stream",
     "text": [
      "Mutated: S 110 KD (uM): 7.592506291138604 Predictions: 0.880385160446167 Mutated Sequence: MSTDYWLNFTDGGGIVNAVNGSGGNYSVNWSNTGSFVVGKGWTTGSPFRTINYNAGVWAPNGWGAGALVGWTRSPLIAYYVVDSWGTARWTGTYKGTVKSDGGTYDIYTTSRYNAPSIDGDRTTFTQPWSVRQSKRPTGSNATITFSNHVNAWKSHGMNLGSNWAYQVMATAGYQSSGSSNVTVW\n"
     ]
    },
    {
     "data": {
      "text/html": [],
      "text/plain": [
       "<IPython.core.display.HTML object>"
      ]
     },
     "metadata": {},
     "output_type": "display_data"
    },
    {
     "name": "stdout",
     "output_type": "stream",
     "text": [
      "Mutated: R 110 KD (uM): 4.773925366315529 Predictions: 0.6788756251335144 Mutated Sequence: MSTDYWLNFTDGGGIVNAVNGSGGNYSVNWSNTGSFVVGKGWTTGSPFRTINYNAGVWAPNGWGAGALVGWTRSPLIAYYVVDSWGTARWTGTYKGTVKSDGGTYDIYTTRRYNAPSIDGDRTTFTQPWSVRQSKRPTGSNATITFSNHVNAWKSHGMNLGSNWAYQVMATAGYQSSGSSNVTVW\n"
     ]
    },
    {
     "data": {
      "text/html": [],
      "text/plain": [
       "<IPython.core.display.HTML object>"
      ]
     },
     "metadata": {},
     "output_type": "display_data"
    },
    {
     "name": "stdout",
     "output_type": "stream",
     "text": [
      "Mutated: T 110 KD (uM): 7.702413674789202 Predictions: 0.8866268396377563 Mutated Sequence: MSTDYWLNFTDGGGIVNAVNGSGGNYSVNWSNTGSFVVGKGWTTGSPFRTINYNAGVWAPNGWGAGALVGWTRSPLIAYYVVDSWGTARWTGTYKGTVKSDGGTYDIYTTTRYNAPSIDGDRTTFTQPWSVRQSKRPTGSNATITFSNHVNAWKSHGMNLGSNWAYQVMATAGYQSSGSSNVTVW\n"
     ]
    },
    {
     "data": {
      "text/html": [],
      "text/plain": [
       "<IPython.core.display.HTML object>"
      ]
     },
     "metadata": {},
     "output_type": "display_data"
    },
    {
     "name": "stdout",
     "output_type": "stream",
     "text": [
      "Mutated: Y 110 KD (uM): 7.056919600187722 Predictions: 0.8486151695251465 Mutated Sequence: MSTDYWLNFTDGGGIVNAVNGSGGNYSVNWSNTGSFVVGKGWTTGSPFRTINYNAGVWAPNGWGAGALVGWTRSPLIAYYVVDSWGTARWTGTYKGTVKSDGGTYDIYTTYRYNAPSIDGDRTTFTQPWSVRQSKRPTGSNATITFSNHVNAWKSHGMNLGSNWAYQVMATAGYQSSGSSNVTVW\n"
     ]
    },
    {
     "data": {
      "text/html": [],
      "text/plain": [
       "<IPython.core.display.HTML object>"
      ]
     },
     "metadata": {},
     "output_type": "display_data"
    },
    {
     "name": "stdout",
     "output_type": "stream",
     "text": [
      "Mutated: Q 110 KD (uM): 5.342714703890708 Predictions: 0.72776198387146 Mutated Sequence: MSTDYWLNFTDGGGIVNAVNGSGGNYSVNWSNTGSFVVGKGWTTGSPFRTINYNAGVWAPNGWGAGALVGWTRSPLIAYYVVDSWGTARWTGTYKGTVKSDGGTYDIYTTQRYNAPSIDGDRTTFTQPWSVRQSKRPTGSNATITFSNHVNAWKSHGMNLGSNWAYQVMATAGYQSSGSSNVTVW\n"
     ]
    },
    {
     "data": {
      "text/html": [],
      "text/plain": [
       "<IPython.core.display.HTML object>"
      ]
     },
     "metadata": {},
     "output_type": "display_data"
    },
    {
     "name": "stdout",
     "output_type": "stream",
     "text": [
      "Mutated: G 111 KD (uM): 6.823845694317656 Predictions: 0.8340291976928711 Mutated Sequence: MSTDYWLNFTDGGGIVNAVNGSGGNYSVNWSNTGSFVVGKGWTTGSPFRTINYNAGVWAPNGWGAGALVGWTRSPLIAYYVVDSWGTARWTGTYKGTVKSDGGTYDIYTTTGYNAPSIDGDRTTFTQPWSVRQSKRPTGSNATITFSNHVNAWKSHGMNLGSNWAYQVMATAGYQSSGSSNVTVW\n"
     ]
    },
    {
     "data": {
      "text/html": [],
      "text/plain": [
       "<IPython.core.display.HTML object>"
      ]
     },
     "metadata": {},
     "output_type": "display_data"
    },
    {
     "name": "stdout",
     "output_type": "stream",
     "text": [
      "Mutated: M 110 KD (uM): 6.354934466255827 Predictions: 0.8031110763549805 Mutated Sequence: MSTDYWLNFTDGGGIVNAVNGSGGNYSVNWSNTGSFVVGKGWTTGSPFRTINYNAGVWAPNGWGAGALVGWTRSPLIAYYVVDSWGTARWTGTYKGTVKSDGGTYDIYTTMRYNAPSIDGDRTTFTQPWSVRQSKRPTGSNATITFSNHVNAWKSHGMNLGSNWAYQVMATAGYQSSGSSNVTVW\n"
     ]
    },
    {
     "data": {
      "text/html": [],
      "text/plain": [
       "<IPython.core.display.HTML object>"
      ]
     },
     "metadata": {},
     "output_type": "display_data"
    },
    {
     "name": "stdout",
     "output_type": "stream",
     "text": [
      "Mutated: H 110 KD (uM): 7.13551402939237 Predictions: 0.8534252643585205 Mutated Sequence: MSTDYWLNFTDGGGIVNAVNGSGGNYSVNWSNTGSFVVGKGWTTGSPFRTINYNAGVWAPNGWGAGALVGWTRSPLIAYYVVDSWGTARWTGTYKGTVKSDGGTYDIYTTHRYNAPSIDGDRTTFTQPWSVRQSKRPTGSNATITFSNHVNAWKSHGMNLGSNWAYQVMATAGYQSSGSSNVTVW\n"
     ]
    },
    {
     "data": {
      "text/html": [],
      "text/plain": [
       "<IPython.core.display.HTML object>"
      ]
     },
     "metadata": {},
     "output_type": "display_data"
    },
    {
     "name": "stdout",
     "output_type": "stream",
     "text": [
      "Mutated: G 117 KD (uM): 6.617131575042023 Predictions: 0.8206697702407837 Mutated Sequence: MSTDYWLNFTDGGGIVNAVNGSGGNYSVNWSNTGSFVVGKGWTTGSPFRTINYNAGVWAPNGWGAGALVGWTRSPLIAYYVVDSWGTARWTGTYKGTVKSDGGTYDIYTTTRYNAPSGDGDRTTFTQPWSVRQSKRPTGSNATITFSNHVNAWKSHGMNLGSNWAYQVMATAGYQSSGSSNVTVW\n"
     ]
    },
    {
     "data": {
      "text/html": [],
      "text/plain": [
       "<IPython.core.display.HTML object>"
      ]
     },
     "metadata": {},
     "output_type": "display_data"
    },
    {
     "name": "stdout",
     "output_type": "stream",
     "text": [
      "Mutated: K 110 KD (uM): 3.7107139025543816 Predictions: 0.569457471370697 Mutated Sequence: MSTDYWLNFTDGGGIVNAVNGSGGNYSVNWSNTGSFVVGKGWTTGSPFRTINYNAGVWAPNGWGAGALVGWTRSPLIAYYVVDSWGTARWTGTYKGTVKSDGGTYDIYTTKRYNAPSIDGDRTTFTQPWSVRQSKRPTGSNATITFSNHVNAWKSHGMNLGSNWAYQVMATAGYQSSGSSNVTVW\n"
     ]
    },
    {
     "data": {
      "text/html": [],
      "text/plain": [
       "<IPython.core.display.HTML object>"
      ]
     },
     "metadata": {},
     "output_type": "display_data"
    },
    {
     "name": "stdout",
     "output_type": "stream",
     "text": [
      "Mutated: F 110 KD (uM): 4.276993233330334 Predictions: 0.6311385631561279 Mutated Sequence: MSTDYWLNFTDGGGIVNAVNGSGGNYSVNWSNTGSFVVGKGWTTGSPFRTINYNAGVWAPNGWGAGALVGWTRSPLIAYYVVDSWGTARWTGTYKGTVKSDGGTYDIYTTFRYNAPSIDGDRTTFTQPWSVRQSKRPTGSNATITFSNHVNAWKSHGMNLGSNWAYQVMATAGYQSSGSSNVTVW\n"
     ]
    },
    {
     "data": {
      "text/html": [],
      "text/plain": [
       "<IPython.core.display.HTML object>"
      ]
     },
     "metadata": {},
     "output_type": "display_data"
    },
    {
     "name": "stdout",
     "output_type": "stream",
     "text": [
      "Mutated: C 110 KD (uM): 6.653875927153243 Predictions: 0.8230746984481812 Mutated Sequence: MSTDYWLNFTDGGGIVNAVNGSGGNYSVNWSNTGSFVVGKGWTTGSPFRTINYNAGVWAPNGWGAGALVGWTRSPLIAYYVVDSWGTARWTGTYKGTVKSDGGTYDIYTTCRYNAPSIDGDRTTFTQPWSVRQSKRPTGSNATITFSNHVNAWKSHGMNLGSNWAYQVMATAGYQSSGSSNVTVW\n"
     ]
    },
    {
     "data": {
      "text/html": [],
      "text/plain": [
       "<IPython.core.display.HTML object>"
      ]
     },
     "metadata": {},
     "output_type": "display_data"
    },
    {
     "name": "stdout",
     "output_type": "stream",
     "text": [
      "Mutated: T 117 KD (uM): 7.752495981227856 Predictions: 0.8894415497779846 Mutated Sequence: MSTDYWLNFTDGGGIVNAVNGSGGNYSVNWSNTGSFVVGKGWTTGSPFRTINYNAGVWAPNGWGAGALVGWTRSPLIAYYVVDSWGTARWTGTYKGTVKSDGGTYDIYTTTRYNAPSTDGDRTTFTQPWSVRQSKRPTGSNATITFSNHVNAWKSHGMNLGSNWAYQVMATAGYQSSGSSNVTVW\n"
     ]
    },
    {
     "data": {
      "text/html": [],
      "text/plain": [
       "<IPython.core.display.HTML object>"
      ]
     },
     "metadata": {},
     "output_type": "display_data"
    },
    {
     "name": "stdout",
     "output_type": "stream",
     "text": [
      "Mutated: N 111 KD (uM): 7.839992730633564 Predictions: 0.8943156599998474 Mutated Sequence: MSTDYWLNFTDGGGIVNAVNGSGGNYSVNWSNTGSFVVGKGWTTGSPFRTINYNAGVWAPNGWGAGALVGWTRSPLIAYYVVDSWGTARWTGTYKGTVKSDGGTYDIYTTTNYNAPSIDGDRTTFTQPWSVRQSKRPTGSNATITFSNHVNAWKSHGMNLGSNWAYQVMATAGYQSSGSSNVTVW\n"
     ]
    },
    {
     "data": {
      "text/html": [],
      "text/plain": [
       "<IPython.core.display.HTML object>"
      ]
     },
     "metadata": {},
     "output_type": "display_data"
    },
    {
     "name": "stdout",
     "output_type": "stream",
     "text": [
      "Mutated: T 111 KD (uM): 6.588109551274818 Predictions: 0.8187608122825623 Mutated Sequence: MSTDYWLNFTDGGGIVNAVNGSGGNYSVNWSNTGSFVVGKGWTTGSPFRTINYNAGVWAPNGWGAGALVGWTRSPLIAYYVVDSWGTARWTGTYKGTVKSDGGTYDIYTTTTYNAPSIDGDRTTFTQPWSVRQSKRPTGSNATITFSNHVNAWKSHGMNLGSNWAYQVMATAGYQSSGSSNVTVW\n"
     ]
    },
    {
     "data": {
      "text/html": [],
      "text/plain": [
       "<IPython.core.display.HTML object>"
      ]
     },
     "metadata": {},
     "output_type": "display_data"
    },
    {
     "name": "stdout",
     "output_type": "stream",
     "text": [
      "Mutated: H 111 KD (uM): 7.81730806741754 Predictions: 0.8930572271347046 Mutated Sequence: MSTDYWLNFTDGGGIVNAVNGSGGNYSVNWSNTGSFVVGKGWTTGSPFRTINYNAGVWAPNGWGAGALVGWTRSPLIAYYVVDSWGTARWTGTYKGTVKSDGGTYDIYTTTHYNAPSIDGDRTTFTQPWSVRQSKRPTGSNATITFSNHVNAWKSHGMNLGSNWAYQVMATAGYQSSGSSNVTVW\n"
     ]
    },
    {
     "data": {
      "text/html": [],
      "text/plain": [
       "<IPython.core.display.HTML object>"
      ]
     },
     "metadata": {},
     "output_type": "display_data"
    },
    {
     "name": "stdout",
     "output_type": "stream",
     "text": [
      "Mutated: S 111 KD (uM): 7.7967860926299 Predictions: 0.8919156193733215 Mutated Sequence: MSTDYWLNFTDGGGIVNAVNGSGGNYSVNWSNTGSFVVGKGWTTGSPFRTINYNAGVWAPNGWGAGALVGWTRSPLIAYYVVDSWGTARWTGTYKGTVKSDGGTYDIYTTTSYNAPSIDGDRTTFTQPWSVRQSKRPTGSNATITFSNHVNAWKSHGMNLGSNWAYQVMATAGYQSSGSSNVTVW\n"
     ]
    },
    {
     "data": {
      "text/html": [],
      "text/plain": [
       "<IPython.core.display.HTML object>"
      ]
     },
     "metadata": {},
     "output_type": "display_data"
    },
    {
     "name": "stdout",
     "output_type": "stream",
     "text": [
      "Mutated: Y 111 KD (uM): 7.86448295581991 Predictions: 0.8956701755523682 Mutated Sequence: MSTDYWLNFTDGGGIVNAVNGSGGNYSVNWSNTGSFVVGKGWTTGSPFRTINYNAGVWAPNGWGAGALVGWTRSPLIAYYVVDSWGTARWTGTYKGTVKSDGGTYDIYTTTYYNAPSIDGDRTTFTQPWSVRQSKRPTGSNATITFSNHVNAWKSHGMNLGSNWAYQVMATAGYQSSGSSNVTVW\n"
     ]
    },
    {
     "data": {
      "text/html": [],
      "text/plain": [
       "<IPython.core.display.HTML object>"
      ]
     },
     "metadata": {},
     "output_type": "display_data"
    },
    {
     "name": "stdout",
     "output_type": "stream",
     "text": [
      "Mutated: E 111 KD (uM): 5.1435017063186175 Predictions: 0.7112588882446289 Mutated Sequence: MSTDYWLNFTDGGGIVNAVNGSGGNYSVNWSNTGSFVVGKGWTTGSPFRTINYNAGVWAPNGWGAGALVGWTRSPLIAYYVVDSWGTARWTGTYKGTVKSDGGTYDIYTTTEYNAPSIDGDRTTFTQPWSVRQSKRPTGSNATITFSNHVNAWKSHGMNLGSNWAYQVMATAGYQSSGSSNVTVW\n"
     ]
    },
    {
     "data": {
      "text/html": [],
      "text/plain": [
       "<IPython.core.display.HTML object>"
      ]
     },
     "metadata": {},
     "output_type": "display_data"
    },
    {
     "name": "stdout",
     "output_type": "stream",
     "text": [
      "Mutated: C 111 KD (uM): 7.156701499430847 Predictions: 0.8547129034996033 Mutated Sequence: MSTDYWLNFTDGGGIVNAVNGSGGNYSVNWSNTGSFVVGKGWTTGSPFRTINYNAGVWAPNGWGAGALVGWTRSPLIAYYVVDSWGTARWTGTYKGTVKSDGGTYDIYTTTCYNAPSIDGDRTTFTQPWSVRQSKRPTGSNATITFSNHVNAWKSHGMNLGSNWAYQVMATAGYQSSGSSNVTVW\n"
     ]
    },
    {
     "data": {
      "text/html": [],
      "text/plain": [
       "<IPython.core.display.HTML object>"
      ]
     },
     "metadata": {},
     "output_type": "display_data"
    },
    {
     "name": "stdout",
     "output_type": "stream",
     "text": [
      "Mutated: I 111 KD (uM): 7.684735756789895 Predictions: 0.8856289386749268 Mutated Sequence: MSTDYWLNFTDGGGIVNAVNGSGGNYSVNWSNTGSFVVGKGWTTGSPFRTINYNAGVWAPNGWGAGALVGWTRSPLIAYYVVDSWGTARWTGTYKGTVKSDGGTYDIYTTTIYNAPSIDGDRTTFTQPWSVRQSKRPTGSNATITFSNHVNAWKSHGMNLGSNWAYQVMATAGYQSSGSSNVTVW\n"
     ]
    },
    {
     "data": {
      "text/html": [],
      "text/plain": [
       "<IPython.core.display.HTML object>"
      ]
     },
     "metadata": {},
     "output_type": "display_data"
    },
    {
     "name": "stdout",
     "output_type": "stream",
     "text": [
      "Mutated: I 110 KD (uM): 4.4474783923104795 Predictions: 0.6481138467788696 Mutated Sequence: MSTDYWLNFTDGGGIVNAVNGSGGNYSVNWSNTGSFVVGKGWTTGSPFRTINYNAGVWAPNGWGAGALVGWTRSPLIAYYVVDSWGTARWTGTYKGTVKSDGGTYDIYTTIRYNAPSIDGDRTTFTQPWSVRQSKRPTGSNATITFSNHVNAWKSHGMNLGSNWAYQVMATAGYQSSGSSNVTVW\n"
     ]
    },
    {
     "data": {
      "text/html": [],
      "text/plain": [
       "<IPython.core.display.HTML object>"
      ]
     },
     "metadata": {},
     "output_type": "display_data"
    },
    {
     "name": "stdout",
     "output_type": "stream",
     "text": [
      "Mutated: Q 111 KD (uM): 5.117686316969761 Predictions: 0.7090736627578735 Mutated Sequence: MSTDYWLNFTDGGGIVNAVNGSGGNYSVNWSNTGSFVVGKGWTTGSPFRTINYNAGVWAPNGWGAGALVGWTRSPLIAYYVVDSWGTARWTGTYKGTVKSDGGTYDIYTTTQYNAPSIDGDRTTFTQPWSVRQSKRPTGSNATITFSNHVNAWKSHGMNLGSNWAYQVMATAGYQSSGSSNVTVW\n"
     ]
    },
    {
     "data": {
      "text/html": [],
      "text/plain": [
       "<IPython.core.display.HTML object>"
      ]
     },
     "metadata": {},
     "output_type": "display_data"
    },
    {
     "name": "stdout",
     "output_type": "stream",
     "text": [
      "Mutated: L 111 KD (uM): 7.709047818625538 Predictions: 0.8870007395744324 Mutated Sequence: MSTDYWLNFTDGGGIVNAVNGSGGNYSVNWSNTGSFVVGKGWTTGSPFRTINYNAGVWAPNGWGAGALVGWTRSPLIAYYVVDSWGTARWTGTYKGTVKSDGGTYDIYTTTLYNAPSIDGDRTTFTQPWSVRQSKRPTGSNATITFSNHVNAWKSHGMNLGSNWAYQVMATAGYQSSGSSNVTVW\n"
     ]
    },
    {
     "data": {
      "text/html": [],
      "text/plain": [
       "<IPython.core.display.HTML object>"
      ]
     },
     "metadata": {},
     "output_type": "display_data"
    },
    {
     "name": "stdout",
     "output_type": "stream",
     "text": [
      "Mutated: M 111 KD (uM): 5.534514672194295 Predictions: 0.7430795431137085 Mutated Sequence: MSTDYWLNFTDGGGIVNAVNGSGGNYSVNWSNTGSFVVGKGWTTGSPFRTINYNAGVWAPNGWGAGALVGWTRSPLIAYYVVDSWGTARWTGTYKGTVKSDGGTYDIYTTTMYNAPSIDGDRTTFTQPWSVRQSKRPTGSNATITFSNHVNAWKSHGMNLGSNWAYQVMATAGYQSSGSSNVTVW\n"
     ]
    },
    {
     "data": {
      "text/html": [],
      "text/plain": [
       "<IPython.core.display.HTML object>"
      ]
     },
     "metadata": {},
     "output_type": "display_data"
    },
    {
     "name": "stdout",
     "output_type": "stream",
     "text": [
      "Mutated: W 111 KD (uM): 5.944235569119376 Predictions: 0.7740960121154785 Mutated Sequence: MSTDYWLNFTDGGGIVNAVNGSGGNYSVNWSNTGSFVVGKGWTTGSPFRTINYNAGVWAPNGWGAGALVGWTRSPLIAYYVVDSWGTARWTGTYKGTVKSDGGTYDIYTTTWYNAPSIDGDRTTFTQPWSVRQSKRPTGSNATITFSNHVNAWKSHGMNLGSNWAYQVMATAGYQSSGSSNVTVW\n"
     ]
    },
    {
     "data": {
      "text/html": [],
      "text/plain": [
       "<IPython.core.display.HTML object>"
      ]
     },
     "metadata": {},
     "output_type": "display_data"
    },
    {
     "name": "stdout",
     "output_type": "stream",
     "text": [
      "Mutated: P 111 KD (uM): 3.522364455979684 Predictions: 0.5468342900276184 Mutated Sequence: MSTDYWLNFTDGGGIVNAVNGSGGNYSVNWSNTGSFVVGKGWTTGSPFRTINYNAGVWAPNGWGAGALVGWTRSPLIAYYVVDSWGTARWTGTYKGTVKSDGGTYDIYTTTPYNAPSIDGDRTTFTQPWSVRQSKRPTGSNATITFSNHVNAWKSHGMNLGSNWAYQVMATAGYQSSGSSNVTVW\n"
     ]
    },
    {
     "data": {
      "text/html": [],
      "text/plain": [
       "<IPython.core.display.HTML object>"
      ]
     },
     "metadata": {},
     "output_type": "display_data"
    },
    {
     "name": "stdout",
     "output_type": "stream",
     "text": [
      "Mutated: Y 117 KD (uM): 7.875999506884749 Predictions: 0.8963056802749634 Mutated Sequence: MSTDYWLNFTDGGGIVNAVNGSGGNYSVNWSNTGSFVVGKGWTTGSPFRTINYNAGVWAPNGWGAGALVGWTRSPLIAYYVVDSWGTARWTGTYKGTVKSDGGTYDIYTTTRYNAPSYDGDRTTFTQPWSVRQSKRPTGSNATITFSNHVNAWKSHGMNLGSNWAYQVMATAGYQSSGSSNVTVW\n"
     ]
    },
    {
     "data": {
      "text/html": [],
      "text/plain": [
       "<IPython.core.display.HTML object>"
      ]
     },
     "metadata": {},
     "output_type": "display_data"
    },
    {
     "name": "stdout",
     "output_type": "stream",
     "text": [
      "Mutated: L 110 KD (uM): 4.773766811450695 Predictions: 0.6788612008094788 Mutated Sequence: MSTDYWLNFTDGGGIVNAVNGSGGNYSVNWSNTGSFVVGKGWTTGSPFRTINYNAGVWAPNGWGAGALVGWTRSPLIAYYVVDSWGTARWTGTYKGTVKSDGGTYDIYTTLRYNAPSIDGDRTTFTQPWSVRQSKRPTGSNATITFSNHVNAWKSHGMNLGSNWAYQVMATAGYQSSGSSNVTVW\n"
     ]
    },
    {
     "data": {
      "text/html": [],
      "text/plain": [
       "<IPython.core.display.HTML object>"
      ]
     },
     "metadata": {},
     "output_type": "display_data"
    },
    {
     "name": "stdout",
     "output_type": "stream",
     "text": [
      "Mutated: V 111 KD (uM): 7.76125117095005 Predictions: 0.8899317383766174 Mutated Sequence: MSTDYWLNFTDGGGIVNAVNGSGGNYSVNWSNTGSFVVGKGWTTGSPFRTINYNAGVWAPNGWGAGALVGWTRSPLIAYYVVDSWGTARWTGTYKGTVKSDGGTYDIYTTTVYNAPSIDGDRTTFTQPWSVRQSKRPTGSNATITFSNHVNAWKSHGMNLGSNWAYQVMATAGYQSSGSSNVTVW\n"
     ]
    },
    {
     "data": {
      "text/html": [],
      "text/plain": [
       "<IPython.core.display.HTML object>"
      ]
     },
     "metadata": {},
     "output_type": "display_data"
    },
    {
     "name": "stdout",
     "output_type": "stream",
     "text": [
      "Mutated: A 111 KD (uM): 7.42320003282571 Predictions: 0.8705911636352539 Mutated Sequence: MSTDYWLNFTDGGGIVNAVNGSGGNYSVNWSNTGSFVVGKGWTTGSPFRTINYNAGVWAPNGWGAGALVGWTRSPLIAYYVVDSWGTARWTGTYKGTVKSDGGTYDIYTTTAYNAPSIDGDRTTFTQPWSVRQSKRPTGSNATITFSNHVNAWKSHGMNLGSNWAYQVMATAGYQSSGSSNVTVW\n"
     ]
    },
    {
     "data": {
      "text/html": [],
      "text/plain": [
       "<IPython.core.display.HTML object>"
      ]
     },
     "metadata": {},
     "output_type": "display_data"
    },
    {
     "name": "stdout",
     "output_type": "stream",
     "text": [
      "Mutated: R 111 KD (uM): 7.702413674789202 Predictions: 0.8866268396377563 Mutated Sequence: MSTDYWLNFTDGGGIVNAVNGSGGNYSVNWSNTGSFVVGKGWTTGSPFRTINYNAGVWAPNGWGAGALVGWTRSPLIAYYVVDSWGTARWTGTYKGTVKSDGGTYDIYTTTRYNAPSIDGDRTTFTQPWSVRQSKRPTGSNATITFSNHVNAWKSHGMNLGSNWAYQVMATAGYQSSGSSNVTVW\n"
     ]
    },
    {
     "data": {
      "text/html": [],
      "text/plain": [
       "<IPython.core.display.HTML object>"
      ]
     },
     "metadata": {},
     "output_type": "display_data"
    },
    {
     "name": "stdout",
     "output_type": "stream",
     "text": [
      "Mutated: A 110 KD (uM): 6.7036493628528 Predictions: 0.8263112902641296 Mutated Sequence: MSTDYWLNFTDGGGIVNAVNGSGGNYSVNWSNTGSFVVGKGWTTGSPFRTINYNAGVWAPNGWGAGALVGWTRSPLIAYYVVDSWGTARWTGTYKGTVKSDGGTYDIYTTARYNAPSIDGDRTTFTQPWSVRQSKRPTGSNATITFSNHVNAWKSHGMNLGSNWAYQVMATAGYQSSGSSNVTVW\n"
     ]
    },
    {
     "data": {
      "text/html": [],
      "text/plain": [
       "<IPython.core.display.HTML object>"
      ]
     },
     "metadata": {},
     "output_type": "display_data"
    },
    {
     "name": "stdout",
     "output_type": "stream",
     "text": [
      "Mutated: V 110 KD (uM): 4.386415340258716 Predictions: 0.642109751701355 Mutated Sequence: MSTDYWLNFTDGGGIVNAVNGSGGNYSVNWSNTGSFVVGKGWTTGSPFRTINYNAGVWAPNGWGAGALVGWTRSPLIAYYVVDSWGTARWTGTYKGTVKSDGGTYDIYTTVRYNAPSIDGDRTTFTQPWSVRQSKRPTGSNATITFSNHVNAWKSHGMNLGSNWAYQVMATAGYQSSGSSNVTVW\n"
     ]
    },
    {
     "data": {
      "text/html": [],
      "text/plain": [
       "<IPython.core.display.HTML object>"
      ]
     },
     "metadata": {},
     "output_type": "display_data"
    },
    {
     "name": "stdout",
     "output_type": "stream",
     "text": [
      "Mutated: D 110 KD (uM): 7.236497599112722 Predictions: 0.8595284223556519 Mutated Sequence: MSTDYWLNFTDGGGIVNAVNGSGGNYSVNWSNTGSFVVGKGWTTGSPFRTINYNAGVWAPNGWGAGALVGWTRSPLIAYYVVDSWGTARWTGTYKGTVKSDGGTYDIYTTDRYNAPSIDGDRTTFTQPWSVRQSKRPTGSNATITFSNHVNAWKSHGMNLGSNWAYQVMATAGYQSSGSSNVTVW\n"
     ]
    },
    {
     "data": {
      "text/html": [],
      "text/plain": [
       "<IPython.core.display.HTML object>"
      ]
     },
     "metadata": {},
     "output_type": "display_data"
    },
    {
     "name": "stdout",
     "output_type": "stream",
     "text": [
      "Mutated: D 111 KD (uM): 6.200838609309544 Predictions: 0.7924504280090332 Mutated Sequence: MSTDYWLNFTDGGGIVNAVNGSGGNYSVNWSNTGSFVVGKGWTTGSPFRTINYNAGVWAPNGWGAGALVGWTRSPLIAYYVVDSWGTARWTGTYKGTVKSDGGTYDIYTTTDYNAPSIDGDRTTFTQPWSVRQSKRPTGSNATITFSNHVNAWKSHGMNLGSNWAYQVMATAGYQSSGSSNVTVW\n"
     ]
    },
    {
     "data": {
      "text/html": [],
      "text/plain": [
       "<IPython.core.display.HTML object>"
      ]
     },
     "metadata": {},
     "output_type": "display_data"
    },
    {
     "name": "stdout",
     "output_type": "stream",
     "text": [
      "Mutated: D 117 KD (uM): 8.055179807661657 Predictions: 0.9060752391815186 Mutated Sequence: MSTDYWLNFTDGGGIVNAVNGSGGNYSVNWSNTGSFVVGKGWTTGSPFRTINYNAGVWAPNGWGAGALVGWTRSPLIAYYVVDSWGTARWTGTYKGTVKSDGGTYDIYTTTRYNAPSDDGDRTTFTQPWSVRQSKRPTGSNATITFSNHVNAWKSHGMNLGSNWAYQVMATAGYQSSGSSNVTVW\n"
     ]
    },
    {
     "data": {
      "text/html": [],
      "text/plain": [
       "<IPython.core.display.HTML object>"
      ]
     },
     "metadata": {},
     "output_type": "display_data"
    },
    {
     "name": "stdout",
     "output_type": "stream",
     "text": [
      "Mutated: R 117 KD (uM): 7.730221502293183 Predictions: 0.8881919384002686 Mutated Sequence: MSTDYWLNFTDGGGIVNAVNGSGGNYSVNWSNTGSFVVGKGWTTGSPFRTINYNAGVWAPNGWGAGALVGWTRSPLIAYYVVDSWGTARWTGTYKGTVKSDGGTYDIYTTTRYNAPSRDGDRTTFTQPWSVRQSKRPTGSNATITFSNHVNAWKSHGMNLGSNWAYQVMATAGYQSSGSSNVTVW\n"
     ]
    },
    {
     "data": {
      "text/html": [],
      "text/plain": [
       "<IPython.core.display.HTML object>"
      ]
     },
     "metadata": {},
     "output_type": "display_data"
    },
    {
     "name": "stdout",
     "output_type": "stream",
     "text": [
      "Mutated: W 110 KD (uM): 4.691173729094908 Predictions: 0.6712815165519714 Mutated Sequence: MSTDYWLNFTDGGGIVNAVNGSGGNYSVNWSNTGSFVVGKGWTTGSPFRTINYNAGVWAPNGWGAGALVGWTRSPLIAYYVVDSWGTARWTGTYKGTVKSDGGTYDIYTTWRYNAPSIDGDRTTFTQPWSVRQSKRPTGSNATITFSNHVNAWKSHGMNLGSNWAYQVMATAGYQSSGSSNVTVW\n"
     ]
    },
    {
     "data": {
      "text/html": [],
      "text/plain": [
       "<IPython.core.display.HTML object>"
      ]
     },
     "metadata": {},
     "output_type": "display_data"
    },
    {
     "name": "stdout",
     "output_type": "stream",
     "text": [
      "Mutated: F 111 KD (uM): 7.0640127676729 Predictions: 0.8490514755249023 Mutated Sequence: MSTDYWLNFTDGGGIVNAVNGSGGNYSVNWSNTGSFVVGKGWTTGSPFRTINYNAGVWAPNGWGAGALVGWTRSPLIAYYVVDSWGTARWTGTYKGTVKSDGGTYDIYTTTFYNAPSIDGDRTTFTQPWSVRQSKRPTGSNATITFSNHVNAWKSHGMNLGSNWAYQVMATAGYQSSGSSNVTVW\n"
     ]
    },
    {
     "data": {
      "text/html": [],
      "text/plain": [
       "<IPython.core.display.HTML object>"
      ]
     },
     "metadata": {},
     "output_type": "display_data"
    },
    {
     "name": "stdout",
     "output_type": "stream",
     "text": [
      "Mutated: F 117 KD (uM): 7.594028852172976 Predictions: 0.8804722428321838 Mutated Sequence: MSTDYWLNFTDGGGIVNAVNGSGGNYSVNWSNTGSFVVGKGWTTGSPFRTINYNAGVWAPNGWGAGALVGWTRSPLIAYYVVDSWGTARWTGTYKGTVKSDGGTYDIYTTTRYNAPSFDGDRTTFTQPWSVRQSKRPTGSNATITFSNHVNAWKSHGMNLGSNWAYQVMATAGYQSSGSSNVTVW\n"
     ]
    },
    {
     "data": {
      "text/html": [],
      "text/plain": [
       "<IPython.core.display.HTML object>"
      ]
     },
     "metadata": {},
     "output_type": "display_data"
    },
    {
     "name": "stdout",
     "output_type": "stream",
     "text": [
      "Mutated: I 117 KD (uM): 7.702413674789202 Predictions: 0.8866268396377563 Mutated Sequence: MSTDYWLNFTDGGGIVNAVNGSGGNYSVNWSNTGSFVVGKGWTTGSPFRTINYNAGVWAPNGWGAGALVGWTRSPLIAYYVVDSWGTARWTGTYKGTVKSDGGTYDIYTTTRYNAPSIDGDRTTFTQPWSVRQSKRPTGSNATITFSNHVNAWKSHGMNLGSNWAYQVMATAGYQSSGSSNVTVW\n"
     ]
    },
    {
     "data": {
      "text/html": [],
      "text/plain": [
       "<IPython.core.display.HTML object>"
      ]
     },
     "metadata": {},
     "output_type": "display_data"
    },
    {
     "name": "stdout",
     "output_type": "stream",
     "text": [
      "Mutated: L 117 KD (uM): 7.8489512241455826 Predictions: 0.8948116302490234 Mutated Sequence: MSTDYWLNFTDGGGIVNAVNGSGGNYSVNWSNTGSFVVGKGWTTGSPFRTINYNAGVWAPNGWGAGALVGWTRSPLIAYYVVDSWGTARWTGTYKGTVKSDGGTYDIYTTTRYNAPSLDGDRTTFTQPWSVRQSKRPTGSNATITFSNHVNAWKSHGMNLGSNWAYQVMATAGYQSSGSSNVTVW\n"
     ]
    },
    {
     "data": {
      "text/html": [],
      "text/plain": [
       "<IPython.core.display.HTML object>"
      ]
     },
     "metadata": {},
     "output_type": "display_data"
    },
    {
     "name": "stdout",
     "output_type": "stream",
     "text": [
      "Mutated: K 111 KD (uM): 4.484257495046344 Predictions: 0.6516905426979065 Mutated Sequence: MSTDYWLNFTDGGGIVNAVNGSGGNYSVNWSNTGSFVVGKGWTTGSPFRTINYNAGVWAPNGWGAGALVGWTRSPLIAYYVVDSWGTARWTGTYKGTVKSDGGTYDIYTTTKYNAPSIDGDRTTFTQPWSVRQSKRPTGSNATITFSNHVNAWKSHGMNLGSNWAYQVMATAGYQSSGSSNVTVW\n"
     ]
    },
    {
     "data": {
      "text/html": [],
      "text/plain": [
       "<IPython.core.display.HTML object>"
      ]
     },
     "metadata": {},
     "output_type": "display_data"
    },
    {
     "name": "stdout",
     "output_type": "stream",
     "text": [
      "Mutated: N 37 KD (uM): 7.649717819179331 Predictions: 0.8836454153060913 Mutated Sequence: MSTDYWLNFTDGGGIVNAVNGSGGNYSVNWSNTGSFVNGKGWTTGSPFRTINYNAGVWAPNGWGAGALVGWTRSPLIAYYVVDSWGTARWTGTYKGTVKSDGGTYDIYTTTRYNAPSIDGDRTTFTQPWSVRQSKRPTGSNATITFSNHVNAWKSHGMNLGSNWAYQVMATAGYQSSGSSNVTVW\n"
     ]
    },
    {
     "data": {
      "text/html": [],
      "text/plain": [
       "<IPython.core.display.HTML object>"
      ]
     },
     "metadata": {},
     "output_type": "display_data"
    },
    {
     "name": "stdout",
     "output_type": "stream",
     "text": [
      "Mutated: G 37 KD (uM): 7.272365195629085 Predictions: 0.8616756796836853 Mutated Sequence: MSTDYWLNFTDGGGIVNAVNGSGGNYSVNWSNTGSFVGGKGWTTGSPFRTINYNAGVWAPNGWGAGALVGWTRSPLIAYYVVDSWGTARWTGTYKGTVKSDGGTYDIYTTTRYNAPSIDGDRTTFTQPWSVRQSKRPTGSNATITFSNHVNAWKSHGMNLGSNWAYQVMATAGYQSSGSSNVTVW\n"
     ]
    },
    {
     "data": {
      "text/html": [],
      "text/plain": [
       "<IPython.core.display.HTML object>"
      ]
     },
     "metadata": {},
     "output_type": "display_data"
    },
    {
     "name": "stdout",
     "output_type": "stream",
     "text": [
      "Mutated: E 37 KD (uM): 7.677431285123026 Predictions: 0.8852159380912781 Mutated Sequence: MSTDYWLNFTDGGGIVNAVNGSGGNYSVNWSNTGSFVEGKGWTTGSPFRTINYNAGVWAPNGWGAGALVGWTRSPLIAYYVVDSWGTARWTGTYKGTVKSDGGTYDIYTTTRYNAPSIDGDRTTFTQPWSVRQSKRPTGSNATITFSNHVNAWKSHGMNLGSNWAYQVMATAGYQSSGSSNVTVW\n"
     ]
    },
    {
     "data": {
      "text/html": [],
      "text/plain": [
       "<IPython.core.display.HTML object>"
      ]
     },
     "metadata": {},
     "output_type": "display_data"
    },
    {
     "name": "stdout",
     "output_type": "stream",
     "text": [
      "Mutated: S 37 KD (uM): 4.975286033010413 Predictions: 0.6968180537223816 Mutated Sequence: MSTDYWLNFTDGGGIVNAVNGSGGNYSVNWSNTGSFVSGKGWTTGSPFRTINYNAGVWAPNGWGAGALVGWTRSPLIAYYVVDSWGTARWTGTYKGTVKSDGGTYDIYTTTRYNAPSIDGDRTTFTQPWSVRQSKRPTGSNATITFSNHVNAWKSHGMNLGSNWAYQVMATAGYQSSGSSNVTVW\n"
     ]
    },
    {
     "data": {
      "text/html": [],
      "text/plain": [
       "<IPython.core.display.HTML object>"
      ]
     },
     "metadata": {},
     "output_type": "display_data"
    },
    {
     "name": "stdout",
     "output_type": "stream",
     "text": [
      "Mutated: K 37 KD (uM): 6.309451519384426 Predictions: 0.7999916076660156 Mutated Sequence: MSTDYWLNFTDGGGIVNAVNGSGGNYSVNWSNTGSFVKGKGWTTGSPFRTINYNAGVWAPNGWGAGALVGWTRSPLIAYYVVDSWGTARWTGTYKGTVKSDGGTYDIYTTTRYNAPSIDGDRTTFTQPWSVRQSKRPTGSNATITFSNHVNAWKSHGMNLGSNWAYQVMATAGYQSSGSSNVTVW\n"
     ]
    },
    {
     "data": {
      "text/html": [],
      "text/plain": [
       "<IPython.core.display.HTML object>"
      ]
     },
     "metadata": {},
     "output_type": "display_data"
    },
    {
     "name": "stdout",
     "output_type": "stream",
     "text": [
      "Mutated: T 37 KD (uM): 6.720632711841031 Predictions: 0.8274101614952087 Mutated Sequence: MSTDYWLNFTDGGGIVNAVNGSGGNYSVNWSNTGSFVTGKGWTTGSPFRTINYNAGVWAPNGWGAGALVGWTRSPLIAYYVVDSWGTARWTGTYKGTVKSDGGTYDIYTTTRYNAPSIDGDRTTFTQPWSVRQSKRPTGSNATITFSNHVNAWKSHGMNLGSNWAYQVMATAGYQSSGSSNVTVW\n"
     ]
    },
    {
     "data": {
      "text/html": [],
      "text/plain": [
       "<IPython.core.display.HTML object>"
      ]
     },
     "metadata": {},
     "output_type": "display_data"
    },
    {
     "name": "stdout",
     "output_type": "stream",
     "text": [
      "Mutated: R 37 KD (uM): 5.974544241628946 Predictions: 0.7763047814369202 Mutated Sequence: MSTDYWLNFTDGGGIVNAVNGSGGNYSVNWSNTGSFVRGKGWTTGSPFRTINYNAGVWAPNGWGAGALVGWTRSPLIAYYVVDSWGTARWTGTYKGTVKSDGGTYDIYTTTRYNAPSIDGDRTTFTQPWSVRQSKRPTGSNATITFSNHVNAWKSHGMNLGSNWAYQVMATAGYQSSGSSNVTVW\n"
     ]
    },
    {
     "data": {
      "text/html": [],
      "text/plain": [
       "<IPython.core.display.HTML object>"
      ]
     },
     "metadata": {},
     "output_type": "display_data"
    },
    {
     "name": "stdout",
     "output_type": "stream",
     "text": [
      "Mutated: H 37 KD (uM): 7.861787178853253 Predictions: 0.8955212831497192 Mutated Sequence: MSTDYWLNFTDGGGIVNAVNGSGGNYSVNWSNTGSFVHGKGWTTGSPFRTINYNAGVWAPNGWGAGALVGWTRSPLIAYYVVDSWGTARWTGTYKGTVKSDGGTYDIYTTTRYNAPSIDGDRTTFTQPWSVRQSKRPTGSNATITFSNHVNAWKSHGMNLGSNWAYQVMATAGYQSSGSSNVTVW\n"
     ]
    },
    {
     "data": {
      "text/html": [],
      "text/plain": [
       "<IPython.core.display.HTML object>"
      ]
     },
     "metadata": {},
     "output_type": "display_data"
    },
    {
     "name": "stdout",
     "output_type": "stream",
     "text": [
      "Mutated: Q 37 KD (uM): 7.7403016223341865 Predictions: 0.8887578845024109 Mutated Sequence: MSTDYWLNFTDGGGIVNAVNGSGGNYSVNWSNTGSFVQGKGWTTGSPFRTINYNAGVWAPNGWGAGALVGWTRSPLIAYYVVDSWGTARWTGTYKGTVKSDGGTYDIYTTTRYNAPSIDGDRTTFTQPWSVRQSKRPTGSNATITFSNHVNAWKSHGMNLGSNWAYQVMATAGYQSSGSSNVTVW\n"
     ]
    },
    {
     "data": {
      "text/html": [],
      "text/plain": [
       "<IPython.core.display.HTML object>"
      ]
     },
     "metadata": {},
     "output_type": "display_data"
    },
    {
     "name": "stdout",
     "output_type": "stream",
     "text": [
      "Mutated: Y 37 KD (uM): 7.979777301554504 Predictions: 0.9019907712936401 Mutated Sequence: MSTDYWLNFTDGGGIVNAVNGSGGNYSVNWSNTGSFVYGKGWTTGSPFRTINYNAGVWAPNGWGAGALVGWTRSPLIAYYVVDSWGTARWTGTYKGTVKSDGGTYDIYTTTRYNAPSIDGDRTTFTQPWSVRQSKRPTGSNATITFSNHVNAWKSHGMNLGSNWAYQVMATAGYQSSGSSNVTVW\n"
     ]
    },
    {
     "data": {
      "text/html": [],
      "text/plain": [
       "<IPython.core.display.HTML object>"
      ]
     },
     "metadata": {},
     "output_type": "display_data"
    },
    {
     "name": "stdout",
     "output_type": "stream",
     "text": [
      "Mutated: A 37 KD (uM): 3.3833617333105206 Predictions: 0.5293484330177307 Mutated Sequence: MSTDYWLNFTDGGGIVNAVNGSGGNYSVNWSNTGSFVAGKGWTTGSPFRTINYNAGVWAPNGWGAGALVGWTRSPLIAYYVVDSWGTARWTGTYKGTVKSDGGTYDIYTTTRYNAPSIDGDRTTFTQPWSVRQSKRPTGSNATITFSNHVNAWKSHGMNLGSNWAYQVMATAGYQSSGSSNVTVW\n"
     ]
    },
    {
     "data": {
      "text/html": [],
      "text/plain": [
       "<IPython.core.display.HTML object>"
      ]
     },
     "metadata": {},
     "output_type": "display_data"
    },
    {
     "name": "stdout",
     "output_type": "stream",
     "text": [
      "Mutated: D 37 KD (uM): 7.32719152812806 Predictions: 0.8649375438690186 Mutated Sequence: MSTDYWLNFTDGGGIVNAVNGSGGNYSVNWSNTGSFVDGKGWTTGSPFRTINYNAGVWAPNGWGAGALVGWTRSPLIAYYVVDSWGTARWTGTYKGTVKSDGGTYDIYTTTRYNAPSIDGDRTTFTQPWSVRQSKRPTGSNATITFSNHVNAWKSHGMNLGSNWAYQVMATAGYQSSGSSNVTVW\n"
     ]
    },
    {
     "data": {
      "text/html": [],
      "text/plain": [
       "<IPython.core.display.HTML object>"
      ]
     },
     "metadata": {},
     "output_type": "display_data"
    },
    {
     "name": "stdout",
     "output_type": "stream",
     "text": [
      "Mutated: P 37 KD (uM): 2.7822604182740296 Predictions: 0.44439777731895447 Mutated Sequence: MSTDYWLNFTDGGGIVNAVNGSGGNYSVNWSNTGSFVPGKGWTTGSPFRTINYNAGVWAPNGWGAGALVGWTRSPLIAYYVVDSWGTARWTGTYKGTVKSDGGTYDIYTTTRYNAPSIDGDRTTFTQPWSVRQSKRPTGSNATITFSNHVNAWKSHGMNLGSNWAYQVMATAGYQSSGSSNVTVW\n"
     ]
    },
    {
     "data": {
      "text/html": [],
      "text/plain": [
       "<IPython.core.display.HTML object>"
      ]
     },
     "metadata": {},
     "output_type": "display_data"
    },
    {
     "name": "stdout",
     "output_type": "stream",
     "text": [
      "Mutated: F 37 KD (uM): 8.00388905716598 Predictions: 0.9033010601997375 Mutated Sequence: MSTDYWLNFTDGGGIVNAVNGSGGNYSVNWSNTGSFVFGKGWTTGSPFRTINYNAGVWAPNGWGAGALVGWTRSPLIAYYVVDSWGTARWTGTYKGTVKSDGGTYDIYTTTRYNAPSIDGDRTTFTQPWSVRQSKRPTGSNATITFSNHVNAWKSHGMNLGSNWAYQVMATAGYQSSGSSNVTVW\n"
     ]
    },
    {
     "data": {
      "text/html": [],
      "text/plain": [
       "<IPython.core.display.HTML object>"
      ]
     },
     "metadata": {},
     "output_type": "display_data"
    },
    {
     "name": "stdout",
     "output_type": "stream",
     "text": [
      "Mutated: C 37 KD (uM): 7.6253186695324375 Predictions: 0.8822579979896545 Mutated Sequence: MSTDYWLNFTDGGGIVNAVNGSGGNYSVNWSNTGSFVCGKGWTTGSPFRTINYNAGVWAPNGWGAGALVGWTRSPLIAYYVVDSWGTARWTGTYKGTVKSDGGTYDIYTTTRYNAPSIDGDRTTFTQPWSVRQSKRPTGSNATITFSNHVNAWKSHGMNLGSNWAYQVMATAGYQSSGSSNVTVW\n"
     ]
    },
    {
     "data": {
      "text/html": [],
      "text/plain": [
       "<IPython.core.display.HTML object>"
      ]
     },
     "metadata": {},
     "output_type": "display_data"
    },
    {
     "name": "stdout",
     "output_type": "stream",
     "text": [
      "Mutated: V 37 KD (uM): 7.702413674789202 Predictions: 0.8866268396377563 Mutated Sequence: MSTDYWLNFTDGGGIVNAVNGSGGNYSVNWSNTGSFVVGKGWTTGSPFRTINYNAGVWAPNGWGAGALVGWTRSPLIAYYVVDSWGTARWTGTYKGTVKSDGGTYDIYTTTRYNAPSIDGDRTTFTQPWSVRQSKRPTGSNATITFSNHVNAWKSHGMNLGSNWAYQVMATAGYQSSGSSNVTVW\n"
     ]
    },
    {
     "data": {
      "text/html": [],
      "text/plain": [
       "<IPython.core.display.HTML object>"
      ]
     },
     "metadata": {},
     "output_type": "display_data"
    },
    {
     "name": "stdout",
     "output_type": "stream",
     "text": [
      "Mutated: W 37 KD (uM): 6.921032048548332 Predictions: 0.8401708602905273 Mutated Sequence: MSTDYWLNFTDGGGIVNAVNGSGGNYSVNWSNTGSFVWGKGWTTGSPFRTINYNAGVWAPNGWGAGALVGWTRSPLIAYYVVDSWGTARWTGTYKGTVKSDGGTYDIYTTTRYNAPSIDGDRTTFTQPWSVRQSKRPTGSNATITFSNHVNAWKSHGMNLGSNWAYQVMATAGYQSSGSSNVTVW\n"
     ]
    },
    {
     "data": {
      "text/html": [],
      "text/plain": [
       "<IPython.core.display.HTML object>"
      ]
     },
     "metadata": {},
     "output_type": "display_data"
    },
    {
     "name": "stdout",
     "output_type": "stream",
     "text": [
      "Mutated: I 37 KD (uM): 7.648633366155255 Predictions: 0.8835838437080383 Mutated Sequence: MSTDYWLNFTDGGGIVNAVNGSGGNYSVNWSNTGSFVIGKGWTTGSPFRTINYNAGVWAPNGWGAGALVGWTRSPLIAYYVVDSWGTARWTGTYKGTVKSDGGTYDIYTTTRYNAPSIDGDRTTFTQPWSVRQSKRPTGSNATITFSNHVNAWKSHGMNLGSNWAYQVMATAGYQSSGSSNVTVW\n"
     ]
    },
    {
     "data": {
      "text/html": [],
      "text/plain": [
       "<IPython.core.display.HTML object>"
      ]
     },
     "metadata": {},
     "output_type": "display_data"
    },
    {
     "name": "stdout",
     "output_type": "stream",
     "text": [
      "Mutated: M 37 KD (uM): 7.757579260899221 Predictions: 0.8897262215614319 Mutated Sequence: MSTDYWLNFTDGGGIVNAVNGSGGNYSVNWSNTGSFVMGKGWTTGSPFRTINYNAGVWAPNGWGAGALVGWTRSPLIAYYVVDSWGTARWTGTYKGTVKSDGGTYDIYTTTRYNAPSIDGDRTTFTQPWSVRQSKRPTGSNATITFSNHVNAWKSHGMNLGSNWAYQVMATAGYQSSGSSNVTVW\n"
     ]
    },
    {
     "data": {
      "text/html": [],
      "text/plain": [
       "<IPython.core.display.HTML object>"
      ]
     },
     "metadata": {},
     "output_type": "display_data"
    },
    {
     "name": "stdout",
     "output_type": "stream",
     "text": [
      "Mutated: L 37 KD (uM): 7.864443019633604 Predictions: 0.8956679701805115 Mutated Sequence: MSTDYWLNFTDGGGIVNAVNGSGGNYSVNWSNTGSFVLGKGWTTGSPFRTINYNAGVWAPNGWGAGALVGWTRSPLIAYYVVDSWGTARWTGTYKGTVKSDGGTYDIYTTTRYNAPSIDGDRTTFTQPWSVRQSKRPTGSNATITFSNHVNAWKSHGMNLGSNWAYQVMATAGYQSSGSSNVTVW\n"
     ]
    },
    {
     "data": {
      "text/html": [],
      "text/plain": [
       "<IPython.core.display.HTML object>"
      ]
     },
     "metadata": {},
     "output_type": "display_data"
    },
    {
     "name": "stdout",
     "output_type": "stream",
     "text": [
      "Mutated: W 117 KD (uM): 5.989850607739477 Predictions: 0.7774159908294678 Mutated Sequence: MSTDYWLNFTDGGGIVNAVNGSGGNYSVNWSNTGSFVVGKGWTTGSPFRTINYNAGVWAPNGWGAGALVGWTRSPLIAYYVVDSWGTARWTGTYKGTVKSDGGTYDIYTTTRYNAPSWDGDRTTFTQPWSVRQSKRPTGSNATITFSNHVNAWKSHGMNLGSNWAYQVMATAGYQSSGSSNVTVW\n"
     ]
    },
    {
     "data": {
      "text/html": [],
      "text/plain": [
       "<IPython.core.display.HTML object>"
      ]
     },
     "metadata": {},
     "output_type": "display_data"
    },
    {
     "name": "stdout",
     "output_type": "stream",
     "text": [
      "Mutated: V 117 KD (uM): 7.20785574947684 Predictions: 0.8578060865402222 Mutated Sequence: MSTDYWLNFTDGGGIVNAVNGSGGNYSVNWSNTGSFVVGKGWTTGSPFRTINYNAGVWAPNGWGAGALVGWTRSPLIAYYVVDSWGTARWTGTYKGTVKSDGGTYDIYTTTRYNAPSVDGDRTTFTQPWSVRQSKRPTGSNATITFSNHVNAWKSHGMNLGSNWAYQVMATAGYQSSGSSNVTVW\n"
     ]
    },
    {
     "data": {
      "text/html": [],
      "text/plain": [
       "<IPython.core.display.HTML object>"
      ]
     },
     "metadata": {},
     "output_type": "display_data"
    },
    {
     "name": "stdout",
     "output_type": "stream",
     "text": [
      "Mutated: P 91 KD (uM): 6.669922073461015 Predictions: 0.8241207599639893 Mutated Sequence: MSTDYWLNFTDGGGIVNAVNGSGGNYSVNWSNTGSFVVGKGWTTGSPFRTINYNAGVWAPNGWGAGALVGWTRSPLIAYYVVDSWGTARWTPTYKGTVKSDGGTYDIYTTTRYNAPSIDGDRTTFTQPWSVRQSKRPTGSNATITFSNHVNAWKSHGMNLGSNWAYQVMATAGYQSSGSSNVTVW\n"
     ]
    },
    {
     "data": {
      "text/html": [],
      "text/plain": [
       "<IPython.core.display.HTML object>"
      ]
     },
     "metadata": {},
     "output_type": "display_data"
    },
    {
     "name": "stdout",
     "output_type": "stream",
     "text": [
      "Mutated: A 91 KD (uM): 7.438796832408835 Predictions: 0.871502697467804 Mutated Sequence: MSTDYWLNFTDGGGIVNAVNGSGGNYSVNWSNTGSFVVGKGWTTGSPFRTINYNAGVWAPNGWGAGALVGWTRSPLIAYYVVDSWGTARWTATYKGTVKSDGGTYDIYTTTRYNAPSIDGDRTTFTQPWSVRQSKRPTGSNATITFSNHVNAWKSHGMNLGSNWAYQVMATAGYQSSGSSNVTVW\n"
     ]
    },
    {
     "data": {
      "text/html": [],
      "text/plain": [
       "<IPython.core.display.HTML object>"
      ]
     },
     "metadata": {},
     "output_type": "display_data"
    },
    {
     "name": "stdout",
     "output_type": "stream",
     "text": [
      "Mutated: N 91 KD (uM): 8.022987117486942 Predictions: 0.9043360948562622 Mutated Sequence: MSTDYWLNFTDGGGIVNAVNGSGGNYSVNWSNTGSFVVGKGWTTGSPFRTINYNAGVWAPNGWGAGALVGWTRSPLIAYYVVDSWGTARWTNTYKGTVKSDGGTYDIYTTTRYNAPSIDGDRTTFTQPWSVRQSKRPTGSNATITFSNHVNAWKSHGMNLGSNWAYQVMATAGYQSSGSSNVTVW\n"
     ]
    },
    {
     "data": {
      "text/html": [],
      "text/plain": [
       "<IPython.core.display.HTML object>"
      ]
     },
     "metadata": {},
     "output_type": "display_data"
    },
    {
     "name": "stdout",
     "output_type": "stream",
     "text": [
      "Mutated: D 91 KD (uM): 8.16868541327451 Predictions: 0.9121521711349487 Mutated Sequence: MSTDYWLNFTDGGGIVNAVNGSGGNYSVNWSNTGSFVVGKGWTTGSPFRTINYNAGVWAPNGWGAGALVGWTRSPLIAYYVVDSWGTARWTDTYKGTVKSDGGTYDIYTTTRYNAPSIDGDRTTFTQPWSVRQSKRPTGSNATITFSNHVNAWKSHGMNLGSNWAYQVMATAGYQSSGSSNVTVW\n"
     ]
    },
    {
     "data": {
      "text/html": [],
      "text/plain": [
       "<IPython.core.display.HTML object>"
      ]
     },
     "metadata": {},
     "output_type": "display_data"
    },
    {
     "name": "stdout",
     "output_type": "stream",
     "text": [
      "Mutated: G 91 KD (uM): 7.702413674789202 Predictions: 0.8866268396377563 Mutated Sequence: MSTDYWLNFTDGGGIVNAVNGSGGNYSVNWSNTGSFVVGKGWTTGSPFRTINYNAGVWAPNGWGAGALVGWTRSPLIAYYVVDSWGTARWTGTYKGTVKSDGGTYDIYTTTRYNAPSIDGDRTTFTQPWSVRQSKRPTGSNATITFSNHVNAWKSHGMNLGSNWAYQVMATAGYQSSGSSNVTVW\n"
     ]
    },
    {
     "data": {
      "text/html": [],
      "text/plain": [
       "<IPython.core.display.HTML object>"
      ]
     },
     "metadata": {},
     "output_type": "display_data"
    },
    {
     "name": "stdout",
     "output_type": "stream",
     "text": [
      "Mutated: E 91 KD (uM): 7.81111997366274 Predictions: 0.8927133083343506 Mutated Sequence: MSTDYWLNFTDGGGIVNAVNGSGGNYSVNWSNTGSFVVGKGWTTGSPFRTINYNAGVWAPNGWGAGALVGWTRSPLIAYYVVDSWGTARWTETYKGTVKSDGGTYDIYTTTRYNAPSIDGDRTTFTQPWSVRQSKRPTGSNATITFSNHVNAWKSHGMNLGSNWAYQVMATAGYQSSGSSNVTVW\n"
     ]
    },
    {
     "data": {
      "text/html": [],
      "text/plain": [
       "<IPython.core.display.HTML object>"
      ]
     },
     "metadata": {},
     "output_type": "display_data"
    },
    {
     "name": "stdout",
     "output_type": "stream",
     "text": [
      "Mutated: Y 91 KD (uM): 7.554974721213289 Predictions: 0.878233015537262 Mutated Sequence: MSTDYWLNFTDGGGIVNAVNGSGGNYSVNWSNTGSFVVGKGWTTGSPFRTINYNAGVWAPNGWGAGALVGWTRSPLIAYYVVDSWGTARWTYTYKGTVKSDGGTYDIYTTTRYNAPSIDGDRTTFTQPWSVRQSKRPTGSNATITFSNHVNAWKSHGMNLGSNWAYQVMATAGYQSSGSSNVTVW\n"
     ]
    },
    {
     "data": {
      "text/html": [],
      "text/plain": [
       "<IPython.core.display.HTML object>"
      ]
     },
     "metadata": {},
     "output_type": "display_data"
    },
    {
     "name": "stdout",
     "output_type": "stream",
     "text": [
      "Mutated: T 91 KD (uM): 8.251523213954576 Predictions: 0.9165341258049011 Mutated Sequence: MSTDYWLNFTDGGGIVNAVNGSGGNYSVNWSNTGSFVVGKGWTTGSPFRTINYNAGVWAPNGWGAGALVGWTRSPLIAYYVVDSWGTARWTTTYKGTVKSDGGTYDIYTTTRYNAPSIDGDRTTFTQPWSVRQSKRPTGSNATITFSNHVNAWKSHGMNLGSNWAYQVMATAGYQSSGSSNVTVW\n"
     ]
    },
    {
     "data": {
      "text/html": [],
      "text/plain": [
       "<IPython.core.display.HTML object>"
      ]
     },
     "metadata": {},
     "output_type": "display_data"
    },
    {
     "name": "stdout",
     "output_type": "stream",
     "text": [
      "Mutated: S 91 KD (uM): 8.129935659893647 Predictions: 0.9100871086120605 Mutated Sequence: MSTDYWLNFTDGGGIVNAVNGSGGNYSVNWSNTGSFVVGKGWTTGSPFRTINYNAGVWAPNGWGAGALVGWTRSPLIAYYVVDSWGTARWTSTYKGTVKSDGGTYDIYTTTRYNAPSIDGDRTTFTQPWSVRQSKRPTGSNATITFSNHVNAWKSHGMNLGSNWAYQVMATAGYQSSGSSNVTVW\n"
     ]
    },
    {
     "data": {
      "text/html": [],
      "text/plain": [
       "<IPython.core.display.HTML object>"
      ]
     },
     "metadata": {},
     "output_type": "display_data"
    },
    {
     "name": "stdout",
     "output_type": "stream",
     "text": [
      "Mutated: H 91 KD (uM): 8.09916584244905 Predictions: 0.9084402918815613 Mutated Sequence: MSTDYWLNFTDGGGIVNAVNGSGGNYSVNWSNTGSFVVGKGWTTGSPFRTINYNAGVWAPNGWGAGALVGWTRSPLIAYYVVDSWGTARWTHTYKGTVKSDGGTYDIYTTTRYNAPSIDGDRTTFTQPWSVRQSKRPTGSNATITFSNHVNAWKSHGMNLGSNWAYQVMATAGYQSSGSSNVTVW\n"
     ]
    },
    {
     "data": {
      "text/html": [],
      "text/plain": [
       "<IPython.core.display.HTML object>"
      ]
     },
     "metadata": {},
     "output_type": "display_data"
    },
    {
     "name": "stdout",
     "output_type": "stream",
     "text": [
      "Mutated: R 91 KD (uM): 6.598103831758169 Predictions: 0.8194191455841064 Mutated Sequence: MSTDYWLNFTDGGGIVNAVNGSGGNYSVNWSNTGSFVVGKGWTTGSPFRTINYNAGVWAPNGWGAGALVGWTRSPLIAYYVVDSWGTARWTRTYKGTVKSDGGTYDIYTTTRYNAPSIDGDRTTFTQPWSVRQSKRPTGSNATITFSNHVNAWKSHGMNLGSNWAYQVMATAGYQSSGSSNVTVW\n"
     ]
    },
    {
     "data": {
      "text/html": [],
      "text/plain": [
       "<IPython.core.display.HTML object>"
      ]
     },
     "metadata": {},
     "output_type": "display_data"
    },
    {
     "name": "stdout",
     "output_type": "stream",
     "text": [
      "Mutated: Q 91 KD (uM): 7.5212355281715295 Predictions: 0.8762891888618469 Mutated Sequence: MSTDYWLNFTDGGGIVNAVNGSGGNYSVNWSNTGSFVVGKGWTTGSPFRTINYNAGVWAPNGWGAGALVGWTRSPLIAYYVVDSWGTARWTQTYKGTVKSDGGTYDIYTTTRYNAPSIDGDRTTFTQPWSVRQSKRPTGSNATITFSNHVNAWKSHGMNLGSNWAYQVMATAGYQSSGSSNVTVW\n"
     ]
    },
    {
     "data": {
      "text/html": [],
      "text/plain": [
       "<IPython.core.display.HTML object>"
      ]
     },
     "metadata": {},
     "output_type": "display_data"
    },
    {
     "name": "stdout",
     "output_type": "stream",
     "text": [
      "Mutated: F 91 KD (uM): 7.512987213859148 Predictions: 0.8758126497268677 Mutated Sequence: MSTDYWLNFTDGGGIVNAVNGSGGNYSVNWSNTGSFVVGKGWTTGSPFRTINYNAGVWAPNGWGAGALVGWTRSPLIAYYVVDSWGTARWTFTYKGTVKSDGGTYDIYTTTRYNAPSIDGDRTTFTQPWSVRQSKRPTGSNATITFSNHVNAWKSHGMNLGSNWAYQVMATAGYQSSGSSNVTVW\n"
     ]
    },
    {
     "data": {
      "text/html": [],
      "text/plain": [
       "<IPython.core.display.HTML object>"
      ]
     },
     "metadata": {},
     "output_type": "display_data"
    },
    {
     "name": "stdout",
     "output_type": "stream",
     "text": [
      "Mutated: C 91 KD (uM): 6.520247166340554 Predictions: 0.8142640590667725 Mutated Sequence: MSTDYWLNFTDGGGIVNAVNGSGGNYSVNWSNTGSFVVGKGWTTGSPFRTINYNAGVWAPNGWGAGALVGWTRSPLIAYYVVDSWGTARWTCTYKGTVKSDGGTYDIYTTTRYNAPSIDGDRTTFTQPWSVRQSKRPTGSNATITFSNHVNAWKSHGMNLGSNWAYQVMATAGYQSSGSSNVTVW\n"
     ]
    },
    {
     "data": {
      "text/html": [],
      "text/plain": [
       "<IPython.core.display.HTML object>"
      ]
     },
     "metadata": {},
     "output_type": "display_data"
    },
    {
     "name": "stdout",
     "output_type": "stream",
     "text": [
      "Mutated: V 91 KD (uM): 6.26413934726394 Predictions: 0.7968614101409912 Mutated Sequence: MSTDYWLNFTDGGGIVNAVNGSGGNYSVNWSNTGSFVVGKGWTTGSPFRTINYNAGVWAPNGWGAGALVGWTRSPLIAYYVVDSWGTARWTVTYKGTVKSDGGTYDIYTTTRYNAPSIDGDRTTFTQPWSVRQSKRPTGSNATITFSNHVNAWKSHGMNLGSNWAYQVMATAGYQSSGSSNVTVW\n"
     ]
    },
    {
     "data": {
      "text/html": [],
      "text/plain": [
       "<IPython.core.display.HTML object>"
      ]
     },
     "metadata": {},
     "output_type": "display_data"
    },
    {
     "name": "stdout",
     "output_type": "stream",
     "text": [
      "Mutated: I 91 KD (uM): 5.499098968605239 Predictions: 0.7402915358543396 Mutated Sequence: MSTDYWLNFTDGGGIVNAVNGSGGNYSVNWSNTGSFVVGKGWTTGSPFRTINYNAGVWAPNGWGAGALVGWTRSPLIAYYVVDSWGTARWTITYKGTVKSDGGTYDIYTTTRYNAPSIDGDRTTFTQPWSVRQSKRPTGSNATITFSNHVNAWKSHGMNLGSNWAYQVMATAGYQSSGSSNVTVW\n"
     ]
    },
    {
     "data": {
      "text/html": [],
      "text/plain": [
       "<IPython.core.display.HTML object>"
      ]
     },
     "metadata": {},
     "output_type": "display_data"
    },
    {
     "name": "stdout",
     "output_type": "stream",
     "text": [
      "Mutated: W 91 KD (uM): 7.886936475089294 Predictions: 0.8969083428382874 Mutated Sequence: MSTDYWLNFTDGGGIVNAVNGSGGNYSVNWSNTGSFVVGKGWTTGSPFRTINYNAGVWAPNGWGAGALVGWTRSPLIAYYVVDSWGTARWTWTYKGTVKSDGGTYDIYTTTRYNAPSIDGDRTTFTQPWSVRQSKRPTGSNATITFSNHVNAWKSHGMNLGSNWAYQVMATAGYQSSGSSNVTVW\n"
     ]
    },
    {
     "data": {
      "text/html": [],
      "text/plain": [
       "<IPython.core.display.HTML object>"
      ]
     },
     "metadata": {},
     "output_type": "display_data"
    },
    {
     "name": "stdout",
     "output_type": "stream",
     "text": [
      "Mutated: M 91 KD (uM): 7.374987930618117 Predictions: 0.8677613139152527 Mutated Sequence: MSTDYWLNFTDGGGIVNAVNGSGGNYSVNWSNTGSFVVGKGWTTGSPFRTINYNAGVWAPNGWGAGALVGWTRSPLIAYYVVDSWGTARWTMTYKGTVKSDGGTYDIYTTTRYNAPSIDGDRTTFTQPWSVRQSKRPTGSNATITFSNHVNAWKSHGMNLGSNWAYQVMATAGYQSSGSSNVTVW\n"
     ]
    },
    {
     "data": {
      "text/html": [],
      "text/plain": [
       "<IPython.core.display.HTML object>"
      ]
     },
     "metadata": {},
     "output_type": "display_data"
    },
    {
     "name": "stdout",
     "output_type": "stream",
     "text": [
      "Mutated: D 90 KD (uM): 6.995803557262878 Predictions: 0.8448376059532166 Mutated Sequence: MSTDYWLNFTDGGGIVNAVNGSGGNYSVNWSNTGSFVVGKGWTTGSPFRTINYNAGVWAPNGWGAGALVGWTRSPLIAYYVVDSWGTARWDGTYKGTVKSDGGTYDIYTTTRYNAPSIDGDRTTFTQPWSVRQSKRPTGSNATITFSNHVNAWKSHGMNLGSNWAYQVMATAGYQSSGSSNVTVW\n"
     ]
    },
    {
     "data": {
      "text/html": [],
      "text/plain": [
       "<IPython.core.display.HTML object>"
      ]
     },
     "metadata": {},
     "output_type": "display_data"
    },
    {
     "name": "stdout",
     "output_type": "stream",
     "text": [
      "Mutated: E 90 KD (uM): 3.4722084005170397 Predictions: 0.5406057834625244 Mutated Sequence: MSTDYWLNFTDGGGIVNAVNGSGGNYSVNWSNTGSFVVGKGWTTGSPFRTINYNAGVWAPNGWGAGALVGWTRSPLIAYYVVDSWGTARWEGTYKGTVKSDGGTYDIYTTTRYNAPSIDGDRTTFTQPWSVRQSKRPTGSNATITFSNHVNAWKSHGMNLGSNWAYQVMATAGYQSSGSSNVTVW\n"
     ]
    },
    {
     "data": {
      "text/html": [],
      "text/plain": [
       "<IPython.core.display.HTML object>"
      ]
     },
     "metadata": {},
     "output_type": "display_data"
    },
    {
     "name": "stdout",
     "output_type": "stream",
     "text": [
      "Mutated: K 91 KD (uM): 8.057241887379334 Predictions: 0.9061864018440247 Mutated Sequence: MSTDYWLNFTDGGGIVNAVNGSGGNYSVNWSNTGSFVVGKGWTTGSPFRTINYNAGVWAPNGWGAGALVGWTRSPLIAYYVVDSWGTARWTKTYKGTVKSDGGTYDIYTTTRYNAPSIDGDRTTFTQPWSVRQSKRPTGSNATITFSNHVNAWKSHGMNLGSNWAYQVMATAGYQSSGSSNVTVW\n"
     ]
    },
    {
     "data": {
      "text/html": [],
      "text/plain": [
       "<IPython.core.display.HTML object>"
      ]
     },
     "metadata": {},
     "output_type": "display_data"
    },
    {
     "name": "stdout",
     "output_type": "stream",
     "text": [
      "Mutated: P 90 KD (uM): 3.035463400763146 Predictions: 0.4822250008583069 Mutated Sequence: MSTDYWLNFTDGGGIVNAVNGSGGNYSVNWSNTGSFVVGKGWTTGSPFRTINYNAGVWAPNGWGAGALVGWTRSPLIAYYVVDSWGTARWPGTYKGTVKSDGGTYDIYTTTRYNAPSIDGDRTTFTQPWSVRQSKRPTGSNATITFSNHVNAWKSHGMNLGSNWAYQVMATAGYQSSGSSNVTVW\n"
     ]
    },
    {
     "data": {
      "text/html": [],
      "text/plain": [
       "<IPython.core.display.HTML object>"
      ]
     },
     "metadata": {},
     "output_type": "display_data"
    },
    {
     "name": "stdout",
     "output_type": "stream",
     "text": [
      "Mutated: S 173 KD (uM): 6.921178330910077 Predictions: 0.8401800394058228 Mutated Sequence: MSTDYWLNFTDGGGIVNAVNGSGGNYSVNWSNTGSFVVGKGWTTGSPFRTINYNAGVWAPNGWGAGALVGWTRSPLIAYYVVDSWGTARWTGTYKGTVKSDGGTYDIYTTTRYNAPSIDGDRTTFTQPWSVRQSKRPTGSNATITFSNHVNAWKSHGMNLGSNWAYQVMATAGSQSSGSSNVTVW\n"
     ]
    },
    {
     "data": {
      "text/html": [],
      "text/plain": [
       "<IPython.core.display.HTML object>"
      ]
     },
     "metadata": {},
     "output_type": "display_data"
    },
    {
     "name": "stdout",
     "output_type": "stream",
     "text": [
      "Mutated: T 173 KD (uM): 7.033314559548536 Predictions: 0.8471600413322449 Mutated Sequence: MSTDYWLNFTDGGGIVNAVNGSGGNYSVNWSNTGSFVVGKGWTTGSPFRTINYNAGVWAPNGWGAGALVGWTRSPLIAYYVVDSWGTARWTGTYKGTVKSDGGTYDIYTTTRYNAPSIDGDRTTFTQPWSVRQSKRPTGSNATITFSNHVNAWKSHGMNLGSNWAYQVMATAGTQSSGSSNVTVW\n",
      "******** Mutation accepted! ********\n",
      "Mutate site 91: T\n",
      "\n",
      "Done with BO loops! Evaluating final sequence...\n"
     ]
    },
    {
     "data": {
      "text/html": [],
      "text/plain": [
       "<IPython.core.display.HTML object>"
      ]
     },
     "metadata": {},
     "output_type": "display_data"
    },
    {
     "name": "stdout",
     "output_type": "stream",
     "text": [
      "Final score =  0.9165341258049011\n"
     ]
    }
   ],
   "source": [
    "def additive_BO(axclient, fasta_init, target_smiles=\"CCC(=O)N(C1CCN(CC1)CCC2=CC=CC=C2)C3=CC=CC=C3\", predictor_obj=predictor, max_mutations=3, max_bo_steps=100, max_bo_loops=10,early_break=True):\n",
    "\n",
    "    # get binding affinity of starting protein\n",
    "    initial_score = evaluate_protein_BA(fasta_init, target_smiles, predictor_obj)\n",
    "    print(\"Initial score = \", initial_score)\n",
    "\n",
    "    print(\"Starting BO loop:\")\n",
    "\n",
    "    # initialise variables for BO search\n",
    "    nmutations = 0\n",
    "    ntries = 0\n",
    "\n",
    "    ref_fasta = fasta_init[:]\n",
    "    ref_score = initial_score\n",
    "    accepted_mutations = {'position':[], \"mutation\": [], 'scores':[]}\n",
    "\n",
    "    # prepare to save output from each BO iteration if early_break=False (see below for explanation of `early_break`)\n",
    "    if not early_break:\n",
    "      mutations = np.zeros((max_mutations, max_bo_steps), dtype='str')\n",
    "      positions = np.zeros((max_mutations, max_bo_steps), dtype='int')\n",
    "      scores = np.zeros((max_mutations, max_bo_steps), dtype='float')\n",
    "\n",
    "    # BO search loop starts here\n",
    "    while nmutations < max_mutations and ntries < max_bo_loops:\n",
    "      print(f'~~~~~ Starting BO loop nb {ntries+1} ~~~~~')\n",
    "      for i in range(max_bo_steps):\n",
    "        new_params, itrial = axclient.get_next_trial() #get new mutation\n",
    "        new_score = evaluate_mutation_BA(new_params,ref_fasta,target_smiles,predictor_obj) #evaluate new mutation\n",
    "        axclient.complete_trial(itrial, raw_data=new_score) #update model\n",
    "\n",
    "        position = int(new_params[\"position\"])\n",
    "        mutation = new_params[\"mutation\"]\n",
    "\n",
    "        if new_score > ref_score and early_break:\n",
    "          # `early_break=True` interrupts the BO search as soon as a better candidate is found\n",
    "          # if we have something better than the initial protein, interrupt BO, and save changes\n",
    "          print(f'******** Mutation accepted! ********')\n",
    "          new_fasta = list(ref_fasta[:])\n",
    "          new_fasta[position] = mutation\n",
    "          ref_fasta = ''.join(new_fasta)\n",
    "          nmutations += 1\n",
    "          accepted_mutations['position'].append(position)\n",
    "          accepted_mutations['mutation'].append(mutation)\n",
    "          break\n",
    "\n",
    "        if not early_break:\n",
    "          # if all BO trials are to be run, save output from each trial\n",
    "          positions[nmutations,i] = position\n",
    "          mutations[nmutations,i] = mutation\n",
    "          scores[nmutations,i] = new_score\n",
    "\n",
    "\n",
    "      if not early_break:\n",
    "        # find the best scoring mutation: if better than current FASTA, save changes\n",
    "        ibest = np.argmax(scores[ntries,:])\n",
    "        best_score = scores[nmutations,ibest]\n",
    "        if best_score > ref_score:\n",
    "          print(f'******** Mutation accepted! ********')\n",
    "          best_pos = positions[nmutations,ibest]\n",
    "          best_mut = mutations[nmutations,ibest]\n",
    "          print(f\"Mutate site {best_pos}: {best_mut}\")\n",
    "          new_fasta = list(ref_fasta[:])\n",
    "          new_fasta[best_pos] = best_mut\n",
    "          ref_fasta = ''.join(new_fasta)\n",
    "          nmutations += 1\n",
    "          accepted_mutations['position'].append(position)\n",
    "          accepted_mutations['mutation'].append(mutation)\n",
    "\n",
    "      ntries += 1\n",
    "\n",
    "    # do final scoring\n",
    "    print(\"\\nDone with BO loops! Evaluating final sequence...\")\n",
    "    final_score = evaluate_protein_BA(ref_fasta, target_smiles, predictor_obj)\n",
    "    print(\"Final score = \", final_score)\n",
    "\n",
    "    # output results; if early_break=False, also return each BO trial's binding score\n",
    "    if early_break:\n",
    "      return ref_fasta, final_score, accepted_mutations\n",
    "    else:\n",
    "      return ref_fasta, final_score, accepted_mutations, scores\n",
    "\n",
    "\n",
    "\n",
    "\n",
    "# set up BO run\n",
    "axclient = AxClient(verbose_logging=False)\n",
    "\n",
    "axclient.create_experiment(\n",
    "    name = \"5TZO binding affinity\",\n",
    "    parameters = axbo_params,\n",
    "    objectives = {\"neg pKD\": ObjectiveProperties(minimize=False)}\n",
    ")\n",
    "\n",
    "# run the BO\n",
    "final_fasta, final_score, mutations, scores = additive_BO(axclient,fasta_str_f,smiles_fentanyl, early_break=False,max_bo_steps=100)\n"
   ]
  },
  {
   "cell_type": "code",
   "execution_count": 50,
   "metadata": {
    "tags": []
   },
   "outputs": [
    {
     "data": {
      "image/png": "[encoded data removed]",
      "text/plain": [
       "<Figure size 640x480 with 1 Axes>"
      ]
     },
     "metadata": {},
     "output_type": "display_data"
    }
   ],
   "source": [
    "import copy\n",
    "finfast = copy.deepcopy(final_fasta)\n",
    "finsc = copy.deepcopy(final_score)\n",
    "finmut = copy.deepcopy(mutations)\n",
    "finscores = copy.deepcopy(scores)\n",
    "import matplotlib.pyplot as plt\n",
    "import pandas as pd\n",
    "nchanges = [i+1 for i in range(len(finscores))]\n",
    "avgsc=[]\n",
    "stdsc = []\n",
    "for nchange in scores:\n",
    "    nonzeron = [1 if x!=0 else 0 for x in nchange]\n",
    "    avgsc.append(sum(nchange)/sum(nonzeron))\n",
    "    stdsc.append(pd.Series(nchange).std())\n",
    "    \n",
    "\n",
    "\n",
    "plt.errorbar(nchanges, avgsc, yerr=stdsc, fmt='o', color='red', ecolor='red', elinewidth=1, capsize=0)\n",
    "plt.xlabel('Number changed residues')\n",
    "plt.ylabel('-pK$_D$')\n",
    "#plt.xlim(0,11)\n",
    "plt.title(r'pK$_D$ vs number of residues changed by multi-optimizing BO')\n",
    "plt.grid(True)"
   ]
  },
  {
   "cell_type": "code",
   "execution_count": 62,
   "metadata": {
    "tags": []
   },
   "outputs": [
    {
     "data": {
      "image/png": "[encoded data removed]",
      "text/plain": [
       "<Figure size 640x480 with 1 Axes>"
      ]
     },
     "metadata": {},
     "output_type": "display_data"
    }
   ],
   "source": [
    "import numpy as np\n",
    "import pandas as pd\n",
    "import matplotlib.pyplot as plt\n",
    "def moving_average_std(data, window_size=5):\n",
    "    \"\"\"\n",
    "    Calculate the moving average standard deviation of a time series data.\n",
    "    \n",
    "    Parameters:\n",
    "        data (array-like): Time series data.\n",
    "        window_size (int): Size of the moving window.\n",
    "        \n",
    "    Returns:\n",
    "        pandas.Series: Average standard deviation as a function of time.\n",
    "    \"\"\"\n",
    "    rolling_std = pd.Series(data).rolling(window=window_size, min_periods=1).std()\n",
    "    return rolling_std\n",
    "\n",
    "def lighten_color(color, amount=0.5):\n",
    "    \"\"\"\n",
    "    Lightens the given color by multiplying (1-luminosity) by the given amount.\n",
    "    Input can be matplotlib color string, hex string, or RGB tuple.\n",
    "\n",
    "    Examples:\n",
    "    >> lighten_color('g', 0.3)\n",
    "    >> lighten_color('#F034A3', 0.6)\n",
    "    >> lighten_color((.3,.55,.1), 0.5)\n",
    "    \"\"\"\n",
    "    import matplotlib.colors as mc\n",
    "    import colorsys\n",
    "    try:\n",
    "        c = mc.cnames[color]\n",
    "    except:\n",
    "        c = color\n",
    "    c = colorsys.rgb_to_hls(*mc.to_rgb(c))\n",
    "    return colorsys.hls_to_rgb(c[0], 1 - amount * (1 - c[1]), c[2])\n",
    "\n",
    "BO_vs_iter = [trial.objective_mean for trial in experiment.trials.values()]\n",
    "avg_std = moving_average_std(BO_vs_iter, 5)\n",
    "avg_stdRand = moving_average_std(rand_objectives, 5)\n",
    "gascoresstd = moving_average_std(gascores,5)\n",
    "\n",
    "plt.plot(BO_vs_iter, color='blue', label=r'BO score (-pK$_D$)')\n",
    "#plt.plot(avg_std, color='blue', label='BO $\\sigma$(pK$_D$)')\n",
    "plt.fill_between(avg_std.index, BO_vs_iter - avg_std.std(), BO_vs_iter + avg_std.std(), color='lightblue', alpha=0.6,)\n",
    "\n",
    "plt.plot(rand_objectives,color='red',label=r\"Random point mutation (-pK$_D$)\")\n",
    "#plt.plot(avg_stdRand, color='red', label='random point mutation $\\sigma$(pK$_D$)')\n",
    "plt.fill_between(avg_std.index, rand_objectives - avg_stdRand.std(), rand_objectives + avg_stdRand.std(), color='red', alpha=0.3, )\n",
    "\n",
    "\n",
    "avg_std = moving_average_std(gascores, 5)\n",
    "gascoresstd = moving_average_std(gascores,5)\n",
    "plt.plot(gascores,color='orange',label=r\"multi-residue GA (-pK$_D$)\")\n",
    "plt.fill_between(avg_std.index, gascores - gascoresstd.std(), gascores + gascoresstd.std(), color='orange', alpha=0.3, )\n",
    "\n",
    "for i in range(3):\n",
    "    additiveBOscores = scores[i]\n",
    "    additiveBOSTD = moving_average_std(additiveBOscores,5)\n",
    "    plt.plot(additiveBOscores,color=lighten_color('green', 0.4*(i+1)),label=str(i)+r\"-residue BO (-pK$_D$)\")\n",
    "    plt.fill_between(avg_std.index, additiveBOscores - additiveBOSTD.std(), additiveBOscores + additiveBOSTD.std(), color='green', alpha=0.3*(i+1), )\n",
    "\n",
    "#plt.ylim(0)\n",
    "plt.xlabel('Iteration')\n",
    "plt.ylabel(r'-(pK$_D$)')\n",
    "plt.title('')\n",
    "plt.legend(bbox_to_anchor=(1.02, 1.0))\n",
    "plt.grid(True)\n",
    "plt.show()"
   ]
  },
  {
   "cell_type": "code",
   "execution_count": null,
   "metadata": {},
   "outputs": [],
   "source": []
  }
 ],
 "metadata": {
  "accelerator": "GPU",
  "colab": {
   "gpuType": "T4",
   "include_colab_link": true,
   "provenance": []
  },
  "kernelspec": {
   "display_name": "diffusers",
   "language": "python",
   "name": "diffusers"
  },
  "language_info": {
   "codemirror_mode": {
    "name": "ipython",
    "version": 3
   },
   "file_extension": ".py",
   "mimetype": "text/x-python",
   "name": "python",
   "nbconvert_exporter": "python",
   "pygments_lexer": "ipython3",
   "version": "3.8.10"
  }
 },
 "nbformat": 4,
 "nbformat_minor": 4
}
